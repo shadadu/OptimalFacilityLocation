{
 "cells": [
  {
   "cell_type": "code",
   "execution_count": 1,
   "id": "a38cbd77-32fe-4c7b-b78b-479a8b334674",
   "metadata": {},
   "outputs": [],
   "source": [
    "import streamlit as st\n",
    "import duckdb\n",
    "import requests\n",
    "import osmnx as ox\n",
    "import numpy as np\n",
    "import pandas as pd\n",
    "from shapely.geometry import Point\n",
    "from sklearn.linear_model import LinearRegression\n",
    "import statsmodels.api as sm\n",
    "from geopy.geocoders import Nominatim\n",
    "import altair as alt\n",
    "from shapely.geometry import Point\n",
    "import geopandas as gpd\n",
    "from math import radians, cos, sin, asin, sqrt\n",
    "import ee\n",
    "import time, requests\n",
    "import os\n",
    "from io import BytesIO\n",
    "import zipfile\n",
    "import tempfile"
   ]
  },
  {
   "cell_type": "code",
   "execution_count": 2,
   "id": "81ffb52a-38ed-4c6f-af27-c8bfa7dd6e07",
   "metadata": {},
   "outputs": [],
   "source": [
    "ee.Authenticate()\n",
    "ee.Initialize(project='ee-shaddie77')\n",
    "\n",
    "CENSUS_API_KEY = st.secrets.get(\"CENSUS_API_KEY\", \"\")  # set via Streamlit secrets or replace string\n",
    "HUGGINGFACE_DATASET = \"foursquare/fsq-os-places\"\n",
    "HF_PARQUET_API = f\"https://datasets-server.huggingface.co/parquet?dataset={HUGGINGFACE_DATASET}\""
   ]
  },
  {
   "cell_type": "code",
   "execution_count": 3,
   "id": "5df53485-1b50-4b03-b411-171123fb9d9b",
   "metadata": {},
   "outputs": [],
   "source": [
    "# ------------------------\n",
    "# PARAMETERS\n",
    "# ------------------------\n",
    "radius_m = 100       # Neighborhood radius\n",
    "cr = 50              # Subcircle radius\n",
    "radius_c = 50        # Candidate facility radius (for city split)\n",
    "city_name = \"New York, NY\"\n",
    "\n",
    "\n",
    "# --- Parameters\n",
    "location_name = \"Times Square, New York, NY\"\n",
    "# location_name = \"New York, NY\"\n",
    "# --- Geocode location\n",
    "lat, lon = ox.geocoder.geocode(city_name)"
   ]
  },
  {
   "cell_type": "code",
   "execution_count": 4,
   "id": "d00d1fc8-34da-46cd-bdf0-8c16a0afaadb",
   "metadata": {},
   "outputs": [],
   "source": [
    "def generate_city_candidate_locations(location_name, radius_c):\n",
    "    # Use OSMnx to get city polygon\n",
    "    print(f'Generating candidate locations ...')\n",
    "    gdf = ox.geocode_to_gdf(location_name)\n",
    "    city_poly = gdf.geometry.iloc[0]\n",
    "    bounds = city_poly.bounds\n",
    "\n",
    "    step = radius_c * 1.5\n",
    "    deg_step = step / 111_320\n",
    "    print(f'size of generate city loop: {len(np.arange(bounds[1], bounds[3], deg_step))}')\n",
    "    candidates = []\n",
    "    count = 0\n",
    "    for lat in np.arange(bounds[1], bounds[3], deg_step):\n",
    "        for lon in np.arange(bounds[0], bounds[2], deg_step):\n",
    "            p = Point(lon, lat)\n",
    "            if city_poly.contains(p):\n",
    "                candidates.append((lat, lon))\n",
    "        # print(f'current count of generate city loop: {count}')\n",
    "        count += 1\n",
    "    return candidates[0:99]"
   ]
  },
  {
   "cell_type": "code",
   "execution_count": 5,
   "id": "d95d9800-01d3-48ee-abc5-e1d0f284b589",
   "metadata": {},
   "outputs": [],
   "source": [
    "# Placeholder for median income retrieval\n",
    "def get_median_income_by_point(lat, lon, radius):\n",
    "    # TODO: Replace with buffered multi-tract ACS query\n",
    "    print(f'Getting media_income ...')\n",
    "    \"\"\"Use FCC API to find block FIPS then Census ACS to fetch B19013_001E (median household income).\"\"\"\n",
    "    if not CENSUS_API_KEY:\n",
    "        raise RuntimeError(\"CENSUS_API_KEY is not set. Put your key in Streamlit secrets or set variable.\")\n",
    "    # FCC to get block FIPS\n",
    "    j = get_fips_from_coords(lat, lon, retries=3, wait=5)\n",
    "    block_fips = j.get(\"Block\", {}).get(\"FIPS\")\n",
    "    if not block_fips:\n",
    "        return None\n",
    "    state_fips = block_fips[0:2]\n",
    "    county_fips = block_fips[2:5]\n",
    "    tract_fips = block_fips[5:11]\n",
    "\n",
    "    headers = {\n",
    "        \"X-API-Key\": CENSUS_API_KEY\n",
    "    }\n",
    "\n",
    "    acs_url = (\n",
    "        \"https://api.census.gov/data/2022/acs/acs5\"\n",
    "        f\"?get=B19013_001E&for=tract:{tract_fips}&in=state:{state_fips}%20county:{county_fips}&key={CENSUS_API_KEY}\"\n",
    "    )\n",
    "    r2 = requests.get(acs_url, headers=headers, timeout=50)\n",
    "    r2.raise_for_status()\n",
    "    arr = r2.json()\n",
    "    if len(arr) < 2:\n",
    "        return None\n",
    "    val = arr[1][0]\n",
    "    try:\n",
    "        return float(val) if val not in (None, \"\", \"null\") else None\n",
    "    except Exception:\n",
    "        return None\n"
   ]
  },
  {
   "cell_type": "code",
   "execution_count": 6,
   "id": "dbf9d66e-45fe-4e3e-9b20-ecb9a79a50b4",
   "metadata": {},
   "outputs": [
    {
     "name": "stdout",
     "output_type": "stream",
     "text": [
      "Generating candidate locations ...\n",
      "size of generate city loop: 655\n",
      "size of candidates 99\n",
      "element of candidates (40.477251733381244, -74.22717753108134)\n"
     ]
    }
   ],
   "source": [
    "candidates = generate_city_candidate_locations(city_name, radius_c)\n",
    "print(f'size of candidates {len(candidates)}')\n",
    "print(f'element of candidates {candidates[0]}')"
   ]
  },
  {
   "cell_type": "code",
   "execution_count": 7,
   "id": "39f3e3d9-d882-4b67-be64-d794c45784d1",
   "metadata": {},
   "outputs": [],
   "source": [
    "def generate_circle_points(center_lat, center_lon, big_radius, N=10):\n",
    "    \"\"\"\n",
    "    Generates subcircle centers within big circle.\n",
    "    small_radius is chosen so that the number of subcircles <= N.\n",
    "    \"\"\"\n",
    "    print(f'Generating circle points with max {N} subcircles')\n",
    "\n",
    "    def count_points_for_radius(small_radius):\n",
    "        step = small_radius * 1.5\n",
    "        deg_step = step / 111_320\n",
    "        count = 0\n",
    "        for lat in np.arange(center_lat - big_radius/111_320,\n",
    "                             center_lat + big_radius/111_320, deg_step):\n",
    "            for lon in np.arange(center_lon - big_radius/111_320,\n",
    "                                 center_lon + big_radius/111_320, deg_step):\n",
    "                if haversine(center_lon, center_lat, lon, lat) <= big_radius:\n",
    "                    count += 1\n",
    "        return count\n",
    "\n",
    "    # Binary search for the largest small_radius that satisfies count <= N\n",
    "    low, high = 1.0, big_radius  # meters\n",
    "    best_radius = low\n",
    "    for _ in range(30):  # enough iterations for sub-meter precision\n",
    "        mid = (low + high) / 2\n",
    "        if count_points_for_radius(mid) <= N:\n",
    "            best_radius = mid\n",
    "            low = mid\n",
    "        else:\n",
    "            high = mid\n",
    "    low = 50\n",
    "    best_radius = 50\n",
    "    print(f'low, high {low}, {high}')\n",
    "\n",
    "    # Now generate the actual points with the chosen radius\n",
    "    step = best_radius * 1.5\n",
    "    deg_step = step / 111_320\n",
    "    points = []\n",
    "    print(f'looper {len(np.arange(center_lat - big_radius/111_320, center_lat + big_radius/111_320, deg_step) )}')\n",
    "    for lat in np.arange(center_lat - big_radius/111_320,\n",
    "                         center_lat + big_radius/111_320, deg_step):\n",
    "        print(f'looper 2 {len(np.arange(center_lon - big_radius/111_320, center_lon + big_radius/111_320, deg_step))}')\n",
    "        for lon in np.arange(center_lon - big_radius/111_320,\n",
    "                             center_lon + big_radius/111_320, deg_step):\n",
    "            # print(f'haversine condition {haversine(center_lat, center_lon, lat, lon)} {big_radius}')\n",
    "            if haversine(center_lat, center_lon, lat, lon) <= big_radius:\n",
    "                print(f'haversine condition {haversine(center_lat, center_lon, lat, lon)} {big_radius}')\n",
    "                points.append((lat, lon))\n",
    "\n",
    "    print(f\"Chosen small_radius: {best_radius:.2f} m, generated {len(points)} subcircles\")\n",
    "    return points[0:99] # , best_radius"
   ]
  },
  {
   "cell_type": "code",
   "execution_count": 8,
   "id": "368a40f5-7217-4b63-a50a-0b78ab13c788",
   "metadata": {},
   "outputs": [],
   "source": [
    "def haversine(lon1, lat1, lon2, lat2):\n",
    "    # Distance in meters\n",
    "    # print(f'Computing haversine ...')\n",
    "    R = 6371000\n",
    "    lon1, lat1, lon2, lat2 = map(radians, [lon1, lat1, lon2, lat2])\n",
    "    dlon, dlat = lon2 - lon1, lat2 - lat1\n",
    "    a = sin(dlat/2)**2 + cos(lat1)*cos(lat2)*sin(dlon/2)**2\n",
    "    return R * 2 * asin(sqrt(a))"
   ]
  },
  {
   "cell_type": "code",
   "execution_count": 9,
   "id": "605558d1-7aa5-4479-ae10-f360003a47bd",
   "metadata": {},
   "outputs": [],
   "source": [
    "# def get_osm_poi_density(lat, lon, radius):\n",
    "#     print(f'Getting poi density')\n",
    "#     tags = {\"amenity\": True}\n",
    "#     pois = ox.features_from_point((lat, lon), tags=tags, dist=radius)\n",
    "#     return len(pois)"
   ]
  },
  {
   "cell_type": "code",
   "execution_count": 10,
   "id": "c1d09b8a-20fa-4d67-86e7-46e9bad9b588",
   "metadata": {},
   "outputs": [],
   "source": [
    "# import osmnx as ox\n",
    "# from osmnx._errors import InsufficientResponseError\n",
    "\n",
    "# def get_osm_poi_density(lat, lon, radius, max_expand=5, expand_factor=2):\n",
    "#     \"\"\"\n",
    "#     Get POI density around (lat, lon). If none are found, expand the radius\n",
    "#     up to max_expand times until results are found.\n",
    "    \n",
    "#     Parameters\n",
    "#     ----------\n",
    "#     lat, lon : float\n",
    "#         Center point coordinates\n",
    "#     radius : float\n",
    "#         Search radius in meters\n",
    "#     max_expand : int\n",
    "#         Number of times to expand search if no results\n",
    "#     expand_factor : float\n",
    "#         Factor by which to expand the radius each retry\n",
    "    \n",
    "#     Returns\n",
    "#     -------\n",
    "#     int : count of POIs\n",
    "#     \"\"\"\n",
    "#     print(f\"Getting POI density at ({lat}, {lon}), radius={radius}m\")\n",
    "\n",
    "#     tags = {\"amenity\": True}\n",
    "#     attempt_radius = radius\n",
    "\n",
    "#     for attempt in range(max_expand + 1):\n",
    "#         try:\n",
    "#             pois = ox.features_from_point((lat, lon), tags=tags, dist=attempt_radius)\n",
    "#             if pois is not None and len(pois) > 0:\n",
    "#                 return len(pois)\n",
    "#             else:\n",
    "#                 print(f\"No POIs found at radius {attempt_radius}m, expanding search...\")\n",
    "#         except InsufficientResponseError:\n",
    "#             print(f\"OSM insufficient response at radius {attempt_radius}m, expanding search...\")\n",
    "\n",
    "#         # Expand radius and retry\n",
    "#         attempt_radius *= expand_factor\n",
    "\n",
    "#     # If nothing found after all expansions\n",
    "#     print(f\"No POIs found after expanding search up to {attempt_radius}m.\")\n",
    "#     return 0\n"
   ]
  },
  {
   "cell_type": "code",
   "execution_count": 11,
   "id": "f855d52e-9894-41bc-8f31-7a8be07b697f",
   "metadata": {},
   "outputs": [],
   "source": [
    "# def get_population_density_gee(lat, lon, radius_m):\n",
    "\n",
    "#     print(f'Getting population density gee')\n",
    "#     dataset = ee.ImageCollection(\"WorldPop/GP/100m/pop\") \\\n",
    "#         .filter(ee.Filter.date('2020-01-01', '2020-12-31')) \\\n",
    "#         .first()\n",
    "#     point = ee.Geometry.Point(lon, lat)\n",
    "#     region = point.buffer(radius_m).bounds()\n",
    "#     stats = dataset.reduceRegion(\n",
    "#         reducer=ee.Reducer.mean(),\n",
    "#         geometry=region,\n",
    "#         scale=100,\n",
    "#         maxPixels=1e9\n",
    "#     )\n",
    "#     ans = stats.getInfo().get('population', 0)\n",
    "#     return 0 if ans == None else 0"
   ]
  },
  {
   "cell_type": "code",
   "execution_count": 12,
   "id": "0f0cbd3c-f28b-4979-b499-24275fe6932f",
   "metadata": {},
   "outputs": [],
   "source": [
    "def get_fsq_count(lat, lon, r):\n",
    "    print(f'Getting Four Square Count')\n",
    "    api_url = \"https://datasets-server.huggingface.co/parquet?dataset=foursquare/fsq-os-places\"\n",
    "    j = requests.get(api_url).json()\n",
    "    parquet_urls = [f['url'] for f in j.get('parquet_files', []) if f['split'] == 'train']\n",
    "    if not parquet_urls:\n",
    "        return 0\n",
    "    url = parquet_urls[0]\n",
    "\n",
    "    con = duckdb.connect()\n",
    "    con.execute(\"INSTALL httpfs;\")\n",
    "    con.execute(\"LOAD httpfs;\")\n",
    "\n",
    "    deg = r / 111_320\n",
    "    min_lat, max_lat = lat - deg, lat + deg\n",
    "    min_lon, max_lon = lon - deg, lon + deg\n",
    "\n",
    "    query = f\"\"\"\n",
    "    SELECT COUNT(*) as count\n",
    "    FROM '{url}'\n",
    "    WHERE latitude BETWEEN {min_lat} AND {max_lat}\n",
    "      AND longitude BETWEEN {min_lon} AND {max_lon}\n",
    "    \"\"\"\n",
    "    res = con.execute(query).df()\n",
    "    return int(res['count'][0]) if res.shape[0] else 0\n"
   ]
  },
  {
   "cell_type": "code",
   "execution_count": 13,
   "id": "4b8b6702-5630-4001-bca9-9c6f919e3a46",
   "metadata": {},
   "outputs": [],
   "source": [
    "import osmnx as ox\n",
    "import ee\n",
    "from geopy.geocoders import Nominatim\n",
    "\n",
    "# ee.Initialize()\n",
    "\n",
    "# ----------------------------\n",
    "# Helper: get nearest town/city center\n",
    "# ----------------------------\n",
    "def get_nearest_place_coords(lat, lon):\n",
    "    \"\"\"\n",
    "    Returns (lat, lon) of nearest city/town/village center to the input coordinates.\n",
    "    Uses Nominatim reverse + forward geocoding.\n",
    "    \"\"\"\n",
    "    geolocator = Nominatim(user_agent=\"geo-fallback-app\")\n",
    "\n",
    "    try:\n",
    "        location = geolocator.reverse((lat, lon), exactly_one=True)\n",
    "        if location and \"address\" in location.raw:\n",
    "            addr = location.raw[\"address\"]\n",
    "            place = addr.get(\"city\") or addr.get(\"town\") or addr.get(\"village\")\n",
    "            if place:\n",
    "                place_loc = geolocator.geocode(place)\n",
    "                if place_loc:\n",
    "                    return (place_loc.latitude, place_loc.longitude)\n",
    "    except Exception as e:\n",
    "        print(f\"Geocoding fallback failed: {e}\")\n",
    "\n",
    "    return None\n",
    "\n",
    "\n",
    "# ----------------------------\n",
    "# POI Density (with fallback)\n",
    "# ----------------------------\n",
    "def get_osm_poi_density(lat, lon, radius, max_expand=3, expand_factor=2):\n",
    "    \"\"\"\n",
    "    Get POI density from OSM.\n",
    "    Expands radius if no POIs found, and falls back to nearest\n",
    "    town/city center if still empty.\n",
    "    \"\"\"\n",
    "    print(f\"Getting POI density at ({lat}, {lon}), radius={radius}m\")\n",
    "\n",
    "    attempt_radius = radius\n",
    "    tags = {\"amenity\": True}\n",
    "\n",
    "    # Try with expanding radius\n",
    "    for attempt in range(max_expand + 1):\n",
    "        try:\n",
    "            pois = ox.features_from_point((lat, lon), tags=tags, dist=attempt_radius)\n",
    "            if len(pois) > 0:\n",
    "                print(f'Found osm_pois {len(pois)}')\n",
    "                return len(pois)\n",
    "            else:\n",
    "                print(f\"No POIs at radius {attempt_radius}m, expanding search...\")\n",
    "        except Exception as e:\n",
    "            print(f\"OSM query failed at radius {attempt_radius}m: {e}\")\n",
    "\n",
    "        attempt_radius *= expand_factor\n",
    "\n",
    "    # Fallback to nearest city/town\n",
    "    print(\"No POIs found after expansions. Falling back to nearest town/city center...\")\n",
    "    fallback_coords = get_nearest_place_coords(lat, lon)\n",
    "    if fallback_coords:\n",
    "        try:\n",
    "            pois = ox.features_from_point(fallback_coords, tags=tags, dist=radius)\n",
    "            if len(pois) > 0:\n",
    "                print(f'Found osm poi {len(pois)}')\n",
    "                return len(pois)\n",
    "        except Exception as e:\n",
    "            print(f\"OSM fallback query failed: {e}\")\n",
    "\n",
    "    print(\"No POIs found, even after fallback.\")\n",
    "    return 0\n",
    "\n",
    "\n",
    "# ----------------------------\n",
    "# Population Density (with fallback)\n",
    "# ----------------------------\n",
    "def get_population_density_gee(lat, lon, radius_m, max_expand=3, expand_factor=2):\n",
    "    \"\"\"\n",
    "    Get population density from WorldPop using Earth Engine.\n",
    "    Expands radius if no values are found, and falls back to nearest\n",
    "    city/town center if still empty.\n",
    "    \"\"\"\n",
    "    print(f\"Getting population density at ({lat}, {lon}), radius={radius_m}m\")\n",
    "\n",
    "    dataset = ee.ImageCollection(\"WorldPop/GP/100m/pop\") \\\n",
    "        .filter(ee.Filter.date('2020-01-01', '2020-12-31')) \\\n",
    "        .first()\n",
    "\n",
    "    attempt_radius = radius_m\n",
    "\n",
    "    # Try with expanding radius\n",
    "    for attempt in range(max_expand + 1):\n",
    "        try:\n",
    "            point = ee.Geometry.Point(lon, lat)\n",
    "            region = point.buffer(attempt_radius).bounds()\n",
    "            stats = dataset.reduceRegion(\n",
    "                reducer=ee.Reducer.mean(),\n",
    "                geometry=region,\n",
    "                scale=100,\n",
    "                maxPixels=1e9\n",
    "            )\n",
    "            result = stats.getInfo()\n",
    "            pop_val = result.get('population', None)\n",
    "            if pop_val is not None:\n",
    "                print(f'Found pop_val {pop_val}')\n",
    "                return pop_val\n",
    "            else:\n",
    "                print(f\"No population data at radius {attempt_radius}m, expanding search...\")\n",
    "        except Exception as e:\n",
    "            print(f\"GEE query failed at radius {attempt_radius}m: {e}\")\n",
    "\n",
    "        attempt_radius *= expand_factor\n",
    "\n",
    "    # Fallback to nearest city/town\n",
    "    print(\"No population found after expansions. Falling back to nearest town/city center...\")\n",
    "    fallback_coords = get_nearest_place_coords(lat, lon)\n",
    "    if fallback_coords:\n",
    "        try:\n",
    "            point = ee.Geometry.Point(fallback_coords[::-1])  # (lon, lat)\n",
    "            region = point.buffer(radius_m).bounds()\n",
    "            stats = dataset.reduceRegion(\n",
    "                reducer=ee.Reducer.mean(),\n",
    "                geometry=region,\n",
    "                scale=100,\n",
    "                maxPixels=1e9\n",
    "            )\n",
    "            result = stats.getInfo()\n",
    "            pop_val = result.get('population', None)\n",
    "            if pop_val is not None:\n",
    "                print(f'Found pop_val {pop_val}')\n",
    "                return pop_val\n",
    "        except Exception as e:\n",
    "            print(f\"GEE fallback query failed: {e}\")\n",
    "\n",
    "    print(\"No population data found, even after fallback.\")\n",
    "    return 0"
   ]
  },
  {
   "cell_type": "code",
   "execution_count": 14,
   "id": "ff2be52e-4397-498b-8f2d-4f08bb2a5d33",
   "metadata": {},
   "outputs": [],
   "source": [
    "def category_with_fallback(lat, lon, fetch_fn, radii=[200, 500, 1000, 2000], delay=1):\n",
    "    \"\"\"\n",
    "    Try to fetch category with expanding radius. \n",
    "    If still empty, snap to nearest town and retry once.\n",
    "\n",
    "    fetch_fn: function(lat, lon, radius) -> str | None\n",
    "    \"\"\"\n",
    "    for r in radii:\n",
    "        try:\n",
    "            category = fetch_fn(lat, lon, r)\n",
    "            if category:  # got something\n",
    "                return category\n",
    "        except Exception as e:\n",
    "            print(f\"Fetch attempt failed at radius {r}: {e}\")\n",
    "        time.sleep(delay)\n",
    "\n",
    "    # Snap to nearest town & retry once\n",
    "    town_lat, town_lon = snap_to_nearest_town(lat, lon)\n",
    "    if (town_lat, town_lon) != (lat, lon):\n",
    "        return category_with_fallback(town_lat, town_lon, fetch_fn, radii, delay)\n",
    "\n",
    "    return \"Unknown\""
   ]
  },
  {
   "cell_type": "code",
   "execution_count": 15,
   "id": "b067c8fc-c704-48a7-bf26-fb7feae4f533",
   "metadata": {},
   "outputs": [],
   "source": [
    "from geopy.geocoders import Nominatim\n",
    "import time\n",
    "\n",
    "geolocator = Nominatim(user_agent=\"geo_fallback\")\n",
    "\n",
    "def snap_to_nearest_town(lat, lon):\n",
    "    \"\"\"\n",
    "    Snap (lat, lon) to nearest town/city center if available.\n",
    "    \"\"\"\n",
    "    try:\n",
    "        location = geolocator.reverse((lat, lon), exactly_one=True, language=\"en\")\n",
    "        if location and \"town\" in location.raw[\"address\"]:\n",
    "            town = location.raw[\"address\"][\"town\"]\n",
    "        elif location and \"city\" in location.raw[\"address\"]:\n",
    "            town = location.raw[\"address\"][\"city\"]\n",
    "        else:\n",
    "            return lat, lon  # no town/city info, return same coords\n",
    "\n",
    "        # Forward geocode the town name → town center coords\n",
    "        town_loc = geolocator.geocode(town)\n",
    "        if town_loc:\n",
    "            return town_loc.latitude, town_loc.longitude\n",
    "    except Exception as e:\n",
    "        print(f\"Town fallback failed: {e}\")\n",
    "    return lat, lon  # fallback to original point\n"
   ]
  },
  {
   "cell_type": "code",
   "execution_count": 16,
   "id": "ae5ac8ad-5eb4-4839-bba3-8ea3209b173e",
   "metadata": {},
   "outputs": [],
   "source": [
    "import requests\n",
    "import duckdb\n",
    "import pandas as pd\n",
    "\n",
    "def _fetch_foursquare_category(lat, lon, radius):\n",
    "    \"\"\"\n",
    "    Retrieve nearest Foursquare category using Hugging Face fsq-os-places parquet via DuckDB.\n",
    "    Uses fsq_category_labels array (human-readable categories).\n",
    "    \"\"\"\n",
    "    # 1. Get Parquet URL from Hugging Face\n",
    "    api_url = \"https://datasets-server.huggingface.co/parquet?dataset=foursquare/fsq-os-places\"\n",
    "    j = requests.get(api_url).json()\n",
    "    parquet_urls = [f['url'] for f in j.get('parquet_files', []) if f['split'] == 'train']\n",
    "    if not parquet_urls:\n",
    "        raise RuntimeError(\"No parquet file found for fsq-os-places dataset\")\n",
    "    purl = parquet_urls[0]\n",
    "\n",
    "    # 2. DuckDB connection with HTTP + Spatial extensions\n",
    "    con = duckdb.connect(database=':memory:')\n",
    "    con.execute(\"INSTALL httpfs; LOAD httpfs;\")\n",
    "    con.execute(\"INSTALL spatial; LOAD spatial;\")  # ✅ spatial extension\n",
    "\n",
    "    con.execute(f\"CREATE TABLE fsq AS SELECT * FROM read_parquet('{purl}')\")\n",
    "\n",
    "    # 3. Query nearest category using spatial distance\n",
    "    query = f\"\"\"\n",
    "    SELECT\n",
    "        fsq_category_labels[1] AS cat_label,\n",
    "        ST_Distance(\n",
    "            ST_Point(longitude, latitude),\n",
    "            ST_Point({lon}, {lat})\n",
    "        ) * 111320 AS dist_m\n",
    "    FROM fsq\n",
    "    WHERE ABS(latitude - {lat}) < 0.1 AND ABS(longitude - {lon}) < 0.1\n",
    "      AND fsq_category_labels IS NOT NULL\n",
    "    ORDER BY dist_m\n",
    "    LIMIT 1;\n",
    "    \"\"\"\n",
    "\n",
    "    try:\n",
    "        df = con.execute(query).df()\n",
    "        if not df.empty and df.loc[0, \"dist_m\"] <= radius:\n",
    "            return df.loc[0, \"cat_label\"]\n",
    "    except Exception as e:\n",
    "        print(f\"Error querying DuckDB for Foursquare category: {e}\")\n",
    "\n",
    "    return None\n"
   ]
  },
  {
   "cell_type": "code",
   "execution_count": 17,
   "id": "3a407229-bb45-4086-820c-d787766df1cb",
   "metadata": {},
   "outputs": [],
   "source": [
    "def get_foursquare_category(lat, lon):\n",
    "    return category_with_fallback(lat, lon, _fetch_foursquare_category)"
   ]
  },
  {
   "cell_type": "code",
   "execution_count": 18,
   "id": "5c1155a9-86d3-43d0-9cd3-68a82472e645",
   "metadata": {},
   "outputs": [],
   "source": [
    "def _fetch_osm_category(lat, lon, radius):\n",
    "    tags = {\"amenity\": True, \"shop\": True, \"landuse\": True}\n",
    "    pois = ox.features_from_point((lat, lon), tags=tags, dist=radius)\n",
    "    if len(pois) > 0:\n",
    "        for key in [\"amenity\", \"shop\", \"landuse\"]:\n",
    "            if key in pois.columns:\n",
    "                values = pois[key].dropna().unique()\n",
    "                if len(values) > 0:\n",
    "                    return values[0]\n",
    "    return None\n",
    "\n",
    "def get_osm_category(lat, lon):\n",
    "    return category_with_fallback(lat, lon, _fetch_osm_category)"
   ]
  },
  {
   "cell_type": "code",
   "execution_count": 19,
   "id": "151f189d-ff42-45cc-aee8-ebbd7e822816",
   "metadata": {},
   "outputs": [],
   "source": [
    "def build_features_for_location(lat, lon, radius_m, cr):\n",
    "    print(f'Building features for location ...')\n",
    "    neighborhood_points = generate_circle_points(lat, lon, radius_m, cr)\n",
    "    print(f'Number of neighborhood points {len(neighborhood_points)}')\n",
    "    features = []\n",
    "    for (lat_i, lon_i) in neighborhood_points:\n",
    "        pop = get_population_density_gee(lat_i, lon_i, cr)\n",
    "        osm_poi = get_osm_poi_density(lat_i, lon_i, cr)\n",
    "        fsq_poi = get_fsq_count(lat_i, lon_i, cr)\n",
    "        # print(f'pop, fsq_poi {pop} {fsq_poi}')\n",
    "        income = get_median_income_by_point(lat_i, lon_i, cr)\n",
    "        osm_cat = get_osm_category(lat, lon)\n",
    "        fsq_cat = get_foursquare_category(lat, lon)\n",
    "        print(f'Category osm: {osm_cat}, fsq: {fsq_cat}')\n",
    "        # income = get_median_income_with_radius(lat, lon)\n",
    "        features.append({\n",
    "            \"lat\": lat_i,\n",
    "            \"lon\": lon_i,\n",
    "            \"population_density\": pop,\n",
    "            \"osm_poi_density\": osm_poi,\n",
    "            \"fsq_poi_count\": fsq_poi,\n",
    "            \"median_income\": income,\n",
    "            \"location_category_foursquare\": get_foursquare_category(lat, lon),\n",
    "            \"location_category_osm\": get_osm_category(lat, lon),\n",
    "        })\n",
    "    return pd.DataFrame(features)"
   ]
  },
  {
   "cell_type": "code",
   "execution_count": 20,
   "id": "19b5a96c-e59e-417d-85bb-f240a107fab4",
   "metadata": {},
   "outputs": [],
   "source": [
    "from sklearn.preprocessing import LabelEncoder\n",
    "import pandas as pd\n",
    "\n",
    "# shared encoders so model always uses the same mapping\n",
    "_fsq_encoder = LabelEncoder()\n",
    "_osm_encoder = LabelEncoder()\n",
    "_encoders_fitted = False\n",
    "\n",
    "def encode_location_categories(df):\n",
    "    \"\"\"\n",
    "    Encode Foursquare + OSM category labels into numeric values\n",
    "    so they can be used as regression features.\n",
    "    \n",
    "    Expects df with columns:\n",
    "        - location_category_foursquare\n",
    "        - location_category_osm\n",
    "    Returns the same df with numeric-encoded columns added.\n",
    "    \"\"\"\n",
    "    global _encoders_fitted\n",
    "\n",
    "    # Ensure columns exist, replace None with \"unknown\"\n",
    "    for col in [\"location_category_foursquare\", \"location_category_osm\"]:\n",
    "        if col not in df:\n",
    "            df[col] = \"unknown\"\n",
    "        df[col] = df[col].fillna(\"unknown\")\n",
    "\n",
    "    # Fit encoders once on all available categories\n",
    "    if not _encoders_fitted:\n",
    "        _fsq_encoder.fit(df[\"location_category_foursquare\"].unique())\n",
    "        _osm_encoder.fit(df[\"location_category_osm\"].unique())\n",
    "        _encoders_fitted = True\n",
    "\n",
    "    # Transform into numeric codes\n",
    "    df[\"fsq_category_encoded\"] = _fsq_encoder.transform(df[\"location_category_foursquare\"])\n",
    "    df[\"osm_category_encoded\"] = _osm_encoder.transform(df[\"location_category_osm\"])\n",
    "\n",
    "    return df"
   ]
  },
  {
   "cell_type": "code",
   "execution_count": 21,
   "id": "ed2ad95a-495e-4063-8c5d-295e47e9c26a",
   "metadata": {},
   "outputs": [],
   "source": [
    "def get_fips_from_coords(lat, lon, retries=3, wait=5):\n",
    "    url = \"https://geo.fcc.gov/api/census/block/find\"\n",
    "    params = {\"latitude\": lat, \"longitude\": lon, \"format\": \"json\"}\n",
    "    for i in range(retries):\n",
    "        try:\n",
    "            r = requests.get(url, params=params, timeout=20)\n",
    "            r.raise_for_status()\n",
    "            return r.json()\n",
    "        except requests.exceptions.HTTPError as e:\n",
    "            if r.status_code == 502 and i < retries - 1:\n",
    "                time.sleep(wait)\n",
    "                continue\n",
    "            raise"
   ]
  },
  {
   "cell_type": "code",
   "execution_count": 22,
   "id": "2a8e932e-ff60-4a5b-9503-e86718a77628",
   "metadata": {},
   "outputs": [],
   "source": [
    "def revenue_estimation(lat, lon):\n",
    "    print(f'Revenue estimation ...')\n",
    "    # print(f'Revenue Est pop density gee {get_population_density_gee(lat, lon, 500)}')\n",
    "    # print(f'Fsq count {get_fsq_count(lat, lon, 500)}')\n",
    "    # print(f'osm poi density {get_osm_poi_density(lat, lon, 500)}')\n",
    "    # print(f'Get median income {get_median_income_by_point(lat, lon, 500)}')\n",
    "    return (get_population_density_gee(lat, lon, 500) * 2 +\n",
    "            get_osm_poi_density(lat, lon, 500) * 100 +\n",
    "            get_fsq_count(lat, lon, 500) * 50 \n",
    "            )"
   ]
  },
  {
   "cell_type": "code",
   "execution_count": 23,
   "id": "7a58c175-7044-4091-acb1-808d824d4242",
   "metadata": {},
   "outputs": [
    {
     "name": "stdout",
     "output_type": "stream",
     "text": [
      "Building features for location ...\n",
      "Generating circle points with max 50 subcircles\n",
      "low, high 50, 100\n",
      "looper 3\n",
      "looper 2 3\n",
      "haversine condition 36.889138010898556 100\n",
      "haversine condition 56.84741204648442 100\n",
      "looper 2 3\n",
      "haversine condition 25.878023753085042 100\n",
      "haversine condition 50.4030067947202 100\n",
      "looper 2 3\n",
      "haversine condition 28.423571051562558 100\n",
      "haversine condition 51.75612163241232 100\n",
      "Chosen small_radius: 50.00 m, generated 6 subcircles\n",
      "Number of neighborhood points 6\n",
      "Getting population density at (40.47635342220625, -74.22740210887508), radius=50m\n",
      "No population data at radius 50m, expanding search...\n",
      "No population data at radius 100m, expanding search...\n",
      "No population data at radius 200m, expanding search...\n",
      "No population data at radius 400m, expanding search...\n",
      "No population found after expansions. Falling back to nearest town/city center...\n",
      "No population data found, even after fallback.\n",
      "Getting POI density at (40.47635342220625, -74.22740210887508), radius=50m\n",
      "OSM query failed at radius 50m: No matching features. Check query location, tags, and log.\n",
      "OSM query failed at radius 100m: No matching features. Check query location, tags, and log.\n",
      "OSM query failed at radius 200m: No matching features. Check query location, tags, and log.\n",
      "OSM query failed at radius 400m: No matching features. Check query location, tags, and log.\n",
      "No POIs found after expansions. Falling back to nearest town/city center...\n",
      "OSM fallback query failed: No matching features. Check query location, tags, and log.\n",
      "No POIs found, even after fallback.\n",
      "Getting Four Square Count\n",
      "Getting media_income ...\n",
      "Fetch attempt failed at radius 200: No matching features. Check query location, tags, and log.\n",
      "Fetch attempt failed at radius 500: No matching features. Check query location, tags, and log.\n",
      "Fetch attempt failed at radius 1000: No matching features. Check query location, tags, and log.\n"
     ]
    },
    {
     "data": {
      "application/vnd.jupyter.widget-view+json": {
       "model_id": "07d49f911e0440b4b716bdb71ef60c7c",
       "version_major": 2,
       "version_minor": 0
      },
      "text/plain": [
       "FloatProgress(value=0.0, layout=Layout(width='auto'), style=ProgressStyle(bar_color='black'))"
      ]
     },
     "metadata": {},
     "output_type": "display_data"
    },
    {
     "data": {
      "application/vnd.jupyter.widget-view+json": {
       "model_id": "786220f6b89e4b2689d72a37eaa01b03",
       "version_major": 2,
       "version_minor": 0
      },
      "text/plain": [
       "FloatProgress(value=0.0, layout=Layout(width='auto'), style=ProgressStyle(bar_color='black'))"
      ]
     },
     "metadata": {},
     "output_type": "display_data"
    },
    {
     "data": {
      "application/vnd.jupyter.widget-view+json": {
       "model_id": "6b5963c9b27145e7be38c113f0cb5275",
       "version_major": 2,
       "version_minor": 0
      },
      "text/plain": [
       "FloatProgress(value=0.0, layout=Layout(width='auto'), style=ProgressStyle(bar_color='black'))"
      ]
     },
     "metadata": {},
     "output_type": "display_data"
    },
    {
     "data": {
      "application/vnd.jupyter.widget-view+json": {
       "model_id": "d1b6269b217d42fa904177c36d351526",
       "version_major": 2,
       "version_minor": 0
      },
      "text/plain": [
       "FloatProgress(value=0.0, layout=Layout(width='auto'), style=ProgressStyle(bar_color='black'))"
      ]
     },
     "metadata": {},
     "output_type": "display_data"
    },
    {
     "name": "stdout",
     "output_type": "stream",
     "text": [
      "Town fallback failed: HTTPSConnectionPool(host='nominatim.openstreetmap.org', port=443): Max retries exceeded with url: /search?q=New+York&format=json&limit=1 (Caused by ReadTimeoutError(\"HTTPSConnectionPool(host='nominatim.openstreetmap.org', port=443): Read timed out. (read timeout=1)\"))\n",
      "Category osm: bench, fsq: Unknown\n"
     ]
    },
    {
     "data": {
      "application/vnd.jupyter.widget-view+json": {
       "model_id": "68aeb83c21c44ffc9129bdbcfcdd01bd",
       "version_major": 2,
       "version_minor": 0
      },
      "text/plain": [
       "FloatProgress(value=0.0, layout=Layout(width='auto'), style=ProgressStyle(bar_color='black'))"
      ]
     },
     "metadata": {},
     "output_type": "display_data"
    },
    {
     "data": {
      "application/vnd.jupyter.widget-view+json": {
       "model_id": "9fb8967497bc4303b36db6ea611d810e",
       "version_major": 2,
       "version_minor": 0
      },
      "text/plain": [
       "FloatProgress(value=0.0, layout=Layout(width='auto'), style=ProgressStyle(bar_color='black'))"
      ]
     },
     "metadata": {},
     "output_type": "display_data"
    },
    {
     "data": {
      "application/vnd.jupyter.widget-view+json": {
       "model_id": "38a5338934354512bb50747edfb4a012",
       "version_major": 2,
       "version_minor": 0
      },
      "text/plain": [
       "FloatProgress(value=0.0, layout=Layout(width='auto'), style=ProgressStyle(bar_color='black'))"
      ]
     },
     "metadata": {},
     "output_type": "display_data"
    },
    {
     "data": {
      "application/vnd.jupyter.widget-view+json": {
       "model_id": "88e2e13c5b5946ca8d026950aa049ba9",
       "version_major": 2,
       "version_minor": 0
      },
      "text/plain": [
       "FloatProgress(value=0.0, layout=Layout(width='auto'), style=ProgressStyle(bar_color='black'))"
      ]
     },
     "metadata": {},
     "output_type": "display_data"
    },
    {
     "name": "stdout",
     "output_type": "stream",
     "text": [
      "Town fallback failed: HTTPSConnectionPool(host='nominatim.openstreetmap.org', port=443): Max retries exceeded with url: /search?q=New+York&format=json&limit=1 (Caused by ReadTimeoutError(\"HTTPSConnectionPool(host='nominatim.openstreetmap.org', port=443): Read timed out. (read timeout=1)\"))\n",
      "Fetch attempt failed at radius 200: No matching features. Check query location, tags, and log.\n",
      "Fetch attempt failed at radius 500: No matching features. Check query location, tags, and log.\n",
      "Fetch attempt failed at radius 1000: No matching features. Check query location, tags, and log.\n",
      "Getting population density at (40.47635342220625, -74.22672837549383), radius=50m\n",
      "No population data at radius 50m, expanding search...\n",
      "No population data at radius 100m, expanding search...\n",
      "No population data at radius 200m, expanding search...\n",
      "No population data at radius 400m, expanding search...\n",
      "No population found after expansions. Falling back to nearest town/city center...\n",
      "No population data found, even after fallback.\n",
      "Getting POI density at (40.47635342220625, -74.22672837549383), radius=50m\n",
      "OSM query failed at radius 50m: No matching features. Check query location, tags, and log.\n",
      "OSM query failed at radius 100m: No matching features. Check query location, tags, and log.\n",
      "OSM query failed at radius 200m: No matching features. Check query location, tags, and log.\n",
      "OSM query failed at radius 400m: No matching features. Check query location, tags, and log.\n",
      "No POIs found after expansions. Falling back to nearest town/city center...\n",
      "OSM fallback query failed: No matching features. Check query location, tags, and log.\n",
      "No POIs found, even after fallback.\n",
      "Getting Four Square Count\n",
      "Getting media_income ...\n",
      "Fetch attempt failed at radius 200: No matching features. Check query location, tags, and log.\n",
      "Fetch attempt failed at radius 500: No matching features. Check query location, tags, and log.\n",
      "Fetch attempt failed at radius 1000: No matching features. Check query location, tags, and log.\n"
     ]
    },
    {
     "data": {
      "application/vnd.jupyter.widget-view+json": {
       "model_id": "e5d73060da324bd0b3db8f717f9de82b",
       "version_major": 2,
       "version_minor": 0
      },
      "text/plain": [
       "FloatProgress(value=0.0, layout=Layout(width='auto'), style=ProgressStyle(bar_color='black'))"
      ]
     },
     "metadata": {},
     "output_type": "display_data"
    },
    {
     "data": {
      "application/vnd.jupyter.widget-view+json": {
       "model_id": "0ac394ade73d4fc18b12bbe684c53ff5",
       "version_major": 2,
       "version_minor": 0
      },
      "text/plain": [
       "FloatProgress(value=0.0, layout=Layout(width='auto'), style=ProgressStyle(bar_color='black'))"
      ]
     },
     "metadata": {},
     "output_type": "display_data"
    },
    {
     "data": {
      "application/vnd.jupyter.widget-view+json": {
       "model_id": "a676e74b37d94564a2aaf1637538c8cb",
       "version_major": 2,
       "version_minor": 0
      },
      "text/plain": [
       "FloatProgress(value=0.0, layout=Layout(width='auto'), style=ProgressStyle(bar_color='black'))"
      ]
     },
     "metadata": {},
     "output_type": "display_data"
    },
    {
     "data": {
      "application/vnd.jupyter.widget-view+json": {
       "model_id": "55859451671842a896d9b08ae4734593",
       "version_major": 2,
       "version_minor": 0
      },
      "text/plain": [
       "FloatProgress(value=0.0, layout=Layout(width='auto'), style=ProgressStyle(bar_color='black'))"
      ]
     },
     "metadata": {},
     "output_type": "display_data"
    },
    {
     "data": {
      "application/vnd.jupyter.widget-view+json": {
       "model_id": "124027d7734e441fb39faf8eaaac4759",
       "version_major": 2,
       "version_minor": 0
      },
      "text/plain": [
       "FloatProgress(value=0.0, layout=Layout(width='auto'), style=ProgressStyle(bar_color='black'))"
      ]
     },
     "metadata": {},
     "output_type": "display_data"
    },
    {
     "data": {
      "application/vnd.jupyter.widget-view+json": {
       "model_id": "7694a6e9c6e94bb999f51f20d9503237",
       "version_major": 2,
       "version_minor": 0
      },
      "text/plain": [
       "FloatProgress(value=0.0, layout=Layout(width='auto'), style=ProgressStyle(bar_color='black'))"
      ]
     },
     "metadata": {},
     "output_type": "display_data"
    },
    {
     "data": {
      "application/vnd.jupyter.widget-view+json": {
       "model_id": "dc98f3a6e42f426da73f434fe8c8e136",
       "version_major": 2,
       "version_minor": 0
      },
      "text/plain": [
       "FloatProgress(value=0.0, layout=Layout(width='auto'), style=ProgressStyle(bar_color='black'))"
      ]
     },
     "metadata": {},
     "output_type": "display_data"
    },
    {
     "data": {
      "application/vnd.jupyter.widget-view+json": {
       "model_id": "809bdd87d6914c139299f4f1bc02fccd",
       "version_major": 2,
       "version_minor": 0
      },
      "text/plain": [
       "FloatProgress(value=0.0, layout=Layout(width='auto'), style=ProgressStyle(bar_color='black'))"
      ]
     },
     "metadata": {},
     "output_type": "display_data"
    },
    {
     "name": "stdout",
     "output_type": "stream",
     "text": [
      "Category osm: bench, fsq: Unknown\n"
     ]
    },
    {
     "data": {
      "application/vnd.jupyter.widget-view+json": {
       "model_id": "a63e48c429a8495ca4620215b35fceaa",
       "version_major": 2,
       "version_minor": 0
      },
      "text/plain": [
       "FloatProgress(value=0.0, layout=Layout(width='auto'), style=ProgressStyle(bar_color='black'))"
      ]
     },
     "metadata": {},
     "output_type": "display_data"
    },
    {
     "data": {
      "application/vnd.jupyter.widget-view+json": {
       "model_id": "fa8d912f947a4271b00c79a92e4ee5e3",
       "version_major": 2,
       "version_minor": 0
      },
      "text/plain": [
       "FloatProgress(value=0.0, layout=Layout(width='auto'), style=ProgressStyle(bar_color='black'))"
      ]
     },
     "metadata": {},
     "output_type": "display_data"
    },
    {
     "data": {
      "application/vnd.jupyter.widget-view+json": {
       "model_id": "97c1eb13d0f4472a80f59f938c832806",
       "version_major": 2,
       "version_minor": 0
      },
      "text/plain": [
       "FloatProgress(value=0.0, layout=Layout(width='auto'), style=ProgressStyle(bar_color='black'))"
      ]
     },
     "metadata": {},
     "output_type": "display_data"
    },
    {
     "data": {
      "application/vnd.jupyter.widget-view+json": {
       "model_id": "ea79ad7016994371b9dfa59308530db8",
       "version_major": 2,
       "version_minor": 0
      },
      "text/plain": [
       "FloatProgress(value=0.0, layout=Layout(width='auto'), style=ProgressStyle(bar_color='black'))"
      ]
     },
     "metadata": {},
     "output_type": "display_data"
    },
    {
     "name": "stdout",
     "output_type": "stream",
     "text": [
      "Town fallback failed: HTTPSConnectionPool(host='nominatim.openstreetmap.org', port=443): Max retries exceeded with url: /search?q=New+York&format=json&limit=1 (Caused by ReadTimeoutError(\"HTTPSConnectionPool(host='nominatim.openstreetmap.org', port=443): Read timed out. (read timeout=1)\"))\n",
      "Fetch attempt failed at radius 200: No matching features. Check query location, tags, and log.\n",
      "Fetch attempt failed at radius 500: No matching features. Check query location, tags, and log.\n",
      "Fetch attempt failed at radius 1000: No matching features. Check query location, tags, and log.\n",
      "Getting population density at (40.47702715558749, -74.22740210887508), radius=50m\n",
      "No population data at radius 50m, expanding search...\n",
      "No population data at radius 100m, expanding search...\n",
      "No population data at radius 200m, expanding search...\n",
      "No population data at radius 400m, expanding search...\n",
      "No population found after expansions. Falling back to nearest town/city center...\n",
      "No population data found, even after fallback.\n",
      "Getting POI density at (40.47702715558749, -74.22740210887508), radius=50m\n",
      "OSM query failed at radius 50m: No matching features. Check query location, tags, and log.\n",
      "OSM query failed at radius 100m: No matching features. Check query location, tags, and log.\n",
      "OSM query failed at radius 200m: No matching features. Check query location, tags, and log.\n",
      "OSM query failed at radius 400m: No matching features. Check query location, tags, and log.\n",
      "No POIs found after expansions. Falling back to nearest town/city center...\n",
      "OSM fallback query failed: No matching features. Check query location, tags, and log.\n",
      "No POIs found, even after fallback.\n",
      "Getting Four Square Count\n",
      "Getting media_income ...\n",
      "Fetch attempt failed at radius 200: No matching features. Check query location, tags, and log.\n",
      "Fetch attempt failed at radius 500: No matching features. Check query location, tags, and log.\n",
      "Fetch attempt failed at radius 1000: No matching features. Check query location, tags, and log.\n"
     ]
    },
    {
     "data": {
      "application/vnd.jupyter.widget-view+json": {
       "model_id": "5fae65bb73054bcc810b65bb7eb654b4",
       "version_major": 2,
       "version_minor": 0
      },
      "text/plain": [
       "FloatProgress(value=0.0, layout=Layout(width='auto'), style=ProgressStyle(bar_color='black'))"
      ]
     },
     "metadata": {},
     "output_type": "display_data"
    },
    {
     "data": {
      "application/vnd.jupyter.widget-view+json": {
       "model_id": "caa72c29009f48d6b205e161b29cfc86",
       "version_major": 2,
       "version_minor": 0
      },
      "text/plain": [
       "FloatProgress(value=0.0, layout=Layout(width='auto'), style=ProgressStyle(bar_color='black'))"
      ]
     },
     "metadata": {},
     "output_type": "display_data"
    },
    {
     "data": {
      "application/vnd.jupyter.widget-view+json": {
       "model_id": "747c89a49d714f0aa5d370e2bfb1088b",
       "version_major": 2,
       "version_minor": 0
      },
      "text/plain": [
       "FloatProgress(value=0.0, layout=Layout(width='auto'), style=ProgressStyle(bar_color='black'))"
      ]
     },
     "metadata": {},
     "output_type": "display_data"
    },
    {
     "data": {
      "application/vnd.jupyter.widget-view+json": {
       "model_id": "a6bbcf10e2f444d9aedc96fab8f59ed5",
       "version_major": 2,
       "version_minor": 0
      },
      "text/plain": [
       "FloatProgress(value=0.0, layout=Layout(width='auto'), style=ProgressStyle(bar_color='black'))"
      ]
     },
     "metadata": {},
     "output_type": "display_data"
    },
    {
     "name": "stdout",
     "output_type": "stream",
     "text": [
      "Town fallback failed: HTTPSConnectionPool(host='nominatim.openstreetmap.org', port=443): Max retries exceeded with url: /search?q=New+York&format=json&limit=1 (Caused by ReadTimeoutError(\"HTTPSConnectionPool(host='nominatim.openstreetmap.org', port=443): Read timed out. (read timeout=1)\"))\n",
      "Category osm: bench, fsq: Unknown\n"
     ]
    },
    {
     "data": {
      "application/vnd.jupyter.widget-view+json": {
       "model_id": "3a33836a28144c3cb8a0631597cc58d0",
       "version_major": 2,
       "version_minor": 0
      },
      "text/plain": [
       "FloatProgress(value=0.0, layout=Layout(width='auto'), style=ProgressStyle(bar_color='black'))"
      ]
     },
     "metadata": {},
     "output_type": "display_data"
    },
    {
     "data": {
      "application/vnd.jupyter.widget-view+json": {
       "model_id": "b7ca454ac9bc4786a30ce52df9f778a3",
       "version_major": 2,
       "version_minor": 0
      },
      "text/plain": [
       "FloatProgress(value=0.0, layout=Layout(width='auto'), style=ProgressStyle(bar_color='black'))"
      ]
     },
     "metadata": {},
     "output_type": "display_data"
    },
    {
     "data": {
      "application/vnd.jupyter.widget-view+json": {
       "model_id": "1183f80e8f2c4812a12fa7bb7d85c18a",
       "version_major": 2,
       "version_minor": 0
      },
      "text/plain": [
       "FloatProgress(value=0.0, layout=Layout(width='auto'), style=ProgressStyle(bar_color='black'))"
      ]
     },
     "metadata": {},
     "output_type": "display_data"
    },
    {
     "data": {
      "application/vnd.jupyter.widget-view+json": {
       "model_id": "16a46bebac72431aa5e238484f61b3e2",
       "version_major": 2,
       "version_minor": 0
      },
      "text/plain": [
       "FloatProgress(value=0.0, layout=Layout(width='auto'), style=ProgressStyle(bar_color='black'))"
      ]
     },
     "metadata": {},
     "output_type": "display_data"
    },
    {
     "name": "stdout",
     "output_type": "stream",
     "text": [
      "Town fallback failed: HTTPSConnectionPool(host='nominatim.openstreetmap.org', port=443): Max retries exceeded with url: /search?q=New+York&format=json&limit=1 (Caused by ReadTimeoutError(\"HTTPSConnectionPool(host='nominatim.openstreetmap.org', port=443): Read timed out. (read timeout=1)\"))\n",
      "Fetch attempt failed at radius 200: No matching features. Check query location, tags, and log.\n",
      "Fetch attempt failed at radius 500: No matching features. Check query location, tags, and log.\n",
      "Fetch attempt failed at radius 1000: No matching features. Check query location, tags, and log.\n",
      "Getting population density at (40.47702715558749, -74.22672837549383), radius=50m\n",
      "No population data at radius 50m, expanding search...\n",
      "No population data at radius 100m, expanding search...\n",
      "No population data at radius 200m, expanding search...\n",
      "No population data at radius 400m, expanding search...\n",
      "No population found after expansions. Falling back to nearest town/city center...\n",
      "No population data found, even after fallback.\n",
      "Getting POI density at (40.47702715558749, -74.22672837549383), radius=50m\n",
      "OSM query failed at radius 50m: No matching features. Check query location, tags, and log.\n",
      "OSM query failed at radius 100m: No matching features. Check query location, tags, and log.\n",
      "OSM query failed at radius 200m: No matching features. Check query location, tags, and log.\n",
      "OSM query failed at radius 400m: No matching features. Check query location, tags, and log.\n",
      "No POIs found after expansions. Falling back to nearest town/city center...\n",
      "OSM fallback query failed: No matching features. Check query location, tags, and log.\n",
      "No POIs found, even after fallback.\n",
      "Getting Four Square Count\n",
      "Getting media_income ...\n",
      "Fetch attempt failed at radius 200: No matching features. Check query location, tags, and log.\n",
      "Fetch attempt failed at radius 500: No matching features. Check query location, tags, and log.\n",
      "Fetch attempt failed at radius 1000: No matching features. Check query location, tags, and log.\n"
     ]
    },
    {
     "data": {
      "application/vnd.jupyter.widget-view+json": {
       "model_id": "4dbcb78a11774352b857ca4207cf6cc8",
       "version_major": 2,
       "version_minor": 0
      },
      "text/plain": [
       "FloatProgress(value=0.0, layout=Layout(width='auto'), style=ProgressStyle(bar_color='black'))"
      ]
     },
     "metadata": {},
     "output_type": "display_data"
    },
    {
     "data": {
      "application/vnd.jupyter.widget-view+json": {
       "model_id": "e908d46fa5f8426a93566aeff5407f31",
       "version_major": 2,
       "version_minor": 0
      },
      "text/plain": [
       "FloatProgress(value=0.0, layout=Layout(width='auto'), style=ProgressStyle(bar_color='black'))"
      ]
     },
     "metadata": {},
     "output_type": "display_data"
    },
    {
     "data": {
      "application/vnd.jupyter.widget-view+json": {
       "model_id": "59207ae2cd414a69b9f6d7c2bc549f11",
       "version_major": 2,
       "version_minor": 0
      },
      "text/plain": [
       "FloatProgress(value=0.0, layout=Layout(width='auto'), style=ProgressStyle(bar_color='black'))"
      ]
     },
     "metadata": {},
     "output_type": "display_data"
    },
    {
     "data": {
      "application/vnd.jupyter.widget-view+json": {
       "model_id": "27165da34fef430f88096133f6d488a1",
       "version_major": 2,
       "version_minor": 0
      },
      "text/plain": [
       "FloatProgress(value=0.0, layout=Layout(width='auto'), style=ProgressStyle(bar_color='black'))"
      ]
     },
     "metadata": {},
     "output_type": "display_data"
    },
    {
     "name": "stdout",
     "output_type": "stream",
     "text": [
      "Town fallback failed: HTTPSConnectionPool(host='nominatim.openstreetmap.org', port=443): Max retries exceeded with url: /search?q=New+York&format=json&limit=1 (Caused by ReadTimeoutError(\"HTTPSConnectionPool(host='nominatim.openstreetmap.org', port=443): Read timed out. (read timeout=1)\"))\n",
      "Category osm: bench, fsq: Unknown\n"
     ]
    },
    {
     "data": {
      "application/vnd.jupyter.widget-view+json": {
       "model_id": "f675416d0dae47f79f558b13086062fc",
       "version_major": 2,
       "version_minor": 0
      },
      "text/plain": [
       "FloatProgress(value=0.0, layout=Layout(width='auto'), style=ProgressStyle(bar_color='black'))"
      ]
     },
     "metadata": {},
     "output_type": "display_data"
    },
    {
     "data": {
      "application/vnd.jupyter.widget-view+json": {
       "model_id": "014f258276584e70a73cf6e151a7e3e7",
       "version_major": 2,
       "version_minor": 0
      },
      "text/plain": [
       "FloatProgress(value=0.0, layout=Layout(width='auto'), style=ProgressStyle(bar_color='black'))"
      ]
     },
     "metadata": {},
     "output_type": "display_data"
    },
    {
     "data": {
      "application/vnd.jupyter.widget-view+json": {
       "model_id": "6d30daacc1024120a8f4f26204a651cb",
       "version_major": 2,
       "version_minor": 0
      },
      "text/plain": [
       "FloatProgress(value=0.0, layout=Layout(width='auto'), style=ProgressStyle(bar_color='black'))"
      ]
     },
     "metadata": {},
     "output_type": "display_data"
    },
    {
     "data": {
      "application/vnd.jupyter.widget-view+json": {
       "model_id": "701863badb4b4f1193cf1a43c30ae61f",
       "version_major": 2,
       "version_minor": 0
      },
      "text/plain": [
       "FloatProgress(value=0.0, layout=Layout(width='auto'), style=ProgressStyle(bar_color='black'))"
      ]
     },
     "metadata": {},
     "output_type": "display_data"
    },
    {
     "data": {
      "application/vnd.jupyter.widget-view+json": {
       "model_id": "26b6c75ccdf04a7fbabd28c3ba19de41",
       "version_major": 2,
       "version_minor": 0
      },
      "text/plain": [
       "FloatProgress(value=0.0, layout=Layout(width='auto'), style=ProgressStyle(bar_color='black'))"
      ]
     },
     "metadata": {},
     "output_type": "display_data"
    },
    {
     "data": {
      "application/vnd.jupyter.widget-view+json": {
       "model_id": "ebbd3e17f1964ee6a10a0af6b9191391",
       "version_major": 2,
       "version_minor": 0
      },
      "text/plain": [
       "FloatProgress(value=0.0, layout=Layout(width='auto'), style=ProgressStyle(bar_color='black'))"
      ]
     },
     "metadata": {},
     "output_type": "display_data"
    },
    {
     "data": {
      "application/vnd.jupyter.widget-view+json": {
       "model_id": "3bb5558a2853488db75221a4203cdde1",
       "version_major": 2,
       "version_minor": 0
      },
      "text/plain": [
       "FloatProgress(value=0.0, layout=Layout(width='auto'), style=ProgressStyle(bar_color='black'))"
      ]
     },
     "metadata": {},
     "output_type": "display_data"
    },
    {
     "data": {
      "application/vnd.jupyter.widget-view+json": {
       "model_id": "e16ba321798941ce9b7a579df57117fd",
       "version_major": 2,
       "version_minor": 0
      },
      "text/plain": [
       "FloatProgress(value=0.0, layout=Layout(width='auto'), style=ProgressStyle(bar_color='black'))"
      ]
     },
     "metadata": {},
     "output_type": "display_data"
    },
    {
     "name": "stdout",
     "output_type": "stream",
     "text": [
      "Town fallback failed: HTTPSConnectionPool(host='nominatim.openstreetmap.org', port=443): Max retries exceeded with url: /search?q=New+York&format=json&limit=1 (Caused by ReadTimeoutError(\"HTTPSConnectionPool(host='nominatim.openstreetmap.org', port=443): Read timed out. (read timeout=1)\"))\n",
      "Fetch attempt failed at radius 200: No matching features. Check query location, tags, and log.\n",
      "Fetch attempt failed at radius 500: No matching features. Check query location, tags, and log.\n",
      "Fetch attempt failed at radius 1000: No matching features. Check query location, tags, and log.\n",
      "Getting population density at (40.477700888968734, -74.22740210887508), radius=50m\n",
      "No population data at radius 50m, expanding search...\n",
      "No population data at radius 100m, expanding search...\n",
      "No population data at radius 200m, expanding search...\n",
      "No population data at radius 400m, expanding search...\n",
      "No population found after expansions. Falling back to nearest town/city center...\n",
      "Geocoding fallback failed: HTTPSConnectionPool(host='nominatim.openstreetmap.org', port=443): Max retries exceeded with url: /search?q=City+of+New+York&format=json&limit=1 (Caused by ReadTimeoutError(\"HTTPSConnectionPool(host='nominatim.openstreetmap.org', port=443): Read timed out. (read timeout=1)\"))\n",
      "No population data found, even after fallback.\n",
      "Getting POI density at (40.477700888968734, -74.22740210887508), radius=50m\n",
      "OSM query failed at radius 50m: No matching features. Check query location, tags, and log.\n",
      "OSM query failed at radius 100m: No matching features. Check query location, tags, and log.\n",
      "OSM query failed at radius 200m: No matching features. Check query location, tags, and log.\n",
      "OSM query failed at radius 400m: No matching features. Check query location, tags, and log.\n",
      "No POIs found after expansions. Falling back to nearest town/city center...\n",
      "Found osm poi 12\n",
      "Getting Four Square Count\n",
      "Getting media_income ...\n",
      "Fetch attempt failed at radius 200: No matching features. Check query location, tags, and log.\n",
      "Fetch attempt failed at radius 500: No matching features. Check query location, tags, and log.\n",
      "Fetch attempt failed at radius 1000: No matching features. Check query location, tags, and log.\n"
     ]
    },
    {
     "data": {
      "application/vnd.jupyter.widget-view+json": {
       "model_id": "3cb231bffbc24809b234e0eb9b10ba8e",
       "version_major": 2,
       "version_minor": 0
      },
      "text/plain": [
       "FloatProgress(value=0.0, layout=Layout(width='auto'), style=ProgressStyle(bar_color='black'))"
      ]
     },
     "metadata": {},
     "output_type": "display_data"
    },
    {
     "data": {
      "application/vnd.jupyter.widget-view+json": {
       "model_id": "9011b6bee2de440183018972ee8ddfc6",
       "version_major": 2,
       "version_minor": 0
      },
      "text/plain": [
       "FloatProgress(value=0.0, layout=Layout(width='auto'), style=ProgressStyle(bar_color='black'))"
      ]
     },
     "metadata": {},
     "output_type": "display_data"
    },
    {
     "data": {
      "application/vnd.jupyter.widget-view+json": {
       "model_id": "ac2ffe9aedb14d3cb492433e9d3c8e93",
       "version_major": 2,
       "version_minor": 0
      },
      "text/plain": [
       "FloatProgress(value=0.0, layout=Layout(width='auto'), style=ProgressStyle(bar_color='black'))"
      ]
     },
     "metadata": {},
     "output_type": "display_data"
    },
    {
     "data": {
      "application/vnd.jupyter.widget-view+json": {
       "model_id": "44690e7b2a70427094bdcacad655aa47",
       "version_major": 2,
       "version_minor": 0
      },
      "text/plain": [
       "FloatProgress(value=0.0, layout=Layout(width='auto'), style=ProgressStyle(bar_color='black'))"
      ]
     },
     "metadata": {},
     "output_type": "display_data"
    },
    {
     "name": "stdout",
     "output_type": "stream",
     "text": [
      "Town fallback failed: HTTPSConnectionPool(host='nominatim.openstreetmap.org', port=443): Max retries exceeded with url: /search?q=New+York&format=json&limit=1 (Caused by ReadTimeoutError(\"HTTPSConnectionPool(host='nominatim.openstreetmap.org', port=443): Read timed out. (read timeout=1)\"))\n",
      "Category osm: bench, fsq: Unknown\n"
     ]
    },
    {
     "data": {
      "application/vnd.jupyter.widget-view+json": {
       "model_id": "e21147edf8054fb090799ee0c8922c23",
       "version_major": 2,
       "version_minor": 0
      },
      "text/plain": [
       "FloatProgress(value=0.0, layout=Layout(width='auto'), style=ProgressStyle(bar_color='black'))"
      ]
     },
     "metadata": {},
     "output_type": "display_data"
    },
    {
     "data": {
      "application/vnd.jupyter.widget-view+json": {
       "model_id": "e6c331cb01744eb39831b7d1b0c12056",
       "version_major": 2,
       "version_minor": 0
      },
      "text/plain": [
       "FloatProgress(value=0.0, layout=Layout(width='auto'), style=ProgressStyle(bar_color='black'))"
      ]
     },
     "metadata": {},
     "output_type": "display_data"
    },
    {
     "data": {
      "application/vnd.jupyter.widget-view+json": {
       "model_id": "4b38a2c857244402ab73e87e780b86e7",
       "version_major": 2,
       "version_minor": 0
      },
      "text/plain": [
       "FloatProgress(value=0.0, layout=Layout(width='auto'), style=ProgressStyle(bar_color='black'))"
      ]
     },
     "metadata": {},
     "output_type": "display_data"
    },
    {
     "data": {
      "application/vnd.jupyter.widget-view+json": {
       "model_id": "a14865897a3340fd946105a8109460a3",
       "version_major": 2,
       "version_minor": 0
      },
      "text/plain": [
       "FloatProgress(value=0.0, layout=Layout(width='auto'), style=ProgressStyle(bar_color='black'))"
      ]
     },
     "metadata": {},
     "output_type": "display_data"
    },
    {
     "data": {
      "application/vnd.jupyter.widget-view+json": {
       "model_id": "2014f4e44634406b9d3c8f04feeecedf",
       "version_major": 2,
       "version_minor": 0
      },
      "text/plain": [
       "FloatProgress(value=0.0, layout=Layout(width='auto'), style=ProgressStyle(bar_color='black'))"
      ]
     },
     "metadata": {},
     "output_type": "display_data"
    },
    {
     "data": {
      "application/vnd.jupyter.widget-view+json": {
       "model_id": "d393d3b59ea94d7d93d5890e10c8175e",
       "version_major": 2,
       "version_minor": 0
      },
      "text/plain": [
       "FloatProgress(value=0.0, layout=Layout(width='auto'), style=ProgressStyle(bar_color='black'))"
      ]
     },
     "metadata": {},
     "output_type": "display_data"
    },
    {
     "data": {
      "application/vnd.jupyter.widget-view+json": {
       "model_id": "aec6b7a118814960a3dc9cd201e67b6a",
       "version_major": 2,
       "version_minor": 0
      },
      "text/plain": [
       "FloatProgress(value=0.0, layout=Layout(width='auto'), style=ProgressStyle(bar_color='black'))"
      ]
     },
     "metadata": {},
     "output_type": "display_data"
    },
    {
     "data": {
      "application/vnd.jupyter.widget-view+json": {
       "model_id": "a0a12e61a06e481fb1cd02a0ce51814b",
       "version_major": 2,
       "version_minor": 0
      },
      "text/plain": [
       "FloatProgress(value=0.0, layout=Layout(width='auto'), style=ProgressStyle(bar_color='black'))"
      ]
     },
     "metadata": {},
     "output_type": "display_data"
    },
    {
     "name": "stdout",
     "output_type": "stream",
     "text": [
      "Fetch attempt failed at radius 200: No matching features. Check query location, tags, and log.\n",
      "Fetch attempt failed at radius 500: No matching features. Check query location, tags, and log.\n",
      "Fetch attempt failed at radius 1000: No matching features. Check query location, tags, and log.\n",
      "Getting population density at (40.477700888968734, -74.22672837549383), radius=50m\n",
      "No population data at radius 50m, expanding search...\n",
      "No population data at radius 100m, expanding search...\n",
      "No population data at radius 200m, expanding search...\n",
      "No population data at radius 400m, expanding search...\n",
      "No population found after expansions. Falling back to nearest town/city center...\n",
      "No population data found, even after fallback.\n",
      "Getting POI density at (40.477700888968734, -74.22672837549383), radius=50m\n",
      "OSM query failed at radius 50m: No matching features. Check query location, tags, and log.\n",
      "OSM query failed at radius 100m: No matching features. Check query location, tags, and log.\n",
      "OSM query failed at radius 200m: No matching features. Check query location, tags, and log.\n",
      "OSM query failed at radius 400m: No matching features. Check query location, tags, and log.\n",
      "No POIs found after expansions. Falling back to nearest town/city center...\n",
      "Found osm poi 12\n",
      "Getting Four Square Count\n",
      "Getting media_income ...\n",
      "Fetch attempt failed at radius 200: No matching features. Check query location, tags, and log.\n",
      "Fetch attempt failed at radius 500: No matching features. Check query location, tags, and log.\n",
      "Fetch attempt failed at radius 1000: No matching features. Check query location, tags, and log.\n"
     ]
    },
    {
     "data": {
      "application/vnd.jupyter.widget-view+json": {
       "model_id": "b277d927bdbd4f62aaa00e44ee19f245",
       "version_major": 2,
       "version_minor": 0
      },
      "text/plain": [
       "FloatProgress(value=0.0, layout=Layout(width='auto'), style=ProgressStyle(bar_color='black'))"
      ]
     },
     "metadata": {},
     "output_type": "display_data"
    },
    {
     "data": {
      "application/vnd.jupyter.widget-view+json": {
       "model_id": "02b9424d33934ffc8bf0cef16313e2d6",
       "version_major": 2,
       "version_minor": 0
      },
      "text/plain": [
       "FloatProgress(value=0.0, layout=Layout(width='auto'), style=ProgressStyle(bar_color='black'))"
      ]
     },
     "metadata": {},
     "output_type": "display_data"
    },
    {
     "data": {
      "application/vnd.jupyter.widget-view+json": {
       "model_id": "24b583e445cb44e4a78b279dceccc6ee",
       "version_major": 2,
       "version_minor": 0
      },
      "text/plain": [
       "FloatProgress(value=0.0, layout=Layout(width='auto'), style=ProgressStyle(bar_color='black'))"
      ]
     },
     "metadata": {},
     "output_type": "display_data"
    },
    {
     "data": {
      "application/vnd.jupyter.widget-view+json": {
       "model_id": "1086fe4d936c4f58800e8f65418f6cdf",
       "version_major": 2,
       "version_minor": 0
      },
      "text/plain": [
       "FloatProgress(value=0.0, layout=Layout(width='auto'), style=ProgressStyle(bar_color='black'))"
      ]
     },
     "metadata": {},
     "output_type": "display_data"
    },
    {
     "name": "stdout",
     "output_type": "stream",
     "text": [
      "Town fallback failed: HTTPSConnectionPool(host='nominatim.openstreetmap.org', port=443): Max retries exceeded with url: /search?q=New+York&format=json&limit=1 (Caused by ReadTimeoutError(\"HTTPSConnectionPool(host='nominatim.openstreetmap.org', port=443): Read timed out. (read timeout=1)\"))\n",
      "Category osm: bench, fsq: Unknown\n"
     ]
    },
    {
     "data": {
      "application/vnd.jupyter.widget-view+json": {
       "model_id": "ebea8e0b79db4b058ef87266222a0ae0",
       "version_major": 2,
       "version_minor": 0
      },
      "text/plain": [
       "FloatProgress(value=0.0, layout=Layout(width='auto'), style=ProgressStyle(bar_color='black'))"
      ]
     },
     "metadata": {},
     "output_type": "display_data"
    },
    {
     "data": {
      "application/vnd.jupyter.widget-view+json": {
       "model_id": "29428fbc17a948e896b0929391cc52ca",
       "version_major": 2,
       "version_minor": 0
      },
      "text/plain": [
       "FloatProgress(value=0.0, layout=Layout(width='auto'), style=ProgressStyle(bar_color='black'))"
      ]
     },
     "metadata": {},
     "output_type": "display_data"
    },
    {
     "data": {
      "application/vnd.jupyter.widget-view+json": {
       "model_id": "57798f4ab93843d7a3e9d87e43c966a0",
       "version_major": 2,
       "version_minor": 0
      },
      "text/plain": [
       "FloatProgress(value=0.0, layout=Layout(width='auto'), style=ProgressStyle(bar_color='black'))"
      ]
     },
     "metadata": {},
     "output_type": "display_data"
    },
    {
     "data": {
      "application/vnd.jupyter.widget-view+json": {
       "model_id": "74df42b2d6794ad6bafee88073d635b2",
       "version_major": 2,
       "version_minor": 0
      },
      "text/plain": [
       "FloatProgress(value=0.0, layout=Layout(width='auto'), style=ProgressStyle(bar_color='black'))"
      ]
     },
     "metadata": {},
     "output_type": "display_data"
    },
    {
     "name": "stdout",
     "output_type": "stream",
     "text": [
      "Town fallback failed: HTTPSConnectionPool(host='nominatim.openstreetmap.org', port=443): Max retries exceeded with url: /search?q=New+York&format=json&limit=1 (Caused by ReadTimeoutError(\"HTTPSConnectionPool(host='nominatim.openstreetmap.org', port=443): Read timed out. (read timeout=1)\"))\n",
      "Fetch attempt failed at radius 200: No matching features. Check query location, tags, and log.\n",
      "Fetch attempt failed at radius 500: No matching features. Check query location, tags, and log.\n",
      "Fetch attempt failed at radius 1000: No matching features. Check query location, tags, and log.\n",
      "Revenue estimation ...\n",
      "Getting population density at (40.477251733381244, -74.22717753108134), radius=500m\n",
      "No population data at radius 500m, expanding search...\n",
      "No population data at radius 1000m, expanding search...\n",
      "No population data at radius 2000m, expanding search...\n",
      "No population data at radius 4000m, expanding search...\n",
      "No population found after expansions. Falling back to nearest town/city center...\n",
      "No population data found, even after fallback.\n",
      "Getting POI density at (40.477251733381244, -74.22717753108134), radius=500m\n",
      "OSM query failed at radius 500m: No matching features. Check query location, tags, and log.\n",
      "OSM query failed at radius 1000m: No matching features. Check query location, tags, and log.\n",
      "Found osm_pois 8\n",
      "Getting Four Square Count\n",
      "revenue 800\n",
      "Building features for location ...\n",
      "Generating circle points with max 50 subcircles\n",
      "low, high 50, 100\n",
      "looper 3\n",
      "looper 2 3\n",
      "haversine condition 36.88996998597948 100\n",
      "haversine condition 56.84795194021104 100\n",
      "looper 2 3\n",
      "haversine condition 25.87809787762507 100\n",
      "haversine condition 50.40304485127358 100\n",
      "looper 2 3\n",
      "haversine condition 28.423840995158645 100\n",
      "haversine condition 51.75626988275448 100\n",
      "Chosen small_radius: 50.00 m, generated 6 subcircles\n",
      "Number of neighborhood points 6\n",
      "Getting population density at (40.47635342220625, -74.22672837549383), radius=50m\n",
      "No population data at radius 50m, expanding search...\n",
      "No population data at radius 100m, expanding search...\n",
      "No population data at radius 200m, expanding search...\n",
      "No population data at radius 400m, expanding search...\n",
      "No population found after expansions. Falling back to nearest town/city center...\n",
      "No population data found, even after fallback.\n",
      "Getting POI density at (40.47635342220625, -74.22672837549383), radius=50m\n",
      "OSM query failed at radius 50m: No matching features. Check query location, tags, and log.\n",
      "OSM query failed at radius 100m: No matching features. Check query location, tags, and log.\n",
      "OSM query failed at radius 200m: No matching features. Check query location, tags, and log.\n",
      "OSM query failed at radius 400m: No matching features. Check query location, tags, and log.\n",
      "No POIs found after expansions. Falling back to nearest town/city center...\n",
      "OSM fallback query failed: No matching features. Check query location, tags, and log.\n",
      "No POIs found, even after fallback.\n",
      "Getting Four Square Count\n",
      "Getting media_income ...\n",
      "Fetch attempt failed at radius 200: No matching features. Check query location, tags, and log.\n",
      "Fetch attempt failed at radius 500: No matching features. Check query location, tags, and log.\n",
      "Fetch attempt failed at radius 1000: No matching features. Check query location, tags, and log.\n"
     ]
    },
    {
     "data": {
      "application/vnd.jupyter.widget-view+json": {
       "model_id": "28bb1f1e0f114a69a135136d5f1c2fc6",
       "version_major": 2,
       "version_minor": 0
      },
      "text/plain": [
       "FloatProgress(value=0.0, layout=Layout(width='auto'), style=ProgressStyle(bar_color='black'))"
      ]
     },
     "metadata": {},
     "output_type": "display_data"
    },
    {
     "data": {
      "application/vnd.jupyter.widget-view+json": {
       "model_id": "0b88ad9269e744c7a4ebd9333492180f",
       "version_major": 2,
       "version_minor": 0
      },
      "text/plain": [
       "FloatProgress(value=0.0, layout=Layout(width='auto'), style=ProgressStyle(bar_color='black'))"
      ]
     },
     "metadata": {},
     "output_type": "display_data"
    },
    {
     "data": {
      "application/vnd.jupyter.widget-view+json": {
       "model_id": "3a0cd313d5e84e08ac27df56fe063ff0",
       "version_major": 2,
       "version_minor": 0
      },
      "text/plain": [
       "FloatProgress(value=0.0, layout=Layout(width='auto'), style=ProgressStyle(bar_color='black'))"
      ]
     },
     "metadata": {},
     "output_type": "display_data"
    },
    {
     "data": {
      "application/vnd.jupyter.widget-view+json": {
       "model_id": "ea2d92aea8534be88c5ffdab19fb04dd",
       "version_major": 2,
       "version_minor": 0
      },
      "text/plain": [
       "FloatProgress(value=0.0, layout=Layout(width='auto'), style=ProgressStyle(bar_color='black'))"
      ]
     },
     "metadata": {},
     "output_type": "display_data"
    },
    {
     "name": "stdout",
     "output_type": "stream",
     "text": [
      "Town fallback failed: HTTPSConnectionPool(host='nominatim.openstreetmap.org', port=443): Max retries exceeded with url: /search?q=New+York&format=json&limit=1 (Caused by ReadTimeoutError(\"HTTPSConnectionPool(host='nominatim.openstreetmap.org', port=443): Read timed out. (read timeout=1)\"))\n",
      "Category osm: bench, fsq: Unknown\n"
     ]
    },
    {
     "data": {
      "application/vnd.jupyter.widget-view+json": {
       "model_id": "acdd9219619a42a0a71f638cd9866ce2",
       "version_major": 2,
       "version_minor": 0
      },
      "text/plain": [
       "FloatProgress(value=0.0, layout=Layout(width='auto'), style=ProgressStyle(bar_color='black'))"
      ]
     },
     "metadata": {},
     "output_type": "display_data"
    },
    {
     "data": {
      "application/vnd.jupyter.widget-view+json": {
       "model_id": "01a66b2b747645e4a96cb92037f74581",
       "version_major": 2,
       "version_minor": 0
      },
      "text/plain": [
       "FloatProgress(value=0.0, layout=Layout(width='auto'), style=ProgressStyle(bar_color='black'))"
      ]
     },
     "metadata": {},
     "output_type": "display_data"
    },
    {
     "data": {
      "application/vnd.jupyter.widget-view+json": {
       "model_id": "73b4f1838452442ba1ab84e5ed1bc2f1",
       "version_major": 2,
       "version_minor": 0
      },
      "text/plain": [
       "FloatProgress(value=0.0, layout=Layout(width='auto'), style=ProgressStyle(bar_color='black'))"
      ]
     },
     "metadata": {},
     "output_type": "display_data"
    },
    {
     "data": {
      "application/vnd.jupyter.widget-view+json": {
       "model_id": "fccfc226c9ec453897580d9982b03c3f",
       "version_major": 2,
       "version_minor": 0
      },
      "text/plain": [
       "FloatProgress(value=0.0, layout=Layout(width='auto'), style=ProgressStyle(bar_color='black'))"
      ]
     },
     "metadata": {},
     "output_type": "display_data"
    },
    {
     "data": {
      "application/vnd.jupyter.widget-view+json": {
       "model_id": "1295634092da4da2ae6db8d13ca29e73",
       "version_major": 2,
       "version_minor": 0
      },
      "text/plain": [
       "FloatProgress(value=0.0, layout=Layout(width='auto'), style=ProgressStyle(bar_color='black'))"
      ]
     },
     "metadata": {},
     "output_type": "display_data"
    },
    {
     "data": {
      "application/vnd.jupyter.widget-view+json": {
       "model_id": "937382f73d824feb923fed43c68ab015",
       "version_major": 2,
       "version_minor": 0
      },
      "text/plain": [
       "FloatProgress(value=0.0, layout=Layout(width='auto'), style=ProgressStyle(bar_color='black'))"
      ]
     },
     "metadata": {},
     "output_type": "display_data"
    },
    {
     "data": {
      "application/vnd.jupyter.widget-view+json": {
       "model_id": "90e085712d9f44d085e2a681374fd6a2",
       "version_major": 2,
       "version_minor": 0
      },
      "text/plain": [
       "FloatProgress(value=0.0, layout=Layout(width='auto'), style=ProgressStyle(bar_color='black'))"
      ]
     },
     "metadata": {},
     "output_type": "display_data"
    },
    {
     "data": {
      "application/vnd.jupyter.widget-view+json": {
       "model_id": "ce8b57a109874c20a28260238e02b51a",
       "version_major": 2,
       "version_minor": 0
      },
      "text/plain": [
       "FloatProgress(value=0.0, layout=Layout(width='auto'), style=ProgressStyle(bar_color='black'))"
      ]
     },
     "metadata": {},
     "output_type": "display_data"
    },
    {
     "name": "stdout",
     "output_type": "stream",
     "text": [
      "Fetch attempt failed at radius 200: No matching features. Check query location, tags, and log.\n",
      "Fetch attempt failed at radius 500: No matching features. Check query location, tags, and log.\n",
      "Fetch attempt failed at radius 1000: No matching features. Check query location, tags, and log.\n",
      "Getting population density at (40.47635342220625, -74.22605464211259), radius=50m\n",
      "No population data at radius 50m, expanding search...\n",
      "No population data at radius 100m, expanding search...\n",
      "No population data at radius 200m, expanding search...\n",
      "No population data at radius 400m, expanding search...\n",
      "No population found after expansions. Falling back to nearest town/city center...\n",
      "No population data found, even after fallback.\n",
      "Getting POI density at (40.47635342220625, -74.22605464211259), radius=50m\n",
      "OSM query failed at radius 50m: No matching features. Check query location, tags, and log.\n",
      "OSM query failed at radius 100m: No matching features. Check query location, tags, and log.\n",
      "OSM query failed at radius 200m: No matching features. Check query location, tags, and log.\n",
      "OSM query failed at radius 400m: No matching features. Check query location, tags, and log.\n",
      "No POIs found after expansions. Falling back to nearest town/city center...\n",
      "OSM fallback query failed: No matching features. Check query location, tags, and log.\n",
      "No POIs found, even after fallback.\n",
      "Getting Four Square Count\n",
      "Getting media_income ...\n",
      "Fetch attempt failed at radius 200: No matching features. Check query location, tags, and log.\n",
      "Fetch attempt failed at radius 500: No matching features. Check query location, tags, and log.\n",
      "Fetch attempt failed at radius 1000: No matching features. Check query location, tags, and log.\n"
     ]
    },
    {
     "data": {
      "application/vnd.jupyter.widget-view+json": {
       "model_id": "f605dd3bcea241e4aa3d91b316d73bc0",
       "version_major": 2,
       "version_minor": 0
      },
      "text/plain": [
       "FloatProgress(value=0.0, layout=Layout(width='auto'), style=ProgressStyle(bar_color='black'))"
      ]
     },
     "metadata": {},
     "output_type": "display_data"
    },
    {
     "data": {
      "application/vnd.jupyter.widget-view+json": {
       "model_id": "1363971fd8034909b68e773cddaa941d",
       "version_major": 2,
       "version_minor": 0
      },
      "text/plain": [
       "FloatProgress(value=0.0, layout=Layout(width='auto'), style=ProgressStyle(bar_color='black'))"
      ]
     },
     "metadata": {},
     "output_type": "display_data"
    },
    {
     "data": {
      "application/vnd.jupyter.widget-view+json": {
       "model_id": "1593eaa63b954634b90818b704815730",
       "version_major": 2,
       "version_minor": 0
      },
      "text/plain": [
       "FloatProgress(value=0.0, layout=Layout(width='auto'), style=ProgressStyle(bar_color='black'))"
      ]
     },
     "metadata": {},
     "output_type": "display_data"
    },
    {
     "data": {
      "application/vnd.jupyter.widget-view+json": {
       "model_id": "893ec3edfd8743c3bce17cd6fdbe2bea",
       "version_major": 2,
       "version_minor": 0
      },
      "text/plain": [
       "FloatProgress(value=0.0, layout=Layout(width='auto'), style=ProgressStyle(bar_color='black'))"
      ]
     },
     "metadata": {},
     "output_type": "display_data"
    },
    {
     "data": {
      "application/vnd.jupyter.widget-view+json": {
       "model_id": "4188a9696bbc4e9f86a5aca495183d01",
       "version_major": 2,
       "version_minor": 0
      },
      "text/plain": [
       "FloatProgress(value=0.0, layout=Layout(width='auto'), style=ProgressStyle(bar_color='black'))"
      ]
     },
     "metadata": {},
     "output_type": "display_data"
    },
    {
     "data": {
      "application/vnd.jupyter.widget-view+json": {
       "model_id": "2c54fe2fbf8147b89eeca76deb8d9705",
       "version_major": 2,
       "version_minor": 0
      },
      "text/plain": [
       "FloatProgress(value=0.0, layout=Layout(width='auto'), style=ProgressStyle(bar_color='black'))"
      ]
     },
     "metadata": {},
     "output_type": "display_data"
    },
    {
     "data": {
      "application/vnd.jupyter.widget-view+json": {
       "model_id": "f910bcc48c3543bfa3bef9e3cbcd15b8",
       "version_major": 2,
       "version_minor": 0
      },
      "text/plain": [
       "FloatProgress(value=0.0, layout=Layout(width='auto'), style=ProgressStyle(bar_color='black'))"
      ]
     },
     "metadata": {},
     "output_type": "display_data"
    },
    {
     "data": {
      "application/vnd.jupyter.widget-view+json": {
       "model_id": "8fefb8b83c6c44d2ba51d76415cbb782",
       "version_major": 2,
       "version_minor": 0
      },
      "text/plain": [
       "FloatProgress(value=0.0, layout=Layout(width='auto'), style=ProgressStyle(bar_color='black'))"
      ]
     },
     "metadata": {},
     "output_type": "display_data"
    },
    {
     "name": "stdout",
     "output_type": "stream",
     "text": [
      "Category osm: bench, fsq: Unknown\n"
     ]
    },
    {
     "data": {
      "application/vnd.jupyter.widget-view+json": {
       "model_id": "975756f81d954326a8ab733ba651423f",
       "version_major": 2,
       "version_minor": 0
      },
      "text/plain": [
       "FloatProgress(value=0.0, layout=Layout(width='auto'), style=ProgressStyle(bar_color='black'))"
      ]
     },
     "metadata": {},
     "output_type": "display_data"
    },
    {
     "data": {
      "application/vnd.jupyter.widget-view+json": {
       "model_id": "fd3ba27fbee746aeb22cd7610d5056f9",
       "version_major": 2,
       "version_minor": 0
      },
      "text/plain": [
       "FloatProgress(value=0.0, layout=Layout(width='auto'), style=ProgressStyle(bar_color='black'))"
      ]
     },
     "metadata": {},
     "output_type": "display_data"
    },
    {
     "data": {
      "application/vnd.jupyter.widget-view+json": {
       "model_id": "cad88fb385c3412a85570a5198954f03",
       "version_major": 2,
       "version_minor": 0
      },
      "text/plain": [
       "FloatProgress(value=0.0, layout=Layout(width='auto'), style=ProgressStyle(bar_color='black'))"
      ]
     },
     "metadata": {},
     "output_type": "display_data"
    },
    {
     "data": {
      "application/vnd.jupyter.widget-view+json": {
       "model_id": "92be74539fa24fca9c4e71af4523ed90",
       "version_major": 2,
       "version_minor": 0
      },
      "text/plain": [
       "FloatProgress(value=0.0, layout=Layout(width='auto'), style=ProgressStyle(bar_color='black'))"
      ]
     },
     "metadata": {},
     "output_type": "display_data"
    },
    {
     "data": {
      "application/vnd.jupyter.widget-view+json": {
       "model_id": "df50e53b9ad14760bbd5c4a50b8a60e7",
       "version_major": 2,
       "version_minor": 0
      },
      "text/plain": [
       "FloatProgress(value=0.0, layout=Layout(width='auto'), style=ProgressStyle(bar_color='black'))"
      ]
     },
     "metadata": {},
     "output_type": "display_data"
    },
    {
     "data": {
      "application/vnd.jupyter.widget-view+json": {
       "model_id": "4aad1be103544e538ceffe327da6bcb2",
       "version_major": 2,
       "version_minor": 0
      },
      "text/plain": [
       "FloatProgress(value=0.0, layout=Layout(width='auto'), style=ProgressStyle(bar_color='black'))"
      ]
     },
     "metadata": {},
     "output_type": "display_data"
    },
    {
     "data": {
      "application/vnd.jupyter.widget-view+json": {
       "model_id": "5e63eea23c2e4bc7a2acae256f144ca3",
       "version_major": 2,
       "version_minor": 0
      },
      "text/plain": [
       "FloatProgress(value=0.0, layout=Layout(width='auto'), style=ProgressStyle(bar_color='black'))"
      ]
     },
     "metadata": {},
     "output_type": "display_data"
    },
    {
     "data": {
      "application/vnd.jupyter.widget-view+json": {
       "model_id": "65bf4c0144b649dea21a20dcb649c776",
       "version_major": 2,
       "version_minor": 0
      },
      "text/plain": [
       "FloatProgress(value=0.0, layout=Layout(width='auto'), style=ProgressStyle(bar_color='black'))"
      ]
     },
     "metadata": {},
     "output_type": "display_data"
    },
    {
     "name": "stdout",
     "output_type": "stream",
     "text": [
      "Fetch attempt failed at radius 200: No matching features. Check query location, tags, and log.\n",
      "Fetch attempt failed at radius 500: No matching features. Check query location, tags, and log.\n",
      "Fetch attempt failed at radius 1000: No matching features. Check query location, tags, and log.\n",
      "Getting population density at (40.47702715558749, -74.22672837549383), radius=50m\n",
      "No population data at radius 50m, expanding search...\n",
      "No population data at radius 100m, expanding search...\n",
      "No population data at radius 200m, expanding search...\n",
      "No population data at radius 400m, expanding search...\n",
      "No population found after expansions. Falling back to nearest town/city center...\n",
      "No population data found, even after fallback.\n",
      "Getting POI density at (40.47702715558749, -74.22672837549383), radius=50m\n",
      "OSM query failed at radius 50m: No matching features. Check query location, tags, and log.\n",
      "OSM query failed at radius 100m: No matching features. Check query location, tags, and log.\n",
      "OSM query failed at radius 200m: No matching features. Check query location, tags, and log.\n",
      "OSM query failed at radius 400m: No matching features. Check query location, tags, and log.\n",
      "No POIs found after expansions. Falling back to nearest town/city center...\n",
      "OSM fallback query failed: No matching features. Check query location, tags, and log.\n",
      "No POIs found, even after fallback.\n",
      "Getting Four Square Count\n",
      "Getting media_income ...\n",
      "Fetch attempt failed at radius 200: No matching features. Check query location, tags, and log.\n",
      "Fetch attempt failed at radius 500: No matching features. Check query location, tags, and log.\n",
      "Fetch attempt failed at radius 1000: No matching features. Check query location, tags, and log.\n"
     ]
    },
    {
     "data": {
      "application/vnd.jupyter.widget-view+json": {
       "model_id": "36f534e9b9eb4bde943dfa61054ac4fe",
       "version_major": 2,
       "version_minor": 0
      },
      "text/plain": [
       "FloatProgress(value=0.0, layout=Layout(width='auto'), style=ProgressStyle(bar_color='black'))"
      ]
     },
     "metadata": {},
     "output_type": "display_data"
    },
    {
     "data": {
      "application/vnd.jupyter.widget-view+json": {
       "model_id": "32527357ac79425abe12887289eaa204",
       "version_major": 2,
       "version_minor": 0
      },
      "text/plain": [
       "FloatProgress(value=0.0, layout=Layout(width='auto'), style=ProgressStyle(bar_color='black'))"
      ]
     },
     "metadata": {},
     "output_type": "display_data"
    },
    {
     "data": {
      "application/vnd.jupyter.widget-view+json": {
       "model_id": "9e567038dbe44112b89e3b9538068df5",
       "version_major": 2,
       "version_minor": 0
      },
      "text/plain": [
       "FloatProgress(value=0.0, layout=Layout(width='auto'), style=ProgressStyle(bar_color='black'))"
      ]
     },
     "metadata": {},
     "output_type": "display_data"
    },
    {
     "data": {
      "application/vnd.jupyter.widget-view+json": {
       "model_id": "f34446f0ee3e4f0d863d8a304296665f",
       "version_major": 2,
       "version_minor": 0
      },
      "text/plain": [
       "FloatProgress(value=0.0, layout=Layout(width='auto'), style=ProgressStyle(bar_color='black'))"
      ]
     },
     "metadata": {},
     "output_type": "display_data"
    },
    {
     "name": "stdout",
     "output_type": "stream",
     "text": [
      "Town fallback failed: HTTPSConnectionPool(host='nominatim.openstreetmap.org', port=443): Max retries exceeded with url: /search?q=New+York&format=json&limit=1 (Caused by ReadTimeoutError(\"HTTPSConnectionPool(host='nominatim.openstreetmap.org', port=443): Read timed out. (read timeout=1)\"))\n",
      "Category osm: bench, fsq: Unknown\n"
     ]
    },
    {
     "data": {
      "application/vnd.jupyter.widget-view+json": {
       "model_id": "8b3c3f266151492194dca33ec721249b",
       "version_major": 2,
       "version_minor": 0
      },
      "text/plain": [
       "FloatProgress(value=0.0, layout=Layout(width='auto'), style=ProgressStyle(bar_color='black'))"
      ]
     },
     "metadata": {},
     "output_type": "display_data"
    },
    {
     "data": {
      "application/vnd.jupyter.widget-view+json": {
       "model_id": "2391803275d740c1969680978a248626",
       "version_major": 2,
       "version_minor": 0
      },
      "text/plain": [
       "FloatProgress(value=0.0, layout=Layout(width='auto'), style=ProgressStyle(bar_color='black'))"
      ]
     },
     "metadata": {},
     "output_type": "display_data"
    },
    {
     "data": {
      "application/vnd.jupyter.widget-view+json": {
       "model_id": "cfb3d12ba13a45eaba1cf701b58a7631",
       "version_major": 2,
       "version_minor": 0
      },
      "text/plain": [
       "FloatProgress(value=0.0, layout=Layout(width='auto'), style=ProgressStyle(bar_color='black'))"
      ]
     },
     "metadata": {},
     "output_type": "display_data"
    },
    {
     "data": {
      "application/vnd.jupyter.widget-view+json": {
       "model_id": "a005739279b6480a81424474f8a8499e",
       "version_major": 2,
       "version_minor": 0
      },
      "text/plain": [
       "FloatProgress(value=0.0, layout=Layout(width='auto'), style=ProgressStyle(bar_color='black'))"
      ]
     },
     "metadata": {},
     "output_type": "display_data"
    },
    {
     "name": "stdout",
     "output_type": "stream",
     "text": [
      "Town fallback failed: HTTPSConnectionPool(host='nominatim.openstreetmap.org', port=443): Max retries exceeded with url: /search?q=New+York&format=json&limit=1 (Caused by ReadTimeoutError(\"HTTPSConnectionPool(host='nominatim.openstreetmap.org', port=443): Read timed out. (read timeout=1)\"))\n",
      "Fetch attempt failed at radius 200: No matching features. Check query location, tags, and log.\n",
      "Fetch attempt failed at radius 500: No matching features. Check query location, tags, and log.\n",
      "Fetch attempt failed at radius 1000: No matching features. Check query location, tags, and log.\n",
      "Getting population density at (40.47702715558749, -74.22605464211259), radius=50m\n",
      "No population data at radius 50m, expanding search...\n",
      "No population data at radius 100m, expanding search...\n",
      "No population data at radius 200m, expanding search...\n",
      "No population data at radius 400m, expanding search...\n",
      "No population found after expansions. Falling back to nearest town/city center...\n",
      "Geocoding fallback failed: HTTPSConnectionPool(host='nominatim.openstreetmap.org', port=443): Max retries exceeded with url: /search?q=City+of+New+York&format=json&limit=1 (Caused by ReadTimeoutError(\"HTTPSConnectionPool(host='nominatim.openstreetmap.org', port=443): Read timed out. (read timeout=1)\"))\n",
      "No population data found, even after fallback.\n",
      "Getting POI density at (40.47702715558749, -74.22605464211259), radius=50m\n",
      "OSM query failed at radius 50m: No matching features. Check query location, tags, and log.\n",
      "OSM query failed at radius 100m: No matching features. Check query location, tags, and log.\n",
      "OSM query failed at radius 200m: No matching features. Check query location, tags, and log.\n",
      "OSM query failed at radius 400m: No matching features. Check query location, tags, and log.\n",
      "No POIs found after expansions. Falling back to nearest town/city center...\n",
      "Found osm poi 12\n",
      "Getting Four Square Count\n",
      "Getting media_income ...\n",
      "Fetch attempt failed at radius 200: No matching features. Check query location, tags, and log.\n",
      "Fetch attempt failed at radius 500: No matching features. Check query location, tags, and log.\n",
      "Fetch attempt failed at radius 1000: No matching features. Check query location, tags, and log.\n"
     ]
    },
    {
     "data": {
      "application/vnd.jupyter.widget-view+json": {
       "model_id": "9b42e77c86e94f46a93b1c9defcd5957",
       "version_major": 2,
       "version_minor": 0
      },
      "text/plain": [
       "FloatProgress(value=0.0, layout=Layout(width='auto'), style=ProgressStyle(bar_color='black'))"
      ]
     },
     "metadata": {},
     "output_type": "display_data"
    },
    {
     "data": {
      "application/vnd.jupyter.widget-view+json": {
       "model_id": "169f45b4b9804ddebf6e90c935168042",
       "version_major": 2,
       "version_minor": 0
      },
      "text/plain": [
       "FloatProgress(value=0.0, layout=Layout(width='auto'), style=ProgressStyle(bar_color='black'))"
      ]
     },
     "metadata": {},
     "output_type": "display_data"
    },
    {
     "data": {
      "application/vnd.jupyter.widget-view+json": {
       "model_id": "2e8b073107624cb4b4108a83fb02118d",
       "version_major": 2,
       "version_minor": 0
      },
      "text/plain": [
       "FloatProgress(value=0.0, layout=Layout(width='auto'), style=ProgressStyle(bar_color='black'))"
      ]
     },
     "metadata": {},
     "output_type": "display_data"
    },
    {
     "data": {
      "application/vnd.jupyter.widget-view+json": {
       "model_id": "77aa7498a3284df7a5e81e403c93014e",
       "version_major": 2,
       "version_minor": 0
      },
      "text/plain": [
       "FloatProgress(value=0.0, layout=Layout(width='auto'), style=ProgressStyle(bar_color='black'))"
      ]
     },
     "metadata": {},
     "output_type": "display_data"
    },
    {
     "name": "stdout",
     "output_type": "stream",
     "text": [
      "Town fallback failed: HTTPSConnectionPool(host='nominatim.openstreetmap.org', port=443): Max retries exceeded with url: /search?q=New+York&format=json&limit=1 (Caused by ReadTimeoutError(\"HTTPSConnectionPool(host='nominatim.openstreetmap.org', port=443): Read timed out. (read timeout=1)\"))\n",
      "Category osm: bench, fsq: Unknown\n"
     ]
    },
    {
     "data": {
      "application/vnd.jupyter.widget-view+json": {
       "model_id": "7a9de8450a934350a2d6ae26899de583",
       "version_major": 2,
       "version_minor": 0
      },
      "text/plain": [
       "FloatProgress(value=0.0, layout=Layout(width='auto'), style=ProgressStyle(bar_color='black'))"
      ]
     },
     "metadata": {},
     "output_type": "display_data"
    },
    {
     "data": {
      "application/vnd.jupyter.widget-view+json": {
       "model_id": "4bea045bc1a946f2971ce5276581b468",
       "version_major": 2,
       "version_minor": 0
      },
      "text/plain": [
       "FloatProgress(value=0.0, layout=Layout(width='auto'), style=ProgressStyle(bar_color='black'))"
      ]
     },
     "metadata": {},
     "output_type": "display_data"
    },
    {
     "data": {
      "application/vnd.jupyter.widget-view+json": {
       "model_id": "3833e86c158f43b1a436f9c18ac961ad",
       "version_major": 2,
       "version_minor": 0
      },
      "text/plain": [
       "FloatProgress(value=0.0, layout=Layout(width='auto'), style=ProgressStyle(bar_color='black'))"
      ]
     },
     "metadata": {},
     "output_type": "display_data"
    },
    {
     "data": {
      "application/vnd.jupyter.widget-view+json": {
       "model_id": "5ea4fb5a4f36475d99c0d10ba92e0af4",
       "version_major": 2,
       "version_minor": 0
      },
      "text/plain": [
       "FloatProgress(value=0.0, layout=Layout(width='auto'), style=ProgressStyle(bar_color='black'))"
      ]
     },
     "metadata": {},
     "output_type": "display_data"
    },
    {
     "name": "stdout",
     "output_type": "stream",
     "text": [
      "Town fallback failed: HTTPSConnectionPool(host='nominatim.openstreetmap.org', port=443): Max retries exceeded with url: /search?q=New+York&format=json&limit=1 (Caused by ReadTimeoutError(\"HTTPSConnectionPool(host='nominatim.openstreetmap.org', port=443): Read timed out. (read timeout=1)\"))\n",
      "Fetch attempt failed at radius 200: No matching features. Check query location, tags, and log.\n",
      "Fetch attempt failed at radius 500: No matching features. Check query location, tags, and log.\n",
      "Fetch attempt failed at radius 1000: No matching features. Check query location, tags, and log.\n",
      "Getting population density at (40.477700888968734, -74.22672837549383), radius=50m\n",
      "No population data at radius 50m, expanding search...\n",
      "No population data at radius 100m, expanding search...\n",
      "No population data at radius 200m, expanding search...\n",
      "No population data at radius 400m, expanding search...\n",
      "No population found after expansions. Falling back to nearest town/city center...\n",
      "No population data found, even after fallback.\n",
      "Getting POI density at (40.477700888968734, -74.22672837549383), radius=50m\n",
      "OSM query failed at radius 50m: No matching features. Check query location, tags, and log.\n",
      "OSM query failed at radius 100m: No matching features. Check query location, tags, and log.\n",
      "OSM query failed at radius 200m: No matching features. Check query location, tags, and log.\n",
      "OSM query failed at radius 400m: No matching features. Check query location, tags, and log.\n",
      "No POIs found after expansions. Falling back to nearest town/city center...\n",
      "Geocoding fallback failed: HTTPSConnectionPool(host='nominatim.openstreetmap.org', port=443): Max retries exceeded with url: /search?q=City+of+New+York&format=json&limit=1 (Caused by ReadTimeoutError(\"HTTPSConnectionPool(host='nominatim.openstreetmap.org', port=443): Read timed out. (read timeout=1)\"))\n",
      "No POIs found, even after fallback.\n",
      "Getting Four Square Count\n",
      "Getting media_income ...\n",
      "Fetch attempt failed at radius 200: No matching features. Check query location, tags, and log.\n",
      "Fetch attempt failed at radius 500: No matching features. Check query location, tags, and log.\n",
      "Fetch attempt failed at radius 1000: No matching features. Check query location, tags, and log.\n"
     ]
    },
    {
     "data": {
      "application/vnd.jupyter.widget-view+json": {
       "model_id": "22ad5e6217064ba38e2c7c35958814c8",
       "version_major": 2,
       "version_minor": 0
      },
      "text/plain": [
       "FloatProgress(value=0.0, layout=Layout(width='auto'), style=ProgressStyle(bar_color='black'))"
      ]
     },
     "metadata": {},
     "output_type": "display_data"
    },
    {
     "data": {
      "application/vnd.jupyter.widget-view+json": {
       "model_id": "3440070c23f1442ca5477474e69df43b",
       "version_major": 2,
       "version_minor": 0
      },
      "text/plain": [
       "FloatProgress(value=0.0, layout=Layout(width='auto'), style=ProgressStyle(bar_color='black'))"
      ]
     },
     "metadata": {},
     "output_type": "display_data"
    },
    {
     "data": {
      "application/vnd.jupyter.widget-view+json": {
       "model_id": "8d194f59ad784a919fed188e53a9e2a3",
       "version_major": 2,
       "version_minor": 0
      },
      "text/plain": [
       "FloatProgress(value=0.0, layout=Layout(width='auto'), style=ProgressStyle(bar_color='black'))"
      ]
     },
     "metadata": {},
     "output_type": "display_data"
    },
    {
     "data": {
      "application/vnd.jupyter.widget-view+json": {
       "model_id": "1cf4dbdcd32949ecaabc445791099b51",
       "version_major": 2,
       "version_minor": 0
      },
      "text/plain": [
       "FloatProgress(value=0.0, layout=Layout(width='auto'), style=ProgressStyle(bar_color='black'))"
      ]
     },
     "metadata": {},
     "output_type": "display_data"
    },
    {
     "name": "stdout",
     "output_type": "stream",
     "text": [
      "Town fallback failed: HTTPSConnectionPool(host='nominatim.openstreetmap.org', port=443): Max retries exceeded with url: /search?q=New+York&format=json&limit=1 (Caused by ReadTimeoutError(\"HTTPSConnectionPool(host='nominatim.openstreetmap.org', port=443): Read timed out. (read timeout=1)\"))\n",
      "Category osm: bench, fsq: Unknown\n"
     ]
    },
    {
     "data": {
      "application/vnd.jupyter.widget-view+json": {
       "model_id": "eebe45596dc542ac995ab3a0e068de46",
       "version_major": 2,
       "version_minor": 0
      },
      "text/plain": [
       "FloatProgress(value=0.0, layout=Layout(width='auto'), style=ProgressStyle(bar_color='black'))"
      ]
     },
     "metadata": {},
     "output_type": "display_data"
    },
    {
     "data": {
      "application/vnd.jupyter.widget-view+json": {
       "model_id": "cbb19615e406412b963e5837c71af19e",
       "version_major": 2,
       "version_minor": 0
      },
      "text/plain": [
       "FloatProgress(value=0.0, layout=Layout(width='auto'), style=ProgressStyle(bar_color='black'))"
      ]
     },
     "metadata": {},
     "output_type": "display_data"
    },
    {
     "data": {
      "application/vnd.jupyter.widget-view+json": {
       "model_id": "5d688dc5daf043aaae115089b7b30728",
       "version_major": 2,
       "version_minor": 0
      },
      "text/plain": [
       "FloatProgress(value=0.0, layout=Layout(width='auto'), style=ProgressStyle(bar_color='black'))"
      ]
     },
     "metadata": {},
     "output_type": "display_data"
    },
    {
     "data": {
      "application/vnd.jupyter.widget-view+json": {
       "model_id": "1c246043df724da3915d8ec57c87121b",
       "version_major": 2,
       "version_minor": 0
      },
      "text/plain": [
       "FloatProgress(value=0.0, layout=Layout(width='auto'), style=ProgressStyle(bar_color='black'))"
      ]
     },
     "metadata": {},
     "output_type": "display_data"
    },
    {
     "name": "stdout",
     "output_type": "stream",
     "text": [
      "Town fallback failed: HTTPSConnectionPool(host='nominatim.openstreetmap.org', port=443): Max retries exceeded with url: /search?q=New+York&format=json&limit=1 (Caused by ReadTimeoutError(\"HTTPSConnectionPool(host='nominatim.openstreetmap.org', port=443): Read timed out. (read timeout=1)\"))\n",
      "Fetch attempt failed at radius 200: No matching features. Check query location, tags, and log.\n",
      "Fetch attempt failed at radius 500: No matching features. Check query location, tags, and log.\n",
      "Fetch attempt failed at radius 1000: No matching features. Check query location, tags, and log.\n",
      "Getting population density at (40.477700888968734, -74.22605464211259), radius=50m\n",
      "No population data at radius 50m, expanding search...\n",
      "No population data at radius 100m, expanding search...\n",
      "No population data at radius 200m, expanding search...\n",
      "No population data at radius 400m, expanding search...\n",
      "No population found after expansions. Falling back to nearest town/city center...\n",
      "Geocoding fallback failed: HTTPSConnectionPool(host='nominatim.openstreetmap.org', port=443): Max retries exceeded with url: /search?q=City+of+New+York&format=json&limit=1 (Caused by ReadTimeoutError(\"HTTPSConnectionPool(host='nominatim.openstreetmap.org', port=443): Read timed out. (read timeout=1)\"))\n",
      "No population data found, even after fallback.\n",
      "Getting POI density at (40.477700888968734, -74.22605464211259), radius=50m\n",
      "OSM query failed at radius 50m: No matching features. Check query location, tags, and log.\n",
      "OSM query failed at radius 100m: No matching features. Check query location, tags, and log.\n",
      "OSM query failed at radius 200m: No matching features. Check query location, tags, and log.\n",
      "OSM query failed at radius 400m: No matching features. Check query location, tags, and log.\n",
      "No POIs found after expansions. Falling back to nearest town/city center...\n",
      "Geocoding fallback failed: HTTPSConnectionPool(host='nominatim.openstreetmap.org', port=443): Max retries exceeded with url: /search?q=City+of+New+York&format=json&limit=1 (Caused by ReadTimeoutError(\"HTTPSConnectionPool(host='nominatim.openstreetmap.org', port=443): Read timed out. (read timeout=1)\"))\n",
      "No POIs found, even after fallback.\n",
      "Getting Four Square Count\n",
      "Getting media_income ...\n",
      "Fetch attempt failed at radius 200: No matching features. Check query location, tags, and log.\n",
      "Fetch attempt failed at radius 500: No matching features. Check query location, tags, and log.\n",
      "Fetch attempt failed at radius 1000: No matching features. Check query location, tags, and log.\n"
     ]
    },
    {
     "data": {
      "application/vnd.jupyter.widget-view+json": {
       "model_id": "0c41a19787894018b16e7140d947876a",
       "version_major": 2,
       "version_minor": 0
      },
      "text/plain": [
       "FloatProgress(value=0.0, layout=Layout(width='auto'), style=ProgressStyle(bar_color='black'))"
      ]
     },
     "metadata": {},
     "output_type": "display_data"
    },
    {
     "data": {
      "application/vnd.jupyter.widget-view+json": {
       "model_id": "357fd4a45e534df8b0a02d18a52c66f7",
       "version_major": 2,
       "version_minor": 0
      },
      "text/plain": [
       "FloatProgress(value=0.0, layout=Layout(width='auto'), style=ProgressStyle(bar_color='black'))"
      ]
     },
     "metadata": {},
     "output_type": "display_data"
    },
    {
     "data": {
      "application/vnd.jupyter.widget-view+json": {
       "model_id": "2b875cd275b34813bd6a7ef9129786bf",
       "version_major": 2,
       "version_minor": 0
      },
      "text/plain": [
       "FloatProgress(value=0.0, layout=Layout(width='auto'), style=ProgressStyle(bar_color='black'))"
      ]
     },
     "metadata": {},
     "output_type": "display_data"
    },
    {
     "data": {
      "application/vnd.jupyter.widget-view+json": {
       "model_id": "8fc3023cec5146d9be9a1b529e38409c",
       "version_major": 2,
       "version_minor": 0
      },
      "text/plain": [
       "FloatProgress(value=0.0, layout=Layout(width='auto'), style=ProgressStyle(bar_color='black'))"
      ]
     },
     "metadata": {},
     "output_type": "display_data"
    },
    {
     "name": "stdout",
     "output_type": "stream",
     "text": [
      "Town fallback failed: HTTPSConnectionPool(host='nominatim.openstreetmap.org', port=443): Max retries exceeded with url: /search?q=New+York&format=json&limit=1 (Caused by ReadTimeoutError(\"HTTPSConnectionPool(host='nominatim.openstreetmap.org', port=443): Read timed out. (read timeout=1)\"))\n",
      "Category osm: bench, fsq: Unknown\n"
     ]
    },
    {
     "data": {
      "application/vnd.jupyter.widget-view+json": {
       "model_id": "ee9e7d0228a742cf97e17912065b559c",
       "version_major": 2,
       "version_minor": 0
      },
      "text/plain": [
       "FloatProgress(value=0.0, layout=Layout(width='auto'), style=ProgressStyle(bar_color='black'))"
      ]
     },
     "metadata": {},
     "output_type": "display_data"
    },
    {
     "data": {
      "application/vnd.jupyter.widget-view+json": {
       "model_id": "f7cb5cb8393746c69f0ae579dfced066",
       "version_major": 2,
       "version_minor": 0
      },
      "text/plain": [
       "FloatProgress(value=0.0, layout=Layout(width='auto'), style=ProgressStyle(bar_color='black'))"
      ]
     },
     "metadata": {},
     "output_type": "display_data"
    },
    {
     "data": {
      "application/vnd.jupyter.widget-view+json": {
       "model_id": "0e4d8e2c61aa48e8ac6db7849d8d2eac",
       "version_major": 2,
       "version_minor": 0
      },
      "text/plain": [
       "FloatProgress(value=0.0, layout=Layout(width='auto'), style=ProgressStyle(bar_color='black'))"
      ]
     },
     "metadata": {},
     "output_type": "display_data"
    },
    {
     "data": {
      "application/vnd.jupyter.widget-view+json": {
       "model_id": "6eb9d08f91ee4b50a52bd57bdc67f86d",
       "version_major": 2,
       "version_minor": 0
      },
      "text/plain": [
       "FloatProgress(value=0.0, layout=Layout(width='auto'), style=ProgressStyle(bar_color='black'))"
      ]
     },
     "metadata": {},
     "output_type": "display_data"
    },
    {
     "name": "stdout",
     "output_type": "stream",
     "text": [
      "Town fallback failed: HTTPSConnectionPool(host='nominatim.openstreetmap.org', port=443): Max retries exceeded with url: /search?q=New+York&format=json&limit=1 (Caused by ReadTimeoutError(\"HTTPSConnectionPool(host='nominatim.openstreetmap.org', port=443): Read timed out. (read timeout=1)\"))\n",
      "Fetch attempt failed at radius 200: No matching features. Check query location, tags, and log.\n",
      "Fetch attempt failed at radius 500: No matching features. Check query location, tags, and log.\n",
      "Fetch attempt failed at radius 1000: No matching features. Check query location, tags, and log.\n",
      "Revenue estimation ...\n",
      "Getting population density at (40.477251733381244, -74.22650379770009), radius=500m\n",
      "No population data at radius 500m, expanding search...\n",
      "No population data at radius 1000m, expanding search...\n",
      "No population data at radius 2000m, expanding search...\n",
      "No population data at radius 4000m, expanding search...\n",
      "No population found after expansions. Falling back to nearest town/city center...\n",
      "No population data found, even after fallback.\n",
      "Getting POI density at (40.477251733381244, -74.22650379770009), radius=500m\n",
      "OSM query failed at radius 500m: No matching features. Check query location, tags, and log.\n",
      "OSM query failed at radius 1000m: No matching features. Check query location, tags, and log.\n",
      "Found osm_pois 8\n",
      "Getting Four Square Count\n",
      "revenue 800\n",
      "Building features for location ...\n",
      "Generating circle points with max 50 subcircles\n",
      "low, high 50, 100\n",
      "looper 3\n",
      "looper 2 3\n",
      "haversine condition 36.89080197416756 100\n",
      "haversine condition 56.8484918507345 100\n",
      "looper 2 3\n",
      "haversine condition 25.87817200479231 100\n",
      "haversine condition 50.40308291065788 100\n",
      "looper 2 3\n",
      "haversine condition 28.42411094653191 100\n",
      "haversine condition 51.756418139716146 100\n",
      "Chosen small_radius: 50.00 m, generated 6 subcircles\n",
      "Number of neighborhood points 6\n",
      "Getting population density at (40.47635342220625, -74.22605464211259), radius=50m\n",
      "No population data at radius 50m, expanding search...\n",
      "No population data at radius 100m, expanding search...\n",
      "No population data at radius 200m, expanding search...\n",
      "No population data at radius 400m, expanding search...\n",
      "No population found after expansions. Falling back to nearest town/city center...\n",
      "No population data found, even after fallback.\n",
      "Getting POI density at (40.47635342220625, -74.22605464211259), radius=50m\n",
      "OSM query failed at radius 50m: No matching features. Check query location, tags, and log.\n",
      "OSM query failed at radius 100m: No matching features. Check query location, tags, and log.\n",
      "OSM query failed at radius 200m: No matching features. Check query location, tags, and log.\n",
      "OSM query failed at radius 400m: No matching features. Check query location, tags, and log.\n",
      "No POIs found after expansions. Falling back to nearest town/city center...\n",
      "OSM fallback query failed: No matching features. Check query location, tags, and log.\n",
      "No POIs found, even after fallback.\n",
      "Getting Four Square Count\n",
      "Getting media_income ...\n",
      "Fetch attempt failed at radius 200: No matching features. Check query location, tags, and log.\n",
      "Fetch attempt failed at radius 500: No matching features. Check query location, tags, and log.\n",
      "Fetch attempt failed at radius 1000: No matching features. Check query location, tags, and log.\n"
     ]
    },
    {
     "data": {
      "application/vnd.jupyter.widget-view+json": {
       "model_id": "0d629e00e8ef48ceb9393630a342d42e",
       "version_major": 2,
       "version_minor": 0
      },
      "text/plain": [
       "FloatProgress(value=0.0, layout=Layout(width='auto'), style=ProgressStyle(bar_color='black'))"
      ]
     },
     "metadata": {},
     "output_type": "display_data"
    },
    {
     "data": {
      "application/vnd.jupyter.widget-view+json": {
       "model_id": "347aa2d5958b402d96feddd8fd9e1bb5",
       "version_major": 2,
       "version_minor": 0
      },
      "text/plain": [
       "FloatProgress(value=0.0, layout=Layout(width='auto'), style=ProgressStyle(bar_color='black'))"
      ]
     },
     "metadata": {},
     "output_type": "display_data"
    },
    {
     "data": {
      "application/vnd.jupyter.widget-view+json": {
       "model_id": "48ad2ecd678447e69d5f688864703258",
       "version_major": 2,
       "version_minor": 0
      },
      "text/plain": [
       "FloatProgress(value=0.0, layout=Layout(width='auto'), style=ProgressStyle(bar_color='black'))"
      ]
     },
     "metadata": {},
     "output_type": "display_data"
    },
    {
     "data": {
      "application/vnd.jupyter.widget-view+json": {
       "model_id": "7ea247665f6f42f8a3d75e05d54a55b2",
       "version_major": 2,
       "version_minor": 0
      },
      "text/plain": [
       "FloatProgress(value=0.0, layout=Layout(width='auto'), style=ProgressStyle(bar_color='black'))"
      ]
     },
     "metadata": {},
     "output_type": "display_data"
    },
    {
     "name": "stdout",
     "output_type": "stream",
     "text": [
      "Town fallback failed: HTTPSConnectionPool(host='nominatim.openstreetmap.org', port=443): Max retries exceeded with url: /search?q=New+York&format=json&limit=1 (Caused by ReadTimeoutError(\"HTTPSConnectionPool(host='nominatim.openstreetmap.org', port=443): Read timed out. (read timeout=1)\"))\n",
      "Category osm: bench, fsq: Unknown\n"
     ]
    },
    {
     "data": {
      "application/vnd.jupyter.widget-view+json": {
       "model_id": "c29c84d59c8b454a913cbd0e9b03406d",
       "version_major": 2,
       "version_minor": 0
      },
      "text/plain": [
       "FloatProgress(value=0.0, layout=Layout(width='auto'), style=ProgressStyle(bar_color='black'))"
      ]
     },
     "metadata": {},
     "output_type": "display_data"
    },
    {
     "data": {
      "application/vnd.jupyter.widget-view+json": {
       "model_id": "76905b60e2394d8aa09e5eab58c5de6a",
       "version_major": 2,
       "version_minor": 0
      },
      "text/plain": [
       "FloatProgress(value=0.0, layout=Layout(width='auto'), style=ProgressStyle(bar_color='black'))"
      ]
     },
     "metadata": {},
     "output_type": "display_data"
    },
    {
     "data": {
      "application/vnd.jupyter.widget-view+json": {
       "model_id": "08db3dd872c44d78b5ce9d58d9de9de3",
       "version_major": 2,
       "version_minor": 0
      },
      "text/plain": [
       "FloatProgress(value=0.0, layout=Layout(width='auto'), style=ProgressStyle(bar_color='black'))"
      ]
     },
     "metadata": {},
     "output_type": "display_data"
    },
    {
     "data": {
      "application/vnd.jupyter.widget-view+json": {
       "model_id": "bce623d660ea4955a08b31bf7da68bc4",
       "version_major": 2,
       "version_minor": 0
      },
      "text/plain": [
       "FloatProgress(value=0.0, layout=Layout(width='auto'), style=ProgressStyle(bar_color='black'))"
      ]
     },
     "metadata": {},
     "output_type": "display_data"
    },
    {
     "name": "stdout",
     "output_type": "stream",
     "text": [
      "Town fallback failed: HTTPSConnectionPool(host='nominatim.openstreetmap.org', port=443): Max retries exceeded with url: /search?q=New+York&format=json&limit=1 (Caused by ReadTimeoutError(\"HTTPSConnectionPool(host='nominatim.openstreetmap.org', port=443): Read timed out. (read timeout=1)\"))\n",
      "Fetch attempt failed at radius 200: No matching features. Check query location, tags, and log.\n",
      "Fetch attempt failed at radius 500: No matching features. Check query location, tags, and log.\n",
      "Fetch attempt failed at radius 1000: No matching features. Check query location, tags, and log.\n",
      "Getting population density at (40.47635342220625, -74.22538090873134), radius=50m\n",
      "No population data at radius 50m, expanding search...\n",
      "No population data at radius 100m, expanding search...\n",
      "No population data at radius 200m, expanding search...\n",
      "No population data at radius 400m, expanding search...\n",
      "No population found after expansions. Falling back to nearest town/city center...\n",
      "No population data found, even after fallback.\n",
      "Getting POI density at (40.47635342220625, -74.22538090873134), radius=50m\n",
      "OSM query failed at radius 50m: No matching features. Check query location, tags, and log.\n",
      "OSM query failed at radius 100m: No matching features. Check query location, tags, and log.\n",
      "OSM query failed at radius 200m: No matching features. Check query location, tags, and log.\n",
      "OSM query failed at radius 400m: No matching features. Check query location, tags, and log.\n",
      "No POIs found after expansions. Falling back to nearest town/city center...\n",
      "OSM fallback query failed: No matching features. Check query location, tags, and log.\n",
      "No POIs found, even after fallback.\n",
      "Getting Four Square Count\n",
      "Getting media_income ...\n",
      "Fetch attempt failed at radius 200: No matching features. Check query location, tags, and log.\n",
      "Fetch attempt failed at radius 500: No matching features. Check query location, tags, and log.\n",
      "Fetch attempt failed at radius 1000: No matching features. Check query location, tags, and log.\n"
     ]
    },
    {
     "data": {
      "application/vnd.jupyter.widget-view+json": {
       "model_id": "b1d8b78cbc77434191c2c89b69d5693c",
       "version_major": 2,
       "version_minor": 0
      },
      "text/plain": [
       "FloatProgress(value=0.0, layout=Layout(width='auto'), style=ProgressStyle(bar_color='black'))"
      ]
     },
     "metadata": {},
     "output_type": "display_data"
    },
    {
     "data": {
      "application/vnd.jupyter.widget-view+json": {
       "model_id": "60b2300b3fc54cfd867f7ec3fc979188",
       "version_major": 2,
       "version_minor": 0
      },
      "text/plain": [
       "FloatProgress(value=0.0, layout=Layout(width='auto'), style=ProgressStyle(bar_color='black'))"
      ]
     },
     "metadata": {},
     "output_type": "display_data"
    },
    {
     "data": {
      "application/vnd.jupyter.widget-view+json": {
       "model_id": "2e780135d6544cf79eab78eaad845abd",
       "version_major": 2,
       "version_minor": 0
      },
      "text/plain": [
       "FloatProgress(value=0.0, layout=Layout(width='auto'), style=ProgressStyle(bar_color='black'))"
      ]
     },
     "metadata": {},
     "output_type": "display_data"
    },
    {
     "data": {
      "application/vnd.jupyter.widget-view+json": {
       "model_id": "1d78a21aaedd432d97b8f5a265265090",
       "version_major": 2,
       "version_minor": 0
      },
      "text/plain": [
       "FloatProgress(value=0.0, layout=Layout(width='auto'), style=ProgressStyle(bar_color='black'))"
      ]
     },
     "metadata": {},
     "output_type": "display_data"
    },
    {
     "data": {
      "application/vnd.jupyter.widget-view+json": {
       "model_id": "9a59723a0cb54410b453b29a5e989d3d",
       "version_major": 2,
       "version_minor": 0
      },
      "text/plain": [
       "FloatProgress(value=0.0, layout=Layout(width='auto'), style=ProgressStyle(bar_color='black'))"
      ]
     },
     "metadata": {},
     "output_type": "display_data"
    },
    {
     "data": {
      "application/vnd.jupyter.widget-view+json": {
       "model_id": "2f6b06ce17f046369a86b97b05df6f35",
       "version_major": 2,
       "version_minor": 0
      },
      "text/plain": [
       "FloatProgress(value=0.0, layout=Layout(width='auto'), style=ProgressStyle(bar_color='black'))"
      ]
     },
     "metadata": {},
     "output_type": "display_data"
    },
    {
     "data": {
      "application/vnd.jupyter.widget-view+json": {
       "model_id": "fa540d53040a41e59d73a8945b5e90bf",
       "version_major": 2,
       "version_minor": 0
      },
      "text/plain": [
       "FloatProgress(value=0.0, layout=Layout(width='auto'), style=ProgressStyle(bar_color='black'))"
      ]
     },
     "metadata": {},
     "output_type": "display_data"
    },
    {
     "data": {
      "application/vnd.jupyter.widget-view+json": {
       "model_id": "208329195ca241b596cfa4006b1bfd1b",
       "version_major": 2,
       "version_minor": 0
      },
      "text/plain": [
       "FloatProgress(value=0.0, layout=Layout(width='auto'), style=ProgressStyle(bar_color='black'))"
      ]
     },
     "metadata": {},
     "output_type": "display_data"
    },
    {
     "name": "stdout",
     "output_type": "stream",
     "text": [
      "Town fallback failed: HTTPSConnectionPool(host='nominatim.openstreetmap.org', port=443): Max retries exceeded with url: /search?q=New+York&format=json&limit=1 (Caused by ReadTimeoutError(\"HTTPSConnectionPool(host='nominatim.openstreetmap.org', port=443): Read timed out. (read timeout=1)\"))\n",
      "Category osm: bench, fsq: Unknown\n"
     ]
    },
    {
     "data": {
      "application/vnd.jupyter.widget-view+json": {
       "model_id": "3bfc4136ac914b60b9dbefdc96d1e756",
       "version_major": 2,
       "version_minor": 0
      },
      "text/plain": [
       "FloatProgress(value=0.0, layout=Layout(width='auto'), style=ProgressStyle(bar_color='black'))"
      ]
     },
     "metadata": {},
     "output_type": "display_data"
    },
    {
     "data": {
      "application/vnd.jupyter.widget-view+json": {
       "model_id": "0d9c72c73d564452b57a9cecc6048839",
       "version_major": 2,
       "version_minor": 0
      },
      "text/plain": [
       "FloatProgress(value=0.0, layout=Layout(width='auto'), style=ProgressStyle(bar_color='black'))"
      ]
     },
     "metadata": {},
     "output_type": "display_data"
    },
    {
     "data": {
      "application/vnd.jupyter.widget-view+json": {
       "model_id": "2f4347e812f342fcb0efe48530474cb3",
       "version_major": 2,
       "version_minor": 0
      },
      "text/plain": [
       "FloatProgress(value=0.0, layout=Layout(width='auto'), style=ProgressStyle(bar_color='black'))"
      ]
     },
     "metadata": {},
     "output_type": "display_data"
    },
    {
     "data": {
      "application/vnd.jupyter.widget-view+json": {
       "model_id": "0144e2aa931947399f9cdefe9fd307e8",
       "version_major": 2,
       "version_minor": 0
      },
      "text/plain": [
       "FloatProgress(value=0.0, layout=Layout(width='auto'), style=ProgressStyle(bar_color='black'))"
      ]
     },
     "metadata": {},
     "output_type": "display_data"
    },
    {
     "name": "stdout",
     "output_type": "stream",
     "text": [
      "Town fallback failed: HTTPSConnectionPool(host='nominatim.openstreetmap.org', port=443): Max retries exceeded with url: /search?q=New+York&format=json&limit=1 (Caused by ReadTimeoutError(\"HTTPSConnectionPool(host='nominatim.openstreetmap.org', port=443): Read timed out. (read timeout=1)\"))\n",
      "Fetch attempt failed at radius 200: No matching features. Check query location, tags, and log.\n",
      "Fetch attempt failed at radius 500: No matching features. Check query location, tags, and log.\n",
      "Fetch attempt failed at radius 1000: No matching features. Check query location, tags, and log.\n",
      "Getting population density at (40.47702715558749, -74.22605464211259), radius=50m\n",
      "No population data at radius 50m, expanding search...\n",
      "No population data at radius 100m, expanding search...\n",
      "No population data at radius 200m, expanding search...\n",
      "No population data at radius 400m, expanding search...\n",
      "No population found after expansions. Falling back to nearest town/city center...\n",
      "Geocoding fallback failed: HTTPSConnectionPool(host='nominatim.openstreetmap.org', port=443): Max retries exceeded with url: /search?q=City+of+New+York&format=json&limit=1 (Caused by ReadTimeoutError(\"HTTPSConnectionPool(host='nominatim.openstreetmap.org', port=443): Read timed out. (read timeout=1)\"))\n",
      "No population data found, even after fallback.\n",
      "Getting POI density at (40.47702715558749, -74.22605464211259), radius=50m\n",
      "OSM query failed at radius 50m: No matching features. Check query location, tags, and log.\n",
      "OSM query failed at radius 100m: No matching features. Check query location, tags, and log.\n",
      "OSM query failed at radius 200m: No matching features. Check query location, tags, and log.\n",
      "OSM query failed at radius 400m: No matching features. Check query location, tags, and log.\n",
      "No POIs found after expansions. Falling back to nearest town/city center...\n",
      "Geocoding fallback failed: HTTPSConnectionPool(host='nominatim.openstreetmap.org', port=443): Max retries exceeded with url: /search?q=City+of+New+York&format=json&limit=1 (Caused by ReadTimeoutError(\"HTTPSConnectionPool(host='nominatim.openstreetmap.org', port=443): Read timed out. (read timeout=1)\"))\n",
      "No POIs found, even after fallback.\n",
      "Getting Four Square Count\n",
      "Getting media_income ...\n",
      "Fetch attempt failed at radius 200: No matching features. Check query location, tags, and log.\n",
      "Fetch attempt failed at radius 500: No matching features. Check query location, tags, and log.\n",
      "Fetch attempt failed at radius 1000: No matching features. Check query location, tags, and log.\n"
     ]
    },
    {
     "data": {
      "application/vnd.jupyter.widget-view+json": {
       "model_id": "b1f4c7e4341e4f41bc03e0cd4f462b4b",
       "version_major": 2,
       "version_minor": 0
      },
      "text/plain": [
       "FloatProgress(value=0.0, layout=Layout(width='auto'), style=ProgressStyle(bar_color='black'))"
      ]
     },
     "metadata": {},
     "output_type": "display_data"
    },
    {
     "data": {
      "application/vnd.jupyter.widget-view+json": {
       "model_id": "7da5884688d749d4854ca751c0c5622f",
       "version_major": 2,
       "version_minor": 0
      },
      "text/plain": [
       "FloatProgress(value=0.0, layout=Layout(width='auto'), style=ProgressStyle(bar_color='black'))"
      ]
     },
     "metadata": {},
     "output_type": "display_data"
    },
    {
     "data": {
      "application/vnd.jupyter.widget-view+json": {
       "model_id": "c967f9fb70694ef8a94f52fb9c0fab96",
       "version_major": 2,
       "version_minor": 0
      },
      "text/plain": [
       "FloatProgress(value=0.0, layout=Layout(width='auto'), style=ProgressStyle(bar_color='black'))"
      ]
     },
     "metadata": {},
     "output_type": "display_data"
    },
    {
     "data": {
      "application/vnd.jupyter.widget-view+json": {
       "model_id": "319cb5b4f9b44947a0f61f179818dbd1",
       "version_major": 2,
       "version_minor": 0
      },
      "text/plain": [
       "FloatProgress(value=0.0, layout=Layout(width='auto'), style=ProgressStyle(bar_color='black'))"
      ]
     },
     "metadata": {},
     "output_type": "display_data"
    },
    {
     "name": "stdout",
     "output_type": "stream",
     "text": [
      "Town fallback failed: HTTPSConnectionPool(host='nominatim.openstreetmap.org', port=443): Max retries exceeded with url: /search?q=New+York&format=json&limit=1 (Caused by ReadTimeoutError(\"HTTPSConnectionPool(host='nominatim.openstreetmap.org', port=443): Read timed out. (read timeout=1)\"))\n",
      "Category osm: bench, fsq: Unknown\n"
     ]
    },
    {
     "data": {
      "application/vnd.jupyter.widget-view+json": {
       "model_id": "7a5ec4391c004716b57161e315b68ec8",
       "version_major": 2,
       "version_minor": 0
      },
      "text/plain": [
       "FloatProgress(value=0.0, layout=Layout(width='auto'), style=ProgressStyle(bar_color='black'))"
      ]
     },
     "metadata": {},
     "output_type": "display_data"
    },
    {
     "data": {
      "application/vnd.jupyter.widget-view+json": {
       "model_id": "915e6a5d1f8b4b59a061457452675342",
       "version_major": 2,
       "version_minor": 0
      },
      "text/plain": [
       "FloatProgress(value=0.0, layout=Layout(width='auto'), style=ProgressStyle(bar_color='black'))"
      ]
     },
     "metadata": {},
     "output_type": "display_data"
    },
    {
     "data": {
      "application/vnd.jupyter.widget-view+json": {
       "model_id": "b6a4314e339747caa9f84d092663fa29",
       "version_major": 2,
       "version_minor": 0
      },
      "text/plain": [
       "FloatProgress(value=0.0, layout=Layout(width='auto'), style=ProgressStyle(bar_color='black'))"
      ]
     },
     "metadata": {},
     "output_type": "display_data"
    },
    {
     "data": {
      "application/vnd.jupyter.widget-view+json": {
       "model_id": "9dd6b7ab8080446bbd77635fa0fe51bf",
       "version_major": 2,
       "version_minor": 0
      },
      "text/plain": [
       "FloatProgress(value=0.0, layout=Layout(width='auto'), style=ProgressStyle(bar_color='black'))"
      ]
     },
     "metadata": {},
     "output_type": "display_data"
    },
    {
     "name": "stdout",
     "output_type": "stream",
     "text": [
      "Town fallback failed: HTTPSConnectionPool(host='nominatim.openstreetmap.org', port=443): Max retries exceeded with url: /search?q=New+York&format=json&limit=1 (Caused by ReadTimeoutError(\"HTTPSConnectionPool(host='nominatim.openstreetmap.org', port=443): Read timed out. (read timeout=1)\"))\n",
      "Fetch attempt failed at radius 200: No matching features. Check query location, tags, and log.\n",
      "Fetch attempt failed at radius 500: No matching features. Check query location, tags, and log.\n",
      "Fetch attempt failed at radius 1000: No matching features. Check query location, tags, and log.\n",
      "Getting population density at (40.47702715558749, -74.22538090873134), radius=50m\n",
      "No population data at radius 50m, expanding search...\n",
      "No population data at radius 100m, expanding search...\n",
      "No population data at radius 200m, expanding search...\n",
      "No population data at radius 400m, expanding search...\n",
      "No population found after expansions. Falling back to nearest town/city center...\n",
      "Geocoding fallback failed: HTTPSConnectionPool(host='nominatim.openstreetmap.org', port=443): Max retries exceeded with url: /search?q=City+of+New+York&format=json&limit=1 (Caused by ReadTimeoutError(\"HTTPSConnectionPool(host='nominatim.openstreetmap.org', port=443): Read timed out. (read timeout=1)\"))\n",
      "No population data found, even after fallback.\n",
      "Getting POI density at (40.47702715558749, -74.22538090873134), radius=50m\n",
      "OSM query failed at radius 50m: No matching features. Check query location, tags, and log.\n",
      "OSM query failed at radius 100m: No matching features. Check query location, tags, and log.\n",
      "OSM query failed at radius 200m: No matching features. Check query location, tags, and log.\n",
      "OSM query failed at radius 400m: No matching features. Check query location, tags, and log.\n",
      "No POIs found after expansions. Falling back to nearest town/city center...\n",
      "Geocoding fallback failed: HTTPSConnectionPool(host='nominatim.openstreetmap.org', port=443): Max retries exceeded with url: /search?q=City+of+New+York&format=json&limit=1 (Caused by ReadTimeoutError(\"HTTPSConnectionPool(host='nominatim.openstreetmap.org', port=443): Read timed out. (read timeout=1)\"))\n",
      "No POIs found, even after fallback.\n",
      "Getting Four Square Count\n",
      "Getting media_income ...\n",
      "Fetch attempt failed at radius 200: No matching features. Check query location, tags, and log.\n",
      "Fetch attempt failed at radius 500: No matching features. Check query location, tags, and log.\n",
      "Fetch attempt failed at radius 1000: No matching features. Check query location, tags, and log.\n"
     ]
    },
    {
     "data": {
      "application/vnd.jupyter.widget-view+json": {
       "model_id": "fde6a83670c1400683068fa9c3d2c091",
       "version_major": 2,
       "version_minor": 0
      },
      "text/plain": [
       "FloatProgress(value=0.0, layout=Layout(width='auto'), style=ProgressStyle(bar_color='black'))"
      ]
     },
     "metadata": {},
     "output_type": "display_data"
    },
    {
     "data": {
      "application/vnd.jupyter.widget-view+json": {
       "model_id": "7d71f5bc7343468180f89fc449c03041",
       "version_major": 2,
       "version_minor": 0
      },
      "text/plain": [
       "FloatProgress(value=0.0, layout=Layout(width='auto'), style=ProgressStyle(bar_color='black'))"
      ]
     },
     "metadata": {},
     "output_type": "display_data"
    },
    {
     "data": {
      "application/vnd.jupyter.widget-view+json": {
       "model_id": "97332b266a954759bd8b2284501720d1",
       "version_major": 2,
       "version_minor": 0
      },
      "text/plain": [
       "FloatProgress(value=0.0, layout=Layout(width='auto'), style=ProgressStyle(bar_color='black'))"
      ]
     },
     "metadata": {},
     "output_type": "display_data"
    },
    {
     "data": {
      "application/vnd.jupyter.widget-view+json": {
       "model_id": "2b22f885221b4c2fa33862b0b4cd9fa1",
       "version_major": 2,
       "version_minor": 0
      },
      "text/plain": [
       "FloatProgress(value=0.0, layout=Layout(width='auto'), style=ProgressStyle(bar_color='black'))"
      ]
     },
     "metadata": {},
     "output_type": "display_data"
    },
    {
     "name": "stdout",
     "output_type": "stream",
     "text": [
      "Town fallback failed: HTTPSConnectionPool(host='nominatim.openstreetmap.org', port=443): Max retries exceeded with url: /search?q=New+York&format=json&limit=1 (Caused by ReadTimeoutError(\"HTTPSConnectionPool(host='nominatim.openstreetmap.org', port=443): Read timed out. (read timeout=1)\"))\n",
      "Category osm: bench, fsq: Unknown\n"
     ]
    },
    {
     "data": {
      "application/vnd.jupyter.widget-view+json": {
       "model_id": "8637b8be57f546d68297a45fdadb57c5",
       "version_major": 2,
       "version_minor": 0
      },
      "text/plain": [
       "FloatProgress(value=0.0, layout=Layout(width='auto'), style=ProgressStyle(bar_color='black'))"
      ]
     },
     "metadata": {},
     "output_type": "display_data"
    },
    {
     "data": {
      "application/vnd.jupyter.widget-view+json": {
       "model_id": "d910f12b28ae428495320a4a42450bc6",
       "version_major": 2,
       "version_minor": 0
      },
      "text/plain": [
       "FloatProgress(value=0.0, layout=Layout(width='auto'), style=ProgressStyle(bar_color='black'))"
      ]
     },
     "metadata": {},
     "output_type": "display_data"
    },
    {
     "data": {
      "application/vnd.jupyter.widget-view+json": {
       "model_id": "71ed8694600744728af509754d2a097e",
       "version_major": 2,
       "version_minor": 0
      },
      "text/plain": [
       "FloatProgress(value=0.0, layout=Layout(width='auto'), style=ProgressStyle(bar_color='black'))"
      ]
     },
     "metadata": {},
     "output_type": "display_data"
    },
    {
     "data": {
      "application/vnd.jupyter.widget-view+json": {
       "model_id": "97ad41b09fcc4297becfdd2181ef29f0",
       "version_major": 2,
       "version_minor": 0
      },
      "text/plain": [
       "FloatProgress(value=0.0, layout=Layout(width='auto'), style=ProgressStyle(bar_color='black'))"
      ]
     },
     "metadata": {},
     "output_type": "display_data"
    },
    {
     "name": "stdout",
     "output_type": "stream",
     "text": [
      "Town fallback failed: HTTPSConnectionPool(host='nominatim.openstreetmap.org', port=443): Max retries exceeded with url: /search?q=New+York&format=json&limit=1 (Caused by ReadTimeoutError(\"HTTPSConnectionPool(host='nominatim.openstreetmap.org', port=443): Read timed out. (read timeout=1)\"))\n",
      "Fetch attempt failed at radius 200: No matching features. Check query location, tags, and log.\n",
      "Fetch attempt failed at radius 500: No matching features. Check query location, tags, and log.\n",
      "Fetch attempt failed at radius 1000: No matching features. Check query location, tags, and log.\n",
      "Getting population density at (40.477700888968734, -74.22605464211259), radius=50m\n",
      "No population data at radius 50m, expanding search...\n",
      "No population data at radius 100m, expanding search...\n",
      "No population data at radius 200m, expanding search...\n",
      "No population data at radius 400m, expanding search...\n",
      "No population found after expansions. Falling back to nearest town/city center...\n",
      "No population data found, even after fallback.\n",
      "Getting POI density at (40.477700888968734, -74.22605464211259), radius=50m\n",
      "OSM query failed at radius 50m: No matching features. Check query location, tags, and log.\n",
      "OSM query failed at radius 100m: No matching features. Check query location, tags, and log.\n",
      "OSM query failed at radius 200m: No matching features. Check query location, tags, and log.\n",
      "OSM query failed at radius 400m: No matching features. Check query location, tags, and log.\n",
      "No POIs found after expansions. Falling back to nearest town/city center...\n",
      "Found osm poi 12\n",
      "Getting Four Square Count\n",
      "Getting media_income ...\n",
      "Fetch attempt failed at radius 200: No matching features. Check query location, tags, and log.\n",
      "Fetch attempt failed at radius 500: No matching features. Check query location, tags, and log.\n",
      "Fetch attempt failed at radius 1000: No matching features. Check query location, tags, and log.\n"
     ]
    },
    {
     "data": {
      "application/vnd.jupyter.widget-view+json": {
       "model_id": "5d769116156945a6b887b5bb2256f765",
       "version_major": 2,
       "version_minor": 0
      },
      "text/plain": [
       "FloatProgress(value=0.0, layout=Layout(width='auto'), style=ProgressStyle(bar_color='black'))"
      ]
     },
     "metadata": {},
     "output_type": "display_data"
    },
    {
     "data": {
      "application/vnd.jupyter.widget-view+json": {
       "model_id": "e619626c8f7148d0bfd1c3c1c552c5af",
       "version_major": 2,
       "version_minor": 0
      },
      "text/plain": [
       "FloatProgress(value=0.0, layout=Layout(width='auto'), style=ProgressStyle(bar_color='black'))"
      ]
     },
     "metadata": {},
     "output_type": "display_data"
    },
    {
     "data": {
      "application/vnd.jupyter.widget-view+json": {
       "model_id": "dd9ef35da72042f1ab591f45f38bdd4b",
       "version_major": 2,
       "version_minor": 0
      },
      "text/plain": [
       "FloatProgress(value=0.0, layout=Layout(width='auto'), style=ProgressStyle(bar_color='black'))"
      ]
     },
     "metadata": {},
     "output_type": "display_data"
    },
    {
     "data": {
      "application/vnd.jupyter.widget-view+json": {
       "model_id": "ee9083f650f644daa17192e20c052a54",
       "version_major": 2,
       "version_minor": 0
      },
      "text/plain": [
       "FloatProgress(value=0.0, layout=Layout(width='auto'), style=ProgressStyle(bar_color='black'))"
      ]
     },
     "metadata": {},
     "output_type": "display_data"
    },
    {
     "data": {
      "application/vnd.jupyter.widget-view+json": {
       "model_id": "a6cf804972cc4aebaef04c9a179af1ee",
       "version_major": 2,
       "version_minor": 0
      },
      "text/plain": [
       "FloatProgress(value=0.0, layout=Layout(width='auto'), style=ProgressStyle(bar_color='black'))"
      ]
     },
     "metadata": {},
     "output_type": "display_data"
    },
    {
     "data": {
      "application/vnd.jupyter.widget-view+json": {
       "model_id": "a03301ac4815476fab550056a273236b",
       "version_major": 2,
       "version_minor": 0
      },
      "text/plain": [
       "FloatProgress(value=0.0, layout=Layout(width='auto'), style=ProgressStyle(bar_color='black'))"
      ]
     },
     "metadata": {},
     "output_type": "display_data"
    },
    {
     "data": {
      "application/vnd.jupyter.widget-view+json": {
       "model_id": "779cea946cb049b4b67875d123182ddd",
       "version_major": 2,
       "version_minor": 0
      },
      "text/plain": [
       "FloatProgress(value=0.0, layout=Layout(width='auto'), style=ProgressStyle(bar_color='black'))"
      ]
     },
     "metadata": {},
     "output_type": "display_data"
    },
    {
     "data": {
      "application/vnd.jupyter.widget-view+json": {
       "model_id": "b217f7f7b9e54fea961345ceb309e24b",
       "version_major": 2,
       "version_minor": 0
      },
      "text/plain": [
       "FloatProgress(value=0.0, layout=Layout(width='auto'), style=ProgressStyle(bar_color='black'))"
      ]
     },
     "metadata": {},
     "output_type": "display_data"
    },
    {
     "name": "stdout",
     "output_type": "stream",
     "text": [
      "Town fallback failed: HTTPSConnectionPool(host='nominatim.openstreetmap.org', port=443): Max retries exceeded with url: /search?q=New+York&format=json&limit=1 (Caused by ReadTimeoutError(\"HTTPSConnectionPool(host='nominatim.openstreetmap.org', port=443): Read timed out. (read timeout=1)\"))\n",
      "Category osm: bench, fsq: Unknown\n"
     ]
    },
    {
     "data": {
      "application/vnd.jupyter.widget-view+json": {
       "model_id": "fc0a05f739c34ad4b42127a9c5b766ad",
       "version_major": 2,
       "version_minor": 0
      },
      "text/plain": [
       "FloatProgress(value=0.0, layout=Layout(width='auto'), style=ProgressStyle(bar_color='black'))"
      ]
     },
     "metadata": {},
     "output_type": "display_data"
    },
    {
     "data": {
      "application/vnd.jupyter.widget-view+json": {
       "model_id": "bdf0f9a59a8c42ba82198b332efe73cc",
       "version_major": 2,
       "version_minor": 0
      },
      "text/plain": [
       "FloatProgress(value=0.0, layout=Layout(width='auto'), style=ProgressStyle(bar_color='black'))"
      ]
     },
     "metadata": {},
     "output_type": "display_data"
    },
    {
     "data": {
      "application/vnd.jupyter.widget-view+json": {
       "model_id": "d69a0e47bd044e64a3c17fdd45d902a6",
       "version_major": 2,
       "version_minor": 0
      },
      "text/plain": [
       "FloatProgress(value=0.0, layout=Layout(width='auto'), style=ProgressStyle(bar_color='black'))"
      ]
     },
     "metadata": {},
     "output_type": "display_data"
    },
    {
     "data": {
      "application/vnd.jupyter.widget-view+json": {
       "model_id": "293eb1aa8adc4cb29eb0071443a74da1",
       "version_major": 2,
       "version_minor": 0
      },
      "text/plain": [
       "FloatProgress(value=0.0, layout=Layout(width='auto'), style=ProgressStyle(bar_color='black'))"
      ]
     },
     "metadata": {},
     "output_type": "display_data"
    },
    {
     "data": {
      "application/vnd.jupyter.widget-view+json": {
       "model_id": "0e73b2bc26814067b918a6daebdb30b2",
       "version_major": 2,
       "version_minor": 0
      },
      "text/plain": [
       "FloatProgress(value=0.0, layout=Layout(width='auto'), style=ProgressStyle(bar_color='black'))"
      ]
     },
     "metadata": {},
     "output_type": "display_data"
    },
    {
     "data": {
      "application/vnd.jupyter.widget-view+json": {
       "model_id": "454d2098e357414da7eb5ffa01702ef2",
       "version_major": 2,
       "version_minor": 0
      },
      "text/plain": [
       "FloatProgress(value=0.0, layout=Layout(width='auto'), style=ProgressStyle(bar_color='black'))"
      ]
     },
     "metadata": {},
     "output_type": "display_data"
    },
    {
     "data": {
      "application/vnd.jupyter.widget-view+json": {
       "model_id": "ce7dac068f854ec89cf2e367a8daa282",
       "version_major": 2,
       "version_minor": 0
      },
      "text/plain": [
       "FloatProgress(value=0.0, layout=Layout(width='auto'), style=ProgressStyle(bar_color='black'))"
      ]
     },
     "metadata": {},
     "output_type": "display_data"
    },
    {
     "data": {
      "application/vnd.jupyter.widget-view+json": {
       "model_id": "01c86d64a46e4a7fb0b3bcf2d6aa3910",
       "version_major": 2,
       "version_minor": 0
      },
      "text/plain": [
       "FloatProgress(value=0.0, layout=Layout(width='auto'), style=ProgressStyle(bar_color='black'))"
      ]
     },
     "metadata": {},
     "output_type": "display_data"
    },
    {
     "name": "stdout",
     "output_type": "stream",
     "text": [
      "Town fallback failed: HTTPSConnectionPool(host='nominatim.openstreetmap.org', port=443): Max retries exceeded with url: /search?q=New+York&format=json&limit=1 (Caused by ReadTimeoutError(\"HTTPSConnectionPool(host='nominatim.openstreetmap.org', port=443): Read timed out. (read timeout=1)\"))\n",
      "Fetch attempt failed at radius 200: No matching features. Check query location, tags, and log.\n",
      "Fetch attempt failed at radius 500: No matching features. Check query location, tags, and log.\n",
      "Fetch attempt failed at radius 1000: No matching features. Check query location, tags, and log.\n",
      "Getting population density at (40.477700888968734, -74.22538090873134), radius=50m\n",
      "No population data at radius 50m, expanding search...\n",
      "No population data at radius 100m, expanding search...\n",
      "No population data at radius 200m, expanding search...\n",
      "No population data at radius 400m, expanding search...\n",
      "No population found after expansions. Falling back to nearest town/city center...\n",
      "Geocoding fallback failed: HTTPSConnectionPool(host='nominatim.openstreetmap.org', port=443): Max retries exceeded with url: /search?q=City+of+New+York&format=json&limit=1 (Caused by ReadTimeoutError(\"HTTPSConnectionPool(host='nominatim.openstreetmap.org', port=443): Read timed out. (read timeout=1)\"))\n",
      "No population data found, even after fallback.\n",
      "Getting POI density at (40.477700888968734, -74.22538090873134), radius=50m\n",
      "OSM query failed at radius 50m: No matching features. Check query location, tags, and log.\n",
      "OSM query failed at radius 100m: No matching features. Check query location, tags, and log.\n",
      "OSM query failed at radius 200m: No matching features. Check query location, tags, and log.\n",
      "OSM query failed at radius 400m: No matching features. Check query location, tags, and log.\n",
      "No POIs found after expansions. Falling back to nearest town/city center...\n",
      "Geocoding fallback failed: HTTPSConnectionPool(host='nominatim.openstreetmap.org', port=443): Max retries exceeded with url: /search?q=City+of+New+York&format=json&limit=1 (Caused by ReadTimeoutError(\"HTTPSConnectionPool(host='nominatim.openstreetmap.org', port=443): Read timed out. (read timeout=1)\"))\n",
      "No POIs found, even after fallback.\n",
      "Getting Four Square Count\n",
      "Getting media_income ...\n",
      "Fetch attempt failed at radius 200: No matching features. Check query location, tags, and log.\n",
      "Fetch attempt failed at radius 500: No matching features. Check query location, tags, and log.\n",
      "Fetch attempt failed at radius 1000: No matching features. Check query location, tags, and log.\n"
     ]
    },
    {
     "data": {
      "application/vnd.jupyter.widget-view+json": {
       "model_id": "f6a7c93ad15b4740a786054d786b298c",
       "version_major": 2,
       "version_minor": 0
      },
      "text/plain": [
       "FloatProgress(value=0.0, layout=Layout(width='auto'), style=ProgressStyle(bar_color='black'))"
      ]
     },
     "metadata": {},
     "output_type": "display_data"
    },
    {
     "data": {
      "application/vnd.jupyter.widget-view+json": {
       "model_id": "1f8e32bf9b274bf0a664dcdb9bf417f7",
       "version_major": 2,
       "version_minor": 0
      },
      "text/plain": [
       "FloatProgress(value=0.0, layout=Layout(width='auto'), style=ProgressStyle(bar_color='black'))"
      ]
     },
     "metadata": {},
     "output_type": "display_data"
    },
    {
     "data": {
      "application/vnd.jupyter.widget-view+json": {
       "model_id": "4c3504d0dca349aeba67c206f89ab975",
       "version_major": 2,
       "version_minor": 0
      },
      "text/plain": [
       "FloatProgress(value=0.0, layout=Layout(width='auto'), style=ProgressStyle(bar_color='black'))"
      ]
     },
     "metadata": {},
     "output_type": "display_data"
    },
    {
     "data": {
      "application/vnd.jupyter.widget-view+json": {
       "model_id": "85b5071db3624f6c958a76e05bff26b9",
       "version_major": 2,
       "version_minor": 0
      },
      "text/plain": [
       "FloatProgress(value=0.0, layout=Layout(width='auto'), style=ProgressStyle(bar_color='black'))"
      ]
     },
     "metadata": {},
     "output_type": "display_data"
    },
    {
     "name": "stdout",
     "output_type": "stream",
     "text": [
      "Town fallback failed: HTTPSConnectionPool(host='nominatim.openstreetmap.org', port=443): Max retries exceeded with url: /search?q=New+York&format=json&limit=1 (Caused by ReadTimeoutError(\"HTTPSConnectionPool(host='nominatim.openstreetmap.org', port=443): Read timed out. (read timeout=1)\"))\n",
      "Category osm: bench, fsq: Unknown\n"
     ]
    },
    {
     "data": {
      "application/vnd.jupyter.widget-view+json": {
       "model_id": "056a8ffae5264fb3b8fc2f9d8da85b90",
       "version_major": 2,
       "version_minor": 0
      },
      "text/plain": [
       "FloatProgress(value=0.0, layout=Layout(width='auto'), style=ProgressStyle(bar_color='black'))"
      ]
     },
     "metadata": {},
     "output_type": "display_data"
    },
    {
     "data": {
      "application/vnd.jupyter.widget-view+json": {
       "model_id": "81f5f369955040ecafad5052fa18c181",
       "version_major": 2,
       "version_minor": 0
      },
      "text/plain": [
       "FloatProgress(value=0.0, layout=Layout(width='auto'), style=ProgressStyle(bar_color='black'))"
      ]
     },
     "metadata": {},
     "output_type": "display_data"
    },
    {
     "data": {
      "application/vnd.jupyter.widget-view+json": {
       "model_id": "157585f6bb894cde96b71daeeb4ddec9",
       "version_major": 2,
       "version_minor": 0
      },
      "text/plain": [
       "FloatProgress(value=0.0, layout=Layout(width='auto'), style=ProgressStyle(bar_color='black'))"
      ]
     },
     "metadata": {},
     "output_type": "display_data"
    },
    {
     "data": {
      "application/vnd.jupyter.widget-view+json": {
       "model_id": "c48c05da776545dc88709c5aec55d9ae",
       "version_major": 2,
       "version_minor": 0
      },
      "text/plain": [
       "FloatProgress(value=0.0, layout=Layout(width='auto'), style=ProgressStyle(bar_color='black'))"
      ]
     },
     "metadata": {},
     "output_type": "display_data"
    },
    {
     "name": "stdout",
     "output_type": "stream",
     "text": [
      "Town fallback failed: HTTPSConnectionPool(host='nominatim.openstreetmap.org', port=443): Max retries exceeded with url: /search?q=New+York&format=json&limit=1 (Caused by ReadTimeoutError(\"HTTPSConnectionPool(host='nominatim.openstreetmap.org', port=443): Read timed out. (read timeout=1)\"))\n",
      "Fetch attempt failed at radius 200: No matching features. Check query location, tags, and log.\n",
      "Fetch attempt failed at radius 500: No matching features. Check query location, tags, and log.\n",
      "Fetch attempt failed at radius 1000: No matching features. Check query location, tags, and log.\n",
      "Revenue estimation ...\n",
      "Getting population density at (40.477251733381244, -74.22583006431884), radius=500m\n",
      "No population data at radius 500m, expanding search...\n",
      "No population data at radius 1000m, expanding search...\n",
      "No population data at radius 2000m, expanding search...\n",
      "No population data at radius 4000m, expanding search...\n",
      "No population found after expansions. Falling back to nearest town/city center...\n",
      "Geocoding fallback failed: HTTPSConnectionPool(host='nominatim.openstreetmap.org', port=443): Max retries exceeded with url: /search?q=City+of+New+York&format=json&limit=1 (Caused by ReadTimeoutError(\"HTTPSConnectionPool(host='nominatim.openstreetmap.org', port=443): Read timed out. (read timeout=1)\"))\n",
      "No population data found, even after fallback.\n",
      "Getting POI density at (40.477251733381244, -74.22583006431884), radius=500m\n",
      "OSM query failed at radius 500m: No matching features. Check query location, tags, and log.\n",
      "OSM query failed at radius 1000m: No matching features. Check query location, tags, and log.\n",
      "Found osm_pois 6\n",
      "Getting Four Square Count\n",
      "revenue 600\n",
      "Building features for location ...\n",
      "Generating circle points with max 50 subcircles\n",
      "low, high 50, 100\n",
      "looper 3\n",
      "looper 2 3\n",
      "haversine condition 36.89163397546147 100\n",
      "haversine condition 56.849031778054055 100\n",
      "looper 2 3\n",
      "haversine condition 25.878246134586725 100\n",
      "haversine condition 50.40312097287303 100\n",
      "looper 2 3\n",
      "haversine condition 28.424380905682003 100\n",
      "haversine condition 51.756566403297185 100\n",
      "Chosen small_radius: 50.00 m, generated 6 subcircles\n",
      "Number of neighborhood points 6\n",
      "Getting population density at (40.47635342220625, -74.22538090873134), radius=50m\n",
      "No population data at radius 50m, expanding search...\n",
      "No population data at radius 100m, expanding search...\n",
      "No population data at radius 200m, expanding search...\n",
      "No population data at radius 400m, expanding search...\n",
      "No population found after expansions. Falling back to nearest town/city center...\n",
      "No population data found, even after fallback.\n",
      "Getting POI density at (40.47635342220625, -74.22538090873134), radius=50m\n",
      "OSM query failed at radius 50m: No matching features. Check query location, tags, and log.\n",
      "OSM query failed at radius 100m: No matching features. Check query location, tags, and log.\n",
      "OSM query failed at radius 200m: No matching features. Check query location, tags, and log.\n",
      "OSM query failed at radius 400m: No matching features. Check query location, tags, and log.\n",
      "No POIs found after expansions. Falling back to nearest town/city center...\n",
      "OSM fallback query failed: No matching features. Check query location, tags, and log.\n",
      "No POIs found, even after fallback.\n",
      "Getting Four Square Count\n",
      "Getting media_income ...\n",
      "Fetch attempt failed at radius 200: No matching features. Check query location, tags, and log.\n",
      "Fetch attempt failed at radius 500: No matching features. Check query location, tags, and log.\n",
      "Fetch attempt failed at radius 1000: No matching features. Check query location, tags, and log.\n"
     ]
    },
    {
     "data": {
      "application/vnd.jupyter.widget-view+json": {
       "model_id": "753fa3959e5749548402108af89c1dba",
       "version_major": 2,
       "version_minor": 0
      },
      "text/plain": [
       "FloatProgress(value=0.0, layout=Layout(width='auto'), style=ProgressStyle(bar_color='black'))"
      ]
     },
     "metadata": {},
     "output_type": "display_data"
    },
    {
     "data": {
      "application/vnd.jupyter.widget-view+json": {
       "model_id": "800bd6d1c129483a9448319fbb7f90f0",
       "version_major": 2,
       "version_minor": 0
      },
      "text/plain": [
       "FloatProgress(value=0.0, layout=Layout(width='auto'), style=ProgressStyle(bar_color='black'))"
      ]
     },
     "metadata": {},
     "output_type": "display_data"
    },
    {
     "data": {
      "application/vnd.jupyter.widget-view+json": {
       "model_id": "aae75b50029043f289025263c87c5e19",
       "version_major": 2,
       "version_minor": 0
      },
      "text/plain": [
       "FloatProgress(value=0.0, layout=Layout(width='auto'), style=ProgressStyle(bar_color='black'))"
      ]
     },
     "metadata": {},
     "output_type": "display_data"
    },
    {
     "data": {
      "application/vnd.jupyter.widget-view+json": {
       "model_id": "dd83f65fb1b14ceb872e08dba6513a7a",
       "version_major": 2,
       "version_minor": 0
      },
      "text/plain": [
       "FloatProgress(value=0.0, layout=Layout(width='auto'), style=ProgressStyle(bar_color='black'))"
      ]
     },
     "metadata": {},
     "output_type": "display_data"
    },
    {
     "name": "stdout",
     "output_type": "stream",
     "text": [
      "Town fallback failed: HTTPSConnectionPool(host='nominatim.openstreetmap.org', port=443): Max retries exceeded with url: /search?q=New+York&format=json&limit=1 (Caused by ReadTimeoutError(\"HTTPSConnectionPool(host='nominatim.openstreetmap.org', port=443): Read timed out. (read timeout=1)\"))\n",
      "Category osm: bench, fsq: Unknown\n"
     ]
    },
    {
     "data": {
      "application/vnd.jupyter.widget-view+json": {
       "model_id": "2f2cf0bcb77b4707bec8307a957f757f",
       "version_major": 2,
       "version_minor": 0
      },
      "text/plain": [
       "FloatProgress(value=0.0, layout=Layout(width='auto'), style=ProgressStyle(bar_color='black'))"
      ]
     },
     "metadata": {},
     "output_type": "display_data"
    },
    {
     "data": {
      "application/vnd.jupyter.widget-view+json": {
       "model_id": "4a8a308121cd4c79a0ac4f56031b7d9f",
       "version_major": 2,
       "version_minor": 0
      },
      "text/plain": [
       "FloatProgress(value=0.0, layout=Layout(width='auto'), style=ProgressStyle(bar_color='black'))"
      ]
     },
     "metadata": {},
     "output_type": "display_data"
    },
    {
     "data": {
      "application/vnd.jupyter.widget-view+json": {
       "model_id": "1831506bd56a4b5c920b92ab66746f69",
       "version_major": 2,
       "version_minor": 0
      },
      "text/plain": [
       "FloatProgress(value=0.0, layout=Layout(width='auto'), style=ProgressStyle(bar_color='black'))"
      ]
     },
     "metadata": {},
     "output_type": "display_data"
    },
    {
     "data": {
      "application/vnd.jupyter.widget-view+json": {
       "model_id": "67a14a7548d34ca2972f733f393e93dd",
       "version_major": 2,
       "version_minor": 0
      },
      "text/plain": [
       "FloatProgress(value=0.0, layout=Layout(width='auto'), style=ProgressStyle(bar_color='black'))"
      ]
     },
     "metadata": {},
     "output_type": "display_data"
    },
    {
     "name": "stdout",
     "output_type": "stream",
     "text": [
      "Town fallback failed: HTTPSConnectionPool(host='nominatim.openstreetmap.org', port=443): Max retries exceeded with url: /search?q=New+York&format=json&limit=1 (Caused by ReadTimeoutError(\"HTTPSConnectionPool(host='nominatim.openstreetmap.org', port=443): Read timed out. (read timeout=1)\"))\n",
      "Fetch attempt failed at radius 200: No matching features. Check query location, tags, and log.\n",
      "Fetch attempt failed at radius 500: No matching features. Check query location, tags, and log.\n",
      "Fetch attempt failed at radius 1000: No matching features. Check query location, tags, and log.\n",
      "Getting population density at (40.47635342220625, -74.22470717535009), radius=50m\n",
      "No population data at radius 50m, expanding search...\n",
      "No population data at radius 100m, expanding search...\n",
      "No population data at radius 200m, expanding search...\n",
      "No population data at radius 400m, expanding search...\n",
      "No population found after expansions. Falling back to nearest town/city center...\n",
      "No population data found, even after fallback.\n",
      "Getting POI density at (40.47635342220625, -74.22470717535009), radius=50m\n",
      "OSM query failed at radius 50m: No matching features. Check query location, tags, and log.\n",
      "OSM query failed at radius 100m: No matching features. Check query location, tags, and log.\n",
      "OSM query failed at radius 200m: No matching features. Check query location, tags, and log.\n",
      "OSM query failed at radius 400m: No matching features. Check query location, tags, and log.\n",
      "No POIs found after expansions. Falling back to nearest town/city center...\n",
      "OSM fallback query failed: No matching features. Check query location, tags, and log.\n",
      "No POIs found, even after fallback.\n",
      "Getting Four Square Count\n",
      "Getting media_income ...\n",
      "Fetch attempt failed at radius 200: No matching features. Check query location, tags, and log.\n",
      "Fetch attempt failed at radius 500: No matching features. Check query location, tags, and log.\n",
      "Fetch attempt failed at radius 1000: No matching features. Check query location, tags, and log.\n"
     ]
    },
    {
     "data": {
      "application/vnd.jupyter.widget-view+json": {
       "model_id": "f6d017f7857843d8a7e9a49d49314735",
       "version_major": 2,
       "version_minor": 0
      },
      "text/plain": [
       "FloatProgress(value=0.0, layout=Layout(width='auto'), style=ProgressStyle(bar_color='black'))"
      ]
     },
     "metadata": {},
     "output_type": "display_data"
    },
    {
     "data": {
      "application/vnd.jupyter.widget-view+json": {
       "model_id": "4d1df0dc0d3843f88c6ef213ed86d288",
       "version_major": 2,
       "version_minor": 0
      },
      "text/plain": [
       "FloatProgress(value=0.0, layout=Layout(width='auto'), style=ProgressStyle(bar_color='black'))"
      ]
     },
     "metadata": {},
     "output_type": "display_data"
    },
    {
     "data": {
      "application/vnd.jupyter.widget-view+json": {
       "model_id": "63ee4d7a0d22485a9f4535f14e1dc55f",
       "version_major": 2,
       "version_minor": 0
      },
      "text/plain": [
       "FloatProgress(value=0.0, layout=Layout(width='auto'), style=ProgressStyle(bar_color='black'))"
      ]
     },
     "metadata": {},
     "output_type": "display_data"
    },
    {
     "data": {
      "application/vnd.jupyter.widget-view+json": {
       "model_id": "babfe2735cd64f8ba1af7d4c8af31df3",
       "version_major": 2,
       "version_minor": 0
      },
      "text/plain": [
       "FloatProgress(value=0.0, layout=Layout(width='auto'), style=ProgressStyle(bar_color='black'))"
      ]
     },
     "metadata": {},
     "output_type": "display_data"
    },
    {
     "name": "stdout",
     "output_type": "stream",
     "text": [
      "Town fallback failed: HTTPSConnectionPool(host='nominatim.openstreetmap.org', port=443): Max retries exceeded with url: /search?q=New+York&format=json&limit=1 (Caused by ReadTimeoutError(\"HTTPSConnectionPool(host='nominatim.openstreetmap.org', port=443): Read timed out. (read timeout=1)\"))\n",
      "Category osm: bench, fsq: Unknown\n"
     ]
    },
    {
     "data": {
      "application/vnd.jupyter.widget-view+json": {
       "model_id": "13853255f2f54f68b94ae364a6dde277",
       "version_major": 2,
       "version_minor": 0
      },
      "text/plain": [
       "FloatProgress(value=0.0, layout=Layout(width='auto'), style=ProgressStyle(bar_color='black'))"
      ]
     },
     "metadata": {},
     "output_type": "display_data"
    },
    {
     "data": {
      "application/vnd.jupyter.widget-view+json": {
       "model_id": "c2e981b24ab74d0da527573eebc41e82",
       "version_major": 2,
       "version_minor": 0
      },
      "text/plain": [
       "FloatProgress(value=0.0, layout=Layout(width='auto'), style=ProgressStyle(bar_color='black'))"
      ]
     },
     "metadata": {},
     "output_type": "display_data"
    },
    {
     "data": {
      "application/vnd.jupyter.widget-view+json": {
       "model_id": "9f3638b0d5f241f78458287e66523417",
       "version_major": 2,
       "version_minor": 0
      },
      "text/plain": [
       "FloatProgress(value=0.0, layout=Layout(width='auto'), style=ProgressStyle(bar_color='black'))"
      ]
     },
     "metadata": {},
     "output_type": "display_data"
    },
    {
     "data": {
      "application/vnd.jupyter.widget-view+json": {
       "model_id": "d80075769ffc438787c2dde5a1e73b2d",
       "version_major": 2,
       "version_minor": 0
      },
      "text/plain": [
       "FloatProgress(value=0.0, layout=Layout(width='auto'), style=ProgressStyle(bar_color='black'))"
      ]
     },
     "metadata": {},
     "output_type": "display_data"
    },
    {
     "name": "stdout",
     "output_type": "stream",
     "text": [
      "Town fallback failed: HTTPSConnectionPool(host='nominatim.openstreetmap.org', port=443): Max retries exceeded with url: /search?q=New+York&format=json&limit=1 (Caused by ReadTimeoutError(\"HTTPSConnectionPool(host='nominatim.openstreetmap.org', port=443): Read timed out. (read timeout=1)\"))\n",
      "Fetch attempt failed at radius 200: No matching features. Check query location, tags, and log.\n",
      "Fetch attempt failed at radius 500: No matching features. Check query location, tags, and log.\n",
      "Fetch attempt failed at radius 1000: No matching features. Check query location, tags, and log.\n",
      "Getting population density at (40.47702715558749, -74.22538090873134), radius=50m\n",
      "No population data at radius 50m, expanding search...\n",
      "No population data at radius 100m, expanding search...\n",
      "No population data at radius 200m, expanding search...\n",
      "No population data at radius 400m, expanding search...\n",
      "No population found after expansions. Falling back to nearest town/city center...\n",
      "Geocoding fallback failed: HTTPSConnectionPool(host='nominatim.openstreetmap.org', port=443): Max retries exceeded with url: /search?q=City+of+New+York&format=json&limit=1 (Caused by ReadTimeoutError(\"HTTPSConnectionPool(host='nominatim.openstreetmap.org', port=443): Read timed out. (read timeout=1)\"))\n",
      "No population data found, even after fallback.\n",
      "Getting POI density at (40.47702715558749, -74.22538090873134), radius=50m\n",
      "OSM query failed at radius 50m: No matching features. Check query location, tags, and log.\n",
      "OSM query failed at radius 100m: No matching features. Check query location, tags, and log.\n",
      "OSM query failed at radius 200m: No matching features. Check query location, tags, and log.\n",
      "OSM query failed at radius 400m: No matching features. Check query location, tags, and log.\n",
      "No POIs found after expansions. Falling back to nearest town/city center...\n",
      "Geocoding fallback failed: HTTPSConnectionPool(host='nominatim.openstreetmap.org', port=443): Max retries exceeded with url: /search?q=City+of+New+York&format=json&limit=1 (Caused by ReadTimeoutError(\"HTTPSConnectionPool(host='nominatim.openstreetmap.org', port=443): Read timed out. (read timeout=1)\"))\n",
      "No POIs found, even after fallback.\n",
      "Getting Four Square Count\n",
      "Getting media_income ...\n",
      "Fetch attempt failed at radius 200: No matching features. Check query location, tags, and log.\n",
      "Fetch attempt failed at radius 500: No matching features. Check query location, tags, and log.\n",
      "Fetch attempt failed at radius 1000: No matching features. Check query location, tags, and log.\n"
     ]
    },
    {
     "data": {
      "application/vnd.jupyter.widget-view+json": {
       "model_id": "647094257a464c7d9f998ec3ec8a863d",
       "version_major": 2,
       "version_minor": 0
      },
      "text/plain": [
       "FloatProgress(value=0.0, layout=Layout(width='auto'), style=ProgressStyle(bar_color='black'))"
      ]
     },
     "metadata": {},
     "output_type": "display_data"
    },
    {
     "data": {
      "application/vnd.jupyter.widget-view+json": {
       "model_id": "ceba80e7d6ce40dc905ec9412e4ff6e3",
       "version_major": 2,
       "version_minor": 0
      },
      "text/plain": [
       "FloatProgress(value=0.0, layout=Layout(width='auto'), style=ProgressStyle(bar_color='black'))"
      ]
     },
     "metadata": {},
     "output_type": "display_data"
    },
    {
     "data": {
      "application/vnd.jupyter.widget-view+json": {
       "model_id": "0b0361653d1f4ae5ae0434c273dde935",
       "version_major": 2,
       "version_minor": 0
      },
      "text/plain": [
       "FloatProgress(value=0.0, layout=Layout(width='auto'), style=ProgressStyle(bar_color='black'))"
      ]
     },
     "metadata": {},
     "output_type": "display_data"
    },
    {
     "data": {
      "application/vnd.jupyter.widget-view+json": {
       "model_id": "aa7272fe3a0e4aad8247024668a9c093",
       "version_major": 2,
       "version_minor": 0
      },
      "text/plain": [
       "FloatProgress(value=0.0, layout=Layout(width='auto'), style=ProgressStyle(bar_color='black'))"
      ]
     },
     "metadata": {},
     "output_type": "display_data"
    },
    {
     "name": "stdout",
     "output_type": "stream",
     "text": [
      "Town fallback failed: HTTPSConnectionPool(host='nominatim.openstreetmap.org', port=443): Max retries exceeded with url: /search?q=New+York&format=json&limit=1 (Caused by ReadTimeoutError(\"HTTPSConnectionPool(host='nominatim.openstreetmap.org', port=443): Read timed out. (read timeout=1)\"))\n",
      "Category osm: bench, fsq: Unknown\n"
     ]
    },
    {
     "data": {
      "application/vnd.jupyter.widget-view+json": {
       "model_id": "d42017f3ba474061884bf9458a4974da",
       "version_major": 2,
       "version_minor": 0
      },
      "text/plain": [
       "FloatProgress(value=0.0, layout=Layout(width='auto'), style=ProgressStyle(bar_color='black'))"
      ]
     },
     "metadata": {},
     "output_type": "display_data"
    },
    {
     "data": {
      "application/vnd.jupyter.widget-view+json": {
       "model_id": "0456e9aeb8bb48919ecba06340634d32",
       "version_major": 2,
       "version_minor": 0
      },
      "text/plain": [
       "FloatProgress(value=0.0, layout=Layout(width='auto'), style=ProgressStyle(bar_color='black'))"
      ]
     },
     "metadata": {},
     "output_type": "display_data"
    },
    {
     "data": {
      "application/vnd.jupyter.widget-view+json": {
       "model_id": "691531968d45474f9eb5ec09a1c3b8d2",
       "version_major": 2,
       "version_minor": 0
      },
      "text/plain": [
       "FloatProgress(value=0.0, layout=Layout(width='auto'), style=ProgressStyle(bar_color='black'))"
      ]
     },
     "metadata": {},
     "output_type": "display_data"
    },
    {
     "data": {
      "application/vnd.jupyter.widget-view+json": {
       "model_id": "1f143329c8db4ae8b629e0231a38d82b",
       "version_major": 2,
       "version_minor": 0
      },
      "text/plain": [
       "FloatProgress(value=0.0, layout=Layout(width='auto'), style=ProgressStyle(bar_color='black'))"
      ]
     },
     "metadata": {},
     "output_type": "display_data"
    },
    {
     "name": "stdout",
     "output_type": "stream",
     "text": [
      "Town fallback failed: HTTPSConnectionPool(host='nominatim.openstreetmap.org', port=443): Max retries exceeded with url: /search?q=New+York&format=json&limit=1 (Caused by ReadTimeoutError(\"HTTPSConnectionPool(host='nominatim.openstreetmap.org', port=443): Read timed out. (read timeout=1)\"))\n",
      "Fetch attempt failed at radius 200: No matching features. Check query location, tags, and log.\n",
      "Fetch attempt failed at radius 500: No matching features. Check query location, tags, and log.\n",
      "Fetch attempt failed at radius 1000: No matching features. Check query location, tags, and log.\n",
      "Getting population density at (40.47702715558749, -74.22470717535009), radius=50m\n",
      "No population data at radius 50m, expanding search...\n",
      "No population data at radius 100m, expanding search...\n",
      "No population data at radius 200m, expanding search...\n",
      "No population data at radius 400m, expanding search...\n",
      "No population found after expansions. Falling back to nearest town/city center...\n",
      "Geocoding fallback failed: HTTPSConnectionPool(host='nominatim.openstreetmap.org', port=443): Max retries exceeded with url: /search?q=City+of+New+York&format=json&limit=1 (Caused by ReadTimeoutError(\"HTTPSConnectionPool(host='nominatim.openstreetmap.org', port=443): Read timed out. (read timeout=1)\"))\n",
      "No population data found, even after fallback.\n",
      "Getting POI density at (40.47702715558749, -74.22470717535009), radius=50m\n",
      "OSM query failed at radius 50m: No matching features. Check query location, tags, and log.\n",
      "OSM query failed at radius 100m: No matching features. Check query location, tags, and log.\n",
      "OSM query failed at radius 200m: No matching features. Check query location, tags, and log.\n",
      "OSM query failed at radius 400m: No matching features. Check query location, tags, and log.\n",
      "No POIs found after expansions. Falling back to nearest town/city center...\n",
      "Geocoding fallback failed: HTTPSConnectionPool(host='nominatim.openstreetmap.org', port=443): Max retries exceeded with url: /search?q=City+of+New+York&format=json&limit=1 (Caused by ReadTimeoutError(\"HTTPSConnectionPool(host='nominatim.openstreetmap.org', port=443): Read timed out. (read timeout=1)\"))\n",
      "No POIs found, even after fallback.\n",
      "Getting Four Square Count\n",
      "Getting media_income ...\n",
      "Fetch attempt failed at radius 200: No matching features. Check query location, tags, and log.\n",
      "Fetch attempt failed at radius 500: No matching features. Check query location, tags, and log.\n",
      "Fetch attempt failed at radius 1000: No matching features. Check query location, tags, and log.\n"
     ]
    },
    {
     "data": {
      "application/vnd.jupyter.widget-view+json": {
       "model_id": "11cfdbffcb2d4663ae5c22bfb0673d6b",
       "version_major": 2,
       "version_minor": 0
      },
      "text/plain": [
       "FloatProgress(value=0.0, layout=Layout(width='auto'), style=ProgressStyle(bar_color='black'))"
      ]
     },
     "metadata": {},
     "output_type": "display_data"
    },
    {
     "data": {
      "application/vnd.jupyter.widget-view+json": {
       "model_id": "3a71e2889deb49d29a672a409469fddb",
       "version_major": 2,
       "version_minor": 0
      },
      "text/plain": [
       "FloatProgress(value=0.0, layout=Layout(width='auto'), style=ProgressStyle(bar_color='black'))"
      ]
     },
     "metadata": {},
     "output_type": "display_data"
    },
    {
     "data": {
      "application/vnd.jupyter.widget-view+json": {
       "model_id": "4188db7a626c44349703c8ecf7a729fd",
       "version_major": 2,
       "version_minor": 0
      },
      "text/plain": [
       "FloatProgress(value=0.0, layout=Layout(width='auto'), style=ProgressStyle(bar_color='black'))"
      ]
     },
     "metadata": {},
     "output_type": "display_data"
    },
    {
     "data": {
      "application/vnd.jupyter.widget-view+json": {
       "model_id": "5da5561545344b70a97407b622a9155c",
       "version_major": 2,
       "version_minor": 0
      },
      "text/plain": [
       "FloatProgress(value=0.0, layout=Layout(width='auto'), style=ProgressStyle(bar_color='black'))"
      ]
     },
     "metadata": {},
     "output_type": "display_data"
    },
    {
     "name": "stdout",
     "output_type": "stream",
     "text": [
      "Town fallback failed: HTTPSConnectionPool(host='nominatim.openstreetmap.org', port=443): Max retries exceeded with url: /search?q=New+York&format=json&limit=1 (Caused by ReadTimeoutError(\"HTTPSConnectionPool(host='nominatim.openstreetmap.org', port=443): Read timed out. (read timeout=1)\"))\n",
      "Category osm: bench, fsq: Unknown\n"
     ]
    },
    {
     "data": {
      "application/vnd.jupyter.widget-view+json": {
       "model_id": "59d8b95d96a84471be600021b2684f42",
       "version_major": 2,
       "version_minor": 0
      },
      "text/plain": [
       "FloatProgress(value=0.0, layout=Layout(width='auto'), style=ProgressStyle(bar_color='black'))"
      ]
     },
     "metadata": {},
     "output_type": "display_data"
    },
    {
     "data": {
      "application/vnd.jupyter.widget-view+json": {
       "model_id": "b5b744cc45aa49d683caa6c2bb9ea315",
       "version_major": 2,
       "version_minor": 0
      },
      "text/plain": [
       "FloatProgress(value=0.0, layout=Layout(width='auto'), style=ProgressStyle(bar_color='black'))"
      ]
     },
     "metadata": {},
     "output_type": "display_data"
    },
    {
     "data": {
      "application/vnd.jupyter.widget-view+json": {
       "model_id": "a29ff0fa1ad94f14b5bcb2c7eef71232",
       "version_major": 2,
       "version_minor": 0
      },
      "text/plain": [
       "FloatProgress(value=0.0, layout=Layout(width='auto'), style=ProgressStyle(bar_color='black'))"
      ]
     },
     "metadata": {},
     "output_type": "display_data"
    },
    {
     "data": {
      "application/vnd.jupyter.widget-view+json": {
       "model_id": "fa3ec81624cf49c9b79d55f5e51f5b18",
       "version_major": 2,
       "version_minor": 0
      },
      "text/plain": [
       "FloatProgress(value=0.0, layout=Layout(width='auto'), style=ProgressStyle(bar_color='black'))"
      ]
     },
     "metadata": {},
     "output_type": "display_data"
    },
    {
     "name": "stdout",
     "output_type": "stream",
     "text": [
      "Town fallback failed: HTTPSConnectionPool(host='nominatim.openstreetmap.org', port=443): Max retries exceeded with url: /search?q=New+York&format=json&limit=1 (Caused by ReadTimeoutError(\"HTTPSConnectionPool(host='nominatim.openstreetmap.org', port=443): Read timed out. (read timeout=1)\"))\n",
      "Fetch attempt failed at radius 200: No matching features. Check query location, tags, and log.\n",
      "Fetch attempt failed at radius 500: No matching features. Check query location, tags, and log.\n",
      "Fetch attempt failed at radius 1000: No matching features. Check query location, tags, and log.\n",
      "Getting population density at (40.477700888968734, -74.22538090873134), radius=50m\n",
      "No population data at radius 50m, expanding search...\n",
      "No population data at radius 100m, expanding search...\n",
      "No population data at radius 200m, expanding search...\n",
      "No population data at radius 400m, expanding search...\n",
      "No population found after expansions. Falling back to nearest town/city center...\n",
      "Geocoding fallback failed: HTTPSConnectionPool(host='nominatim.openstreetmap.org', port=443): Max retries exceeded with url: /search?q=City+of+New+York&format=json&limit=1 (Caused by ReadTimeoutError(\"HTTPSConnectionPool(host='nominatim.openstreetmap.org', port=443): Read timed out. (read timeout=1)\"))\n",
      "No population data found, even after fallback.\n",
      "Getting POI density at (40.477700888968734, -74.22538090873134), radius=50m\n",
      "OSM query failed at radius 50m: No matching features. Check query location, tags, and log.\n",
      "OSM query failed at radius 100m: No matching features. Check query location, tags, and log.\n",
      "OSM query failed at radius 200m: No matching features. Check query location, tags, and log.\n",
      "OSM query failed at radius 400m: No matching features. Check query location, tags, and log.\n",
      "No POIs found after expansions. Falling back to nearest town/city center...\n",
      "Geocoding fallback failed: HTTPSConnectionPool(host='nominatim.openstreetmap.org', port=443): Max retries exceeded with url: /search?q=City+of+New+York&format=json&limit=1 (Caused by ReadTimeoutError(\"HTTPSConnectionPool(host='nominatim.openstreetmap.org', port=443): Read timed out. (read timeout=1)\"))\n",
      "No POIs found, even after fallback.\n",
      "Getting Four Square Count\n",
      "Getting media_income ...\n",
      "Fetch attempt failed at radius 200: No matching features. Check query location, tags, and log.\n",
      "Fetch attempt failed at radius 500: No matching features. Check query location, tags, and log.\n",
      "Fetch attempt failed at radius 1000: No matching features. Check query location, tags, and log.\n"
     ]
    },
    {
     "data": {
      "application/vnd.jupyter.widget-view+json": {
       "model_id": "dd283be04add4e9db0b7daf3345e4693",
       "version_major": 2,
       "version_minor": 0
      },
      "text/plain": [
       "FloatProgress(value=0.0, layout=Layout(width='auto'), style=ProgressStyle(bar_color='black'))"
      ]
     },
     "metadata": {},
     "output_type": "display_data"
    },
    {
     "data": {
      "application/vnd.jupyter.widget-view+json": {
       "model_id": "839a3fed4ebd40f1a58775fdee15ee9d",
       "version_major": 2,
       "version_minor": 0
      },
      "text/plain": [
       "FloatProgress(value=0.0, layout=Layout(width='auto'), style=ProgressStyle(bar_color='black'))"
      ]
     },
     "metadata": {},
     "output_type": "display_data"
    },
    {
     "data": {
      "application/vnd.jupyter.widget-view+json": {
       "model_id": "0a526e04e89e4acd9ffa867aadc86387",
       "version_major": 2,
       "version_minor": 0
      },
      "text/plain": [
       "FloatProgress(value=0.0, layout=Layout(width='auto'), style=ProgressStyle(bar_color='black'))"
      ]
     },
     "metadata": {},
     "output_type": "display_data"
    },
    {
     "data": {
      "application/vnd.jupyter.widget-view+json": {
       "model_id": "ec56b7e2505e474ca4c54f7026340727",
       "version_major": 2,
       "version_minor": 0
      },
      "text/plain": [
       "FloatProgress(value=0.0, layout=Layout(width='auto'), style=ProgressStyle(bar_color='black'))"
      ]
     },
     "metadata": {},
     "output_type": "display_data"
    },
    {
     "data": {
      "application/vnd.jupyter.widget-view+json": {
       "model_id": "91ab5ceb509e40f3963ec3ff2a98916b",
       "version_major": 2,
       "version_minor": 0
      },
      "text/plain": [
       "FloatProgress(value=0.0, layout=Layout(width='auto'), style=ProgressStyle(bar_color='black'))"
      ]
     },
     "metadata": {},
     "output_type": "display_data"
    },
    {
     "data": {
      "application/vnd.jupyter.widget-view+json": {
       "model_id": "0ba5b3450e894f248e1ea754d30a809f",
       "version_major": 2,
       "version_minor": 0
      },
      "text/plain": [
       "FloatProgress(value=0.0, layout=Layout(width='auto'), style=ProgressStyle(bar_color='black'))"
      ]
     },
     "metadata": {},
     "output_type": "display_data"
    },
    {
     "data": {
      "application/vnd.jupyter.widget-view+json": {
       "model_id": "7a5c33ec87a74b7a8ab674bb4e065631",
       "version_major": 2,
       "version_minor": 0
      },
      "text/plain": [
       "FloatProgress(value=0.0, layout=Layout(width='auto'), style=ProgressStyle(bar_color='black'))"
      ]
     },
     "metadata": {},
     "output_type": "display_data"
    },
    {
     "data": {
      "application/vnd.jupyter.widget-view+json": {
       "model_id": "207b42f9e3fb4bb9a14222f9367f4e9f",
       "version_major": 2,
       "version_minor": 0
      },
      "text/plain": [
       "FloatProgress(value=0.0, layout=Layout(width='auto'), style=ProgressStyle(bar_color='black'))"
      ]
     },
     "metadata": {},
     "output_type": "display_data"
    },
    {
     "name": "stdout",
     "output_type": "stream",
     "text": [
      "Town fallback failed: HTTPSConnectionPool(host='nominatim.openstreetmap.org', port=443): Max retries exceeded with url: /search?q=New+York&format=json&limit=1 (Caused by ReadTimeoutError(\"HTTPSConnectionPool(host='nominatim.openstreetmap.org', port=443): Read timed out. (read timeout=1)\"))\n",
      "Category osm: bench, fsq: Unknown\n"
     ]
    },
    {
     "data": {
      "application/vnd.jupyter.widget-view+json": {
       "model_id": "b3972baa43c74ebd8b9ba57ed7dbde56",
       "version_major": 2,
       "version_minor": 0
      },
      "text/plain": [
       "FloatProgress(value=0.0, layout=Layout(width='auto'), style=ProgressStyle(bar_color='black'))"
      ]
     },
     "metadata": {},
     "output_type": "display_data"
    },
    {
     "data": {
      "application/vnd.jupyter.widget-view+json": {
       "model_id": "800ec9acf14a462eab39b665ba8a3dc9",
       "version_major": 2,
       "version_minor": 0
      },
      "text/plain": [
       "FloatProgress(value=0.0, layout=Layout(width='auto'), style=ProgressStyle(bar_color='black'))"
      ]
     },
     "metadata": {},
     "output_type": "display_data"
    },
    {
     "data": {
      "application/vnd.jupyter.widget-view+json": {
       "model_id": "4275c416b2784117acd8d624eb81fdd1",
       "version_major": 2,
       "version_minor": 0
      },
      "text/plain": [
       "FloatProgress(value=0.0, layout=Layout(width='auto'), style=ProgressStyle(bar_color='black'))"
      ]
     },
     "metadata": {},
     "output_type": "display_data"
    },
    {
     "data": {
      "application/vnd.jupyter.widget-view+json": {
       "model_id": "c11fcd843df842b7a7504e943877d6e3",
       "version_major": 2,
       "version_minor": 0
      },
      "text/plain": [
       "FloatProgress(value=0.0, layout=Layout(width='auto'), style=ProgressStyle(bar_color='black'))"
      ]
     },
     "metadata": {},
     "output_type": "display_data"
    },
    {
     "name": "stdout",
     "output_type": "stream",
     "text": [
      "Town fallback failed: HTTPSConnectionPool(host='nominatim.openstreetmap.org', port=443): Max retries exceeded with url: /search?q=New+York&format=json&limit=1 (Caused by ReadTimeoutError(\"HTTPSConnectionPool(host='nominatim.openstreetmap.org', port=443): Read timed out. (read timeout=1)\"))\n",
      "Fetch attempt failed at radius 200: No matching features. Check query location, tags, and log.\n",
      "Fetch attempt failed at radius 500: No matching features. Check query location, tags, and log.\n",
      "Fetch attempt failed at radius 1000: No matching features. Check query location, tags, and log.\n",
      "Getting population density at (40.477700888968734, -74.22470717535009), radius=50m\n",
      "No population data at radius 50m, expanding search...\n",
      "No population data at radius 100m, expanding search...\n",
      "No population data at radius 200m, expanding search...\n",
      "No population data at radius 400m, expanding search...\n",
      "No population found after expansions. Falling back to nearest town/city center...\n",
      "No population data found, even after fallback.\n",
      "Getting POI density at (40.477700888968734, -74.22470717535009), radius=50m\n",
      "OSM query failed at radius 50m: No matching features. Check query location, tags, and log.\n",
      "OSM query failed at radius 100m: No matching features. Check query location, tags, and log.\n",
      "OSM query failed at radius 200m: No matching features. Check query location, tags, and log.\n",
      "OSM query failed at radius 400m: No matching features. Check query location, tags, and log.\n",
      "No POIs found after expansions. Falling back to nearest town/city center...\n",
      "Geocoding fallback failed: HTTPSConnectionPool(host='nominatim.openstreetmap.org', port=443): Max retries exceeded with url: /search?q=City+of+New+York&format=json&limit=1 (Caused by ReadTimeoutError(\"HTTPSConnectionPool(host='nominatim.openstreetmap.org', port=443): Read timed out. (read timeout=1)\"))\n",
      "No POIs found, even after fallback.\n",
      "Getting Four Square Count\n",
      "Getting media_income ...\n",
      "Fetch attempt failed at radius 200: No matching features. Check query location, tags, and log.\n",
      "Fetch attempt failed at radius 500: No matching features. Check query location, tags, and log.\n",
      "Fetch attempt failed at radius 1000: No matching features. Check query location, tags, and log.\n"
     ]
    },
    {
     "data": {
      "application/vnd.jupyter.widget-view+json": {
       "model_id": "8fb95109a53d49ea841d5d8689170b50",
       "version_major": 2,
       "version_minor": 0
      },
      "text/plain": [
       "FloatProgress(value=0.0, layout=Layout(width='auto'), style=ProgressStyle(bar_color='black'))"
      ]
     },
     "metadata": {},
     "output_type": "display_data"
    },
    {
     "data": {
      "application/vnd.jupyter.widget-view+json": {
       "model_id": "f0430ede3c874265b22a3b8aa62821c3",
       "version_major": 2,
       "version_minor": 0
      },
      "text/plain": [
       "FloatProgress(value=0.0, layout=Layout(width='auto'), style=ProgressStyle(bar_color='black'))"
      ]
     },
     "metadata": {},
     "output_type": "display_data"
    },
    {
     "data": {
      "application/vnd.jupyter.widget-view+json": {
       "model_id": "502465b122414d0ca24eee43f26b107d",
       "version_major": 2,
       "version_minor": 0
      },
      "text/plain": [
       "FloatProgress(value=0.0, layout=Layout(width='auto'), style=ProgressStyle(bar_color='black'))"
      ]
     },
     "metadata": {},
     "output_type": "display_data"
    },
    {
     "data": {
      "application/vnd.jupyter.widget-view+json": {
       "model_id": "e14af03d70cf44909ffa2f5d2f26f20b",
       "version_major": 2,
       "version_minor": 0
      },
      "text/plain": [
       "FloatProgress(value=0.0, layout=Layout(width='auto'), style=ProgressStyle(bar_color='black'))"
      ]
     },
     "metadata": {},
     "output_type": "display_data"
    },
    {
     "data": {
      "application/vnd.jupyter.widget-view+json": {
       "model_id": "cf149f81aac54035959ddd9bcb4a83bf",
       "version_major": 2,
       "version_minor": 0
      },
      "text/plain": [
       "FloatProgress(value=0.0, layout=Layout(width='auto'), style=ProgressStyle(bar_color='black'))"
      ]
     },
     "metadata": {},
     "output_type": "display_data"
    },
    {
     "data": {
      "application/vnd.jupyter.widget-view+json": {
       "model_id": "d44521189f7a4d389687f78044286d9a",
       "version_major": 2,
       "version_minor": 0
      },
      "text/plain": [
       "FloatProgress(value=0.0, layout=Layout(width='auto'), style=ProgressStyle(bar_color='black'))"
      ]
     },
     "metadata": {},
     "output_type": "display_data"
    },
    {
     "data": {
      "application/vnd.jupyter.widget-view+json": {
       "model_id": "281632831b784aaea04aba1061dedc86",
       "version_major": 2,
       "version_minor": 0
      },
      "text/plain": [
       "FloatProgress(value=0.0, layout=Layout(width='auto'), style=ProgressStyle(bar_color='black'))"
      ]
     },
     "metadata": {},
     "output_type": "display_data"
    },
    {
     "data": {
      "application/vnd.jupyter.widget-view+json": {
       "model_id": "f5241263c1ee465a8e9724a59ae25e0b",
       "version_major": 2,
       "version_minor": 0
      },
      "text/plain": [
       "FloatProgress(value=0.0, layout=Layout(width='auto'), style=ProgressStyle(bar_color='black'))"
      ]
     },
     "metadata": {},
     "output_type": "display_data"
    },
    {
     "name": "stdout",
     "output_type": "stream",
     "text": [
      "Category osm: bench, fsq: Unknown\n"
     ]
    },
    {
     "data": {
      "application/vnd.jupyter.widget-view+json": {
       "model_id": "32d643d833a54a738aff16ecc5876baf",
       "version_major": 2,
       "version_minor": 0
      },
      "text/plain": [
       "FloatProgress(value=0.0, layout=Layout(width='auto'), style=ProgressStyle(bar_color='black'))"
      ]
     },
     "metadata": {},
     "output_type": "display_data"
    },
    {
     "data": {
      "application/vnd.jupyter.widget-view+json": {
       "model_id": "d1a958cbe4134d05998f680cb5b68575",
       "version_major": 2,
       "version_minor": 0
      },
      "text/plain": [
       "FloatProgress(value=0.0, layout=Layout(width='auto'), style=ProgressStyle(bar_color='black'))"
      ]
     },
     "metadata": {},
     "output_type": "display_data"
    },
    {
     "data": {
      "application/vnd.jupyter.widget-view+json": {
       "model_id": "bf26a413ffcc418989db3332ea631de3",
       "version_major": 2,
       "version_minor": 0
      },
      "text/plain": [
       "FloatProgress(value=0.0, layout=Layout(width='auto'), style=ProgressStyle(bar_color='black'))"
      ]
     },
     "metadata": {},
     "output_type": "display_data"
    },
    {
     "data": {
      "application/vnd.jupyter.widget-view+json": {
       "model_id": "198634a71faa4c3a823611826a9bb630",
       "version_major": 2,
       "version_minor": 0
      },
      "text/plain": [
       "FloatProgress(value=0.0, layout=Layout(width='auto'), style=ProgressStyle(bar_color='black'))"
      ]
     },
     "metadata": {},
     "output_type": "display_data"
    },
    {
     "name": "stdout",
     "output_type": "stream",
     "text": [
      "Town fallback failed: HTTPSConnectionPool(host='nominatim.openstreetmap.org', port=443): Max retries exceeded with url: /search?q=New+York&format=json&limit=1 (Caused by ReadTimeoutError(\"HTTPSConnectionPool(host='nominatim.openstreetmap.org', port=443): Read timed out. (read timeout=1)\"))\n",
      "Fetch attempt failed at radius 200: No matching features. Check query location, tags, and log.\n",
      "Fetch attempt failed at radius 500: No matching features. Check query location, tags, and log.\n",
      "Fetch attempt failed at radius 1000: No matching features. Check query location, tags, and log.\n",
      "Revenue estimation ...\n",
      "Getting population density at (40.477251733381244, -74.2251563309376), radius=500m\n",
      "No population data at radius 500m, expanding search...\n",
      "No population data at radius 1000m, expanding search...\n",
      "No population data at radius 2000m, expanding search...\n",
      "No population data at radius 4000m, expanding search...\n",
      "No population found after expansions. Falling back to nearest town/city center...\n",
      "No population data found, even after fallback.\n",
      "Getting POI density at (40.477251733381244, -74.2251563309376), radius=500m\n",
      "OSM query failed at radius 500m: No matching features. Check query location, tags, and log.\n",
      "OSM query failed at radius 1000m: No matching features. Check query location, tags, and log.\n",
      "Found osm_pois 5\n",
      "Getting Four Square Count\n",
      "revenue 500\n",
      "Building features for location ...\n",
      "Generating circle points with max 50 subcircles\n",
      "low, high 50, 100\n",
      "looper 3\n",
      "looper 2 3\n",
      "haversine condition 36.892465989859886 100\n",
      "haversine condition 56.84957171844049 100\n",
      "looper 2 3\n",
      "haversine condition 25.87832026700824 100\n",
      "haversine condition 50.40315903371379 100\n",
      "looper 2 3\n",
      "haversine condition 28.424650872608538 100\n",
      "haversine condition 51.756714669402164 100\n",
      "Chosen small_radius: 50.00 m, generated 6 subcircles\n",
      "Number of neighborhood points 6\n",
      "Getting population density at (40.47635342220625, -74.22470717535009), radius=50m\n",
      "No population data at radius 50m, expanding search...\n",
      "No population data at radius 100m, expanding search...\n",
      "No population data at radius 200m, expanding search...\n",
      "No population data at radius 400m, expanding search...\n",
      "No population found after expansions. Falling back to nearest town/city center...\n",
      "No population data found, even after fallback.\n",
      "Getting POI density at (40.47635342220625, -74.22470717535009), radius=50m\n",
      "OSM query failed at radius 50m: No matching features. Check query location, tags, and log.\n",
      "OSM query failed at radius 100m: No matching features. Check query location, tags, and log.\n",
      "OSM query failed at radius 200m: No matching features. Check query location, tags, and log.\n",
      "OSM query failed at radius 400m: No matching features. Check query location, tags, and log.\n",
      "No POIs found after expansions. Falling back to nearest town/city center...\n",
      "OSM fallback query failed: No matching features. Check query location, tags, and log.\n",
      "No POIs found, even after fallback.\n",
      "Getting Four Square Count\n",
      "Getting media_income ...\n",
      "Fetch attempt failed at radius 200: No matching features. Check query location, tags, and log.\n",
      "Fetch attempt failed at radius 500: No matching features. Check query location, tags, and log.\n",
      "Fetch attempt failed at radius 1000: No matching features. Check query location, tags, and log.\n"
     ]
    },
    {
     "data": {
      "application/vnd.jupyter.widget-view+json": {
       "model_id": "9eaa82fa678a4840acfd26f97886ee39",
       "version_major": 2,
       "version_minor": 0
      },
      "text/plain": [
       "FloatProgress(value=0.0, layout=Layout(width='auto'), style=ProgressStyle(bar_color='black'))"
      ]
     },
     "metadata": {},
     "output_type": "display_data"
    },
    {
     "data": {
      "application/vnd.jupyter.widget-view+json": {
       "model_id": "8593f81fce06473f9280093efb4071e9",
       "version_major": 2,
       "version_minor": 0
      },
      "text/plain": [
       "FloatProgress(value=0.0, layout=Layout(width='auto'), style=ProgressStyle(bar_color='black'))"
      ]
     },
     "metadata": {},
     "output_type": "display_data"
    },
    {
     "data": {
      "application/vnd.jupyter.widget-view+json": {
       "model_id": "617e0c7d2bbe485ab22486ba2115109c",
       "version_major": 2,
       "version_minor": 0
      },
      "text/plain": [
       "FloatProgress(value=0.0, layout=Layout(width='auto'), style=ProgressStyle(bar_color='black'))"
      ]
     },
     "metadata": {},
     "output_type": "display_data"
    },
    {
     "data": {
      "application/vnd.jupyter.widget-view+json": {
       "model_id": "60841eb964f944c1ade39258bda7e505",
       "version_major": 2,
       "version_minor": 0
      },
      "text/plain": [
       "FloatProgress(value=0.0, layout=Layout(width='auto'), style=ProgressStyle(bar_color='black'))"
      ]
     },
     "metadata": {},
     "output_type": "display_data"
    },
    {
     "name": "stdout",
     "output_type": "stream",
     "text": [
      "Town fallback failed: HTTPSConnectionPool(host='nominatim.openstreetmap.org', port=443): Max retries exceeded with url: /search?q=New+York&format=json&limit=1 (Caused by ReadTimeoutError(\"HTTPSConnectionPool(host='nominatim.openstreetmap.org', port=443): Read timed out. (read timeout=1)\"))\n",
      "Category osm: bench, fsq: Unknown\n"
     ]
    },
    {
     "data": {
      "application/vnd.jupyter.widget-view+json": {
       "model_id": "05f4505562054eef9b5143dc7d0e6a92",
       "version_major": 2,
       "version_minor": 0
      },
      "text/plain": [
       "FloatProgress(value=0.0, layout=Layout(width='auto'), style=ProgressStyle(bar_color='black'))"
      ]
     },
     "metadata": {},
     "output_type": "display_data"
    },
    {
     "data": {
      "application/vnd.jupyter.widget-view+json": {
       "model_id": "89577ee4fc4e4b93aa98969e97632aca",
       "version_major": 2,
       "version_minor": 0
      },
      "text/plain": [
       "FloatProgress(value=0.0, layout=Layout(width='auto'), style=ProgressStyle(bar_color='black'))"
      ]
     },
     "metadata": {},
     "output_type": "display_data"
    },
    {
     "data": {
      "application/vnd.jupyter.widget-view+json": {
       "model_id": "df204c82a75041c983ab4943a7e5cde6",
       "version_major": 2,
       "version_minor": 0
      },
      "text/plain": [
       "FloatProgress(value=0.0, layout=Layout(width='auto'), style=ProgressStyle(bar_color='black'))"
      ]
     },
     "metadata": {},
     "output_type": "display_data"
    },
    {
     "data": {
      "application/vnd.jupyter.widget-view+json": {
       "model_id": "c7d2b835ae514e00b36e0846902d700e",
       "version_major": 2,
       "version_minor": 0
      },
      "text/plain": [
       "FloatProgress(value=0.0, layout=Layout(width='auto'), style=ProgressStyle(bar_color='black'))"
      ]
     },
     "metadata": {},
     "output_type": "display_data"
    },
    {
     "name": "stdout",
     "output_type": "stream",
     "text": [
      "Town fallback failed: HTTPSConnectionPool(host='nominatim.openstreetmap.org', port=443): Max retries exceeded with url: /search?q=New+York&format=json&limit=1 (Caused by ReadTimeoutError(\"HTTPSConnectionPool(host='nominatim.openstreetmap.org', port=443): Read timed out. (read timeout=1)\"))\n",
      "Fetch attempt failed at radius 200: No matching features. Check query location, tags, and log.\n",
      "Fetch attempt failed at radius 500: No matching features. Check query location, tags, and log.\n",
      "Fetch attempt failed at radius 1000: No matching features. Check query location, tags, and log.\n",
      "Getting population density at (40.47635342220625, -74.22403344196884), radius=50m\n",
      "No population data at radius 50m, expanding search...\n",
      "No population data at radius 100m, expanding search...\n",
      "No population data at radius 200m, expanding search...\n",
      "No population data at radius 400m, expanding search...\n",
      "No population found after expansions. Falling back to nearest town/city center...\n",
      "No population data found, even after fallback.\n",
      "Getting POI density at (40.47635342220625, -74.22403344196884), radius=50m\n",
      "OSM query failed at radius 50m: No matching features. Check query location, tags, and log.\n",
      "OSM query failed at radius 100m: No matching features. Check query location, tags, and log.\n",
      "OSM query failed at radius 200m: No matching features. Check query location, tags, and log.\n",
      "OSM query failed at radius 400m: No matching features. Check query location, tags, and log.\n",
      "No POIs found after expansions. Falling back to nearest town/city center...\n",
      "OSM fallback query failed: No matching features. Check query location, tags, and log.\n",
      "No POIs found, even after fallback.\n",
      "Getting Four Square Count\n",
      "Getting media_income ...\n",
      "Fetch attempt failed at radius 200: No matching features. Check query location, tags, and log.\n",
      "Fetch attempt failed at radius 500: No matching features. Check query location, tags, and log.\n",
      "Fetch attempt failed at radius 1000: No matching features. Check query location, tags, and log.\n"
     ]
    },
    {
     "data": {
      "application/vnd.jupyter.widget-view+json": {
       "model_id": "19b4c9753d52433d992c7e238b963ca1",
       "version_major": 2,
       "version_minor": 0
      },
      "text/plain": [
       "FloatProgress(value=0.0, layout=Layout(width='auto'), style=ProgressStyle(bar_color='black'))"
      ]
     },
     "metadata": {},
     "output_type": "display_data"
    },
    {
     "data": {
      "application/vnd.jupyter.widget-view+json": {
       "model_id": "ea2cc301375b4094a1717b99436a3f26",
       "version_major": 2,
       "version_minor": 0
      },
      "text/plain": [
       "FloatProgress(value=0.0, layout=Layout(width='auto'), style=ProgressStyle(bar_color='black'))"
      ]
     },
     "metadata": {},
     "output_type": "display_data"
    },
    {
     "data": {
      "application/vnd.jupyter.widget-view+json": {
       "model_id": "eda64b2fd2c94caaac0ac8f63fb316e0",
       "version_major": 2,
       "version_minor": 0
      },
      "text/plain": [
       "FloatProgress(value=0.0, layout=Layout(width='auto'), style=ProgressStyle(bar_color='black'))"
      ]
     },
     "metadata": {},
     "output_type": "display_data"
    },
    {
     "data": {
      "application/vnd.jupyter.widget-view+json": {
       "model_id": "71c625d070984b9b8ad780e068946645",
       "version_major": 2,
       "version_minor": 0
      },
      "text/plain": [
       "FloatProgress(value=0.0, layout=Layout(width='auto'), style=ProgressStyle(bar_color='black'))"
      ]
     },
     "metadata": {},
     "output_type": "display_data"
    },
    {
     "data": {
      "application/vnd.jupyter.widget-view+json": {
       "model_id": "1bbc0c652d374d6d99f30bd782d9188d",
       "version_major": 2,
       "version_minor": 0
      },
      "text/plain": [
       "FloatProgress(value=0.0, layout=Layout(width='auto'), style=ProgressStyle(bar_color='black'))"
      ]
     },
     "metadata": {},
     "output_type": "display_data"
    },
    {
     "data": {
      "application/vnd.jupyter.widget-view+json": {
       "model_id": "681aaa1e08654f5380dcda01c9628904",
       "version_major": 2,
       "version_minor": 0
      },
      "text/plain": [
       "FloatProgress(value=0.0, layout=Layout(width='auto'), style=ProgressStyle(bar_color='black'))"
      ]
     },
     "metadata": {},
     "output_type": "display_data"
    },
    {
     "data": {
      "application/vnd.jupyter.widget-view+json": {
       "model_id": "819d2849e6b44c91b7562c8047d76645",
       "version_major": 2,
       "version_minor": 0
      },
      "text/plain": [
       "FloatProgress(value=0.0, layout=Layout(width='auto'), style=ProgressStyle(bar_color='black'))"
      ]
     },
     "metadata": {},
     "output_type": "display_data"
    },
    {
     "data": {
      "application/vnd.jupyter.widget-view+json": {
       "model_id": "e1ad2b3468504e76beeb4a6f17400889",
       "version_major": 2,
       "version_minor": 0
      },
      "text/plain": [
       "FloatProgress(value=0.0, layout=Layout(width='auto'), style=ProgressStyle(bar_color='black'))"
      ]
     },
     "metadata": {},
     "output_type": "display_data"
    },
    {
     "name": "stdout",
     "output_type": "stream",
     "text": [
      "Category osm: bench, fsq: Unknown\n"
     ]
    },
    {
     "data": {
      "application/vnd.jupyter.widget-view+json": {
       "model_id": "1b600b7f20b644d39038e9bd5329e0fc",
       "version_major": 2,
       "version_minor": 0
      },
      "text/plain": [
       "FloatProgress(value=0.0, layout=Layout(width='auto'), style=ProgressStyle(bar_color='black'))"
      ]
     },
     "metadata": {},
     "output_type": "display_data"
    },
    {
     "data": {
      "application/vnd.jupyter.widget-view+json": {
       "model_id": "bdf023a43bfd4254af1429e377fe6784",
       "version_major": 2,
       "version_minor": 0
      },
      "text/plain": [
       "FloatProgress(value=0.0, layout=Layout(width='auto'), style=ProgressStyle(bar_color='black'))"
      ]
     },
     "metadata": {},
     "output_type": "display_data"
    },
    {
     "data": {
      "application/vnd.jupyter.widget-view+json": {
       "model_id": "56e1b0a21b784376b1f6c2dab1f84e4d",
       "version_major": 2,
       "version_minor": 0
      },
      "text/plain": [
       "FloatProgress(value=0.0, layout=Layout(width='auto'), style=ProgressStyle(bar_color='black'))"
      ]
     },
     "metadata": {},
     "output_type": "display_data"
    },
    {
     "data": {
      "application/vnd.jupyter.widget-view+json": {
       "model_id": "af4604eb65db4f2cb332f401c17c9ec6",
       "version_major": 2,
       "version_minor": 0
      },
      "text/plain": [
       "FloatProgress(value=0.0, layout=Layout(width='auto'), style=ProgressStyle(bar_color='black'))"
      ]
     },
     "metadata": {},
     "output_type": "display_data"
    },
    {
     "data": {
      "application/vnd.jupyter.widget-view+json": {
       "model_id": "eb79b847516541549d95287a8e503ad8",
       "version_major": 2,
       "version_minor": 0
      },
      "text/plain": [
       "FloatProgress(value=0.0, layout=Layout(width='auto'), style=ProgressStyle(bar_color='black'))"
      ]
     },
     "metadata": {},
     "output_type": "display_data"
    },
    {
     "data": {
      "application/vnd.jupyter.widget-view+json": {
       "model_id": "61982668a4ec4c67bd3fd9b15b99c88e",
       "version_major": 2,
       "version_minor": 0
      },
      "text/plain": [
       "FloatProgress(value=0.0, layout=Layout(width='auto'), style=ProgressStyle(bar_color='black'))"
      ]
     },
     "metadata": {},
     "output_type": "display_data"
    },
    {
     "data": {
      "application/vnd.jupyter.widget-view+json": {
       "model_id": "979b4d1ae2c04445b6520046054fed19",
       "version_major": 2,
       "version_minor": 0
      },
      "text/plain": [
       "FloatProgress(value=0.0, layout=Layout(width='auto'), style=ProgressStyle(bar_color='black'))"
      ]
     },
     "metadata": {},
     "output_type": "display_data"
    },
    {
     "data": {
      "application/vnd.jupyter.widget-view+json": {
       "model_id": "4000928db69b44799ea5af870b23d53a",
       "version_major": 2,
       "version_minor": 0
      },
      "text/plain": [
       "FloatProgress(value=0.0, layout=Layout(width='auto'), style=ProgressStyle(bar_color='black'))"
      ]
     },
     "metadata": {},
     "output_type": "display_data"
    },
    {
     "name": "stdout",
     "output_type": "stream",
     "text": [
      "Town fallback failed: HTTPSConnectionPool(host='nominatim.openstreetmap.org', port=443): Max retries exceeded with url: /search?q=New+York&format=json&limit=1 (Caused by ReadTimeoutError(\"HTTPSConnectionPool(host='nominatim.openstreetmap.org', port=443): Read timed out. (read timeout=1)\"))\n",
      "Fetch attempt failed at radius 200: No matching features. Check query location, tags, and log.\n",
      "Fetch attempt failed at radius 500: No matching features. Check query location, tags, and log.\n",
      "Fetch attempt failed at radius 1000: No matching features. Check query location, tags, and log.\n",
      "Getting population density at (40.47702715558749, -74.22470717535009), radius=50m\n",
      "No population data at radius 50m, expanding search...\n",
      "No population data at radius 100m, expanding search...\n",
      "No population data at radius 200m, expanding search...\n",
      "No population data at radius 400m, expanding search...\n",
      "No population found after expansions. Falling back to nearest town/city center...\n",
      "Geocoding fallback failed: HTTPSConnectionPool(host='nominatim.openstreetmap.org', port=443): Max retries exceeded with url: /search?q=City+of+New+York&format=json&limit=1 (Caused by ReadTimeoutError(\"HTTPSConnectionPool(host='nominatim.openstreetmap.org', port=443): Read timed out. (read timeout=1)\"))\n",
      "No population data found, even after fallback.\n",
      "Getting POI density at (40.47702715558749, -74.22470717535009), radius=50m\n",
      "OSM query failed at radius 50m: No matching features. Check query location, tags, and log.\n",
      "OSM query failed at radius 100m: No matching features. Check query location, tags, and log.\n",
      "OSM query failed at radius 200m: No matching features. Check query location, tags, and log.\n",
      "OSM query failed at radius 400m: No matching features. Check query location, tags, and log.\n",
      "No POIs found after expansions. Falling back to nearest town/city center...\n",
      "Geocoding fallback failed: HTTPSConnectionPool(host='nominatim.openstreetmap.org', port=443): Max retries exceeded with url: /search?q=City+of+New+York&format=json&limit=1 (Caused by ReadTimeoutError(\"HTTPSConnectionPool(host='nominatim.openstreetmap.org', port=443): Read timed out. (read timeout=1)\"))\n",
      "No POIs found, even after fallback.\n",
      "Getting Four Square Count\n",
      "Getting media_income ...\n",
      "Fetch attempt failed at radius 200: No matching features. Check query location, tags, and log.\n",
      "Fetch attempt failed at radius 500: No matching features. Check query location, tags, and log.\n",
      "Fetch attempt failed at radius 1000: No matching features. Check query location, tags, and log.\n"
     ]
    },
    {
     "data": {
      "application/vnd.jupyter.widget-view+json": {
       "model_id": "0ccba7b8d39c43cb9fed3b6c6ffc6dcd",
       "version_major": 2,
       "version_minor": 0
      },
      "text/plain": [
       "FloatProgress(value=0.0, layout=Layout(width='auto'), style=ProgressStyle(bar_color='black'))"
      ]
     },
     "metadata": {},
     "output_type": "display_data"
    },
    {
     "data": {
      "application/vnd.jupyter.widget-view+json": {
       "model_id": "ddd421b79f6140a2a9d4e64e28e39fc6",
       "version_major": 2,
       "version_minor": 0
      },
      "text/plain": [
       "FloatProgress(value=0.0, layout=Layout(width='auto'), style=ProgressStyle(bar_color='black'))"
      ]
     },
     "metadata": {},
     "output_type": "display_data"
    },
    {
     "data": {
      "application/vnd.jupyter.widget-view+json": {
       "model_id": "a54778c1a4264dceb65d387f1d8fed41",
       "version_major": 2,
       "version_minor": 0
      },
      "text/plain": [
       "FloatProgress(value=0.0, layout=Layout(width='auto'), style=ProgressStyle(bar_color='black'))"
      ]
     },
     "metadata": {},
     "output_type": "display_data"
    },
    {
     "data": {
      "application/vnd.jupyter.widget-view+json": {
       "model_id": "3308e77631f04212b2db3eab1647b3b6",
       "version_major": 2,
       "version_minor": 0
      },
      "text/plain": [
       "FloatProgress(value=0.0, layout=Layout(width='auto'), style=ProgressStyle(bar_color='black'))"
      ]
     },
     "metadata": {},
     "output_type": "display_data"
    },
    {
     "name": "stdout",
     "output_type": "stream",
     "text": [
      "Town fallback failed: HTTPSConnectionPool(host='nominatim.openstreetmap.org', port=443): Max retries exceeded with url: /search?q=New+York&format=json&limit=1 (Caused by ReadTimeoutError(\"HTTPSConnectionPool(host='nominatim.openstreetmap.org', port=443): Read timed out. (read timeout=1)\"))\n",
      "Category osm: bench, fsq: Unknown\n"
     ]
    },
    {
     "data": {
      "application/vnd.jupyter.widget-view+json": {
       "model_id": "3cf9eda5c59c4eeb9b66f2899cc2434d",
       "version_major": 2,
       "version_minor": 0
      },
      "text/plain": [
       "FloatProgress(value=0.0, layout=Layout(width='auto'), style=ProgressStyle(bar_color='black'))"
      ]
     },
     "metadata": {},
     "output_type": "display_data"
    },
    {
     "data": {
      "application/vnd.jupyter.widget-view+json": {
       "model_id": "bba4b8ff1ace437eb1ad0c2794445f84",
       "version_major": 2,
       "version_minor": 0
      },
      "text/plain": [
       "FloatProgress(value=0.0, layout=Layout(width='auto'), style=ProgressStyle(bar_color='black'))"
      ]
     },
     "metadata": {},
     "output_type": "display_data"
    },
    {
     "data": {
      "application/vnd.jupyter.widget-view+json": {
       "model_id": "0009ecad855d46ec85edd0ac67fdacb9",
       "version_major": 2,
       "version_minor": 0
      },
      "text/plain": [
       "FloatProgress(value=0.0, layout=Layout(width='auto'), style=ProgressStyle(bar_color='black'))"
      ]
     },
     "metadata": {},
     "output_type": "display_data"
    },
    {
     "data": {
      "application/vnd.jupyter.widget-view+json": {
       "model_id": "9df8a441f757457788e7a4869817f7a4",
       "version_major": 2,
       "version_minor": 0
      },
      "text/plain": [
       "FloatProgress(value=0.0, layout=Layout(width='auto'), style=ProgressStyle(bar_color='black'))"
      ]
     },
     "metadata": {},
     "output_type": "display_data"
    },
    {
     "name": "stdout",
     "output_type": "stream",
     "text": [
      "Town fallback failed: HTTPSConnectionPool(host='nominatim.openstreetmap.org', port=443): Max retries exceeded with url: /search?q=New+York&format=json&limit=1 (Caused by ReadTimeoutError(\"HTTPSConnectionPool(host='nominatim.openstreetmap.org', port=443): Read timed out. (read timeout=1)\"))\n",
      "Fetch attempt failed at radius 200: No matching features. Check query location, tags, and log.\n",
      "Fetch attempt failed at radius 500: No matching features. Check query location, tags, and log.\n",
      "Fetch attempt failed at radius 1000: No matching features. Check query location, tags, and log.\n",
      "Getting population density at (40.47702715558749, -74.22403344196884), radius=50m\n",
      "No population data at radius 50m, expanding search...\n",
      "No population data at radius 100m, expanding search...\n",
      "No population data at radius 200m, expanding search...\n",
      "No population data at radius 400m, expanding search...\n",
      "No population found after expansions. Falling back to nearest town/city center...\n",
      "No population data found, even after fallback.\n",
      "Getting POI density at (40.47702715558749, -74.22403344196884), radius=50m\n",
      "OSM query failed at radius 50m: No matching features. Check query location, tags, and log.\n",
      "OSM query failed at radius 100m: No matching features. Check query location, tags, and log.\n",
      "OSM query failed at radius 200m: No matching features. Check query location, tags, and log.\n",
      "OSM query failed at radius 400m: No matching features. Check query location, tags, and log.\n",
      "No POIs found after expansions. Falling back to nearest town/city center...\n",
      "Geocoding fallback failed: HTTPSConnectionPool(host='nominatim.openstreetmap.org', port=443): Max retries exceeded with url: /search?q=City+of+New+York&format=json&limit=1 (Caused by ReadTimeoutError(\"HTTPSConnectionPool(host='nominatim.openstreetmap.org', port=443): Read timed out. (read timeout=1)\"))\n",
      "No POIs found, even after fallback.\n",
      "Getting Four Square Count\n",
      "Getting media_income ...\n",
      "Fetch attempt failed at radius 200: No matching features. Check query location, tags, and log.\n",
      "Fetch attempt failed at radius 500: No matching features. Check query location, tags, and log.\n",
      "Fetch attempt failed at radius 1000: No matching features. Check query location, tags, and log.\n"
     ]
    },
    {
     "data": {
      "application/vnd.jupyter.widget-view+json": {
       "model_id": "5a9fbc26d0e244568a71483cd3c594fe",
       "version_major": 2,
       "version_minor": 0
      },
      "text/plain": [
       "FloatProgress(value=0.0, layout=Layout(width='auto'), style=ProgressStyle(bar_color='black'))"
      ]
     },
     "metadata": {},
     "output_type": "display_data"
    },
    {
     "data": {
      "application/vnd.jupyter.widget-view+json": {
       "model_id": "70e85fa9ce514953b22ab5eeec4778fd",
       "version_major": 2,
       "version_minor": 0
      },
      "text/plain": [
       "FloatProgress(value=0.0, layout=Layout(width='auto'), style=ProgressStyle(bar_color='black'))"
      ]
     },
     "metadata": {},
     "output_type": "display_data"
    },
    {
     "data": {
      "application/vnd.jupyter.widget-view+json": {
       "model_id": "31261d9948ac437f9a5cdf3ed61b4197",
       "version_major": 2,
       "version_minor": 0
      },
      "text/plain": [
       "FloatProgress(value=0.0, layout=Layout(width='auto'), style=ProgressStyle(bar_color='black'))"
      ]
     },
     "metadata": {},
     "output_type": "display_data"
    },
    {
     "data": {
      "application/vnd.jupyter.widget-view+json": {
       "model_id": "37ee4cc2a9cf40b1902af46d0f9198d8",
       "version_major": 2,
       "version_minor": 0
      },
      "text/plain": [
       "FloatProgress(value=0.0, layout=Layout(width='auto'), style=ProgressStyle(bar_color='black'))"
      ]
     },
     "metadata": {},
     "output_type": "display_data"
    },
    {
     "name": "stdout",
     "output_type": "stream",
     "text": [
      "Town fallback failed: HTTPSConnectionPool(host='nominatim.openstreetmap.org', port=443): Max retries exceeded with url: /search?q=New+York&format=json&limit=1 (Caused by ReadTimeoutError(\"HTTPSConnectionPool(host='nominatim.openstreetmap.org', port=443): Read timed out. (read timeout=1)\"))\n",
      "Category osm: bench, fsq: Unknown\n"
     ]
    },
    {
     "data": {
      "application/vnd.jupyter.widget-view+json": {
       "model_id": "0c40ccb462fd4c72a74d994b960555bb",
       "version_major": 2,
       "version_minor": 0
      },
      "text/plain": [
       "FloatProgress(value=0.0, layout=Layout(width='auto'), style=ProgressStyle(bar_color='black'))"
      ]
     },
     "metadata": {},
     "output_type": "display_data"
    },
    {
     "data": {
      "application/vnd.jupyter.widget-view+json": {
       "model_id": "009e7a4facf94a788c3552e09bae27fc",
       "version_major": 2,
       "version_minor": 0
      },
      "text/plain": [
       "FloatProgress(value=0.0, layout=Layout(width='auto'), style=ProgressStyle(bar_color='black'))"
      ]
     },
     "metadata": {},
     "output_type": "display_data"
    },
    {
     "data": {
      "application/vnd.jupyter.widget-view+json": {
       "model_id": "5ad13d2bb13a4d46a7600af2faf0c2bd",
       "version_major": 2,
       "version_minor": 0
      },
      "text/plain": [
       "FloatProgress(value=0.0, layout=Layout(width='auto'), style=ProgressStyle(bar_color='black'))"
      ]
     },
     "metadata": {},
     "output_type": "display_data"
    },
    {
     "data": {
      "application/vnd.jupyter.widget-view+json": {
       "model_id": "3d41605be8924d08a5dae5d90e99c2a2",
       "version_major": 2,
       "version_minor": 0
      },
      "text/plain": [
       "FloatProgress(value=0.0, layout=Layout(width='auto'), style=ProgressStyle(bar_color='black'))"
      ]
     },
     "metadata": {},
     "output_type": "display_data"
    },
    {
     "name": "stdout",
     "output_type": "stream",
     "text": [
      "Town fallback failed: HTTPSConnectionPool(host='nominatim.openstreetmap.org', port=443): Max retries exceeded with url: /search?q=New+York&format=json&limit=1 (Caused by ReadTimeoutError(\"HTTPSConnectionPool(host='nominatim.openstreetmap.org', port=443): Read timed out. (read timeout=1)\"))\n",
      "Fetch attempt failed at radius 200: No matching features. Check query location, tags, and log.\n",
      "Fetch attempt failed at radius 500: No matching features. Check query location, tags, and log.\n",
      "Fetch attempt failed at radius 1000: No matching features. Check query location, tags, and log.\n",
      "Getting population density at (40.477700888968734, -74.22470717535009), radius=50m\n",
      "No population data at radius 50m, expanding search...\n",
      "No population data at radius 100m, expanding search...\n",
      "No population data at radius 200m, expanding search...\n",
      "No population data at radius 400m, expanding search...\n",
      "No population found after expansions. Falling back to nearest town/city center...\n",
      "Geocoding fallback failed: HTTPSConnectionPool(host='nominatim.openstreetmap.org', port=443): Max retries exceeded with url: /search?q=City+of+New+York&format=json&limit=1 (Caused by ReadTimeoutError(\"HTTPSConnectionPool(host='nominatim.openstreetmap.org', port=443): Read timed out. (read timeout=1)\"))\n",
      "No population data found, even after fallback.\n",
      "Getting POI density at (40.477700888968734, -74.22470717535009), radius=50m\n",
      "OSM query failed at radius 50m: No matching features. Check query location, tags, and log.\n",
      "OSM query failed at radius 100m: No matching features. Check query location, tags, and log.\n",
      "OSM query failed at radius 200m: No matching features. Check query location, tags, and log.\n",
      "OSM query failed at radius 400m: No matching features. Check query location, tags, and log.\n",
      "No POIs found after expansions. Falling back to nearest town/city center...\n",
      "Geocoding fallback failed: HTTPSConnectionPool(host='nominatim.openstreetmap.org', port=443): Max retries exceeded with url: /search?q=City+of+New+York&format=json&limit=1 (Caused by ReadTimeoutError(\"HTTPSConnectionPool(host='nominatim.openstreetmap.org', port=443): Read timed out. (read timeout=1)\"))\n",
      "No POIs found, even after fallback.\n",
      "Getting Four Square Count\n",
      "Getting media_income ...\n",
      "Fetch attempt failed at radius 200: No matching features. Check query location, tags, and log.\n",
      "Fetch attempt failed at radius 500: No matching features. Check query location, tags, and log.\n",
      "Fetch attempt failed at radius 1000: No matching features. Check query location, tags, and log.\n"
     ]
    },
    {
     "data": {
      "application/vnd.jupyter.widget-view+json": {
       "model_id": "592affa1912842a9933550a2d5c761d4",
       "version_major": 2,
       "version_minor": 0
      },
      "text/plain": [
       "FloatProgress(value=0.0, layout=Layout(width='auto'), style=ProgressStyle(bar_color='black'))"
      ]
     },
     "metadata": {},
     "output_type": "display_data"
    },
    {
     "data": {
      "application/vnd.jupyter.widget-view+json": {
       "model_id": "34347378eb95422aa1cc2f8d54634fbf",
       "version_major": 2,
       "version_minor": 0
      },
      "text/plain": [
       "FloatProgress(value=0.0, layout=Layout(width='auto'), style=ProgressStyle(bar_color='black'))"
      ]
     },
     "metadata": {},
     "output_type": "display_data"
    },
    {
     "data": {
      "application/vnd.jupyter.widget-view+json": {
       "model_id": "4c75ab77b0294c7589faf64975b9a07b",
       "version_major": 2,
       "version_minor": 0
      },
      "text/plain": [
       "FloatProgress(value=0.0, layout=Layout(width='auto'), style=ProgressStyle(bar_color='black'))"
      ]
     },
     "metadata": {},
     "output_type": "display_data"
    },
    {
     "data": {
      "application/vnd.jupyter.widget-view+json": {
       "model_id": "499637a241394e07ac457bd6569d16ae",
       "version_major": 2,
       "version_minor": 0
      },
      "text/plain": [
       "FloatProgress(value=0.0, layout=Layout(width='auto'), style=ProgressStyle(bar_color='black'))"
      ]
     },
     "metadata": {},
     "output_type": "display_data"
    },
    {
     "name": "stdout",
     "output_type": "stream",
     "text": [
      "Town fallback failed: HTTPSConnectionPool(host='nominatim.openstreetmap.org', port=443): Max retries exceeded with url: /search?q=New+York&format=json&limit=1 (Caused by ReadTimeoutError(\"HTTPSConnectionPool(host='nominatim.openstreetmap.org', port=443): Read timed out. (read timeout=1)\"))\n",
      "Category osm: bench, fsq: Unknown\n"
     ]
    },
    {
     "data": {
      "application/vnd.jupyter.widget-view+json": {
       "model_id": "f4591504d0a946d3b3d20367d0804b69",
       "version_major": 2,
       "version_minor": 0
      },
      "text/plain": [
       "FloatProgress(value=0.0, layout=Layout(width='auto'), style=ProgressStyle(bar_color='black'))"
      ]
     },
     "metadata": {},
     "output_type": "display_data"
    },
    {
     "data": {
      "application/vnd.jupyter.widget-view+json": {
       "model_id": "eabf7cc085d645669aba68b94a43dca1",
       "version_major": 2,
       "version_minor": 0
      },
      "text/plain": [
       "FloatProgress(value=0.0, layout=Layout(width='auto'), style=ProgressStyle(bar_color='black'))"
      ]
     },
     "metadata": {},
     "output_type": "display_data"
    },
    {
     "data": {
      "application/vnd.jupyter.widget-view+json": {
       "model_id": "d72fb6a8c275426fa3529c8281e6d677",
       "version_major": 2,
       "version_minor": 0
      },
      "text/plain": [
       "FloatProgress(value=0.0, layout=Layout(width='auto'), style=ProgressStyle(bar_color='black'))"
      ]
     },
     "metadata": {},
     "output_type": "display_data"
    },
    {
     "data": {
      "application/vnd.jupyter.widget-view+json": {
       "model_id": "6d19a42b52494abdada123ee00cc766a",
       "version_major": 2,
       "version_minor": 0
      },
      "text/plain": [
       "FloatProgress(value=0.0, layout=Layout(width='auto'), style=ProgressStyle(bar_color='black'))"
      ]
     },
     "metadata": {},
     "output_type": "display_data"
    },
    {
     "data": {
      "application/vnd.jupyter.widget-view+json": {
       "model_id": "52536d236a364c4dbd246fafba0d4a90",
       "version_major": 2,
       "version_minor": 0
      },
      "text/plain": [
       "FloatProgress(value=0.0, layout=Layout(width='auto'), style=ProgressStyle(bar_color='black'))"
      ]
     },
     "metadata": {},
     "output_type": "display_data"
    },
    {
     "data": {
      "application/vnd.jupyter.widget-view+json": {
       "model_id": "3f7ef3a7ecff488784258115137d0efe",
       "version_major": 2,
       "version_minor": 0
      },
      "text/plain": [
       "FloatProgress(value=0.0, layout=Layout(width='auto'), style=ProgressStyle(bar_color='black'))"
      ]
     },
     "metadata": {},
     "output_type": "display_data"
    },
    {
     "data": {
      "application/vnd.jupyter.widget-view+json": {
       "model_id": "a202b611f1b945258774b906e213b15e",
       "version_major": 2,
       "version_minor": 0
      },
      "text/plain": [
       "FloatProgress(value=0.0, layout=Layout(width='auto'), style=ProgressStyle(bar_color='black'))"
      ]
     },
     "metadata": {},
     "output_type": "display_data"
    },
    {
     "data": {
      "application/vnd.jupyter.widget-view+json": {
       "model_id": "ba51319504134d5ba1215497e6519acf",
       "version_major": 2,
       "version_minor": 0
      },
      "text/plain": [
       "FloatProgress(value=0.0, layout=Layout(width='auto'), style=ProgressStyle(bar_color='black'))"
      ]
     },
     "metadata": {},
     "output_type": "display_data"
    },
    {
     "name": "stdout",
     "output_type": "stream",
     "text": [
      "Fetch attempt failed at radius 200: No matching features. Check query location, tags, and log.\n",
      "Fetch attempt failed at radius 500: No matching features. Check query location, tags, and log.\n",
      "Fetch attempt failed at radius 1000: No matching features. Check query location, tags, and log.\n",
      "Getting population density at (40.477700888968734, -74.22403344196884), radius=50m\n",
      "No population data at radius 50m, expanding search...\n",
      "No population data at radius 100m, expanding search...\n",
      "No population data at radius 200m, expanding search...\n",
      "No population data at radius 400m, expanding search...\n",
      "No population found after expansions. Falling back to nearest town/city center...\n",
      "Geocoding fallback failed: HTTPSConnectionPool(host='nominatim.openstreetmap.org', port=443): Max retries exceeded with url: /search?q=City+of+New+York&format=json&limit=1 (Caused by ReadTimeoutError(\"HTTPSConnectionPool(host='nominatim.openstreetmap.org', port=443): Read timed out. (read timeout=1)\"))\n",
      "No population data found, even after fallback.\n",
      "Getting POI density at (40.477700888968734, -74.22403344196884), radius=50m\n",
      "OSM query failed at radius 50m: No matching features. Check query location, tags, and log.\n",
      "OSM query failed at radius 100m: No matching features. Check query location, tags, and log.\n",
      "OSM query failed at radius 200m: No matching features. Check query location, tags, and log.\n",
      "OSM query failed at radius 400m: No matching features. Check query location, tags, and log.\n",
      "No POIs found after expansions. Falling back to nearest town/city center...\n",
      "Geocoding fallback failed: HTTPSConnectionPool(host='nominatim.openstreetmap.org', port=443): Max retries exceeded with url: /search?q=City+of+New+York&format=json&limit=1 (Caused by ReadTimeoutError(\"HTTPSConnectionPool(host='nominatim.openstreetmap.org', port=443): Read timed out. (read timeout=1)\"))\n",
      "No POIs found, even after fallback.\n",
      "Getting Four Square Count\n",
      "Getting media_income ...\n",
      "Fetch attempt failed at radius 200: No matching features. Check query location, tags, and log.\n",
      "Fetch attempt failed at radius 500: No matching features. Check query location, tags, and log.\n",
      "Fetch attempt failed at radius 1000: No matching features. Check query location, tags, and log.\n"
     ]
    },
    {
     "data": {
      "application/vnd.jupyter.widget-view+json": {
       "model_id": "7a9ca3f436534c749e16d3ce17411a7e",
       "version_major": 2,
       "version_minor": 0
      },
      "text/plain": [
       "FloatProgress(value=0.0, layout=Layout(width='auto'), style=ProgressStyle(bar_color='black'))"
      ]
     },
     "metadata": {},
     "output_type": "display_data"
    },
    {
     "data": {
      "application/vnd.jupyter.widget-view+json": {
       "model_id": "0b29157f07834639b16d286cdc8b3f47",
       "version_major": 2,
       "version_minor": 0
      },
      "text/plain": [
       "FloatProgress(value=0.0, layout=Layout(width='auto'), style=ProgressStyle(bar_color='black'))"
      ]
     },
     "metadata": {},
     "output_type": "display_data"
    },
    {
     "data": {
      "application/vnd.jupyter.widget-view+json": {
       "model_id": "13a501036d524faaa64d3b17b201f0cc",
       "version_major": 2,
       "version_minor": 0
      },
      "text/plain": [
       "FloatProgress(value=0.0, layout=Layout(width='auto'), style=ProgressStyle(bar_color='black'))"
      ]
     },
     "metadata": {},
     "output_type": "display_data"
    },
    {
     "data": {
      "application/vnd.jupyter.widget-view+json": {
       "model_id": "cf3381decaff4dbd8d5735ee1ff87be4",
       "version_major": 2,
       "version_minor": 0
      },
      "text/plain": [
       "FloatProgress(value=0.0, layout=Layout(width='auto'), style=ProgressStyle(bar_color='black'))"
      ]
     },
     "metadata": {},
     "output_type": "display_data"
    },
    {
     "name": "stdout",
     "output_type": "stream",
     "text": [
      "Town fallback failed: HTTPSConnectionPool(host='nominatim.openstreetmap.org', port=443): Max retries exceeded with url: /search?q=New+York&format=json&limit=1 (Caused by ReadTimeoutError(\"HTTPSConnectionPool(host='nominatim.openstreetmap.org', port=443): Read timed out. (read timeout=1)\"))\n",
      "Category osm: bench, fsq: Unknown\n"
     ]
    },
    {
     "data": {
      "application/vnd.jupyter.widget-view+json": {
       "model_id": "705fa691c77f4efe9e6db6bba68002e3",
       "version_major": 2,
       "version_minor": 0
      },
      "text/plain": [
       "FloatProgress(value=0.0, layout=Layout(width='auto'), style=ProgressStyle(bar_color='black'))"
      ]
     },
     "metadata": {},
     "output_type": "display_data"
    },
    {
     "data": {
      "application/vnd.jupyter.widget-view+json": {
       "model_id": "1d762a5b19e24a2eb3a7dc52ecec75ae",
       "version_major": 2,
       "version_minor": 0
      },
      "text/plain": [
       "FloatProgress(value=0.0, layout=Layout(width='auto'), style=ProgressStyle(bar_color='black'))"
      ]
     },
     "metadata": {},
     "output_type": "display_data"
    },
    {
     "data": {
      "application/vnd.jupyter.widget-view+json": {
       "model_id": "bc466cdc2ab44bc29a447bbf8fb05828",
       "version_major": 2,
       "version_minor": 0
      },
      "text/plain": [
       "FloatProgress(value=0.0, layout=Layout(width='auto'), style=ProgressStyle(bar_color='black'))"
      ]
     },
     "metadata": {},
     "output_type": "display_data"
    },
    {
     "data": {
      "application/vnd.jupyter.widget-view+json": {
       "model_id": "43835c926aa846389de3c99e31df82d0",
       "version_major": 2,
       "version_minor": 0
      },
      "text/plain": [
       "FloatProgress(value=0.0, layout=Layout(width='auto'), style=ProgressStyle(bar_color='black'))"
      ]
     },
     "metadata": {},
     "output_type": "display_data"
    },
    {
     "name": "stdout",
     "output_type": "stream",
     "text": [
      "Town fallback failed: HTTPSConnectionPool(host='nominatim.openstreetmap.org', port=443): Max retries exceeded with url: /search?q=New+York&format=json&limit=1 (Caused by ReadTimeoutError(\"HTTPSConnectionPool(host='nominatim.openstreetmap.org', port=443): Read timed out. (read timeout=1)\"))\n",
      "Fetch attempt failed at radius 200: No matching features. Check query location, tags, and log.\n",
      "Fetch attempt failed at radius 500: No matching features. Check query location, tags, and log.\n",
      "Fetch attempt failed at radius 1000: No matching features. Check query location, tags, and log.\n",
      "Revenue estimation ...\n",
      "Getting population density at (40.477251733381244, -74.22448259755635), radius=500m\n",
      "No population data at radius 500m, expanding search...\n",
      "No population data at radius 1000m, expanding search...\n",
      "No population data at radius 2000m, expanding search...\n",
      "No population data at radius 4000m, expanding search...\n",
      "No population found after expansions. Falling back to nearest town/city center...\n",
      "No population data found, even after fallback.\n",
      "Getting POI density at (40.477251733381244, -74.22448259755635), radius=500m\n",
      "OSM query failed at radius 500m: No matching features. Check query location, tags, and log.\n",
      "OSM query failed at radius 1000m: No matching features. Check query location, tags, and log.\n",
      "Found osm_pois 2\n",
      "Getting Four Square Count\n",
      "revenue 200\n",
      "Building features for location ...\n",
      "Generating circle points with max 50 subcircles\n",
      "low, high 50, 100\n",
      "looper 3\n",
      "looper 2 3\n",
      "haversine condition 36.893298017361424 100\n",
      "haversine condition 56.85011167562152 100\n",
      "looper 2 3\n",
      "haversine condition 25.878394402056795 100\n",
      "haversine condition 50.40319709738538 100\n",
      "looper 2 3\n",
      "haversine condition 28.424920847311146 100\n",
      "haversine condition 51.75686294212624 100\n",
      "Chosen small_radius: 50.00 m, generated 6 subcircles\n",
      "Number of neighborhood points 6\n",
      "Getting population density at (40.47635342220625, -74.22403344196884), radius=50m\n",
      "No population data at radius 50m, expanding search...\n",
      "No population data at radius 100m, expanding search...\n",
      "No population data at radius 200m, expanding search...\n",
      "No population data at radius 400m, expanding search...\n",
      "No population found after expansions. Falling back to nearest town/city center...\n",
      "No population data found, even after fallback.\n",
      "Getting POI density at (40.47635342220625, -74.22403344196884), radius=50m\n",
      "OSM query failed at radius 50m: No matching features. Check query location, tags, and log.\n",
      "OSM query failed at radius 100m: No matching features. Check query location, tags, and log.\n",
      "OSM query failed at radius 200m: No matching features. Check query location, tags, and log.\n",
      "OSM query failed at radius 400m: No matching features. Check query location, tags, and log.\n",
      "No POIs found after expansions. Falling back to nearest town/city center...\n",
      "OSM fallback query failed: No matching features. Check query location, tags, and log.\n",
      "No POIs found, even after fallback.\n",
      "Getting Four Square Count\n",
      "Getting media_income ...\n",
      "Fetch attempt failed at radius 200: No matching features. Check query location, tags, and log.\n",
      "Fetch attempt failed at radius 500: No matching features. Check query location, tags, and log.\n",
      "Fetch attempt failed at radius 1000: No matching features. Check query location, tags, and log.\n"
     ]
    },
    {
     "data": {
      "application/vnd.jupyter.widget-view+json": {
       "model_id": "7c1d493f62ce44fcafcdf4f46ec3cbdb",
       "version_major": 2,
       "version_minor": 0
      },
      "text/plain": [
       "FloatProgress(value=0.0, layout=Layout(width='auto'), style=ProgressStyle(bar_color='black'))"
      ]
     },
     "metadata": {},
     "output_type": "display_data"
    },
    {
     "data": {
      "application/vnd.jupyter.widget-view+json": {
       "model_id": "2ac4a9acbc0d4e85aec389ddd53149a1",
       "version_major": 2,
       "version_minor": 0
      },
      "text/plain": [
       "FloatProgress(value=0.0, layout=Layout(width='auto'), style=ProgressStyle(bar_color='black'))"
      ]
     },
     "metadata": {},
     "output_type": "display_data"
    },
    {
     "data": {
      "application/vnd.jupyter.widget-view+json": {
       "model_id": "272ead712c944df594e31fbc450e51c3",
       "version_major": 2,
       "version_minor": 0
      },
      "text/plain": [
       "FloatProgress(value=0.0, layout=Layout(width='auto'), style=ProgressStyle(bar_color='black'))"
      ]
     },
     "metadata": {},
     "output_type": "display_data"
    },
    {
     "data": {
      "application/vnd.jupyter.widget-view+json": {
       "model_id": "cd5ed2b0d1424f7b933a19a2205dcf1f",
       "version_major": 2,
       "version_minor": 0
      },
      "text/plain": [
       "FloatProgress(value=0.0, layout=Layout(width='auto'), style=ProgressStyle(bar_color='black'))"
      ]
     },
     "metadata": {},
     "output_type": "display_data"
    },
    {
     "data": {
      "application/vnd.jupyter.widget-view+json": {
       "model_id": "05ef2a6bb50e40a48c85724d24b1aba1",
       "version_major": 2,
       "version_minor": 0
      },
      "text/plain": [
       "FloatProgress(value=0.0, layout=Layout(width='auto'), style=ProgressStyle(bar_color='black'))"
      ]
     },
     "metadata": {},
     "output_type": "display_data"
    },
    {
     "data": {
      "application/vnd.jupyter.widget-view+json": {
       "model_id": "56759c7641e34f5ab3802b25bb31d7f9",
       "version_major": 2,
       "version_minor": 0
      },
      "text/plain": [
       "FloatProgress(value=0.0, layout=Layout(width='auto'), style=ProgressStyle(bar_color='black'))"
      ]
     },
     "metadata": {},
     "output_type": "display_data"
    },
    {
     "data": {
      "application/vnd.jupyter.widget-view+json": {
       "model_id": "cd083be211324f748b68c55f7bfb624e",
       "version_major": 2,
       "version_minor": 0
      },
      "text/plain": [
       "FloatProgress(value=0.0, layout=Layout(width='auto'), style=ProgressStyle(bar_color='black'))"
      ]
     },
     "metadata": {},
     "output_type": "display_data"
    },
    {
     "data": {
      "application/vnd.jupyter.widget-view+json": {
       "model_id": "6a0715d9679041fd83db44b36c37ac5a",
       "version_major": 2,
       "version_minor": 0
      },
      "text/plain": [
       "FloatProgress(value=0.0, layout=Layout(width='auto'), style=ProgressStyle(bar_color='black'))"
      ]
     },
     "metadata": {},
     "output_type": "display_data"
    },
    {
     "name": "stdout",
     "output_type": "stream",
     "text": [
      "Town fallback failed: HTTPSConnectionPool(host='nominatim.openstreetmap.org', port=443): Max retries exceeded with url: /search?q=New+York&format=json&limit=1 (Caused by ReadTimeoutError(\"HTTPSConnectionPool(host='nominatim.openstreetmap.org', port=443): Read timed out. (read timeout=1)\"))\n",
      "Category osm: bench, fsq: Unknown\n"
     ]
    },
    {
     "data": {
      "application/vnd.jupyter.widget-view+json": {
       "model_id": "2856d6127f374b40985366959e188dcf",
       "version_major": 2,
       "version_minor": 0
      },
      "text/plain": [
       "FloatProgress(value=0.0, layout=Layout(width='auto'), style=ProgressStyle(bar_color='black'))"
      ]
     },
     "metadata": {},
     "output_type": "display_data"
    },
    {
     "data": {
      "application/vnd.jupyter.widget-view+json": {
       "model_id": "56f268ffe4e04723939d419856796138",
       "version_major": 2,
       "version_minor": 0
      },
      "text/plain": [
       "FloatProgress(value=0.0, layout=Layout(width='auto'), style=ProgressStyle(bar_color='black'))"
      ]
     },
     "metadata": {},
     "output_type": "display_data"
    },
    {
     "data": {
      "application/vnd.jupyter.widget-view+json": {
       "model_id": "5eb0642f7c6845d78466480f2674983f",
       "version_major": 2,
       "version_minor": 0
      },
      "text/plain": [
       "FloatProgress(value=0.0, layout=Layout(width='auto'), style=ProgressStyle(bar_color='black'))"
      ]
     },
     "metadata": {},
     "output_type": "display_data"
    },
    {
     "data": {
      "application/vnd.jupyter.widget-view+json": {
       "model_id": "bb24de413a454dfeadc83efbbcac338d",
       "version_major": 2,
       "version_minor": 0
      },
      "text/plain": [
       "FloatProgress(value=0.0, layout=Layout(width='auto'), style=ProgressStyle(bar_color='black'))"
      ]
     },
     "metadata": {},
     "output_type": "display_data"
    },
    {
     "name": "stdout",
     "output_type": "stream",
     "text": [
      "Town fallback failed: HTTPSConnectionPool(host='nominatim.openstreetmap.org', port=443): Max retries exceeded with url: /search?q=New+York&format=json&limit=1 (Caused by ReadTimeoutError(\"HTTPSConnectionPool(host='nominatim.openstreetmap.org', port=443): Read timed out. (read timeout=1)\"))\n",
      "Fetch attempt failed at radius 200: No matching features. Check query location, tags, and log.\n",
      "Fetch attempt failed at radius 500: No matching features. Check query location, tags, and log.\n",
      "Fetch attempt failed at radius 1000: No matching features. Check query location, tags, and log.\n",
      "Getting population density at (40.47635342220625, -74.2233597085876), radius=50m\n",
      "No population data at radius 50m, expanding search...\n",
      "No population data at radius 100m, expanding search...\n",
      "No population data at radius 200m, expanding search...\n",
      "No population data at radius 400m, expanding search...\n",
      "No population found after expansions. Falling back to nearest town/city center...\n",
      "No population data found, even after fallback.\n",
      "Getting POI density at (40.47635342220625, -74.2233597085876), radius=50m\n",
      "OSM query failed at radius 50m: No matching features. Check query location, tags, and log.\n",
      "OSM query failed at radius 100m: No matching features. Check query location, tags, and log.\n",
      "OSM query failed at radius 200m: No matching features. Check query location, tags, and log.\n",
      "OSM query failed at radius 400m: No matching features. Check query location, tags, and log.\n",
      "No POIs found after expansions. Falling back to nearest town/city center...\n",
      "OSM fallback query failed: No matching features. Check query location, tags, and log.\n",
      "No POIs found, even after fallback.\n",
      "Getting Four Square Count\n",
      "Getting media_income ...\n",
      "Fetch attempt failed at radius 200: No matching features. Check query location, tags, and log.\n",
      "Fetch attempt failed at radius 500: No matching features. Check query location, tags, and log.\n",
      "Fetch attempt failed at radius 1000: No matching features. Check query location, tags, and log.\n"
     ]
    },
    {
     "data": {
      "application/vnd.jupyter.widget-view+json": {
       "model_id": "e2042a2c875c49f28ad27991960dc4f8",
       "version_major": 2,
       "version_minor": 0
      },
      "text/plain": [
       "FloatProgress(value=0.0, layout=Layout(width='auto'), style=ProgressStyle(bar_color='black'))"
      ]
     },
     "metadata": {},
     "output_type": "display_data"
    },
    {
     "data": {
      "application/vnd.jupyter.widget-view+json": {
       "model_id": "0128da0a67b34ddbbc289eab560af760",
       "version_major": 2,
       "version_minor": 0
      },
      "text/plain": [
       "FloatProgress(value=0.0, layout=Layout(width='auto'), style=ProgressStyle(bar_color='black'))"
      ]
     },
     "metadata": {},
     "output_type": "display_data"
    },
    {
     "data": {
      "application/vnd.jupyter.widget-view+json": {
       "model_id": "c0a5967d7ba9407782aae3346b8e662b",
       "version_major": 2,
       "version_minor": 0
      },
      "text/plain": [
       "FloatProgress(value=0.0, layout=Layout(width='auto'), style=ProgressStyle(bar_color='black'))"
      ]
     },
     "metadata": {},
     "output_type": "display_data"
    },
    {
     "data": {
      "application/vnd.jupyter.widget-view+json": {
       "model_id": "ff66146acc2841eaadb22d6bc2dd4681",
       "version_major": 2,
       "version_minor": 0
      },
      "text/plain": [
       "FloatProgress(value=0.0, layout=Layout(width='auto'), style=ProgressStyle(bar_color='black'))"
      ]
     },
     "metadata": {},
     "output_type": "display_data"
    },
    {
     "name": "stdout",
     "output_type": "stream",
     "text": [
      "Town fallback failed: HTTPSConnectionPool(host='nominatim.openstreetmap.org', port=443): Max retries exceeded with url: /search?q=New+York&format=json&limit=1 (Caused by ReadTimeoutError(\"HTTPSConnectionPool(host='nominatim.openstreetmap.org', port=443): Read timed out. (read timeout=1)\"))\n",
      "Category osm: bench, fsq: Unknown\n"
     ]
    },
    {
     "data": {
      "application/vnd.jupyter.widget-view+json": {
       "model_id": "7449242451d44d32a5748126a68bd7ae",
       "version_major": 2,
       "version_minor": 0
      },
      "text/plain": [
       "FloatProgress(value=0.0, layout=Layout(width='auto'), style=ProgressStyle(bar_color='black'))"
      ]
     },
     "metadata": {},
     "output_type": "display_data"
    },
    {
     "data": {
      "application/vnd.jupyter.widget-view+json": {
       "model_id": "75222f06e2b94cdda22ee69c7cf7aada",
       "version_major": 2,
       "version_minor": 0
      },
      "text/plain": [
       "FloatProgress(value=0.0, layout=Layout(width='auto'), style=ProgressStyle(bar_color='black'))"
      ]
     },
     "metadata": {},
     "output_type": "display_data"
    },
    {
     "data": {
      "application/vnd.jupyter.widget-view+json": {
       "model_id": "08a919e704614c2789ca6fece7041bad",
       "version_major": 2,
       "version_minor": 0
      },
      "text/plain": [
       "FloatProgress(value=0.0, layout=Layout(width='auto'), style=ProgressStyle(bar_color='black'))"
      ]
     },
     "metadata": {},
     "output_type": "display_data"
    },
    {
     "data": {
      "application/vnd.jupyter.widget-view+json": {
       "model_id": "163c999e01c842a39e6a2a087e9aaa61",
       "version_major": 2,
       "version_minor": 0
      },
      "text/plain": [
       "FloatProgress(value=0.0, layout=Layout(width='auto'), style=ProgressStyle(bar_color='black'))"
      ]
     },
     "metadata": {},
     "output_type": "display_data"
    },
    {
     "data": {
      "application/vnd.jupyter.widget-view+json": {
       "model_id": "295989f0aec940a18371b6ee664f111f",
       "version_major": 2,
       "version_minor": 0
      },
      "text/plain": [
       "FloatProgress(value=0.0, layout=Layout(width='auto'), style=ProgressStyle(bar_color='black'))"
      ]
     },
     "metadata": {},
     "output_type": "display_data"
    },
    {
     "data": {
      "application/vnd.jupyter.widget-view+json": {
       "model_id": "840f5512681c4459919566090e60ce4d",
       "version_major": 2,
       "version_minor": 0
      },
      "text/plain": [
       "FloatProgress(value=0.0, layout=Layout(width='auto'), style=ProgressStyle(bar_color='black'))"
      ]
     },
     "metadata": {},
     "output_type": "display_data"
    },
    {
     "data": {
      "application/vnd.jupyter.widget-view+json": {
       "model_id": "c75350c024ab417c9b68464a704ce981",
       "version_major": 2,
       "version_minor": 0
      },
      "text/plain": [
       "FloatProgress(value=0.0, layout=Layout(width='auto'), style=ProgressStyle(bar_color='black'))"
      ]
     },
     "metadata": {},
     "output_type": "display_data"
    },
    {
     "data": {
      "application/vnd.jupyter.widget-view+json": {
       "model_id": "69a5a360e6f04d67b738b8014c9005b6",
       "version_major": 2,
       "version_minor": 0
      },
      "text/plain": [
       "FloatProgress(value=0.0, layout=Layout(width='auto'), style=ProgressStyle(bar_color='black'))"
      ]
     },
     "metadata": {},
     "output_type": "display_data"
    },
    {
     "name": "stdout",
     "output_type": "stream",
     "text": [
      "Fetch attempt failed at radius 200: No matching features. Check query location, tags, and log.\n",
      "Fetch attempt failed at radius 500: No matching features. Check query location, tags, and log.\n",
      "Fetch attempt failed at radius 1000: No matching features. Check query location, tags, and log.\n",
      "Getting population density at (40.47702715558749, -74.22403344196884), radius=50m\n",
      "No population data at radius 50m, expanding search...\n",
      "No population data at radius 100m, expanding search...\n",
      "No population data at radius 200m, expanding search...\n",
      "No population data at radius 400m, expanding search...\n",
      "No population found after expansions. Falling back to nearest town/city center...\n",
      "No population data found, even after fallback.\n",
      "Getting POI density at (40.47702715558749, -74.22403344196884), radius=50m\n",
      "OSM query failed at radius 50m: No matching features. Check query location, tags, and log.\n",
      "OSM query failed at radius 100m: No matching features. Check query location, tags, and log.\n",
      "OSM query failed at radius 200m: No matching features. Check query location, tags, and log.\n",
      "OSM query failed at radius 400m: No matching features. Check query location, tags, and log.\n",
      "No POIs found after expansions. Falling back to nearest town/city center...\n",
      "Found osm poi 12\n",
      "Getting Four Square Count\n",
      "Getting media_income ...\n",
      "Fetch attempt failed at radius 200: No matching features. Check query location, tags, and log.\n",
      "Fetch attempt failed at radius 500: No matching features. Check query location, tags, and log.\n",
      "Fetch attempt failed at radius 1000: No matching features. Check query location, tags, and log.\n"
     ]
    },
    {
     "data": {
      "application/vnd.jupyter.widget-view+json": {
       "model_id": "1e2b9c3c928d448f8723f365e32ff4f7",
       "version_major": 2,
       "version_minor": 0
      },
      "text/plain": [
       "FloatProgress(value=0.0, layout=Layout(width='auto'), style=ProgressStyle(bar_color='black'))"
      ]
     },
     "metadata": {},
     "output_type": "display_data"
    },
    {
     "data": {
      "application/vnd.jupyter.widget-view+json": {
       "model_id": "7443434f19b84b53b5f22e185a65b86f",
       "version_major": 2,
       "version_minor": 0
      },
      "text/plain": [
       "FloatProgress(value=0.0, layout=Layout(width='auto'), style=ProgressStyle(bar_color='black'))"
      ]
     },
     "metadata": {},
     "output_type": "display_data"
    },
    {
     "data": {
      "application/vnd.jupyter.widget-view+json": {
       "model_id": "220fea793f4b44c9946c2fcba3efe667",
       "version_major": 2,
       "version_minor": 0
      },
      "text/plain": [
       "FloatProgress(value=0.0, layout=Layout(width='auto'), style=ProgressStyle(bar_color='black'))"
      ]
     },
     "metadata": {},
     "output_type": "display_data"
    },
    {
     "data": {
      "application/vnd.jupyter.widget-view+json": {
       "model_id": "baa51bdd297f46c8b1478b768de77243",
       "version_major": 2,
       "version_minor": 0
      },
      "text/plain": [
       "FloatProgress(value=0.0, layout=Layout(width='auto'), style=ProgressStyle(bar_color='black'))"
      ]
     },
     "metadata": {},
     "output_type": "display_data"
    },
    {
     "data": {
      "application/vnd.jupyter.widget-view+json": {
       "model_id": "6e60f29d4fb14617bf644b4b4a86fdf9",
       "version_major": 2,
       "version_minor": 0
      },
      "text/plain": [
       "FloatProgress(value=0.0, layout=Layout(width='auto'), style=ProgressStyle(bar_color='black'))"
      ]
     },
     "metadata": {},
     "output_type": "display_data"
    },
    {
     "data": {
      "application/vnd.jupyter.widget-view+json": {
       "model_id": "03376058fa0744ddb092f621a4fce984",
       "version_major": 2,
       "version_minor": 0
      },
      "text/plain": [
       "FloatProgress(value=0.0, layout=Layout(width='auto'), style=ProgressStyle(bar_color='black'))"
      ]
     },
     "metadata": {},
     "output_type": "display_data"
    },
    {
     "data": {
      "application/vnd.jupyter.widget-view+json": {
       "model_id": "809f206e2b42412f8c95fb90222bd303",
       "version_major": 2,
       "version_minor": 0
      },
      "text/plain": [
       "FloatProgress(value=0.0, layout=Layout(width='auto'), style=ProgressStyle(bar_color='black'))"
      ]
     },
     "metadata": {},
     "output_type": "display_data"
    },
    {
     "data": {
      "application/vnd.jupyter.widget-view+json": {
       "model_id": "c7fe4c34296f4de48a1900693a76b395",
       "version_major": 2,
       "version_minor": 0
      },
      "text/plain": [
       "FloatProgress(value=0.0, layout=Layout(width='auto'), style=ProgressStyle(bar_color='black'))"
      ]
     },
     "metadata": {},
     "output_type": "display_data"
    },
    {
     "name": "stdout",
     "output_type": "stream",
     "text": [
      "Town fallback failed: HTTPSConnectionPool(host='nominatim.openstreetmap.org', port=443): Max retries exceeded with url: /search?q=New+York&format=json&limit=1 (Caused by ReadTimeoutError(\"HTTPSConnectionPool(host='nominatim.openstreetmap.org', port=443): Read timed out. (read timeout=1)\"))\n",
      "Category osm: bench, fsq: Unknown\n"
     ]
    },
    {
     "data": {
      "application/vnd.jupyter.widget-view+json": {
       "model_id": "286b3e465b7d49f0a66f42ed109db871",
       "version_major": 2,
       "version_minor": 0
      },
      "text/plain": [
       "FloatProgress(value=0.0, layout=Layout(width='auto'), style=ProgressStyle(bar_color='black'))"
      ]
     },
     "metadata": {},
     "output_type": "display_data"
    },
    {
     "data": {
      "application/vnd.jupyter.widget-view+json": {
       "model_id": "b37f4a929d8d4b25913a5e9915710d90",
       "version_major": 2,
       "version_minor": 0
      },
      "text/plain": [
       "FloatProgress(value=0.0, layout=Layout(width='auto'), style=ProgressStyle(bar_color='black'))"
      ]
     },
     "metadata": {},
     "output_type": "display_data"
    },
    {
     "data": {
      "application/vnd.jupyter.widget-view+json": {
       "model_id": "c1e48f3bd5304394a415503a8a15b507",
       "version_major": 2,
       "version_minor": 0
      },
      "text/plain": [
       "FloatProgress(value=0.0, layout=Layout(width='auto'), style=ProgressStyle(bar_color='black'))"
      ]
     },
     "metadata": {},
     "output_type": "display_data"
    },
    {
     "data": {
      "application/vnd.jupyter.widget-view+json": {
       "model_id": "d77514f0bbd947199bfef5d514015fa3",
       "version_major": 2,
       "version_minor": 0
      },
      "text/plain": [
       "FloatProgress(value=0.0, layout=Layout(width='auto'), style=ProgressStyle(bar_color='black'))"
      ]
     },
     "metadata": {},
     "output_type": "display_data"
    },
    {
     "name": "stdout",
     "output_type": "stream",
     "text": [
      "Town fallback failed: HTTPSConnectionPool(host='nominatim.openstreetmap.org', port=443): Max retries exceeded with url: /search?q=New+York&format=json&limit=1 (Caused by ReadTimeoutError(\"HTTPSConnectionPool(host='nominatim.openstreetmap.org', port=443): Read timed out. (read timeout=1)\"))\n",
      "Fetch attempt failed at radius 200: No matching features. Check query location, tags, and log.\n",
      "Fetch attempt failed at radius 500: No matching features. Check query location, tags, and log.\n",
      "Fetch attempt failed at radius 1000: No matching features. Check query location, tags, and log.\n",
      "Getting population density at (40.47702715558749, -74.2233597085876), radius=50m\n",
      "No population data at radius 50m, expanding search...\n",
      "No population data at radius 100m, expanding search...\n",
      "No population data at radius 200m, expanding search...\n",
      "No population data at radius 400m, expanding search...\n",
      "No population found after expansions. Falling back to nearest town/city center...\n",
      "No population data found, even after fallback.\n",
      "Getting POI density at (40.47702715558749, -74.2233597085876), radius=50m\n",
      "OSM query failed at radius 50m: No matching features. Check query location, tags, and log.\n",
      "OSM query failed at radius 100m: No matching features. Check query location, tags, and log.\n",
      "OSM query failed at radius 200m: No matching features. Check query location, tags, and log.\n",
      "OSM query failed at radius 400m: No matching features. Check query location, tags, and log.\n",
      "No POIs found after expansions. Falling back to nearest town/city center...\n",
      "Geocoding fallback failed: HTTPSConnectionPool(host='nominatim.openstreetmap.org', port=443): Max retries exceeded with url: /search?q=City+of+New+York&format=json&limit=1 (Caused by ReadTimeoutError(\"HTTPSConnectionPool(host='nominatim.openstreetmap.org', port=443): Read timed out. (read timeout=1)\"))\n",
      "No POIs found, even after fallback.\n",
      "Getting Four Square Count\n",
      "Getting media_income ...\n",
      "Fetch attempt failed at radius 200: No matching features. Check query location, tags, and log.\n",
      "Fetch attempt failed at radius 500: No matching features. Check query location, tags, and log.\n",
      "Fetch attempt failed at radius 1000: No matching features. Check query location, tags, and log.\n"
     ]
    },
    {
     "data": {
      "application/vnd.jupyter.widget-view+json": {
       "model_id": "fb624c531a3a43f398e98d38ec80dee4",
       "version_major": 2,
       "version_minor": 0
      },
      "text/plain": [
       "FloatProgress(value=0.0, layout=Layout(width='auto'), style=ProgressStyle(bar_color='black'))"
      ]
     },
     "metadata": {},
     "output_type": "display_data"
    },
    {
     "data": {
      "application/vnd.jupyter.widget-view+json": {
       "model_id": "97627a3700704769887cfecfcd3f2402",
       "version_major": 2,
       "version_minor": 0
      },
      "text/plain": [
       "FloatProgress(value=0.0, layout=Layout(width='auto'), style=ProgressStyle(bar_color='black'))"
      ]
     },
     "metadata": {},
     "output_type": "display_data"
    },
    {
     "data": {
      "application/vnd.jupyter.widget-view+json": {
       "model_id": "f2c290e8f3e3445cba2df771061997c4",
       "version_major": 2,
       "version_minor": 0
      },
      "text/plain": [
       "FloatProgress(value=0.0, layout=Layout(width='auto'), style=ProgressStyle(bar_color='black'))"
      ]
     },
     "metadata": {},
     "output_type": "display_data"
    },
    {
     "data": {
      "application/vnd.jupyter.widget-view+json": {
       "model_id": "10a82e0cbc7945f99445d87dce32d433",
       "version_major": 2,
       "version_minor": 0
      },
      "text/plain": [
       "FloatProgress(value=0.0, layout=Layout(width='auto'), style=ProgressStyle(bar_color='black'))"
      ]
     },
     "metadata": {},
     "output_type": "display_data"
    },
    {
     "data": {
      "application/vnd.jupyter.widget-view+json": {
       "model_id": "a10fc828a7e94b2394acde6767af997b",
       "version_major": 2,
       "version_minor": 0
      },
      "text/plain": [
       "FloatProgress(value=0.0, layout=Layout(width='auto'), style=ProgressStyle(bar_color='black'))"
      ]
     },
     "metadata": {},
     "output_type": "display_data"
    },
    {
     "data": {
      "application/vnd.jupyter.widget-view+json": {
       "model_id": "a8ec798c0d084dcc9d781b0401bb121b",
       "version_major": 2,
       "version_minor": 0
      },
      "text/plain": [
       "FloatProgress(value=0.0, layout=Layout(width='auto'), style=ProgressStyle(bar_color='black'))"
      ]
     },
     "metadata": {},
     "output_type": "display_data"
    },
    {
     "data": {
      "application/vnd.jupyter.widget-view+json": {
       "model_id": "7bdf0bfafffd4a08bf60b263c17dde45",
       "version_major": 2,
       "version_minor": 0
      },
      "text/plain": [
       "FloatProgress(value=0.0, layout=Layout(width='auto'), style=ProgressStyle(bar_color='black'))"
      ]
     },
     "metadata": {},
     "output_type": "display_data"
    },
    {
     "data": {
      "application/vnd.jupyter.widget-view+json": {
       "model_id": "984ce6dfc0014fde94707e7f3d5792b4",
       "version_major": 2,
       "version_minor": 0
      },
      "text/plain": [
       "FloatProgress(value=0.0, layout=Layout(width='auto'), style=ProgressStyle(bar_color='black'))"
      ]
     },
     "metadata": {},
     "output_type": "display_data"
    },
    {
     "name": "stdout",
     "output_type": "stream",
     "text": [
      "Town fallback failed: HTTPSConnectionPool(host='nominatim.openstreetmap.org', port=443): Max retries exceeded with url: /search?q=New+York&format=json&limit=1 (Caused by ReadTimeoutError(\"HTTPSConnectionPool(host='nominatim.openstreetmap.org', port=443): Read timed out. (read timeout=1)\"))\n",
      "Category osm: bench, fsq: Unknown\n"
     ]
    },
    {
     "data": {
      "application/vnd.jupyter.widget-view+json": {
       "model_id": "e16123ff74824c72a5beb313f4ff13d4",
       "version_major": 2,
       "version_minor": 0
      },
      "text/plain": [
       "FloatProgress(value=0.0, layout=Layout(width='auto'), style=ProgressStyle(bar_color='black'))"
      ]
     },
     "metadata": {},
     "output_type": "display_data"
    },
    {
     "data": {
      "application/vnd.jupyter.widget-view+json": {
       "model_id": "823fe7950637492caa950e1846718886",
       "version_major": 2,
       "version_minor": 0
      },
      "text/plain": [
       "FloatProgress(value=0.0, layout=Layout(width='auto'), style=ProgressStyle(bar_color='black'))"
      ]
     },
     "metadata": {},
     "output_type": "display_data"
    },
    {
     "data": {
      "application/vnd.jupyter.widget-view+json": {
       "model_id": "3c630350fdd34c8c9bf73e5764cadbbe",
       "version_major": 2,
       "version_minor": 0
      },
      "text/plain": [
       "FloatProgress(value=0.0, layout=Layout(width='auto'), style=ProgressStyle(bar_color='black'))"
      ]
     },
     "metadata": {},
     "output_type": "display_data"
    },
    {
     "data": {
      "application/vnd.jupyter.widget-view+json": {
       "model_id": "d5291b4d52ae47d5af334cd53434e30d",
       "version_major": 2,
       "version_minor": 0
      },
      "text/plain": [
       "FloatProgress(value=0.0, layout=Layout(width='auto'), style=ProgressStyle(bar_color='black'))"
      ]
     },
     "metadata": {},
     "output_type": "display_data"
    },
    {
     "name": "stdout",
     "output_type": "stream",
     "text": [
      "Town fallback failed: HTTPSConnectionPool(host='nominatim.openstreetmap.org', port=443): Max retries exceeded with url: /search?q=New+York&format=json&limit=1 (Caused by ReadTimeoutError(\"HTTPSConnectionPool(host='nominatim.openstreetmap.org', port=443): Read timed out. (read timeout=1)\"))\n",
      "Fetch attempt failed at radius 200: No matching features. Check query location, tags, and log.\n",
      "Fetch attempt failed at radius 500: No matching features. Check query location, tags, and log.\n",
      "Fetch attempt failed at radius 1000: No matching features. Check query location, tags, and log.\n",
      "Getting population density at (40.477700888968734, -74.22403344196884), radius=50m\n",
      "No population data at radius 50m, expanding search...\n",
      "No population data at radius 100m, expanding search...\n",
      "No population data at radius 200m, expanding search...\n",
      "No population data at radius 400m, expanding search...\n",
      "No population found after expansions. Falling back to nearest town/city center...\n",
      "Geocoding fallback failed: HTTPSConnectionPool(host='nominatim.openstreetmap.org', port=443): Max retries exceeded with url: /search?q=City+of+New+York&format=json&limit=1 (Caused by ReadTimeoutError(\"HTTPSConnectionPool(host='nominatim.openstreetmap.org', port=443): Read timed out. (read timeout=1)\"))\n",
      "No population data found, even after fallback.\n",
      "Getting POI density at (40.477700888968734, -74.22403344196884), radius=50m\n",
      "OSM query failed at radius 50m: No matching features. Check query location, tags, and log.\n",
      "OSM query failed at radius 100m: No matching features. Check query location, tags, and log.\n",
      "OSM query failed at radius 200m: No matching features. Check query location, tags, and log.\n",
      "OSM query failed at radius 400m: No matching features. Check query location, tags, and log.\n",
      "No POIs found after expansions. Falling back to nearest town/city center...\n",
      "Found osm poi 12\n",
      "Getting Four Square Count\n",
      "Getting media_income ...\n",
      "Fetch attempt failed at radius 200: No matching features. Check query location, tags, and log.\n",
      "Fetch attempt failed at radius 500: No matching features. Check query location, tags, and log.\n",
      "Fetch attempt failed at radius 1000: No matching features. Check query location, tags, and log.\n"
     ]
    },
    {
     "data": {
      "application/vnd.jupyter.widget-view+json": {
       "model_id": "32a72641ac5a4525acca63f547b02ad0",
       "version_major": 2,
       "version_minor": 0
      },
      "text/plain": [
       "FloatProgress(value=0.0, layout=Layout(width='auto'), style=ProgressStyle(bar_color='black'))"
      ]
     },
     "metadata": {},
     "output_type": "display_data"
    },
    {
     "data": {
      "application/vnd.jupyter.widget-view+json": {
       "model_id": "047334af6f9b48ca84929e6f9b2fb1ee",
       "version_major": 2,
       "version_minor": 0
      },
      "text/plain": [
       "FloatProgress(value=0.0, layout=Layout(width='auto'), style=ProgressStyle(bar_color='black'))"
      ]
     },
     "metadata": {},
     "output_type": "display_data"
    },
    {
     "data": {
      "application/vnd.jupyter.widget-view+json": {
       "model_id": "089849f9fa17445f9e03c975294b6e09",
       "version_major": 2,
       "version_minor": 0
      },
      "text/plain": [
       "FloatProgress(value=0.0, layout=Layout(width='auto'), style=ProgressStyle(bar_color='black'))"
      ]
     },
     "metadata": {},
     "output_type": "display_data"
    },
    {
     "data": {
      "application/vnd.jupyter.widget-view+json": {
       "model_id": "60815460da5f4cc0b6daf86a91c0c889",
       "version_major": 2,
       "version_minor": 0
      },
      "text/plain": [
       "FloatProgress(value=0.0, layout=Layout(width='auto'), style=ProgressStyle(bar_color='black'))"
      ]
     },
     "metadata": {},
     "output_type": "display_data"
    },
    {
     "data": {
      "application/vnd.jupyter.widget-view+json": {
       "model_id": "eb1eb7a70baa4c88926671047ccdacb4",
       "version_major": 2,
       "version_minor": 0
      },
      "text/plain": [
       "FloatProgress(value=0.0, layout=Layout(width='auto'), style=ProgressStyle(bar_color='black'))"
      ]
     },
     "metadata": {},
     "output_type": "display_data"
    },
    {
     "data": {
      "application/vnd.jupyter.widget-view+json": {
       "model_id": "4640bd9959164406a8ff7b2b163731df",
       "version_major": 2,
       "version_minor": 0
      },
      "text/plain": [
       "FloatProgress(value=0.0, layout=Layout(width='auto'), style=ProgressStyle(bar_color='black'))"
      ]
     },
     "metadata": {},
     "output_type": "display_data"
    },
    {
     "data": {
      "application/vnd.jupyter.widget-view+json": {
       "model_id": "2ac0ba82ec8e442a81adb12e94cfcbd3",
       "version_major": 2,
       "version_minor": 0
      },
      "text/plain": [
       "FloatProgress(value=0.0, layout=Layout(width='auto'), style=ProgressStyle(bar_color='black'))"
      ]
     },
     "metadata": {},
     "output_type": "display_data"
    },
    {
     "data": {
      "application/vnd.jupyter.widget-view+json": {
       "model_id": "bde92c9f3c8141bd96261e160fe80de2",
       "version_major": 2,
       "version_minor": 0
      },
      "text/plain": [
       "FloatProgress(value=0.0, layout=Layout(width='auto'), style=ProgressStyle(bar_color='black'))"
      ]
     },
     "metadata": {},
     "output_type": "display_data"
    },
    {
     "name": "stdout",
     "output_type": "stream",
     "text": [
      "Town fallback failed: HTTPSConnectionPool(host='nominatim.openstreetmap.org', port=443): Max retries exceeded with url: /search?q=New+York&format=json&limit=1 (Caused by ReadTimeoutError(\"HTTPSConnectionPool(host='nominatim.openstreetmap.org', port=443): Read timed out. (read timeout=1)\"))\n",
      "Category osm: bench, fsq: Unknown\n"
     ]
    },
    {
     "data": {
      "application/vnd.jupyter.widget-view+json": {
       "model_id": "7dbed2fd4e5b44f4b49a66deb5d2c303",
       "version_major": 2,
       "version_minor": 0
      },
      "text/plain": [
       "FloatProgress(value=0.0, layout=Layout(width='auto'), style=ProgressStyle(bar_color='black'))"
      ]
     },
     "metadata": {},
     "output_type": "display_data"
    },
    {
     "data": {
      "application/vnd.jupyter.widget-view+json": {
       "model_id": "735418ce9de64028a88dcb992ea07b2d",
       "version_major": 2,
       "version_minor": 0
      },
      "text/plain": [
       "FloatProgress(value=0.0, layout=Layout(width='auto'), style=ProgressStyle(bar_color='black'))"
      ]
     },
     "metadata": {},
     "output_type": "display_data"
    },
    {
     "data": {
      "application/vnd.jupyter.widget-view+json": {
       "model_id": "3385ca388bcc4c60926dd516705c5240",
       "version_major": 2,
       "version_minor": 0
      },
      "text/plain": [
       "FloatProgress(value=0.0, layout=Layout(width='auto'), style=ProgressStyle(bar_color='black'))"
      ]
     },
     "metadata": {},
     "output_type": "display_data"
    },
    {
     "data": {
      "application/vnd.jupyter.widget-view+json": {
       "model_id": "97f8c726c24d4e14b1c4dd27b9158258",
       "version_major": 2,
       "version_minor": 0
      },
      "text/plain": [
       "FloatProgress(value=0.0, layout=Layout(width='auto'), style=ProgressStyle(bar_color='black'))"
      ]
     },
     "metadata": {},
     "output_type": "display_data"
    },
    {
     "name": "stdout",
     "output_type": "stream",
     "text": [
      "Town fallback failed: HTTPSConnectionPool(host='nominatim.openstreetmap.org', port=443): Max retries exceeded with url: /search?q=New+York&format=json&limit=1 (Caused by ReadTimeoutError(\"HTTPSConnectionPool(host='nominatim.openstreetmap.org', port=443): Read timed out. (read timeout=1)\"))\n",
      "Fetch attempt failed at radius 200: No matching features. Check query location, tags, and log.\n",
      "Fetch attempt failed at radius 500: No matching features. Check query location, tags, and log.\n",
      "Fetch attempt failed at radius 1000: No matching features. Check query location, tags, and log.\n",
      "Getting population density at (40.477700888968734, -74.2233597085876), radius=50m\n",
      "No population data at radius 50m, expanding search...\n",
      "No population data at radius 100m, expanding search...\n",
      "No population data at radius 200m, expanding search...\n",
      "No population data at radius 400m, expanding search...\n",
      "No population found after expansions. Falling back to nearest town/city center...\n",
      "Geocoding fallback failed: HTTPSConnectionPool(host='nominatim.openstreetmap.org', port=443): Max retries exceeded with url: /search?q=City+of+New+York&format=json&limit=1 (Caused by ReadTimeoutError(\"HTTPSConnectionPool(host='nominatim.openstreetmap.org', port=443): Read timed out. (read timeout=1)\"))\n",
      "No population data found, even after fallback.\n",
      "Getting POI density at (40.477700888968734, -74.2233597085876), radius=50m\n",
      "OSM query failed at radius 50m: No matching features. Check query location, tags, and log.\n",
      "OSM query failed at radius 100m: No matching features. Check query location, tags, and log.\n",
      "OSM query failed at radius 200m: No matching features. Check query location, tags, and log.\n",
      "OSM query failed at radius 400m: No matching features. Check query location, tags, and log.\n",
      "No POIs found after expansions. Falling back to nearest town/city center...\n",
      "Found osm poi 12\n",
      "Getting Four Square Count\n",
      "Getting media_income ...\n",
      "Fetch attempt failed at radius 200: No matching features. Check query location, tags, and log.\n",
      "Fetch attempt failed at radius 500: No matching features. Check query location, tags, and log.\n",
      "Fetch attempt failed at radius 1000: No matching features. Check query location, tags, and log.\n"
     ]
    },
    {
     "data": {
      "application/vnd.jupyter.widget-view+json": {
       "model_id": "aaf93d054e4942f097d599ecc6f26b91",
       "version_major": 2,
       "version_minor": 0
      },
      "text/plain": [
       "FloatProgress(value=0.0, layout=Layout(width='auto'), style=ProgressStyle(bar_color='black'))"
      ]
     },
     "metadata": {},
     "output_type": "display_data"
    },
    {
     "data": {
      "application/vnd.jupyter.widget-view+json": {
       "model_id": "8f17068f088946a7b8e6570554978a33",
       "version_major": 2,
       "version_minor": 0
      },
      "text/plain": [
       "FloatProgress(value=0.0, layout=Layout(width='auto'), style=ProgressStyle(bar_color='black'))"
      ]
     },
     "metadata": {},
     "output_type": "display_data"
    },
    {
     "data": {
      "application/vnd.jupyter.widget-view+json": {
       "model_id": "8f7c2c354c824fedba24b1392cf30937",
       "version_major": 2,
       "version_minor": 0
      },
      "text/plain": [
       "FloatProgress(value=0.0, layout=Layout(width='auto'), style=ProgressStyle(bar_color='black'))"
      ]
     },
     "metadata": {},
     "output_type": "display_data"
    },
    {
     "data": {
      "application/vnd.jupyter.widget-view+json": {
       "model_id": "7417d23504b944c4820e6c6229098700",
       "version_major": 2,
       "version_minor": 0
      },
      "text/plain": [
       "FloatProgress(value=0.0, layout=Layout(width='auto'), style=ProgressStyle(bar_color='black'))"
      ]
     },
     "metadata": {},
     "output_type": "display_data"
    },
    {
     "name": "stdout",
     "output_type": "stream",
     "text": [
      "Town fallback failed: HTTPSConnectionPool(host='nominatim.openstreetmap.org', port=443): Max retries exceeded with url: /search?q=New+York&format=json&limit=1 (Caused by ReadTimeoutError(\"HTTPSConnectionPool(host='nominatim.openstreetmap.org', port=443): Read timed out. (read timeout=1)\"))\n",
      "Category osm: bench, fsq: Unknown\n"
     ]
    },
    {
     "data": {
      "application/vnd.jupyter.widget-view+json": {
       "model_id": "bc70dca8d9414292ba7685676c12015b",
       "version_major": 2,
       "version_minor": 0
      },
      "text/plain": [
       "FloatProgress(value=0.0, layout=Layout(width='auto'), style=ProgressStyle(bar_color='black'))"
      ]
     },
     "metadata": {},
     "output_type": "display_data"
    },
    {
     "data": {
      "application/vnd.jupyter.widget-view+json": {
       "model_id": "aaee74a7ddf743d2aa718199fdbb9a0b",
       "version_major": 2,
       "version_minor": 0
      },
      "text/plain": [
       "FloatProgress(value=0.0, layout=Layout(width='auto'), style=ProgressStyle(bar_color='black'))"
      ]
     },
     "metadata": {},
     "output_type": "display_data"
    },
    {
     "data": {
      "application/vnd.jupyter.widget-view+json": {
       "model_id": "b267cfa845844af3b6a3a16f1e23ac89",
       "version_major": 2,
       "version_minor": 0
      },
      "text/plain": [
       "FloatProgress(value=0.0, layout=Layout(width='auto'), style=ProgressStyle(bar_color='black'))"
      ]
     },
     "metadata": {},
     "output_type": "display_data"
    },
    {
     "data": {
      "application/vnd.jupyter.widget-view+json": {
       "model_id": "fbef2ca8bf3646c9a7edac2d6a55e933",
       "version_major": 2,
       "version_minor": 0
      },
      "text/plain": [
       "FloatProgress(value=0.0, layout=Layout(width='auto'), style=ProgressStyle(bar_color='black'))"
      ]
     },
     "metadata": {},
     "output_type": "display_data"
    },
    {
     "data": {
      "application/vnd.jupyter.widget-view+json": {
       "model_id": "82e8a9b9027349ecae79327d967294e5",
       "version_major": 2,
       "version_minor": 0
      },
      "text/plain": [
       "FloatProgress(value=0.0, layout=Layout(width='auto'), style=ProgressStyle(bar_color='black'))"
      ]
     },
     "metadata": {},
     "output_type": "display_data"
    },
    {
     "data": {
      "application/vnd.jupyter.widget-view+json": {
       "model_id": "e2815ce62c7544f0a000460207cb0904",
       "version_major": 2,
       "version_minor": 0
      },
      "text/plain": [
       "FloatProgress(value=0.0, layout=Layout(width='auto'), style=ProgressStyle(bar_color='black'))"
      ]
     },
     "metadata": {},
     "output_type": "display_data"
    },
    {
     "data": {
      "application/vnd.jupyter.widget-view+json": {
       "model_id": "212aa767ea5a44749e8b9caa9dad4043",
       "version_major": 2,
       "version_minor": 0
      },
      "text/plain": [
       "FloatProgress(value=0.0, layout=Layout(width='auto'), style=ProgressStyle(bar_color='black'))"
      ]
     },
     "metadata": {},
     "output_type": "display_data"
    },
    {
     "data": {
      "application/vnd.jupyter.widget-view+json": {
       "model_id": "9487650c3e164bfabf1916d2b68e8f56",
       "version_major": 2,
       "version_minor": 0
      },
      "text/plain": [
       "FloatProgress(value=0.0, layout=Layout(width='auto'), style=ProgressStyle(bar_color='black'))"
      ]
     },
     "metadata": {},
     "output_type": "display_data"
    },
    {
     "name": "stdout",
     "output_type": "stream",
     "text": [
      "Fetch attempt failed at radius 200: No matching features. Check query location, tags, and log.\n",
      "Fetch attempt failed at radius 500: No matching features. Check query location, tags, and log.\n",
      "Fetch attempt failed at radius 1000: No matching features. Check query location, tags, and log.\n",
      "Revenue estimation ...\n",
      "Getting population density at (40.477251733381244, -74.2238088641751), radius=500m\n",
      "No population data at radius 500m, expanding search...\n",
      "No population data at radius 1000m, expanding search...\n",
      "No population data at radius 2000m, expanding search...\n",
      "No population data at radius 4000m, expanding search...\n",
      "No population found after expansions. Falling back to nearest town/city center...\n",
      "No population data found, even after fallback.\n",
      "Getting POI density at (40.477251733381244, -74.2238088641751), radius=500m\n",
      "OSM query failed at radius 500m: No matching features. Check query location, tags, and log.\n",
      "OSM query failed at radius 1000m: No matching features. Check query location, tags, and log.\n",
      "Found osm_pois 2\n",
      "Getting Four Square Count\n",
      "revenue 200\n",
      "Building features for location ...\n",
      "Generating circle points with max 50 subcircles\n",
      "low, high 50, 100\n",
      "looper 3\n",
      "looper 2 3\n",
      "haversine condition 36.89413005796475 100\n",
      "haversine condition 56.85065164959638 100\n",
      "looper 2 3\n",
      "haversine condition 25.87846853973232 100\n",
      "haversine condition 50.40323516388776 100\n",
      "looper 2 3\n",
      "haversine condition 28.42519082978946 100\n",
      "haversine condition 51.7570112214693 100\n",
      "Chosen small_radius: 50.00 m, generated 6 subcircles\n",
      "Number of neighborhood points 6\n",
      "Getting population density at (40.47635342220625, -74.2233597085876), radius=50m\n",
      "No population data at radius 50m, expanding search...\n",
      "No population data at radius 100m, expanding search...\n",
      "No population data at radius 200m, expanding search...\n",
      "No population data at radius 400m, expanding search...\n",
      "No population found after expansions. Falling back to nearest town/city center...\n",
      "No population data found, even after fallback.\n",
      "Getting POI density at (40.47635342220625, -74.2233597085876), radius=50m\n",
      "OSM query failed at radius 50m: No matching features. Check query location, tags, and log.\n",
      "OSM query failed at radius 100m: No matching features. Check query location, tags, and log.\n",
      "OSM query failed at radius 200m: No matching features. Check query location, tags, and log.\n",
      "OSM query failed at radius 400m: No matching features. Check query location, tags, and log.\n",
      "No POIs found after expansions. Falling back to nearest town/city center...\n",
      "OSM fallback query failed: No matching features. Check query location, tags, and log.\n",
      "No POIs found, even after fallback.\n",
      "Getting Four Square Count\n",
      "Getting media_income ...\n",
      "Fetch attempt failed at radius 200: No matching features. Check query location, tags, and log.\n",
      "Fetch attempt failed at radius 500: No matching features. Check query location, tags, and log.\n",
      "Fetch attempt failed at radius 1000: No matching features. Check query location, tags, and log.\n",
      "Fetch attempt failed at radius 2000: No matching features. Check query location, tags, and log.\n",
      "Town fallback failed: HTTPSConnectionPool(host='nominatim.openstreetmap.org', port=443): Max retries exceeded with url: /search?q=New+York&format=json&limit=1 (Caused by ReadTimeoutError(\"HTTPSConnectionPool(host='nominatim.openstreetmap.org', port=443): Read timed out. (read timeout=1)\"))\n"
     ]
    },
    {
     "data": {
      "application/vnd.jupyter.widget-view+json": {
       "model_id": "42c541b9cebf4d35bb85f40e4b9d8d2f",
       "version_major": 2,
       "version_minor": 0
      },
      "text/plain": [
       "FloatProgress(value=0.0, layout=Layout(width='auto'), style=ProgressStyle(bar_color='black'))"
      ]
     },
     "metadata": {},
     "output_type": "display_data"
    },
    {
     "data": {
      "application/vnd.jupyter.widget-view+json": {
       "model_id": "45c1de30343346cf9eb363de67a50063",
       "version_major": 2,
       "version_minor": 0
      },
      "text/plain": [
       "FloatProgress(value=0.0, layout=Layout(width='auto'), style=ProgressStyle(bar_color='black'))"
      ]
     },
     "metadata": {},
     "output_type": "display_data"
    },
    {
     "data": {
      "application/vnd.jupyter.widget-view+json": {
       "model_id": "6fbd7de0de424401b9153ee80b60af93",
       "version_major": 2,
       "version_minor": 0
      },
      "text/plain": [
       "FloatProgress(value=0.0, layout=Layout(width='auto'), style=ProgressStyle(bar_color='black'))"
      ]
     },
     "metadata": {},
     "output_type": "display_data"
    },
    {
     "data": {
      "application/vnd.jupyter.widget-view+json": {
       "model_id": "7adde9abeed04c7c862597969195aad5",
       "version_major": 2,
       "version_minor": 0
      },
      "text/plain": [
       "FloatProgress(value=0.0, layout=Layout(width='auto'), style=ProgressStyle(bar_color='black'))"
      ]
     },
     "metadata": {},
     "output_type": "display_data"
    },
    {
     "name": "stdout",
     "output_type": "stream",
     "text": [
      "Town fallback failed: HTTPSConnectionPool(host='nominatim.openstreetmap.org', port=443): Max retries exceeded with url: /search?q=New+York&format=json&limit=1 (Caused by ReadTimeoutError(\"HTTPSConnectionPool(host='nominatim.openstreetmap.org', port=443): Read timed out. (read timeout=1)\"))\n",
      "Category osm: Unknown, fsq: Unknown\n"
     ]
    },
    {
     "data": {
      "application/vnd.jupyter.widget-view+json": {
       "model_id": "72890a70385a43209cd51b5dd47a6cf5",
       "version_major": 2,
       "version_minor": 0
      },
      "text/plain": [
       "FloatProgress(value=0.0, layout=Layout(width='auto'), style=ProgressStyle(bar_color='black'))"
      ]
     },
     "metadata": {},
     "output_type": "display_data"
    },
    {
     "data": {
      "application/vnd.jupyter.widget-view+json": {
       "model_id": "a5f9b427e9fa452eb3742b11c3a52583",
       "version_major": 2,
       "version_minor": 0
      },
      "text/plain": [
       "FloatProgress(value=0.0, layout=Layout(width='auto'), style=ProgressStyle(bar_color='black'))"
      ]
     },
     "metadata": {},
     "output_type": "display_data"
    },
    {
     "data": {
      "application/vnd.jupyter.widget-view+json": {
       "model_id": "9b84edd9ed69489eb6bcae6c0db3fcc6",
       "version_major": 2,
       "version_minor": 0
      },
      "text/plain": [
       "FloatProgress(value=0.0, layout=Layout(width='auto'), style=ProgressStyle(bar_color='black'))"
      ]
     },
     "metadata": {},
     "output_type": "display_data"
    },
    {
     "data": {
      "application/vnd.jupyter.widget-view+json": {
       "model_id": "530ff3ce164b403b8d4521b02270e9a0",
       "version_major": 2,
       "version_minor": 0
      },
      "text/plain": [
       "FloatProgress(value=0.0, layout=Layout(width='auto'), style=ProgressStyle(bar_color='black'))"
      ]
     },
     "metadata": {},
     "output_type": "display_data"
    },
    {
     "data": {
      "application/vnd.jupyter.widget-view+json": {
       "model_id": "fc1eff6198c5422ba6290da850e6a9e7",
       "version_major": 2,
       "version_minor": 0
      },
      "text/plain": [
       "FloatProgress(value=0.0, layout=Layout(width='auto'), style=ProgressStyle(bar_color='black'))"
      ]
     },
     "metadata": {},
     "output_type": "display_data"
    },
    {
     "data": {
      "application/vnd.jupyter.widget-view+json": {
       "model_id": "37827b66312948319010e10543817f40",
       "version_major": 2,
       "version_minor": 0
      },
      "text/plain": [
       "FloatProgress(value=0.0, layout=Layout(width='auto'), style=ProgressStyle(bar_color='black'))"
      ]
     },
     "metadata": {},
     "output_type": "display_data"
    },
    {
     "data": {
      "application/vnd.jupyter.widget-view+json": {
       "model_id": "77388d54f1fb4026aa9fcb4336af8ded",
       "version_major": 2,
       "version_minor": 0
      },
      "text/plain": [
       "FloatProgress(value=0.0, layout=Layout(width='auto'), style=ProgressStyle(bar_color='black'))"
      ]
     },
     "metadata": {},
     "output_type": "display_data"
    },
    {
     "data": {
      "application/vnd.jupyter.widget-view+json": {
       "model_id": "f528c4e16be34a87985dae1704de4713",
       "version_major": 2,
       "version_minor": 0
      },
      "text/plain": [
       "FloatProgress(value=0.0, layout=Layout(width='auto'), style=ProgressStyle(bar_color='black'))"
      ]
     },
     "metadata": {},
     "output_type": "display_data"
    },
    {
     "name": "stdout",
     "output_type": "stream",
     "text": [
      "Fetch attempt failed at radius 200: No matching features. Check query location, tags, and log.\n",
      "Fetch attempt failed at radius 500: No matching features. Check query location, tags, and log.\n",
      "Fetch attempt failed at radius 1000: No matching features. Check query location, tags, and log.\n",
      "Fetch attempt failed at radius 2000: No matching features. Check query location, tags, and log.\n",
      "Town fallback failed: HTTPSConnectionPool(host='nominatim.openstreetmap.org', port=443): Max retries exceeded with url: /search?q=New+York&format=json&limit=1 (Caused by ReadTimeoutError(\"HTTPSConnectionPool(host='nominatim.openstreetmap.org', port=443): Read timed out. (read timeout=1)\"))\n",
      "Getting population density at (40.47635342220625, -74.22268597520635), radius=50m\n",
      "No population data at radius 50m, expanding search...\n",
      "No population data at radius 100m, expanding search...\n",
      "No population data at radius 200m, expanding search...\n",
      "No population data at radius 400m, expanding search...\n",
      "No population found after expansions. Falling back to nearest town/city center...\n",
      "No population data found, even after fallback.\n",
      "Getting POI density at (40.47635342220625, -74.22268597520635), radius=50m\n",
      "OSM query failed at radius 50m: No matching features. Check query location, tags, and log.\n",
      "OSM query failed at radius 100m: No matching features. Check query location, tags, and log.\n",
      "OSM query failed at radius 200m: No matching features. Check query location, tags, and log.\n",
      "OSM query failed at radius 400m: No matching features. Check query location, tags, and log.\n",
      "No POIs found after expansions. Falling back to nearest town/city center...\n",
      "OSM fallback query failed: No matching features. Check query location, tags, and log.\n",
      "No POIs found, even after fallback.\n",
      "Getting Four Square Count\n",
      "Getting media_income ...\n",
      "Fetch attempt failed at radius 200: No matching features. Check query location, tags, and log.\n",
      "Fetch attempt failed at radius 500: No matching features. Check query location, tags, and log.\n",
      "Fetch attempt failed at radius 1000: No matching features. Check query location, tags, and log.\n",
      "Fetch attempt failed at radius 2000: No matching features. Check query location, tags, and log.\n",
      "Town fallback failed: HTTPSConnectionPool(host='nominatim.openstreetmap.org', port=443): Max retries exceeded with url: /search?q=New+York&format=json&limit=1 (Caused by ReadTimeoutError(\"HTTPSConnectionPool(host='nominatim.openstreetmap.org', port=443): Read timed out. (read timeout=1)\"))\n"
     ]
    },
    {
     "data": {
      "application/vnd.jupyter.widget-view+json": {
       "model_id": "318dfe94ec7746359cdeabc5ea2f55a4",
       "version_major": 2,
       "version_minor": 0
      },
      "text/plain": [
       "FloatProgress(value=0.0, layout=Layout(width='auto'), style=ProgressStyle(bar_color='black'))"
      ]
     },
     "metadata": {},
     "output_type": "display_data"
    },
    {
     "data": {
      "application/vnd.jupyter.widget-view+json": {
       "model_id": "f5603c2dc722463fb33864dd47936cd0",
       "version_major": 2,
       "version_minor": 0
      },
      "text/plain": [
       "FloatProgress(value=0.0, layout=Layout(width='auto'), style=ProgressStyle(bar_color='black'))"
      ]
     },
     "metadata": {},
     "output_type": "display_data"
    },
    {
     "data": {
      "application/vnd.jupyter.widget-view+json": {
       "model_id": "9e4acb3df7cf4cb78cfde607f8b3c2d1",
       "version_major": 2,
       "version_minor": 0
      },
      "text/plain": [
       "FloatProgress(value=0.0, layout=Layout(width='auto'), style=ProgressStyle(bar_color='black'))"
      ]
     },
     "metadata": {},
     "output_type": "display_data"
    },
    {
     "data": {
      "application/vnd.jupyter.widget-view+json": {
       "model_id": "299f8fcaad3644669935a62250a2101f",
       "version_major": 2,
       "version_minor": 0
      },
      "text/plain": [
       "FloatProgress(value=0.0, layout=Layout(width='auto'), style=ProgressStyle(bar_color='black'))"
      ]
     },
     "metadata": {},
     "output_type": "display_data"
    },
    {
     "name": "stdout",
     "output_type": "stream",
     "text": [
      "Town fallback failed: HTTPSConnectionPool(host='nominatim.openstreetmap.org', port=443): Max retries exceeded with url: /search?q=New+York&format=json&limit=1 (Caused by ReadTimeoutError(\"HTTPSConnectionPool(host='nominatim.openstreetmap.org', port=443): Read timed out. (read timeout=1)\"))\n",
      "Category osm: Unknown, fsq: Unknown\n"
     ]
    },
    {
     "data": {
      "application/vnd.jupyter.widget-view+json": {
       "model_id": "fa7d8ede3e96428eb17f1f9f47b56836",
       "version_major": 2,
       "version_minor": 0
      },
      "text/plain": [
       "FloatProgress(value=0.0, layout=Layout(width='auto'), style=ProgressStyle(bar_color='black'))"
      ]
     },
     "metadata": {},
     "output_type": "display_data"
    },
    {
     "data": {
      "application/vnd.jupyter.widget-view+json": {
       "model_id": "4182f2b272544dd0808e228493a63dac",
       "version_major": 2,
       "version_minor": 0
      },
      "text/plain": [
       "FloatProgress(value=0.0, layout=Layout(width='auto'), style=ProgressStyle(bar_color='black'))"
      ]
     },
     "metadata": {},
     "output_type": "display_data"
    },
    {
     "data": {
      "application/vnd.jupyter.widget-view+json": {
       "model_id": "9cfa120ed4aa4bd6a6c200e8347fb6fd",
       "version_major": 2,
       "version_minor": 0
      },
      "text/plain": [
       "FloatProgress(value=0.0, layout=Layout(width='auto'), style=ProgressStyle(bar_color='black'))"
      ]
     },
     "metadata": {},
     "output_type": "display_data"
    },
    {
     "data": {
      "application/vnd.jupyter.widget-view+json": {
       "model_id": "320f9fd089224c6c937a75ecc93f3336",
       "version_major": 2,
       "version_minor": 0
      },
      "text/plain": [
       "FloatProgress(value=0.0, layout=Layout(width='auto'), style=ProgressStyle(bar_color='black'))"
      ]
     },
     "metadata": {},
     "output_type": "display_data"
    },
    {
     "data": {
      "application/vnd.jupyter.widget-view+json": {
       "model_id": "a630220e101c41b0a0994cb149a4aa5b",
       "version_major": 2,
       "version_minor": 0
      },
      "text/plain": [
       "FloatProgress(value=0.0, layout=Layout(width='auto'), style=ProgressStyle(bar_color='black'))"
      ]
     },
     "metadata": {},
     "output_type": "display_data"
    },
    {
     "data": {
      "application/vnd.jupyter.widget-view+json": {
       "model_id": "9f9eb15d87634f2a899ee24788cfe933",
       "version_major": 2,
       "version_minor": 0
      },
      "text/plain": [
       "FloatProgress(value=0.0, layout=Layout(width='auto'), style=ProgressStyle(bar_color='black'))"
      ]
     },
     "metadata": {},
     "output_type": "display_data"
    },
    {
     "data": {
      "application/vnd.jupyter.widget-view+json": {
       "model_id": "d50da66f8a914a4488aa96a592326bd2",
       "version_major": 2,
       "version_minor": 0
      },
      "text/plain": [
       "FloatProgress(value=0.0, layout=Layout(width='auto'), style=ProgressStyle(bar_color='black'))"
      ]
     },
     "metadata": {},
     "output_type": "display_data"
    },
    {
     "data": {
      "application/vnd.jupyter.widget-view+json": {
       "model_id": "842ea498c682495b8fec176cd5bc0a03",
       "version_major": 2,
       "version_minor": 0
      },
      "text/plain": [
       "FloatProgress(value=0.0, layout=Layout(width='auto'), style=ProgressStyle(bar_color='black'))"
      ]
     },
     "metadata": {},
     "output_type": "display_data"
    },
    {
     "name": "stdout",
     "output_type": "stream",
     "text": [
      "Fetch attempt failed at radius 200: No matching features. Check query location, tags, and log.\n",
      "Fetch attempt failed at radius 500: No matching features. Check query location, tags, and log.\n",
      "Fetch attempt failed at radius 1000: No matching features. Check query location, tags, and log.\n",
      "Fetch attempt failed at radius 2000: No matching features. Check query location, tags, and log.\n",
      "Town fallback failed: HTTPSConnectionPool(host='nominatim.openstreetmap.org', port=443): Max retries exceeded with url: /search?q=New+York&format=json&limit=1 (Caused by ReadTimeoutError(\"HTTPSConnectionPool(host='nominatim.openstreetmap.org', port=443): Read timed out. (read timeout=1)\"))\n",
      "Getting population density at (40.47702715558749, -74.2233597085876), radius=50m\n",
      "No population data at radius 50m, expanding search...\n",
      "No population data at radius 100m, expanding search...\n",
      "No population data at radius 200m, expanding search...\n",
      "No population data at radius 400m, expanding search...\n",
      "No population found after expansions. Falling back to nearest town/city center...\n",
      "Geocoding fallback failed: HTTPSConnectionPool(host='nominatim.openstreetmap.org', port=443): Max retries exceeded with url: /search?q=City+of+New+York&format=json&limit=1 (Caused by ReadTimeoutError(\"HTTPSConnectionPool(host='nominatim.openstreetmap.org', port=443): Read timed out. (read timeout=1)\"))\n",
      "No population data found, even after fallback.\n",
      "Getting POI density at (40.47702715558749, -74.2233597085876), radius=50m\n",
      "OSM query failed at radius 50m: No matching features. Check query location, tags, and log.\n",
      "OSM query failed at radius 100m: No matching features. Check query location, tags, and log.\n",
      "OSM query failed at radius 200m: No matching features. Check query location, tags, and log.\n",
      "OSM query failed at radius 400m: No matching features. Check query location, tags, and log.\n",
      "No POIs found after expansions. Falling back to nearest town/city center...\n",
      "Found osm poi 12\n",
      "Getting Four Square Count\n",
      "Getting media_income ...\n",
      "Fetch attempt failed at radius 200: No matching features. Check query location, tags, and log.\n",
      "Fetch attempt failed at radius 500: No matching features. Check query location, tags, and log.\n",
      "Fetch attempt failed at radius 1000: No matching features. Check query location, tags, and log.\n",
      "Fetch attempt failed at radius 2000: No matching features. Check query location, tags, and log.\n"
     ]
    },
    {
     "data": {
      "application/vnd.jupyter.widget-view+json": {
       "model_id": "115c6857ef6843ddaf67742bfc367bef",
       "version_major": 2,
       "version_minor": 0
      },
      "text/plain": [
       "FloatProgress(value=0.0, layout=Layout(width='auto'), style=ProgressStyle(bar_color='black'))"
      ]
     },
     "metadata": {},
     "output_type": "display_data"
    },
    {
     "data": {
      "application/vnd.jupyter.widget-view+json": {
       "model_id": "6a519ef61ff54d86bf9e88864c2f8291",
       "version_major": 2,
       "version_minor": 0
      },
      "text/plain": [
       "FloatProgress(value=0.0, layout=Layout(width='auto'), style=ProgressStyle(bar_color='black'))"
      ]
     },
     "metadata": {},
     "output_type": "display_data"
    },
    {
     "data": {
      "application/vnd.jupyter.widget-view+json": {
       "model_id": "4be3651e4de44507b033aed73f5e650f",
       "version_major": 2,
       "version_minor": 0
      },
      "text/plain": [
       "FloatProgress(value=0.0, layout=Layout(width='auto'), style=ProgressStyle(bar_color='black'))"
      ]
     },
     "metadata": {},
     "output_type": "display_data"
    },
    {
     "data": {
      "application/vnd.jupyter.widget-view+json": {
       "model_id": "da11e77390c843ba87df9505687955b3",
       "version_major": 2,
       "version_minor": 0
      },
      "text/plain": [
       "FloatProgress(value=0.0, layout=Layout(width='auto'), style=ProgressStyle(bar_color='black'))"
      ]
     },
     "metadata": {},
     "output_type": "display_data"
    },
    {
     "data": {
      "application/vnd.jupyter.widget-view+json": {
       "model_id": "26bfefa6fea8466eb80d930341a1c0cc",
       "version_major": 2,
       "version_minor": 0
      },
      "text/plain": [
       "FloatProgress(value=0.0, layout=Layout(width='auto'), style=ProgressStyle(bar_color='black'))"
      ]
     },
     "metadata": {},
     "output_type": "display_data"
    },
    {
     "data": {
      "application/vnd.jupyter.widget-view+json": {
       "model_id": "acb00a95e24f4d00a1b2ddcf75f4ddbb",
       "version_major": 2,
       "version_minor": 0
      },
      "text/plain": [
       "FloatProgress(value=0.0, layout=Layout(width='auto'), style=ProgressStyle(bar_color='black'))"
      ]
     },
     "metadata": {},
     "output_type": "display_data"
    },
    {
     "data": {
      "application/vnd.jupyter.widget-view+json": {
       "model_id": "be9c980b033243829bbe1a84f67a7596",
       "version_major": 2,
       "version_minor": 0
      },
      "text/plain": [
       "FloatProgress(value=0.0, layout=Layout(width='auto'), style=ProgressStyle(bar_color='black'))"
      ]
     },
     "metadata": {},
     "output_type": "display_data"
    },
    {
     "data": {
      "application/vnd.jupyter.widget-view+json": {
       "model_id": "58d6af8d36a946599d56439412a77fae",
       "version_major": 2,
       "version_minor": 0
      },
      "text/plain": [
       "FloatProgress(value=0.0, layout=Layout(width='auto'), style=ProgressStyle(bar_color='black'))"
      ]
     },
     "metadata": {},
     "output_type": "display_data"
    },
    {
     "name": "stdout",
     "output_type": "stream",
     "text": [
      "Category osm: bicycle_parking, fsq: Unknown\n"
     ]
    },
    {
     "data": {
      "application/vnd.jupyter.widget-view+json": {
       "model_id": "821360d093454c74a947f49227e1a1d9",
       "version_major": 2,
       "version_minor": 0
      },
      "text/plain": [
       "FloatProgress(value=0.0, layout=Layout(width='auto'), style=ProgressStyle(bar_color='black'))"
      ]
     },
     "metadata": {},
     "output_type": "display_data"
    },
    {
     "data": {
      "application/vnd.jupyter.widget-view+json": {
       "model_id": "6a3c605802ed4a83b18e88e85bc8d63e",
       "version_major": 2,
       "version_minor": 0
      },
      "text/plain": [
       "FloatProgress(value=0.0, layout=Layout(width='auto'), style=ProgressStyle(bar_color='black'))"
      ]
     },
     "metadata": {},
     "output_type": "display_data"
    },
    {
     "data": {
      "application/vnd.jupyter.widget-view+json": {
       "model_id": "883c88d0edcf44c187e09497f0cecb06",
       "version_major": 2,
       "version_minor": 0
      },
      "text/plain": [
       "FloatProgress(value=0.0, layout=Layout(width='auto'), style=ProgressStyle(bar_color='black'))"
      ]
     },
     "metadata": {},
     "output_type": "display_data"
    },
    {
     "data": {
      "application/vnd.jupyter.widget-view+json": {
       "model_id": "04d178eff01a43de8c8df075cfa7dbb2",
       "version_major": 2,
       "version_minor": 0
      },
      "text/plain": [
       "FloatProgress(value=0.0, layout=Layout(width='auto'), style=ProgressStyle(bar_color='black'))"
      ]
     },
     "metadata": {},
     "output_type": "display_data"
    },
    {
     "name": "stdout",
     "output_type": "stream",
     "text": [
      "Town fallback failed: HTTPSConnectionPool(host='nominatim.openstreetmap.org', port=443): Max retries exceeded with url: /search?q=New+York&format=json&limit=1 (Caused by ReadTimeoutError(\"HTTPSConnectionPool(host='nominatim.openstreetmap.org', port=443): Read timed out. (read timeout=1)\"))\n",
      "Fetch attempt failed at radius 200: No matching features. Check query location, tags, and log.\n",
      "Fetch attempt failed at radius 500: No matching features. Check query location, tags, and log.\n",
      "Fetch attempt failed at radius 1000: No matching features. Check query location, tags, and log.\n",
      "Fetch attempt failed at radius 2000: No matching features. Check query location, tags, and log.\n",
      "Getting population density at (40.47702715558749, -74.22268597520635), radius=50m\n",
      "No population data at radius 50m, expanding search...\n",
      "No population data at radius 100m, expanding search...\n",
      "No population data at radius 200m, expanding search...\n",
      "No population data at radius 400m, expanding search...\n",
      "No population found after expansions. Falling back to nearest town/city center...\n",
      "No population data found, even after fallback.\n",
      "Getting POI density at (40.47702715558749, -74.22268597520635), radius=50m\n",
      "OSM query failed at radius 50m: No matching features. Check query location, tags, and log.\n",
      "OSM query failed at radius 100m: No matching features. Check query location, tags, and log.\n",
      "OSM query failed at radius 200m: No matching features. Check query location, tags, and log.\n",
      "OSM query failed at radius 400m: No matching features. Check query location, tags, and log.\n",
      "No POIs found after expansions. Falling back to nearest town/city center...\n",
      "OSM fallback query failed: No matching features. Check query location, tags, and log.\n",
      "No POIs found, even after fallback.\n",
      "Getting Four Square Count\n",
      "Getting media_income ...\n",
      "Fetch attempt failed at radius 200: No matching features. Check query location, tags, and log.\n",
      "Fetch attempt failed at radius 500: No matching features. Check query location, tags, and log.\n",
      "Fetch attempt failed at radius 1000: No matching features. Check query location, tags, and log.\n",
      "Fetch attempt failed at radius 2000: No matching features. Check query location, tags, and log.\n"
     ]
    },
    {
     "data": {
      "application/vnd.jupyter.widget-view+json": {
       "model_id": "d6fc05c933424e7097a3425f2729a452",
       "version_major": 2,
       "version_minor": 0
      },
      "text/plain": [
       "FloatProgress(value=0.0, layout=Layout(width='auto'), style=ProgressStyle(bar_color='black'))"
      ]
     },
     "metadata": {},
     "output_type": "display_data"
    },
    {
     "data": {
      "application/vnd.jupyter.widget-view+json": {
       "model_id": "5a72db362213434391b9949eb59fe735",
       "version_major": 2,
       "version_minor": 0
      },
      "text/plain": [
       "FloatProgress(value=0.0, layout=Layout(width='auto'), style=ProgressStyle(bar_color='black'))"
      ]
     },
     "metadata": {},
     "output_type": "display_data"
    },
    {
     "data": {
      "application/vnd.jupyter.widget-view+json": {
       "model_id": "4531a3ab12824245bbda37f73e484c93",
       "version_major": 2,
       "version_minor": 0
      },
      "text/plain": [
       "FloatProgress(value=0.0, layout=Layout(width='auto'), style=ProgressStyle(bar_color='black'))"
      ]
     },
     "metadata": {},
     "output_type": "display_data"
    },
    {
     "data": {
      "application/vnd.jupyter.widget-view+json": {
       "model_id": "4cfeb18f999646be9d3b68c810593d93",
       "version_major": 2,
       "version_minor": 0
      },
      "text/plain": [
       "FloatProgress(value=0.0, layout=Layout(width='auto'), style=ProgressStyle(bar_color='black'))"
      ]
     },
     "metadata": {},
     "output_type": "display_data"
    },
    {
     "data": {
      "application/vnd.jupyter.widget-view+json": {
       "model_id": "cf2a35b4524745ddad3f30c3aee8883d",
       "version_major": 2,
       "version_minor": 0
      },
      "text/plain": [
       "FloatProgress(value=0.0, layout=Layout(width='auto'), style=ProgressStyle(bar_color='black'))"
      ]
     },
     "metadata": {},
     "output_type": "display_data"
    },
    {
     "data": {
      "application/vnd.jupyter.widget-view+json": {
       "model_id": "10344a82648641608884f838f405e0bc",
       "version_major": 2,
       "version_minor": 0
      },
      "text/plain": [
       "FloatProgress(value=0.0, layout=Layout(width='auto'), style=ProgressStyle(bar_color='black'))"
      ]
     },
     "metadata": {},
     "output_type": "display_data"
    },
    {
     "data": {
      "application/vnd.jupyter.widget-view+json": {
       "model_id": "f83868bde67a45e3b34d9f58ab0f7ff7",
       "version_major": 2,
       "version_minor": 0
      },
      "text/plain": [
       "FloatProgress(value=0.0, layout=Layout(width='auto'), style=ProgressStyle(bar_color='black'))"
      ]
     },
     "metadata": {},
     "output_type": "display_data"
    },
    {
     "data": {
      "application/vnd.jupyter.widget-view+json": {
       "model_id": "b69012a12b5e4cfeab690f4d896c6997",
       "version_major": 2,
       "version_minor": 0
      },
      "text/plain": [
       "FloatProgress(value=0.0, layout=Layout(width='auto'), style=ProgressStyle(bar_color='black'))"
      ]
     },
     "metadata": {},
     "output_type": "display_data"
    },
    {
     "name": "stdout",
     "output_type": "stream",
     "text": [
      "Category osm: bicycle_parking, fsq: Unknown\n"
     ]
    },
    {
     "data": {
      "application/vnd.jupyter.widget-view+json": {
       "model_id": "5f0b12c64b3f4329bc476213f56ac764",
       "version_major": 2,
       "version_minor": 0
      },
      "text/plain": [
       "FloatProgress(value=0.0, layout=Layout(width='auto'), style=ProgressStyle(bar_color='black'))"
      ]
     },
     "metadata": {},
     "output_type": "display_data"
    },
    {
     "data": {
      "application/vnd.jupyter.widget-view+json": {
       "model_id": "c957311e18a84444aae789ec910ee5cc",
       "version_major": 2,
       "version_minor": 0
      },
      "text/plain": [
       "FloatProgress(value=0.0, layout=Layout(width='auto'), style=ProgressStyle(bar_color='black'))"
      ]
     },
     "metadata": {},
     "output_type": "display_data"
    },
    {
     "data": {
      "application/vnd.jupyter.widget-view+json": {
       "model_id": "012d5210a95e4293a925ce3fd6796033",
       "version_major": 2,
       "version_minor": 0
      },
      "text/plain": [
       "FloatProgress(value=0.0, layout=Layout(width='auto'), style=ProgressStyle(bar_color='black'))"
      ]
     },
     "metadata": {},
     "output_type": "display_data"
    },
    {
     "data": {
      "application/vnd.jupyter.widget-view+json": {
       "model_id": "86ce82a897904beebe0678162a68b2cb",
       "version_major": 2,
       "version_minor": 0
      },
      "text/plain": [
       "FloatProgress(value=0.0, layout=Layout(width='auto'), style=ProgressStyle(bar_color='black'))"
      ]
     },
     "metadata": {},
     "output_type": "display_data"
    },
    {
     "data": {
      "application/vnd.jupyter.widget-view+json": {
       "model_id": "8fb065b6fc5847cab7289988b2f5fbc5",
       "version_major": 2,
       "version_minor": 0
      },
      "text/plain": [
       "FloatProgress(value=0.0, layout=Layout(width='auto'), style=ProgressStyle(bar_color='black'))"
      ]
     },
     "metadata": {},
     "output_type": "display_data"
    },
    {
     "data": {
      "application/vnd.jupyter.widget-view+json": {
       "model_id": "fc15b8115f64449cb05df6784697625c",
       "version_major": 2,
       "version_minor": 0
      },
      "text/plain": [
       "FloatProgress(value=0.0, layout=Layout(width='auto'), style=ProgressStyle(bar_color='black'))"
      ]
     },
     "metadata": {},
     "output_type": "display_data"
    },
    {
     "data": {
      "application/vnd.jupyter.widget-view+json": {
       "model_id": "c56d5a78025b4b18b2fcb7795d28ffac",
       "version_major": 2,
       "version_minor": 0
      },
      "text/plain": [
       "FloatProgress(value=0.0, layout=Layout(width='auto'), style=ProgressStyle(bar_color='black'))"
      ]
     },
     "metadata": {},
     "output_type": "display_data"
    },
    {
     "data": {
      "application/vnd.jupyter.widget-view+json": {
       "model_id": "b02c34c0092e43ebbd97ee6a06ea0101",
       "version_major": 2,
       "version_minor": 0
      },
      "text/plain": [
       "FloatProgress(value=0.0, layout=Layout(width='auto'), style=ProgressStyle(bar_color='black'))"
      ]
     },
     "metadata": {},
     "output_type": "display_data"
    },
    {
     "name": "stdout",
     "output_type": "stream",
     "text": [
      "Town fallback failed: HTTPSConnectionPool(host='nominatim.openstreetmap.org', port=443): Max retries exceeded with url: /search?q=New+York&format=json&limit=1 (Caused by ReadTimeoutError(\"HTTPSConnectionPool(host='nominatim.openstreetmap.org', port=443): Read timed out. (read timeout=1)\"))\n",
      "Fetch attempt failed at radius 200: No matching features. Check query location, tags, and log.\n",
      "Fetch attempt failed at radius 500: No matching features. Check query location, tags, and log.\n",
      "Fetch attempt failed at radius 1000: No matching features. Check query location, tags, and log.\n",
      "Fetch attempt failed at radius 2000: No matching features. Check query location, tags, and log.\n",
      "Getting population density at (40.477700888968734, -74.2233597085876), radius=50m\n",
      "No population data at radius 50m, expanding search...\n",
      "No population data at radius 100m, expanding search...\n",
      "No population data at radius 200m, expanding search...\n",
      "No population data at radius 400m, expanding search...\n",
      "No population found after expansions. Falling back to nearest town/city center...\n",
      "Geocoding fallback failed: HTTPSConnectionPool(host='nominatim.openstreetmap.org', port=443): Max retries exceeded with url: /search?q=City+of+New+York&format=json&limit=1 (Caused by ReadTimeoutError(\"HTTPSConnectionPool(host='nominatim.openstreetmap.org', port=443): Read timed out. (read timeout=1)\"))\n",
      "No population data found, even after fallback.\n",
      "Getting POI density at (40.477700888968734, -74.2233597085876), radius=50m\n",
      "OSM query failed at radius 50m: No matching features. Check query location, tags, and log.\n",
      "OSM query failed at radius 100m: No matching features. Check query location, tags, and log.\n",
      "OSM query failed at radius 200m: No matching features. Check query location, tags, and log.\n",
      "OSM query failed at radius 400m: No matching features. Check query location, tags, and log.\n",
      "No POIs found after expansions. Falling back to nearest town/city center...\n",
      "Found osm poi 12\n",
      "Getting Four Square Count\n",
      "Getting media_income ...\n",
      "Fetch attempt failed at radius 200: No matching features. Check query location, tags, and log.\n",
      "Fetch attempt failed at radius 500: No matching features. Check query location, tags, and log.\n",
      "Fetch attempt failed at radius 1000: No matching features. Check query location, tags, and log.\n",
      "Fetch attempt failed at radius 2000: No matching features. Check query location, tags, and log.\n",
      "Town fallback failed: HTTPSConnectionPool(host='nominatim.openstreetmap.org', port=443): Max retries exceeded with url: /search?q=New+York&format=json&limit=1 (Caused by ReadTimeoutError(\"HTTPSConnectionPool(host='nominatim.openstreetmap.org', port=443): Read timed out. (read timeout=1)\"))\n"
     ]
    },
    {
     "data": {
      "application/vnd.jupyter.widget-view+json": {
       "model_id": "07504441e95845be8bfc49c8ccb9b989",
       "version_major": 2,
       "version_minor": 0
      },
      "text/plain": [
       "FloatProgress(value=0.0, layout=Layout(width='auto'), style=ProgressStyle(bar_color='black'))"
      ]
     },
     "metadata": {},
     "output_type": "display_data"
    },
    {
     "data": {
      "application/vnd.jupyter.widget-view+json": {
       "model_id": "878041ff3fb24a6aaa37b7c048dd5743",
       "version_major": 2,
       "version_minor": 0
      },
      "text/plain": [
       "FloatProgress(value=0.0, layout=Layout(width='auto'), style=ProgressStyle(bar_color='black'))"
      ]
     },
     "metadata": {},
     "output_type": "display_data"
    },
    {
     "data": {
      "application/vnd.jupyter.widget-view+json": {
       "model_id": "dab4adab41b84d90929c8f722585f415",
       "version_major": 2,
       "version_minor": 0
      },
      "text/plain": [
       "FloatProgress(value=0.0, layout=Layout(width='auto'), style=ProgressStyle(bar_color='black'))"
      ]
     },
     "metadata": {},
     "output_type": "display_data"
    },
    {
     "data": {
      "application/vnd.jupyter.widget-view+json": {
       "model_id": "dab1a52d780c475b9a8a6e5b4de92e4b",
       "version_major": 2,
       "version_minor": 0
      },
      "text/plain": [
       "FloatProgress(value=0.0, layout=Layout(width='auto'), style=ProgressStyle(bar_color='black'))"
      ]
     },
     "metadata": {},
     "output_type": "display_data"
    },
    {
     "data": {
      "application/vnd.jupyter.widget-view+json": {
       "model_id": "a54a3bec31604f7e81297684abc167df",
       "version_major": 2,
       "version_minor": 0
      },
      "text/plain": [
       "FloatProgress(value=0.0, layout=Layout(width='auto'), style=ProgressStyle(bar_color='black'))"
      ]
     },
     "metadata": {},
     "output_type": "display_data"
    },
    {
     "data": {
      "application/vnd.jupyter.widget-view+json": {
       "model_id": "5d0263f36d4d498db963ef89622e18aa",
       "version_major": 2,
       "version_minor": 0
      },
      "text/plain": [
       "FloatProgress(value=0.0, layout=Layout(width='auto'), style=ProgressStyle(bar_color='black'))"
      ]
     },
     "metadata": {},
     "output_type": "display_data"
    },
    {
     "data": {
      "application/vnd.jupyter.widget-view+json": {
       "model_id": "0055d40d50fe4d4dbc95df1f8389bebe",
       "version_major": 2,
       "version_minor": 0
      },
      "text/plain": [
       "FloatProgress(value=0.0, layout=Layout(width='auto'), style=ProgressStyle(bar_color='black'))"
      ]
     },
     "metadata": {},
     "output_type": "display_data"
    },
    {
     "data": {
      "application/vnd.jupyter.widget-view+json": {
       "model_id": "0542c79e280e47efbe839cdd99d04548",
       "version_major": 2,
       "version_minor": 0
      },
      "text/plain": [
       "FloatProgress(value=0.0, layout=Layout(width='auto'), style=ProgressStyle(bar_color='black'))"
      ]
     },
     "metadata": {},
     "output_type": "display_data"
    },
    {
     "name": "stdout",
     "output_type": "stream",
     "text": [
      "Town fallback failed: HTTPSConnectionPool(host='nominatim.openstreetmap.org', port=443): Max retries exceeded with url: /search?q=New+York&format=json&limit=1 (Caused by ReadTimeoutError(\"HTTPSConnectionPool(host='nominatim.openstreetmap.org', port=443): Read timed out. (read timeout=1)\"))\n",
      "Category osm: Unknown, fsq: Unknown\n"
     ]
    },
    {
     "data": {
      "application/vnd.jupyter.widget-view+json": {
       "model_id": "6379b21a6cb9444caded03ff32f87baf",
       "version_major": 2,
       "version_minor": 0
      },
      "text/plain": [
       "FloatProgress(value=0.0, layout=Layout(width='auto'), style=ProgressStyle(bar_color='black'))"
      ]
     },
     "metadata": {},
     "output_type": "display_data"
    },
    {
     "data": {
      "application/vnd.jupyter.widget-view+json": {
       "model_id": "f71075b70ca647b481f75090ed2cedd5",
       "version_major": 2,
       "version_minor": 0
      },
      "text/plain": [
       "FloatProgress(value=0.0, layout=Layout(width='auto'), style=ProgressStyle(bar_color='black'))"
      ]
     },
     "metadata": {},
     "output_type": "display_data"
    },
    {
     "name": "stdout",
     "output_type": "stream",
     "text": [
      "Fetch attempt failed at radius 500: KeyboardInterrupt: <EMPTY MESSAGE>\n",
      "\n",
      "At:\n",
      "  /Users/rckyi/miniforge3/envs/gpu_py311/lib/python3.11/site-packages/traitlets/traitlets.py(708): __set__\n",
      "  /var/folders/_3/m6srhcs95fjf3ng4s8q9tj6h0000gn/T/ipykernel_24493/320093576.py(23): _fetch_foursquare_category\n",
      "  /var/folders/_3/m6srhcs95fjf3ng4s8q9tj6h0000gn/T/ipykernel_24493/4195389023.py(10): category_with_fallback\n",
      "  /var/folders/_3/m6srhcs95fjf3ng4s8q9tj6h0000gn/T/ipykernel_24493/1596386166.py(2): get_foursquare_category\n",
      "  /var/folders/_3/m6srhcs95fjf3ng4s8q9tj6h0000gn/T/ipykernel_24493/3631865671.py(23): build_features_for_location\n",
      "  /var/folders/_3/m6srhcs95fjf3ng4s8q9tj6h0000gn/T/ipykernel_24493/13183093.py(5): <module>\n",
      "  /Users/rckyi/miniforge3/envs/gpu_py311/lib/python3.11/site-packages/IPython/core/interactiveshell.py(3670): run_code\n",
      "  /Users/rckyi/miniforge3/envs/gpu_py311/lib/python3.11/site-packages/IPython/core/interactiveshell.py(3610): run_ast_nodes\n",
      "  /Users/rckyi/miniforge3/envs/gpu_py311/lib/python3.11/site-packages/IPython/core/interactiveshell.py(3365): run_cell_async\n",
      "  /Users/rckyi/miniforge3/envs/gpu_py311/lib/python3.11/site-packages/IPython/core/async_helpers.py(128): _pseudo_sync_runner\n",
      "  /Users/rckyi/miniforge3/envs/gpu_py311/lib/python3.11/site-packages/IPython/core/interactiveshell.py(3153): _run_cell\n",
      "  /Users/rckyi/miniforge3/envs/gpu_py311/lib/python3.11/site-packages/IPython/core/interactiveshell.py(3098): run_cell\n",
      "  /Users/rckyi/miniforge3/envs/gpu_py311/lib/python3.11/site-packages/ipykernel/zmqshell.py(549): run_cell\n",
      "  /Users/rckyi/miniforge3/envs/gpu_py311/lib/python3.11/site-packages/ipykernel/ipkernel.py(449): do_execute\n",
      "  /Users/rckyi/miniforge3/envs/gpu_py311/lib/python3.11/site-packages/ipykernel/kernelbase.py(778): execute_request\n",
      "  /Users/rckyi/miniforge3/envs/gpu_py311/lib/python3.11/site-packages/ipykernel/ipkernel.py(362): execute_request\n",
      "  /Users/rckyi/miniforge3/envs/gpu_py311/lib/python3.11/site-packages/ipykernel/kernelbase.py(437): dispatch_shell\n",
      "  /Users/rckyi/miniforge3/envs/gpu_py311/lib/python3.11/site-packages/ipykernel/kernelbase.py(534): process_one\n",
      "  /Users/rckyi/miniforge3/envs/gpu_py311/lib/python3.11/site-packages/ipykernel/kernelbase.py(545): dispatch_queue\n",
      "  /Users/rckyi/miniforge3/envs/gpu_py311/lib/python3.11/asyncio/events.py(84): _run\n",
      "  /Users/rckyi/miniforge3/envs/gpu_py311/lib/python3.11/asyncio/base_events.py(1936): _run_once\n",
      "  /Users/rckyi/miniforge3/envs/gpu_py311/lib/python3.11/asyncio/base_events.py(608): run_forever\n",
      "  /Users/rckyi/miniforge3/envs/gpu_py311/lib/python3.11/site-packages/tornado/platform/asyncio.py(211): start\n",
      "  /Users/rckyi/miniforge3/envs/gpu_py311/lib/python3.11/site-packages/ipykernel/kernelapp.py(739): start\n",
      "  /Users/rckyi/miniforge3/envs/gpu_py311/lib/python3.11/site-packages/traitlets/config/application.py(1075): launch_instance\n",
      "  /Users/rckyi/miniforge3/envs/gpu_py311/lib/python3.11/site-packages/ipykernel_launcher.py(18): <module>\n",
      "  <frozen runpy>(88): _run_code\n",
      "  <frozen runpy>(198): _run_module_as_main\n",
      "\n"
     ]
    },
    {
     "data": {
      "application/vnd.jupyter.widget-view+json": {
       "model_id": "55cb80356c3d4358a90da0ec28a41b07",
       "version_major": 2,
       "version_minor": 0
      },
      "text/plain": [
       "FloatProgress(value=0.0, layout=Layout(width='auto'), style=ProgressStyle(bar_color='black'))"
      ]
     },
     "metadata": {},
     "output_type": "display_data"
    },
    {
     "data": {
      "application/vnd.jupyter.widget-view+json": {
       "model_id": "5cde63d8ef9b4aafb7f454fbe66cb564",
       "version_major": 2,
       "version_minor": 0
      },
      "text/plain": [
       "FloatProgress(value=0.0, layout=Layout(width='auto'), style=ProgressStyle(bar_color='black'))"
      ]
     },
     "metadata": {},
     "output_type": "display_data"
    },
    {
     "name": "stdout",
     "output_type": "stream",
     "text": [
      "Town fallback failed: HTTPSConnectionPool(host='nominatim.openstreetmap.org', port=443): Max retries exceeded with url: /search?q=New+York&format=json&limit=1 (Caused by ReadTimeoutError(\"HTTPSConnectionPool(host='nominatim.openstreetmap.org', port=443): Read timed out. (read timeout=1)\"))\n",
      "Fetch attempt failed at radius 200: No matching features. Check query location, tags, and log.\n",
      "Fetch attempt failed at radius 500: No matching features. Check query location, tags, and log.\n",
      "Fetch attempt failed at radius 1000: No matching features. Check query location, tags, and log.\n",
      "Fetch attempt failed at radius 2000: No matching features. Check query location, tags, and log.\n",
      "Getting population density at (40.477700888968734, -74.22268597520635), radius=50m\n",
      "No population data at radius 50m, expanding search...\n",
      "No population data at radius 100m, expanding search...\n",
      "No population data at radius 200m, expanding search...\n",
      "No population data at radius 400m, expanding search...\n",
      "No population found after expansions. Falling back to nearest town/city center...\n",
      "No population data found, even after fallback.\n",
      "Getting POI density at (40.477700888968734, -74.22268597520635), radius=50m\n",
      "OSM query failed at radius 50m: No matching features. Check query location, tags, and log.\n",
      "OSM query failed at radius 100m: No matching features. Check query location, tags, and log.\n",
      "OSM query failed at radius 200m: No matching features. Check query location, tags, and log.\n",
      "OSM query failed at radius 400m: No matching features. Check query location, tags, and log.\n",
      "No POIs found after expansions. Falling back to nearest town/city center...\n"
     ]
    },
    {
     "ename": "KeyboardInterrupt",
     "evalue": "",
     "output_type": "error",
     "traceback": [
      "\u001b[31m---------------------------------------------------------------------------\u001b[39m",
      "\u001b[31mKeyboardInterrupt\u001b[39m                         Traceback (most recent call last)",
      "\u001b[36mCell\u001b[39m\u001b[36m \u001b[39m\u001b[32mIn[23]\u001b[39m\u001b[32m, line 5\u001b[39m\n\u001b[32m      2\u001b[39m cnt_ = \u001b[32m0\u001b[39m\n\u001b[32m      3\u001b[39m \u001b[38;5;28;01mfor\u001b[39;00m lat, lon \u001b[38;5;129;01min\u001b[39;00m candidates:\n\u001b[32m      4\u001b[39m     \u001b[38;5;66;03m# print(f'cnt_ {cnt_}')\u001b[39;00m\n\u001b[32m----> \u001b[39m\u001b[32m5\u001b[39m     X_df = \u001b[43mbuild_features_for_location\u001b[49m\u001b[43m(\u001b[49m\u001b[43mlat\u001b[49m\u001b[43m,\u001b[49m\u001b[43m \u001b[49m\u001b[43mlon\u001b[49m\u001b[43m,\u001b[49m\u001b[43m \u001b[49m\u001b[43mradius_m\u001b[49m\u001b[43m,\u001b[49m\u001b[43m \u001b[49m\u001b[43mcr\u001b[49m\u001b[43m)\u001b[49m\n\u001b[32m      6\u001b[39m     \u001b[38;5;66;03m# Aggregate neighborhood features (mean as example)\u001b[39;00m\n\u001b[32m      7\u001b[39m     agg = X_df.mean(numeric_only=\u001b[38;5;28;01mTrue\u001b[39;00m).to_dict()\n",
      "\u001b[36mCell\u001b[39m\u001b[36m \u001b[39m\u001b[32mIn[19]\u001b[39m\u001b[32m, line 8\u001b[39m, in \u001b[36mbuild_features_for_location\u001b[39m\u001b[34m(lat, lon, radius_m, cr)\u001b[39m\n\u001b[32m      6\u001b[39m \u001b[38;5;28;01mfor\u001b[39;00m (lat_i, lon_i) \u001b[38;5;129;01min\u001b[39;00m neighborhood_points:\n\u001b[32m      7\u001b[39m     pop = get_population_density_gee(lat_i, lon_i, cr)\n\u001b[32m----> \u001b[39m\u001b[32m8\u001b[39m     osm_poi = \u001b[43mget_osm_poi_density\u001b[49m\u001b[43m(\u001b[49m\u001b[43mlat_i\u001b[49m\u001b[43m,\u001b[49m\u001b[43m \u001b[49m\u001b[43mlon_i\u001b[49m\u001b[43m,\u001b[49m\u001b[43m \u001b[49m\u001b[43mcr\u001b[49m\u001b[43m)\u001b[49m\n\u001b[32m      9\u001b[39m     fsq_poi = get_fsq_count(lat_i, lon_i, cr)\n\u001b[32m     10\u001b[39m     \u001b[38;5;66;03m# print(f'pop, fsq_poi {pop} {fsq_poi}')\u001b[39;00m\n",
      "\u001b[36mCell\u001b[39m\u001b[36m \u001b[39m\u001b[32mIn[13]\u001b[39m\u001b[32m, line 62\u001b[39m, in \u001b[36mget_osm_poi_density\u001b[39m\u001b[34m(lat, lon, radius, max_expand, expand_factor)\u001b[39m\n\u001b[32m     60\u001b[39m \u001b[38;5;66;03m# Fallback to nearest city/town\u001b[39;00m\n\u001b[32m     61\u001b[39m \u001b[38;5;28mprint\u001b[39m(\u001b[33m\"\u001b[39m\u001b[33mNo POIs found after expansions. Falling back to nearest town/city center...\u001b[39m\u001b[33m\"\u001b[39m)\n\u001b[32m---> \u001b[39m\u001b[32m62\u001b[39m fallback_coords = \u001b[43mget_nearest_place_coords\u001b[49m\u001b[43m(\u001b[49m\u001b[43mlat\u001b[49m\u001b[43m,\u001b[49m\u001b[43m \u001b[49m\u001b[43mlon\u001b[49m\u001b[43m)\u001b[49m\n\u001b[32m     63\u001b[39m \u001b[38;5;28;01mif\u001b[39;00m fallback_coords:\n\u001b[32m     64\u001b[39m     \u001b[38;5;28;01mtry\u001b[39;00m:\n",
      "\u001b[36mCell\u001b[39m\u001b[36m \u001b[39m\u001b[32mIn[13]\u001b[39m\u001b[32m, line 23\u001b[39m, in \u001b[36mget_nearest_place_coords\u001b[39m\u001b[34m(lat, lon)\u001b[39m\n\u001b[32m     21\u001b[39m place = addr.get(\u001b[33m\"\u001b[39m\u001b[33mcity\u001b[39m\u001b[33m\"\u001b[39m) \u001b[38;5;129;01mor\u001b[39;00m addr.get(\u001b[33m\"\u001b[39m\u001b[33mtown\u001b[39m\u001b[33m\"\u001b[39m) \u001b[38;5;129;01mor\u001b[39;00m addr.get(\u001b[33m\"\u001b[39m\u001b[33mvillage\u001b[39m\u001b[33m\"\u001b[39m)\n\u001b[32m     22\u001b[39m \u001b[38;5;28;01mif\u001b[39;00m place:\n\u001b[32m---> \u001b[39m\u001b[32m23\u001b[39m     place_loc = \u001b[43mgeolocator\u001b[49m\u001b[43m.\u001b[49m\u001b[43mgeocode\u001b[49m\u001b[43m(\u001b[49m\u001b[43mplace\u001b[49m\u001b[43m)\u001b[49m\n\u001b[32m     24\u001b[39m     \u001b[38;5;28;01mif\u001b[39;00m place_loc:\n\u001b[32m     25\u001b[39m         \u001b[38;5;28;01mreturn\u001b[39;00m (place_loc.latitude, place_loc.longitude)\n",
      "\u001b[36mFile \u001b[39m\u001b[32m~/miniforge3/envs/gpu_py311/lib/python3.11/site-packages/geopy/geocoders/nominatim.py:297\u001b[39m, in \u001b[36mNominatim.geocode\u001b[39m\u001b[34m(self, query, exactly_one, timeout, limit, addressdetails, language, geometry, extratags, country_codes, viewbox, bounded, featuretype, namedetails)\u001b[39m\n\u001b[32m    295\u001b[39m logger.debug(\u001b[33m\"\u001b[39m\u001b[38;5;132;01m%s\u001b[39;00m\u001b[33m.geocode: \u001b[39m\u001b[38;5;132;01m%s\u001b[39;00m\u001b[33m\"\u001b[39m, \u001b[38;5;28mself\u001b[39m.\u001b[34m__class__\u001b[39m.\u001b[34m__name__\u001b[39m, url)\n\u001b[32m    296\u001b[39m callback = partial(\u001b[38;5;28mself\u001b[39m._parse_json, exactly_one=exactly_one)\n\u001b[32m--> \u001b[39m\u001b[32m297\u001b[39m \u001b[38;5;28;01mreturn\u001b[39;00m \u001b[38;5;28;43mself\u001b[39;49m\u001b[43m.\u001b[49m\u001b[43m_call_geocoder\u001b[49m\u001b[43m(\u001b[49m\u001b[43murl\u001b[49m\u001b[43m,\u001b[49m\u001b[43m \u001b[49m\u001b[43mcallback\u001b[49m\u001b[43m,\u001b[49m\u001b[43m \u001b[49m\u001b[43mtimeout\u001b[49m\u001b[43m=\u001b[49m\u001b[43mtimeout\u001b[49m\u001b[43m)\u001b[49m\n",
      "\u001b[36mFile \u001b[39m\u001b[32m~/miniforge3/envs/gpu_py311/lib/python3.11/site-packages/geopy/geocoders/base.py:368\u001b[39m, in \u001b[36mGeocoder._call_geocoder\u001b[39m\u001b[34m(self, url, callback, timeout, is_json, headers)\u001b[39m\n\u001b[32m    366\u001b[39m \u001b[38;5;28;01mtry\u001b[39;00m:\n\u001b[32m    367\u001b[39m     \u001b[38;5;28;01mif\u001b[39;00m is_json:\n\u001b[32m--> \u001b[39m\u001b[32m368\u001b[39m         result = \u001b[38;5;28;43mself\u001b[39;49m\u001b[43m.\u001b[49m\u001b[43madapter\u001b[49m\u001b[43m.\u001b[49m\u001b[43mget_json\u001b[49m\u001b[43m(\u001b[49m\u001b[43murl\u001b[49m\u001b[43m,\u001b[49m\u001b[43m \u001b[49m\u001b[43mtimeout\u001b[49m\u001b[43m=\u001b[49m\u001b[43mtimeout\u001b[49m\u001b[43m,\u001b[49m\u001b[43m \u001b[49m\u001b[43mheaders\u001b[49m\u001b[43m=\u001b[49m\u001b[43mreq_headers\u001b[49m\u001b[43m)\u001b[49m\n\u001b[32m    369\u001b[39m     \u001b[38;5;28;01melse\u001b[39;00m:\n\u001b[32m    370\u001b[39m         result = \u001b[38;5;28mself\u001b[39m.adapter.get_text(url, timeout=timeout, headers=req_headers)\n",
      "\u001b[36mFile \u001b[39m\u001b[32m~/miniforge3/envs/gpu_py311/lib/python3.11/site-packages/geopy/adapters.py:472\u001b[39m, in \u001b[36mRequestsAdapter.get_json\u001b[39m\u001b[34m(self, url, timeout, headers)\u001b[39m\n\u001b[32m    471\u001b[39m \u001b[38;5;28;01mdef\u001b[39;00m\u001b[38;5;250m \u001b[39m\u001b[34mget_json\u001b[39m(\u001b[38;5;28mself\u001b[39m, url, *, timeout, headers):\n\u001b[32m--> \u001b[39m\u001b[32m472\u001b[39m     resp = \u001b[38;5;28;43mself\u001b[39;49m\u001b[43m.\u001b[49m\u001b[43m_request\u001b[49m\u001b[43m(\u001b[49m\u001b[43murl\u001b[49m\u001b[43m,\u001b[49m\u001b[43m \u001b[49m\u001b[43mtimeout\u001b[49m\u001b[43m=\u001b[49m\u001b[43mtimeout\u001b[49m\u001b[43m,\u001b[49m\u001b[43m \u001b[49m\u001b[43mheaders\u001b[49m\u001b[43m=\u001b[49m\u001b[43mheaders\u001b[49m\u001b[43m)\u001b[49m\n\u001b[32m    473\u001b[39m     \u001b[38;5;28;01mtry\u001b[39;00m:\n\u001b[32m    474\u001b[39m         \u001b[38;5;28;01mreturn\u001b[39;00m resp.json()\n",
      "\u001b[36mFile \u001b[39m\u001b[32m~/miniforge3/envs/gpu_py311/lib/python3.11/site-packages/geopy/adapters.py:482\u001b[39m, in \u001b[36mRequestsAdapter._request\u001b[39m\u001b[34m(self, url, timeout, headers)\u001b[39m\n\u001b[32m    480\u001b[39m \u001b[38;5;28;01mdef\u001b[39;00m\u001b[38;5;250m \u001b[39m\u001b[34m_request\u001b[39m(\u001b[38;5;28mself\u001b[39m, url, *, timeout, headers):\n\u001b[32m    481\u001b[39m     \u001b[38;5;28;01mtry\u001b[39;00m:\n\u001b[32m--> \u001b[39m\u001b[32m482\u001b[39m         resp = \u001b[38;5;28;43mself\u001b[39;49m\u001b[43m.\u001b[49m\u001b[43msession\u001b[49m\u001b[43m.\u001b[49m\u001b[43mget\u001b[49m\u001b[43m(\u001b[49m\u001b[43murl\u001b[49m\u001b[43m,\u001b[49m\u001b[43m \u001b[49m\u001b[43mtimeout\u001b[49m\u001b[43m=\u001b[49m\u001b[43mtimeout\u001b[49m\u001b[43m,\u001b[49m\u001b[43m \u001b[49m\u001b[43mheaders\u001b[49m\u001b[43m=\u001b[49m\u001b[43mheaders\u001b[49m\u001b[43m)\u001b[49m\n\u001b[32m    483\u001b[39m     \u001b[38;5;28;01mexcept\u001b[39;00m \u001b[38;5;167;01mException\u001b[39;00m \u001b[38;5;28;01mas\u001b[39;00m error:\n\u001b[32m    484\u001b[39m         message = \u001b[38;5;28mstr\u001b[39m(error)\n",
      "\u001b[36mFile \u001b[39m\u001b[32m~/miniforge3/envs/gpu_py311/lib/python3.11/site-packages/requests/sessions.py:602\u001b[39m, in \u001b[36mSession.get\u001b[39m\u001b[34m(self, url, **kwargs)\u001b[39m\n\u001b[32m    594\u001b[39m \u001b[38;5;250m\u001b[39m\u001b[33mr\u001b[39m\u001b[33;03m\"\"\"Sends a GET request. Returns :class:`Response` object.\u001b[39;00m\n\u001b[32m    595\u001b[39m \n\u001b[32m    596\u001b[39m \u001b[33;03m:param url: URL for the new :class:`Request` object.\u001b[39;00m\n\u001b[32m    597\u001b[39m \u001b[33;03m:param \\*\\*kwargs: Optional arguments that ``request`` takes.\u001b[39;00m\n\u001b[32m    598\u001b[39m \u001b[33;03m:rtype: requests.Response\u001b[39;00m\n\u001b[32m    599\u001b[39m \u001b[33;03m\"\"\"\u001b[39;00m\n\u001b[32m    601\u001b[39m kwargs.setdefault(\u001b[33m\"\u001b[39m\u001b[33mallow_redirects\u001b[39m\u001b[33m\"\u001b[39m, \u001b[38;5;28;01mTrue\u001b[39;00m)\n\u001b[32m--> \u001b[39m\u001b[32m602\u001b[39m \u001b[38;5;28;01mreturn\u001b[39;00m \u001b[38;5;28;43mself\u001b[39;49m\u001b[43m.\u001b[49m\u001b[43mrequest\u001b[49m\u001b[43m(\u001b[49m\u001b[33;43m\"\u001b[39;49m\u001b[33;43mGET\u001b[39;49m\u001b[33;43m\"\u001b[39;49m\u001b[43m,\u001b[49m\u001b[43m \u001b[49m\u001b[43murl\u001b[49m\u001b[43m,\u001b[49m\u001b[43m \u001b[49m\u001b[43m*\u001b[49m\u001b[43m*\u001b[49m\u001b[43mkwargs\u001b[49m\u001b[43m)\u001b[49m\n",
      "\u001b[36mFile \u001b[39m\u001b[32m~/miniforge3/envs/gpu_py311/lib/python3.11/site-packages/requests/sessions.py:589\u001b[39m, in \u001b[36mSession.request\u001b[39m\u001b[34m(self, method, url, params, data, headers, cookies, files, auth, timeout, allow_redirects, proxies, hooks, stream, verify, cert, json)\u001b[39m\n\u001b[32m    584\u001b[39m send_kwargs = {\n\u001b[32m    585\u001b[39m     \u001b[33m\"\u001b[39m\u001b[33mtimeout\u001b[39m\u001b[33m\"\u001b[39m: timeout,\n\u001b[32m    586\u001b[39m     \u001b[33m\"\u001b[39m\u001b[33mallow_redirects\u001b[39m\u001b[33m\"\u001b[39m: allow_redirects,\n\u001b[32m    587\u001b[39m }\n\u001b[32m    588\u001b[39m send_kwargs.update(settings)\n\u001b[32m--> \u001b[39m\u001b[32m589\u001b[39m resp = \u001b[38;5;28;43mself\u001b[39;49m\u001b[43m.\u001b[49m\u001b[43msend\u001b[49m\u001b[43m(\u001b[49m\u001b[43mprep\u001b[49m\u001b[43m,\u001b[49m\u001b[43m \u001b[49m\u001b[43m*\u001b[49m\u001b[43m*\u001b[49m\u001b[43msend_kwargs\u001b[49m\u001b[43m)\u001b[49m\n\u001b[32m    591\u001b[39m \u001b[38;5;28;01mreturn\u001b[39;00m resp\n",
      "\u001b[36mFile \u001b[39m\u001b[32m~/miniforge3/envs/gpu_py311/lib/python3.11/site-packages/requests/sessions.py:703\u001b[39m, in \u001b[36mSession.send\u001b[39m\u001b[34m(self, request, **kwargs)\u001b[39m\n\u001b[32m    700\u001b[39m start = preferred_clock()\n\u001b[32m    702\u001b[39m \u001b[38;5;66;03m# Send the request\u001b[39;00m\n\u001b[32m--> \u001b[39m\u001b[32m703\u001b[39m r = \u001b[43madapter\u001b[49m\u001b[43m.\u001b[49m\u001b[43msend\u001b[49m\u001b[43m(\u001b[49m\u001b[43mrequest\u001b[49m\u001b[43m,\u001b[49m\u001b[43m \u001b[49m\u001b[43m*\u001b[49m\u001b[43m*\u001b[49m\u001b[43mkwargs\u001b[49m\u001b[43m)\u001b[49m\n\u001b[32m    705\u001b[39m \u001b[38;5;66;03m# Total elapsed time of the request (approximately)\u001b[39;00m\n\u001b[32m    706\u001b[39m elapsed = preferred_clock() - start\n",
      "\u001b[36mFile \u001b[39m\u001b[32m~/miniforge3/envs/gpu_py311/lib/python3.11/site-packages/requests/adapters.py:667\u001b[39m, in \u001b[36mHTTPAdapter.send\u001b[39m\u001b[34m(self, request, stream, timeout, verify, cert, proxies)\u001b[39m\n\u001b[32m    664\u001b[39m     timeout = TimeoutSauce(connect=timeout, read=timeout)\n\u001b[32m    666\u001b[39m \u001b[38;5;28;01mtry\u001b[39;00m:\n\u001b[32m--> \u001b[39m\u001b[32m667\u001b[39m     resp = \u001b[43mconn\u001b[49m\u001b[43m.\u001b[49m\u001b[43murlopen\u001b[49m\u001b[43m(\u001b[49m\n\u001b[32m    668\u001b[39m \u001b[43m        \u001b[49m\u001b[43mmethod\u001b[49m\u001b[43m=\u001b[49m\u001b[43mrequest\u001b[49m\u001b[43m.\u001b[49m\u001b[43mmethod\u001b[49m\u001b[43m,\u001b[49m\n\u001b[32m    669\u001b[39m \u001b[43m        \u001b[49m\u001b[43murl\u001b[49m\u001b[43m=\u001b[49m\u001b[43murl\u001b[49m\u001b[43m,\u001b[49m\n\u001b[32m    670\u001b[39m \u001b[43m        \u001b[49m\u001b[43mbody\u001b[49m\u001b[43m=\u001b[49m\u001b[43mrequest\u001b[49m\u001b[43m.\u001b[49m\u001b[43mbody\u001b[49m\u001b[43m,\u001b[49m\n\u001b[32m    671\u001b[39m \u001b[43m        \u001b[49m\u001b[43mheaders\u001b[49m\u001b[43m=\u001b[49m\u001b[43mrequest\u001b[49m\u001b[43m.\u001b[49m\u001b[43mheaders\u001b[49m\u001b[43m,\u001b[49m\n\u001b[32m    672\u001b[39m \u001b[43m        \u001b[49m\u001b[43mredirect\u001b[49m\u001b[43m=\u001b[49m\u001b[38;5;28;43;01mFalse\u001b[39;49;00m\u001b[43m,\u001b[49m\n\u001b[32m    673\u001b[39m \u001b[43m        \u001b[49m\u001b[43massert_same_host\u001b[49m\u001b[43m=\u001b[49m\u001b[38;5;28;43;01mFalse\u001b[39;49;00m\u001b[43m,\u001b[49m\n\u001b[32m    674\u001b[39m \u001b[43m        \u001b[49m\u001b[43mpreload_content\u001b[49m\u001b[43m=\u001b[49m\u001b[38;5;28;43;01mFalse\u001b[39;49;00m\u001b[43m,\u001b[49m\n\u001b[32m    675\u001b[39m \u001b[43m        \u001b[49m\u001b[43mdecode_content\u001b[49m\u001b[43m=\u001b[49m\u001b[38;5;28;43;01mFalse\u001b[39;49;00m\u001b[43m,\u001b[49m\n\u001b[32m    676\u001b[39m \u001b[43m        \u001b[49m\u001b[43mretries\u001b[49m\u001b[43m=\u001b[49m\u001b[38;5;28;43mself\u001b[39;49m\u001b[43m.\u001b[49m\u001b[43mmax_retries\u001b[49m\u001b[43m,\u001b[49m\n\u001b[32m    677\u001b[39m \u001b[43m        \u001b[49m\u001b[43mtimeout\u001b[49m\u001b[43m=\u001b[49m\u001b[43mtimeout\u001b[49m\u001b[43m,\u001b[49m\n\u001b[32m    678\u001b[39m \u001b[43m        \u001b[49m\u001b[43mchunked\u001b[49m\u001b[43m=\u001b[49m\u001b[43mchunked\u001b[49m\u001b[43m,\u001b[49m\n\u001b[32m    679\u001b[39m \u001b[43m    \u001b[49m\u001b[43m)\u001b[49m\n\u001b[32m    681\u001b[39m \u001b[38;5;28;01mexcept\u001b[39;00m (ProtocolError, \u001b[38;5;167;01mOSError\u001b[39;00m) \u001b[38;5;28;01mas\u001b[39;00m err:\n\u001b[32m    682\u001b[39m     \u001b[38;5;28;01mraise\u001b[39;00m \u001b[38;5;167;01mConnectionError\u001b[39;00m(err, request=request)\n",
      "\u001b[36mFile \u001b[39m\u001b[32m~/miniforge3/envs/gpu_py311/lib/python3.11/site-packages/urllib3/connectionpool.py:830\u001b[39m, in \u001b[36mHTTPConnectionPool.urlopen\u001b[39m\u001b[34m(self, method, url, body, headers, retries, redirect, assert_same_host, timeout, pool_timeout, release_conn, chunked, body_pos, **response_kw)\u001b[39m\n\u001b[32m    825\u001b[39m \u001b[38;5;28;01mif\u001b[39;00m \u001b[38;5;129;01mnot\u001b[39;00m conn:\n\u001b[32m    826\u001b[39m     \u001b[38;5;66;03m# Try again\u001b[39;00m\n\u001b[32m    827\u001b[39m     log.warning(\n\u001b[32m    828\u001b[39m         \u001b[33m\"\u001b[39m\u001b[33mRetrying (\u001b[39m\u001b[38;5;132;01m%r\u001b[39;00m\u001b[33m) after connection broken by \u001b[39m\u001b[33m'\u001b[39m\u001b[38;5;132;01m%r\u001b[39;00m\u001b[33m'\u001b[39m\u001b[33m: \u001b[39m\u001b[38;5;132;01m%s\u001b[39;00m\u001b[33m\"\u001b[39m, retries, err, url\n\u001b[32m    829\u001b[39m     )\n\u001b[32m--> \u001b[39m\u001b[32m830\u001b[39m     \u001b[38;5;28;01mreturn\u001b[39;00m \u001b[38;5;28;43mself\u001b[39;49m\u001b[43m.\u001b[49m\u001b[43murlopen\u001b[49m\u001b[43m(\u001b[49m\n\u001b[32m    831\u001b[39m \u001b[43m        \u001b[49m\u001b[43mmethod\u001b[49m\u001b[43m,\u001b[49m\n\u001b[32m    832\u001b[39m \u001b[43m        \u001b[49m\u001b[43murl\u001b[49m\u001b[43m,\u001b[49m\n\u001b[32m    833\u001b[39m \u001b[43m        \u001b[49m\u001b[43mbody\u001b[49m\u001b[43m,\u001b[49m\n\u001b[32m    834\u001b[39m \u001b[43m        \u001b[49m\u001b[43mheaders\u001b[49m\u001b[43m,\u001b[49m\n\u001b[32m    835\u001b[39m \u001b[43m        \u001b[49m\u001b[43mretries\u001b[49m\u001b[43m,\u001b[49m\n\u001b[32m    836\u001b[39m \u001b[43m        \u001b[49m\u001b[43mredirect\u001b[49m\u001b[43m,\u001b[49m\n\u001b[32m    837\u001b[39m \u001b[43m        \u001b[49m\u001b[43massert_same_host\u001b[49m\u001b[43m,\u001b[49m\n\u001b[32m    838\u001b[39m \u001b[43m        \u001b[49m\u001b[43mtimeout\u001b[49m\u001b[43m=\u001b[49m\u001b[43mtimeout\u001b[49m\u001b[43m,\u001b[49m\n\u001b[32m    839\u001b[39m \u001b[43m        \u001b[49m\u001b[43mpool_timeout\u001b[49m\u001b[43m=\u001b[49m\u001b[43mpool_timeout\u001b[49m\u001b[43m,\u001b[49m\n\u001b[32m    840\u001b[39m \u001b[43m        \u001b[49m\u001b[43mrelease_conn\u001b[49m\u001b[43m=\u001b[49m\u001b[43mrelease_conn\u001b[49m\u001b[43m,\u001b[49m\n\u001b[32m    841\u001b[39m \u001b[43m        \u001b[49m\u001b[43mchunked\u001b[49m\u001b[43m=\u001b[49m\u001b[43mchunked\u001b[49m\u001b[43m,\u001b[49m\n\u001b[32m    842\u001b[39m \u001b[43m        \u001b[49m\u001b[43mbody_pos\u001b[49m\u001b[43m=\u001b[49m\u001b[43mbody_pos\u001b[49m\u001b[43m,\u001b[49m\n\u001b[32m    843\u001b[39m \u001b[43m        \u001b[49m\u001b[43m*\u001b[49m\u001b[43m*\u001b[49m\u001b[43mresponse_kw\u001b[49m\n\u001b[32m    844\u001b[39m \u001b[43m    \u001b[49m\u001b[43m)\u001b[49m\n\u001b[32m    846\u001b[39m \u001b[38;5;66;03m# Handle redirect?\u001b[39;00m\n\u001b[32m    847\u001b[39m redirect_location = redirect \u001b[38;5;129;01mand\u001b[39;00m response.get_redirect_location()\n",
      "\u001b[36mFile \u001b[39m\u001b[32m~/miniforge3/envs/gpu_py311/lib/python3.11/site-packages/urllib3/connectionpool.py:830\u001b[39m, in \u001b[36mHTTPConnectionPool.urlopen\u001b[39m\u001b[34m(self, method, url, body, headers, retries, redirect, assert_same_host, timeout, pool_timeout, release_conn, chunked, body_pos, **response_kw)\u001b[39m\n\u001b[32m    825\u001b[39m \u001b[38;5;28;01mif\u001b[39;00m \u001b[38;5;129;01mnot\u001b[39;00m conn:\n\u001b[32m    826\u001b[39m     \u001b[38;5;66;03m# Try again\u001b[39;00m\n\u001b[32m    827\u001b[39m     log.warning(\n\u001b[32m    828\u001b[39m         \u001b[33m\"\u001b[39m\u001b[33mRetrying (\u001b[39m\u001b[38;5;132;01m%r\u001b[39;00m\u001b[33m) after connection broken by \u001b[39m\u001b[33m'\u001b[39m\u001b[38;5;132;01m%r\u001b[39;00m\u001b[33m'\u001b[39m\u001b[33m: \u001b[39m\u001b[38;5;132;01m%s\u001b[39;00m\u001b[33m\"\u001b[39m, retries, err, url\n\u001b[32m    829\u001b[39m     )\n\u001b[32m--> \u001b[39m\u001b[32m830\u001b[39m     \u001b[38;5;28;01mreturn\u001b[39;00m \u001b[38;5;28;43mself\u001b[39;49m\u001b[43m.\u001b[49m\u001b[43murlopen\u001b[49m\u001b[43m(\u001b[49m\n\u001b[32m    831\u001b[39m \u001b[43m        \u001b[49m\u001b[43mmethod\u001b[49m\u001b[43m,\u001b[49m\n\u001b[32m    832\u001b[39m \u001b[43m        \u001b[49m\u001b[43murl\u001b[49m\u001b[43m,\u001b[49m\n\u001b[32m    833\u001b[39m \u001b[43m        \u001b[49m\u001b[43mbody\u001b[49m\u001b[43m,\u001b[49m\n\u001b[32m    834\u001b[39m \u001b[43m        \u001b[49m\u001b[43mheaders\u001b[49m\u001b[43m,\u001b[49m\n\u001b[32m    835\u001b[39m \u001b[43m        \u001b[49m\u001b[43mretries\u001b[49m\u001b[43m,\u001b[49m\n\u001b[32m    836\u001b[39m \u001b[43m        \u001b[49m\u001b[43mredirect\u001b[49m\u001b[43m,\u001b[49m\n\u001b[32m    837\u001b[39m \u001b[43m        \u001b[49m\u001b[43massert_same_host\u001b[49m\u001b[43m,\u001b[49m\n\u001b[32m    838\u001b[39m \u001b[43m        \u001b[49m\u001b[43mtimeout\u001b[49m\u001b[43m=\u001b[49m\u001b[43mtimeout\u001b[49m\u001b[43m,\u001b[49m\n\u001b[32m    839\u001b[39m \u001b[43m        \u001b[49m\u001b[43mpool_timeout\u001b[49m\u001b[43m=\u001b[49m\u001b[43mpool_timeout\u001b[49m\u001b[43m,\u001b[49m\n\u001b[32m    840\u001b[39m \u001b[43m        \u001b[49m\u001b[43mrelease_conn\u001b[49m\u001b[43m=\u001b[49m\u001b[43mrelease_conn\u001b[49m\u001b[43m,\u001b[49m\n\u001b[32m    841\u001b[39m \u001b[43m        \u001b[49m\u001b[43mchunked\u001b[49m\u001b[43m=\u001b[49m\u001b[43mchunked\u001b[49m\u001b[43m,\u001b[49m\n\u001b[32m    842\u001b[39m \u001b[43m        \u001b[49m\u001b[43mbody_pos\u001b[49m\u001b[43m=\u001b[49m\u001b[43mbody_pos\u001b[49m\u001b[43m,\u001b[49m\n\u001b[32m    843\u001b[39m \u001b[43m        \u001b[49m\u001b[43m*\u001b[49m\u001b[43m*\u001b[49m\u001b[43mresponse_kw\u001b[49m\n\u001b[32m    844\u001b[39m \u001b[43m    \u001b[49m\u001b[43m)\u001b[49m\n\u001b[32m    846\u001b[39m \u001b[38;5;66;03m# Handle redirect?\u001b[39;00m\n\u001b[32m    847\u001b[39m redirect_location = redirect \u001b[38;5;129;01mand\u001b[39;00m response.get_redirect_location()\n",
      "\u001b[36mFile \u001b[39m\u001b[32m~/miniforge3/envs/gpu_py311/lib/python3.11/site-packages/urllib3/connectionpool.py:716\u001b[39m, in \u001b[36mHTTPConnectionPool.urlopen\u001b[39m\u001b[34m(self, method, url, body, headers, retries, redirect, assert_same_host, timeout, pool_timeout, release_conn, chunked, body_pos, **response_kw)\u001b[39m\n\u001b[32m    713\u001b[39m     \u001b[38;5;28mself\u001b[39m._prepare_proxy(conn)\n\u001b[32m    715\u001b[39m \u001b[38;5;66;03m# Make the request on the httplib connection object.\u001b[39;00m\n\u001b[32m--> \u001b[39m\u001b[32m716\u001b[39m httplib_response = \u001b[38;5;28;43mself\u001b[39;49m\u001b[43m.\u001b[49m\u001b[43m_make_request\u001b[49m\u001b[43m(\u001b[49m\n\u001b[32m    717\u001b[39m \u001b[43m    \u001b[49m\u001b[43mconn\u001b[49m\u001b[43m,\u001b[49m\n\u001b[32m    718\u001b[39m \u001b[43m    \u001b[49m\u001b[43mmethod\u001b[49m\u001b[43m,\u001b[49m\n\u001b[32m    719\u001b[39m \u001b[43m    \u001b[49m\u001b[43murl\u001b[49m\u001b[43m,\u001b[49m\n\u001b[32m    720\u001b[39m \u001b[43m    \u001b[49m\u001b[43mtimeout\u001b[49m\u001b[43m=\u001b[49m\u001b[43mtimeout_obj\u001b[49m\u001b[43m,\u001b[49m\n\u001b[32m    721\u001b[39m \u001b[43m    \u001b[49m\u001b[43mbody\u001b[49m\u001b[43m=\u001b[49m\u001b[43mbody\u001b[49m\u001b[43m,\u001b[49m\n\u001b[32m    722\u001b[39m \u001b[43m    \u001b[49m\u001b[43mheaders\u001b[49m\u001b[43m=\u001b[49m\u001b[43mheaders\u001b[49m\u001b[43m,\u001b[49m\n\u001b[32m    723\u001b[39m \u001b[43m    \u001b[49m\u001b[43mchunked\u001b[49m\u001b[43m=\u001b[49m\u001b[43mchunked\u001b[49m\u001b[43m,\u001b[49m\n\u001b[32m    724\u001b[39m \u001b[43m\u001b[49m\u001b[43m)\u001b[49m\n\u001b[32m    726\u001b[39m \u001b[38;5;66;03m# If we're going to release the connection in ``finally:``, then\u001b[39;00m\n\u001b[32m    727\u001b[39m \u001b[38;5;66;03m# the response doesn't need to know about the connection. Otherwise\u001b[39;00m\n\u001b[32m    728\u001b[39m \u001b[38;5;66;03m# it will also try to release it and we'll have a double-release\u001b[39;00m\n\u001b[32m    729\u001b[39m \u001b[38;5;66;03m# mess.\u001b[39;00m\n\u001b[32m    730\u001b[39m response_conn = conn \u001b[38;5;28;01mif\u001b[39;00m \u001b[38;5;129;01mnot\u001b[39;00m release_conn \u001b[38;5;28;01melse\u001b[39;00m \u001b[38;5;28;01mNone\u001b[39;00m\n",
      "\u001b[36mFile \u001b[39m\u001b[32m~/miniforge3/envs/gpu_py311/lib/python3.11/site-packages/urllib3/connectionpool.py:404\u001b[39m, in \u001b[36mHTTPConnectionPool._make_request\u001b[39m\u001b[34m(self, conn, method, url, timeout, chunked, **httplib_request_kw)\u001b[39m\n\u001b[32m    402\u001b[39m \u001b[38;5;66;03m# Trigger any extra validation we need to do.\u001b[39;00m\n\u001b[32m    403\u001b[39m \u001b[38;5;28;01mtry\u001b[39;00m:\n\u001b[32m--> \u001b[39m\u001b[32m404\u001b[39m     \u001b[38;5;28;43mself\u001b[39;49m\u001b[43m.\u001b[49m\u001b[43m_validate_conn\u001b[49m\u001b[43m(\u001b[49m\u001b[43mconn\u001b[49m\u001b[43m)\u001b[49m\n\u001b[32m    405\u001b[39m \u001b[38;5;28;01mexcept\u001b[39;00m (SocketTimeout, BaseSSLError) \u001b[38;5;28;01mas\u001b[39;00m e:\n\u001b[32m    406\u001b[39m     \u001b[38;5;66;03m# Py2 raises this as a BaseSSLError, Py3 raises it as socket timeout.\u001b[39;00m\n\u001b[32m    407\u001b[39m     \u001b[38;5;28mself\u001b[39m._raise_timeout(err=e, url=url, timeout_value=conn.timeout)\n",
      "\u001b[36mFile \u001b[39m\u001b[32m~/miniforge3/envs/gpu_py311/lib/python3.11/site-packages/urllib3/connectionpool.py:1061\u001b[39m, in \u001b[36mHTTPSConnectionPool._validate_conn\u001b[39m\u001b[34m(self, conn)\u001b[39m\n\u001b[32m   1059\u001b[39m \u001b[38;5;66;03m# Force connect early to allow us to validate the connection.\u001b[39;00m\n\u001b[32m   1060\u001b[39m \u001b[38;5;28;01mif\u001b[39;00m \u001b[38;5;129;01mnot\u001b[39;00m \u001b[38;5;28mgetattr\u001b[39m(conn, \u001b[33m\"\u001b[39m\u001b[33msock\u001b[39m\u001b[33m\"\u001b[39m, \u001b[38;5;28;01mNone\u001b[39;00m):  \u001b[38;5;66;03m# AppEngine might not have  `.sock`\u001b[39;00m\n\u001b[32m-> \u001b[39m\u001b[32m1061\u001b[39m     \u001b[43mconn\u001b[49m\u001b[43m.\u001b[49m\u001b[43mconnect\u001b[49m\u001b[43m(\u001b[49m\u001b[43m)\u001b[49m\n\u001b[32m   1063\u001b[39m \u001b[38;5;28;01mif\u001b[39;00m \u001b[38;5;129;01mnot\u001b[39;00m conn.is_verified:\n\u001b[32m   1064\u001b[39m     warnings.warn(\n\u001b[32m   1065\u001b[39m         (\n\u001b[32m   1066\u001b[39m             \u001b[33m\"\u001b[39m\u001b[33mUnverified HTTPS request is being made to host \u001b[39m\u001b[33m'\u001b[39m\u001b[38;5;132;01m%s\u001b[39;00m\u001b[33m'\u001b[39m\u001b[33m. \u001b[39m\u001b[33m\"\u001b[39m\n\u001b[32m   (...)\u001b[39m\u001b[32m   1071\u001b[39m         InsecureRequestWarning,\n\u001b[32m   1072\u001b[39m     )\n",
      "\u001b[36mFile \u001b[39m\u001b[32m~/miniforge3/envs/gpu_py311/lib/python3.11/site-packages/urllib3/connection.py:363\u001b[39m, in \u001b[36mHTTPSConnection.connect\u001b[39m\u001b[34m(self)\u001b[39m\n\u001b[32m    361\u001b[39m \u001b[38;5;28;01mdef\u001b[39;00m\u001b[38;5;250m \u001b[39m\u001b[34mconnect\u001b[39m(\u001b[38;5;28mself\u001b[39m):\n\u001b[32m    362\u001b[39m     \u001b[38;5;66;03m# Add certificate verification\u001b[39;00m\n\u001b[32m--> \u001b[39m\u001b[32m363\u001b[39m     \u001b[38;5;28mself\u001b[39m.sock = conn = \u001b[38;5;28;43mself\u001b[39;49m\u001b[43m.\u001b[49m\u001b[43m_new_conn\u001b[49m\u001b[43m(\u001b[49m\u001b[43m)\u001b[49m\n\u001b[32m    364\u001b[39m     hostname = \u001b[38;5;28mself\u001b[39m.host\n\u001b[32m    365\u001b[39m     tls_in_tls = \u001b[38;5;28;01mFalse\u001b[39;00m\n",
      "\u001b[36mFile \u001b[39m\u001b[32m~/miniforge3/envs/gpu_py311/lib/python3.11/site-packages/urllib3/connection.py:174\u001b[39m, in \u001b[36mHTTPConnection._new_conn\u001b[39m\u001b[34m(self)\u001b[39m\n\u001b[32m    171\u001b[39m     extra_kw[\u001b[33m\"\u001b[39m\u001b[33msocket_options\u001b[39m\u001b[33m\"\u001b[39m] = \u001b[38;5;28mself\u001b[39m.socket_options\n\u001b[32m    173\u001b[39m \u001b[38;5;28;01mtry\u001b[39;00m:\n\u001b[32m--> \u001b[39m\u001b[32m174\u001b[39m     conn = \u001b[43mconnection\u001b[49m\u001b[43m.\u001b[49m\u001b[43mcreate_connection\u001b[49m\u001b[43m(\u001b[49m\n\u001b[32m    175\u001b[39m \u001b[43m        \u001b[49m\u001b[43m(\u001b[49m\u001b[38;5;28;43mself\u001b[39;49m\u001b[43m.\u001b[49m\u001b[43m_dns_host\u001b[49m\u001b[43m,\u001b[49m\u001b[43m \u001b[49m\u001b[38;5;28;43mself\u001b[39;49m\u001b[43m.\u001b[49m\u001b[43mport\u001b[49m\u001b[43m)\u001b[49m\u001b[43m,\u001b[49m\u001b[43m \u001b[49m\u001b[38;5;28;43mself\u001b[39;49m\u001b[43m.\u001b[49m\u001b[43mtimeout\u001b[49m\u001b[43m,\u001b[49m\u001b[43m \u001b[49m\u001b[43m*\u001b[49m\u001b[43m*\u001b[49m\u001b[43mextra_kw\u001b[49m\n\u001b[32m    176\u001b[39m \u001b[43m    \u001b[49m\u001b[43m)\u001b[49m\n\u001b[32m    178\u001b[39m \u001b[38;5;28;01mexcept\u001b[39;00m SocketTimeout:\n\u001b[32m    179\u001b[39m     \u001b[38;5;28;01mraise\u001b[39;00m ConnectTimeoutError(\n\u001b[32m    180\u001b[39m         \u001b[38;5;28mself\u001b[39m,\n\u001b[32m    181\u001b[39m         \u001b[33m\"\u001b[39m\u001b[33mConnection to \u001b[39m\u001b[38;5;132;01m%s\u001b[39;00m\u001b[33m timed out. (connect timeout=\u001b[39m\u001b[38;5;132;01m%s\u001b[39;00m\u001b[33m)\u001b[39m\u001b[33m\"\u001b[39m\n\u001b[32m    182\u001b[39m         % (\u001b[38;5;28mself\u001b[39m.host, \u001b[38;5;28mself\u001b[39m.timeout),\n\u001b[32m    183\u001b[39m     )\n",
      "\u001b[36mFile \u001b[39m\u001b[32m~/miniforge3/envs/gpu_py311/lib/python3.11/site-packages/urllib3/util/connection.py:85\u001b[39m, in \u001b[36mcreate_connection\u001b[39m\u001b[34m(address, timeout, source_address, socket_options)\u001b[39m\n\u001b[32m     83\u001b[39m     \u001b[38;5;28;01mif\u001b[39;00m source_address:\n\u001b[32m     84\u001b[39m         sock.bind(source_address)\n\u001b[32m---> \u001b[39m\u001b[32m85\u001b[39m     \u001b[43msock\u001b[49m\u001b[43m.\u001b[49m\u001b[43mconnect\u001b[49m\u001b[43m(\u001b[49m\u001b[43msa\u001b[49m\u001b[43m)\u001b[49m\n\u001b[32m     86\u001b[39m     \u001b[38;5;28;01mreturn\u001b[39;00m sock\n\u001b[32m     88\u001b[39m \u001b[38;5;28;01mexcept\u001b[39;00m socket.error \u001b[38;5;28;01mas\u001b[39;00m e:\n",
      "\u001b[31mKeyboardInterrupt\u001b[39m: "
     ]
    }
   ],
   "source": [
    "rows = []\n",
    "cnt_ = 0\n",
    "for lat, lon in candidates:\n",
    "    # print(f'cnt_ {cnt_}')\n",
    "    X_df = build_features_for_location(lat, lon, radius_m, cr)\n",
    "    # Aggregate neighborhood features (mean as example)\n",
    "    agg = X_df.mean(numeric_only=True).to_dict()\n",
    "    Y = revenue_estimation(lat, lon)\n",
    "    print(f'revenue {Y}')\n",
    "    agg[\"lat\"], agg[\"lon\"], agg[\"revenue\"] = lat, lon,  Y, \n",
    "    # agg[\"lat\"], agg[\"lon\"] = lat, lon\n",
    "    rows.append(agg)\n",
    "    cnt_ += 1"
   ]
  },
  {
   "cell_type": "code",
   "execution_count": 24,
   "id": "c48767c3-2560-4016-a2d0-a89a37b30e7d",
   "metadata": {},
   "outputs": [
    {
     "data": {
      "text/plain": [
       "6"
      ]
     },
     "execution_count": 24,
     "metadata": {},
     "output_type": "execute_result"
    }
   ],
   "source": [
    "len(rows)"
   ]
  },
  {
   "cell_type": "code",
   "execution_count": 25,
   "id": "ec44262c-f18a-40e7-bfae-ca5ba094cfbd",
   "metadata": {},
   "outputs": [
    {
     "data": {
      "text/plain": [
       "[{'lat': 40.477251733381244,\n",
       "  'lon': -74.22717753108134,\n",
       "  'population_density': 0.0,\n",
       "  'osm_poi_density': 4.0,\n",
       "  'fsq_poi_count': 0.0,\n",
       "  'median_income': -222147698.0,\n",
       "  'revenue': 800},\n",
       " {'lat': 40.477251733381244,\n",
       "  'lon': -74.22650379770009,\n",
       "  'population_density': 0.0,\n",
       "  'osm_poi_density': 2.0,\n",
       "  'fsq_poi_count': 0.0,\n",
       "  'median_income': -333277440.0,\n",
       "  'revenue': 800}]"
      ]
     },
     "execution_count": 25,
     "metadata": {},
     "output_type": "execute_result"
    }
   ],
   "source": [
    "rows[0:2]"
   ]
  },
  {
   "cell_type": "code",
   "execution_count": 26,
   "id": "eb4f2935-0847-46f0-b63c-f30aa4c1f8b1",
   "metadata": {},
   "outputs": [],
   "source": [
    "df = pd.DataFrame(rows)"
   ]
  },
  {
   "cell_type": "code",
   "execution_count": 27,
   "id": "c065ff67-3143-4820-a7c6-716d7c1eb5b8",
   "metadata": {},
   "outputs": [],
   "source": [
    "df_vars = encode_location_categories(df)"
   ]
  },
  {
   "cell_type": "code",
   "execution_count": 28,
   "id": "c298ee9e-262a-4c9c-b499-3cad92ffec60",
   "metadata": {},
   "outputs": [
    {
     "name": "stdout",
     "output_type": "stream",
     "text": [
      "columns of the df Index(['lat', 'lon', 'population_density', 'osm_poi_density', 'fsq_poi_count',\n",
      "       'median_income', 'revenue', 'location_category_foursquare',\n",
      "       'location_category_osm', 'fsq_category_encoded',\n",
      "       'osm_category_encoded'],\n",
      "      dtype='object')\n"
     ]
    }
   ],
   "source": [
    "print(f'columns of the df {df_vars.columns}')"
   ]
  },
  {
   "cell_type": "code",
   "execution_count": 29,
   "id": "2d3fac7d-d166-4f3f-a9ac-d0e8252fc557",
   "metadata": {},
   "outputs": [],
   "source": [
    "# Fit regression\n",
    "X = df_vars[[\"population_density\"\n",
    "        , \"osm_poi_density\"\n",
    "        , \"fsq_poi_count\"\n",
    "        , \"median_income\"\n",
    "        , \"fsq_category_encoded\"\n",
    "        , \"osm_category_encoded\"]]\n",
    "y = df_vars[\"revenue\"]\n",
    "model = LinearRegression().fit(X, y)"
   ]
  },
  {
   "cell_type": "code",
   "execution_count": 30,
   "id": "69d146cc-4a05-4e8c-8bfd-95e84b9ef507",
   "metadata": {},
   "outputs": [
    {
     "name": "stdout",
     "output_type": "stream",
     "text": [
      "Regression coefficients: [ 0.00000000e+00 -3.07692307e+01  0.00000000e+00  2.42267069e-06\n",
      "  0.00000000e+00  0.00000000e+00]\n",
      "Intercept: 1530.4984099993453\n"
     ]
    }
   ],
   "source": [
    "print(\"Regression coefficients:\", model.coef_)\n",
    "print(\"Intercept:\", model.intercept_)"
   ]
  },
  {
   "cell_type": "code",
   "execution_count": null,
   "id": "846484d8-4959-43b2-b46b-8dec3f90f194",
   "metadata": {},
   "outputs": [],
   "source": []
  }
 ],
 "metadata": {
  "kernelspec": {
   "display_name": "Python 3 (ipykernel)",
   "language": "python",
   "name": "python3"
  },
  "language_info": {
   "codemirror_mode": {
    "name": "ipython",
    "version": 3
   },
   "file_extension": ".py",
   "mimetype": "text/x-python",
   "name": "python",
   "nbconvert_exporter": "python",
   "pygments_lexer": "ipython3",
   "version": "3.11.13"
  }
 },
 "nbformat": 4,
 "nbformat_minor": 5
}
