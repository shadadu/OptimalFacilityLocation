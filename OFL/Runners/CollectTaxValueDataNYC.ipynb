{
 "cells": [
  {
   "cell_type": "code",
   "execution_count": 1,
   "id": "d31d2c31-8165-4e5d-88fb-410b8de936c0",
   "metadata": {},
   "outputs": [],
   "source": [
    "import requests\n",
    "import csv\n",
    "import json\n",
    "\n",
    "PLUTO_URL = (\n",
    "    \"https://services5.arcgis.com/GfwWNkhOj9bNBqoJ/ArcGIS/rest/services/\"\n",
    "    \"MAPPLUTO/FeatureServer/0/query\"\n",
    ")"
   ]
  },
  {
   "cell_type": "code",
   "execution_count": 2,
   "id": "974945fa-c52d-4a8e-827c-05ff7e527e33",
   "metadata": {},
   "outputs": [],
   "source": [
    "def query_point(lat, lon, extra_fields=None):\n",
    "    \"\"\"\n",
    "    Query MapPLUTO for a given lat/lon.\n",
    "    Returns dict with bbl and assesstot, or indicates not assigned.\n",
    "    \"\"\"\n",
    "    fields = [\"bbl\", \"assesstot\"] + (extra_fields or [])\n",
    "    params = {\n",
    "        \"geometry\": f\"{lon},{lat}\",\n",
    "        \"geometryType\": \"esriGeometryPoint\",\n",
    "        \"inSR\": \"4326\",\n",
    "        \"spatialRel\": \"esriSpatialRelIntersects\",\n",
    "        \"outFields\": \",\".join(fields),\n",
    "        \"f\": \"json\"\n",
    "    }\n",
    "    resp = requests.get(PLUTO_URL, params=params)\n",
    "    resp.raise_for_status()\n",
    "    res = resp.json()\n",
    "    # print(f'response {res}')\n",
    "    feats = res.get(\"features\", [])\n",
    "    print(f'feats {feats}')\n",
    "    assessed_val = feats[0][\"attributes\"]#[\"AssessTot\"]\n",
    "    print(f'assessed_val {assessed_val}')\n",
    "    if not feats:\n",
    "        return {\"BBL\": None, \"AssessTot\": None, \"status\": \"No tax value assigned\"}\n",
    "    attr = feats[0].get(\"attributes\", {})\n",
    "    return {\n",
    "        \"bbl\": attr.get(\"BBL\"),\n",
    "        \"assesstot\": attr.get(\"AssessTot\"),\n",
    "        \"status\": (\"Tax value assigned\" if attr.get(\"AssessTot\") is not None else \"No tax value assigned\")\n",
    "    }\n",
    "\n",
    "def batch_process(points, output_csv=None, output_geojson=None):\n",
    "    results = []\n",
    "    for lat, lon in points:\n",
    "        info = query_point(lat, lon)\n",
    "        info.update({\"latitude\": lat, \"longitude\": lon})\n",
    "        results.append(info)\n",
    "\n",
    "    if output_csv:\n",
    "        with open(output_csv, \"w\", newline=\"\") as csvfile:\n",
    "            writer = csv.DictWriter(csvfile, fieldnames=[\"latitude\",\"longitude\",\"bbl\",\"assesstot\",\"status\"])\n",
    "            writer.writeheader()\n",
    "            writer.writerows(results)\n",
    "\n",
    "    if output_geojson:\n",
    "        geo = {\"type\": \"FeatureCollection\", \"features\": []}\n",
    "        for rec in results:\n",
    "            feat = {\n",
    "                \"type\": \"Feature\",\n",
    "                \"geometry\": {\"type\": \"Point\", \"coordinates\": [rec[\"longitude\"], rec[\"latitude\"]]},\n",
    "                \"properties\": {\n",
    "                    \"bbl\": rec[\"bbl\"],\n",
    "                    \"assesstot\": rec[\"assesstot\"],\n",
    "                    \"status\": rec[\"status\"]\n",
    "                }\n",
    "            }\n",
    "            geo[\"features\"].append(feat)\n",
    "        with open(output_geojson, \"w\") as f:\n",
    "            json.dump(geo, f, indent=2)\n",
    "\n",
    "    return results"
   ]
  },
  {
   "cell_type": "code",
   "execution_count": 5,
   "id": "df5349ce-9567-45aa-9c14-137edff73f75",
   "metadata": {},
   "outputs": [
    {
     "name": "stdout",
     "output_type": "stream",
     "text": [
      "feats [{'attributes': {'BBL': 1008350041, 'AssessTot': 534044700}, 'geometry': {'rings': [[[987926.190470219, 211999.934650898], [987975.35999012, 212089.042743683], [988037.503561497, 212054.96932745], [988088.901752949, 212148.115113258], [988467.603769779, 211940.474148273], [988367.029474735, 211758.224841595], [987926.190470219, 211999.934650898]]]}}]\n",
      "assessed_val {'BBL': 1008350041, 'AssessTot': 534044700}\n",
      "feats [{'attributes': {'BBL': 3067770017, 'AssessTot': 18587700}, 'geometry': {'rings': [[[995653.927976131, 161400.437409401], [995753.440223694, 161415.271719933], [995787.561219692, 161178.77643919], [995766.277480602, 161175.603556156], [995746.696815014, 161172.684602737], [995726.828082561, 161169.722337246], [995708.903246403, 161167.050089359], [995687.750419617, 161163.897201061], [995587.353944778, 161148.930698872], [995570.184709549, 161266.816632271], [995671.195966721, 161281.874666214], [995665.254702091, 161322.667564392], [995564.243444443, 161307.609530449], [995547.138491631, 161425.053198338], [995648.14977932, 161440.111232281], [995653.927976131, 161400.437409401]]]}}]\n",
      "assessed_val {'BBL': 3067770017, 'AssessTot': 18587700}\n",
      "feats [{'attributes': {'BBL': 3067810007, 'AssessTot': 2056500}, 'geometry': {'rings': [[[996790.384699345, 161665.587147713], [996727.806726456, 161656.56681776], [996707.220493317, 161653.598974228], [996693.675245285, 161755.920965672], [996776.55991888, 161767.868113041], [996790.384699345, 161665.587147713]]]}}]\n",
      "assessed_val {'BBL': 3067810007, 'AssessTot': 2056500}\n",
      "feats [{'attributes': {'BBL': 3067820003, 'AssessTot': 84900}, 'geometry': {'rings': [[[996913.875916004, 161698.238334179], [996895.896947384, 161689.93291378], [996882.300828457, 161781.896957397], [996901.120680809, 161784.514066696], [996913.875916004, 161698.238334179]]]}}]\n",
      "assessed_val {'BBL': 3067820003, 'AssessTot': 84900}\n",
      "feats [{'attributes': {'BBL': 3076760092, 'AssessTot': 49320}, 'geometry': {'rings': [[[997714.860858917, 163304.777760029], [997666.595530033, 163297.5415802], [997627.547371387, 163257.718161583], [997617.204541683, 163267.805080414], [997664.043373585, 163315.574010849], [997712.272278786, 163322.804643631], [997714.860858917, 163304.777760029]]]}}]\n",
      "assessed_val {'BBL': 3076760092, 'AssessTot': 49320}\n",
      "feats [{'attributes': {'BBL': 3066170011, 'AssessTot': 3095550}, 'geometry': {'rings': [[[994567.431455612, 162080.743805408], [994465.155397892, 162066.216276646], [994460.866060734, 162096.111546993], [994451.950063705, 162158.249876022], [994450.317185879, 162169.630429745], [994446.013401508, 162199.62348032], [994442.163342953, 162226.455778599], [994439.369052887, 162245.932111263], [994438.286035538, 162253.479034901], [994435.176154613, 162275.153192997], [994433.897272587, 162284.066568851], [994430.916962624, 162304.836871147], [994451.645263195, 162307.780757427], [994532.30489254, 162319.238090038], [994536.674300671, 162289.570810795], [994540.975799084, 162260.365151405], [994549.869820118, 162199.978481293], [994567.431455612, 162080.743805408]]]}}]\n",
      "assessed_val {'BBL': 3066170011, 'AssessTot': 3095550}\n",
      "[{'bbl': 1008350041, 'assesstot': 534044700, 'status': 'Tax value assigned', 'latitude': 40.7484, 'longitude': -73.9857}, {'bbl': 3067770017, 'assesstot': 18587700, 'status': 'Tax value assigned', 'latitude': 40.60953705414596, 'longitude': -73.95857916073192}, {'bbl': 3067810007, 'assesstot': 2056500, 'status': 'Tax value assigned', 'latitude': 40.610563308066425, 'longitude': -73.95488844147069}, {'bbl': 3067820003, 'assesstot': 84900, 'status': 'Tax value assigned', 'latitude': 40.610608084814885, 'longitude': -73.95444897008612}, {'bbl': 3076760092, 'assesstot': 49320, 'status': 'Tax value assigned', 'latitude': 40.61492592654441, 'longitude': -73.95166846815303}, {'bbl': 3066170011, 'assesstot': 3095550, 'status': 'Tax value assigned', 'latitude': 40.612132334704754, 'longitude': -73.96297976218243}]\n"
     ]
    }
   ],
   "source": [
    "# Example usage\n",
    "if __name__ == \"__main__\":\n",
    "    test_points = [\n",
    "        (40.7484, -73.9857), #Empire State bldg\n",
    "        (40.60953705414596, -73.95857916073192), #TJ Maxx\n",
    "        (40.610563308066425, -73.95488844147069), #khebab\n",
    "        (40.610608084814885, -73.95444897008612), # sushi \n",
    "        (40.61492592654441, -73.95166846815303),\n",
    "        (40.612132334704754, -73.96297976218243) #staples\n",
    "    ]\n",
    "    res = batch_process(test_points, output_csv=\"tax_lot_info.csv\", output_geojson=\"tax_lots.geojson\")\n",
    "    print(res)"
   ]
  },
  {
   "cell_type": "code",
   "execution_count": null,
   "id": "09cc229c-3bbb-424d-b9b9-9b5cd077cc9d",
   "metadata": {},
   "outputs": [],
   "source": []
  }
 ],
 "metadata": {
  "kernelspec": {
   "display_name": "Python 3 (ipykernel)",
   "language": "python",
   "name": "python3"
  },
  "language_info": {
   "codemirror_mode": {
    "name": "ipython",
    "version": 3
   },
   "file_extension": ".py",
   "mimetype": "text/x-python",
   "name": "python",
   "nbconvert_exporter": "python",
   "pygments_lexer": "ipython3",
   "version": "3.11.13"
  }
 },
 "nbformat": 4,
 "nbformat_minor": 5
}
