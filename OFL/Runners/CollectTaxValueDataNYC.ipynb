{
 "cells": [
  {
   "cell_type": "code",
   "execution_count": 7,
   "id": "d31d2c31-8165-4e5d-88fb-410b8de936c0",
   "metadata": {},
   "outputs": [],
   "source": [
    "import requests\n",
    "import csv\n",
    "import json\n",
    "import numpy as np\n",
    "\n",
    "PLUTO_URL = (\n",
    "    \"https://services5.arcgis.com/GfwWNkhOj9bNBqoJ/ArcGIS/rest/services/\"\n",
    "    \"MAPPLUTO/FeatureServer/0/query\"\n",
    ")"
   ]
  },
  {
   "cell_type": "code",
   "execution_count": 8,
   "id": "974945fa-c52d-4a8e-827c-05ff7e527e33",
   "metadata": {},
   "outputs": [],
   "source": [
    "def query_point(lat, lon, extra_fields=None):\n",
    "    \"\"\"\n",
    "    Query MapPLUTO for a given lat/lon.\n",
    "    Returns dict with bbl and assesstot, or indicates not assigned.\n",
    "    \"\"\"\n",
    "    fields = [\"bbl\", \"assesstot\"] + (extra_fields or [])\n",
    "    params = {\n",
    "        \"geometry\": f\"{lon},{lat}\",\n",
    "        \"geometryType\": \"esriGeometryPoint\",\n",
    "        \"inSR\": \"4326\",\n",
    "        \"spatialRel\": \"esriSpatialRelIntersects\",\n",
    "        \"outFields\": \",\".join(fields),\n",
    "        \"f\": \"json\"\n",
    "    }\n",
    "    resp = requests.get(PLUTO_URL, params=params)\n",
    "    resp.raise_for_status()\n",
    "    res = resp.json()\n",
    "    # print(f'response {res}')\n",
    "    feats = res.get(\"features\", [])\n",
    "    print(f'feats {feats}')\n",
    "    assessed_val = feats[0][\"attributes\"]#[\"AssessTot\"]\n",
    "    print(f'assessed_val {assessed_val}')\n",
    "    if not feats:\n",
    "        return {\"BBL\": None, \"AssessTot\": None, \"status\": \"No tax value assigned\"}\n",
    "    attr = feats[0].get(\"attributes\", {})\n",
    "    return {\n",
    "        \"bbl\": attr.get(\"BBL\"),\n",
    "        \"assesstot\": attr.get(\"AssessTot\"),\n",
    "        \"status\": (\"Tax value assigned\" if attr.get(\"AssessTot\") is not None else \"No tax value assigned\")\n",
    "    }\n",
    "\n",
    "def batch_process(points, output_csv=None, output_geojson=None):\n",
    "    results = []\n",
    "    for lat, lon in points:\n",
    "        info = query_point(lat, lon)\n",
    "        info.update({\"latitude\": lat, \"longitude\": lon})\n",
    "        results.append(info)\n",
    "\n",
    "    if output_csv:\n",
    "        with open(output_csv, \"w\", newline=\"\") as csvfile:\n",
    "            writer = csv.DictWriter(csvfile, fieldnames=[\"latitude\",\"longitude\",\"bbl\",\"assesstot\",\"status\"])\n",
    "            writer.writeheader()\n",
    "            writer.writerows(results)\n",
    "\n",
    "    if output_geojson:\n",
    "        geo = {\"type\": \"FeatureCollection\", \"features\": []}\n",
    "        for rec in results:\n",
    "            feat = {\n",
    "                \"type\": \"Feature\",\n",
    "                \"geometry\": {\"type\": \"Point\", \"coordinates\": [rec[\"longitude\"], rec[\"latitude\"]]},\n",
    "                \"properties\": {\n",
    "                    \"bbl\": rec[\"bbl\"],\n",
    "                    \"assesstot\": rec[\"assesstot\"],\n",
    "                    \"status\": rec[\"status\"]\n",
    "                }\n",
    "            }\n",
    "            geo[\"features\"].append(feat)\n",
    "        with open(output_geojson, \"w\") as f:\n",
    "            json.dump(geo, f, indent=2)\n",
    "\n",
    "    return results"
   ]
  },
  {
   "cell_type": "code",
   "execution_count": 16,
   "id": "df5349ce-9567-45aa-9c14-137edff73f75",
   "metadata": {},
   "outputs": [
    {
     "name": "stdout",
     "output_type": "stream",
     "text": [
      "feats [{'attributes': {'BBL': 1008350041, 'AssessTot': 534044700}, 'geometry': {'rings': [[[987926.190470219, 211999.934650898], [987975.35999012, 212089.042743683], [988037.503561497, 212054.96932745], [988088.901752949, 212148.115113258], [988467.603769779, 211940.474148273], [988367.029474735, 211758.224841595], [987926.190470219, 211999.934650898]]]}}]\n",
      "assessed_val {'BBL': 1008350041, 'AssessTot': 534044700}\n",
      "feats []\n"
     ]
    },
    {
     "ename": "IndexError",
     "evalue": "list index out of range",
     "output_type": "error",
     "traceback": [
      "\u001b[31m---------------------------------------------------------------------------\u001b[39m",
      "\u001b[31mIndexError\u001b[39m                                Traceback (most recent call last)",
      "\u001b[36mCell\u001b[39m\u001b[36m \u001b[39m\u001b[32mIn[16]\u001b[39m\u001b[32m, line 12\u001b[39m\n\u001b[32m      2\u001b[39m \u001b[38;5;28;01mif\u001b[39;00m \u001b[34m__name__\u001b[39m == \u001b[33m\"\u001b[39m\u001b[33m__main__\u001b[39m\u001b[33m\"\u001b[39m:\n\u001b[32m      3\u001b[39m     test_points = [\n\u001b[32m      4\u001b[39m         (\u001b[32m40.7484\u001b[39m, -\u001b[32m73.9857\u001b[39m), \u001b[38;5;66;03m#Empire State bldg\u001b[39;00m\n\u001b[32m      5\u001b[39m         (np.float64(\u001b[32m40.477925466762485\u001b[39m), np.float64(-\u001b[32m74.21774526374386\u001b[39m)),\n\u001b[32m   (...)\u001b[39m\u001b[32m     10\u001b[39m         (\u001b[32m40.612132334704754\u001b[39m, -\u001b[32m73.96297976218243\u001b[39m) \u001b[38;5;66;03m#staples\u001b[39;00m\n\u001b[32m     11\u001b[39m     ]\n\u001b[32m---> \u001b[39m\u001b[32m12\u001b[39m     res = \u001b[43mbatch_process\u001b[49m\u001b[43m(\u001b[49m\u001b[43mtest_points\u001b[49m\u001b[43m,\u001b[49m\u001b[43m \u001b[49m\u001b[43moutput_csv\u001b[49m\u001b[43m=\u001b[49m\u001b[33;43m\"\u001b[39;49m\u001b[33;43mtax_lot_info.csv\u001b[39;49m\u001b[33;43m\"\u001b[39;49m\u001b[43m,\u001b[49m\u001b[43m \u001b[49m\u001b[43moutput_geojson\u001b[49m\u001b[43m=\u001b[49m\u001b[33;43m\"\u001b[39;49m\u001b[33;43mtax_lots.geojson\u001b[39;49m\u001b[33;43m\"\u001b[39;49m\u001b[43m)\u001b[49m\n\u001b[32m     13\u001b[39m     \u001b[38;5;28mprint\u001b[39m(res)\n",
      "\u001b[36mCell\u001b[39m\u001b[36m \u001b[39m\u001b[32mIn[8]\u001b[39m\u001b[32m, line 35\u001b[39m, in \u001b[36mbatch_process\u001b[39m\u001b[34m(points, output_csv, output_geojson)\u001b[39m\n\u001b[32m     33\u001b[39m results = []\n\u001b[32m     34\u001b[39m \u001b[38;5;28;01mfor\u001b[39;00m lat, lon \u001b[38;5;129;01min\u001b[39;00m points:\n\u001b[32m---> \u001b[39m\u001b[32m35\u001b[39m     info = \u001b[43mquery_point\u001b[49m\u001b[43m(\u001b[49m\u001b[43mlat\u001b[49m\u001b[43m,\u001b[49m\u001b[43m \u001b[49m\u001b[43mlon\u001b[49m\u001b[43m)\u001b[49m\n\u001b[32m     36\u001b[39m     info.update({\u001b[33m\"\u001b[39m\u001b[33mlatitude\u001b[39m\u001b[33m\"\u001b[39m: lat, \u001b[33m\"\u001b[39m\u001b[33mlongitude\u001b[39m\u001b[33m\"\u001b[39m: lon})\n\u001b[32m     37\u001b[39m     results.append(info)\n",
      "\u001b[36mCell\u001b[39m\u001b[36m \u001b[39m\u001b[32mIn[8]\u001b[39m\u001b[32m, line 21\u001b[39m, in \u001b[36mquery_point\u001b[39m\u001b[34m(lat, lon, extra_fields)\u001b[39m\n\u001b[32m     19\u001b[39m feats = res.get(\u001b[33m\"\u001b[39m\u001b[33mfeatures\u001b[39m\u001b[33m\"\u001b[39m, [])\n\u001b[32m     20\u001b[39m \u001b[38;5;28mprint\u001b[39m(\u001b[33mf\u001b[39m\u001b[33m'\u001b[39m\u001b[33mfeats \u001b[39m\u001b[38;5;132;01m{\u001b[39;00mfeats\u001b[38;5;132;01m}\u001b[39;00m\u001b[33m'\u001b[39m)\n\u001b[32m---> \u001b[39m\u001b[32m21\u001b[39m assessed_val = \u001b[43mfeats\u001b[49m\u001b[43m[\u001b[49m\u001b[32;43m0\u001b[39;49m\u001b[43m]\u001b[49m[\u001b[33m\"\u001b[39m\u001b[33mattributes\u001b[39m\u001b[33m\"\u001b[39m]\u001b[38;5;66;03m#[\"AssessTot\"]\u001b[39;00m\n\u001b[32m     22\u001b[39m \u001b[38;5;28mprint\u001b[39m(\u001b[33mf\u001b[39m\u001b[33m'\u001b[39m\u001b[33massessed_val \u001b[39m\u001b[38;5;132;01m{\u001b[39;00massessed_val\u001b[38;5;132;01m}\u001b[39;00m\u001b[33m'\u001b[39m)\n\u001b[32m     23\u001b[39m \u001b[38;5;28;01mif\u001b[39;00m \u001b[38;5;129;01mnot\u001b[39;00m feats:\n",
      "\u001b[31mIndexError\u001b[39m: list index out of range"
     ]
    }
   ],
   "source": [
    "# Example usage\n",
    "if __name__ == \"__main__\":\n",
    "    test_points = [\n",
    "        (40.7484, -73.9857), #Empire State bldg\n",
    "        (40.477925466762485, -74.21774526374386),\n",
    "        (np.float64(40.60953705414596), np.float64(-73.95857916073192)), #TJ Maxx\n",
    "        (40.610563308066425, -73.95488844147069), #khebab\n",
    "        (40.610608084814885, -73.95444897008612), # sushi \n",
    "        (40.61492592654441, -73.95166846815303),\n",
    "        (40.612132334704754, -73.96297976218243) #staples\n",
    "    ]\n",
    "    res = batch_process(test_points, output_csv=\"tax_lot_info.csv\", output_geojson=\"tax_lots.geojson\")\n",
    "    print(res)"
   ]
  },
  {
   "cell_type": "code",
   "execution_count": null,
   "id": "09cc229c-3bbb-424d-b9b9-9b5cd077cc9d",
   "metadata": {},
   "outputs": [],
   "source": []
  }
 ],
 "metadata": {
  "kernelspec": {
   "display_name": "Python 3 (ipykernel)",
   "language": "python",
   "name": "python3"
  },
  "language_info": {
   "codemirror_mode": {
    "name": "ipython",
    "version": 3
   },
   "file_extension": ".py",
   "mimetype": "text/x-python",
   "name": "python",
   "nbconvert_exporter": "python",
   "pygments_lexer": "ipython3",
   "version": "3.11.13"
  }
 },
 "nbformat": 4,
 "nbformat_minor": 5
}
